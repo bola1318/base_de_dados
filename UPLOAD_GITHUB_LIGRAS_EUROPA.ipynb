{
  "cells": [
    {
      "cell_type": "markdown",
      "metadata": {
        "id": "view-in-github",
        "colab_type": "text"
      },
      "source": [
        "<a href=\"https://colab.research.google.com/github/bola1318/base_de_dados/blob/main/UPLOAD_GITHUB_LIGRAS_EUROPA.ipynb\" target=\"_parent\"><img src=\"https://colab.research.google.com/assets/colab-badge.svg\" alt=\"Open In Colab\"/></a>"
      ]
    },
    {
      "cell_type": "code",
      "execution_count": 1,
      "metadata": {
        "id": "D2L61VMkYaVd"
      },
      "outputs": [],
      "source": [
        "import pandas as pd"
      ]
    },
    {
      "cell_type": "markdown",
      "metadata": {
        "id": "2_cJqCEDYmEo"
      },
      "source": [
        "#INGLATERRA 1 e 3 "
      ]
    },
    {
      "cell_type": "code",
      "execution_count": 2,
      "metadata": {
        "id": "YQu_HgUaYbYO"
      },
      "outputs": [],
      "source": [
        "ENG1_01 = pd.read_csv(\"https://www.football-data.co.uk/mmz4281/2223/E0.csv\")"
      ]
    },
    {
      "cell_type": "code",
      "execution_count": 3,
      "metadata": {
        "id": "sqhyMJktYfEB"
      },
      "outputs": [],
      "source": [
        "ENG2_01 = pd.read_csv(\"https://www.football-data.co.uk/mmz4281/2223/E1.csv\")\n"
      ]
    },
    {
      "cell_type": "code",
      "execution_count": 4,
      "metadata": {
        "id": "zEL7zLymaY-G"
      },
      "outputs": [],
      "source": [
        "#df1 = [ENG1_01]\n",
        "#df2 = [ENG2_01]"
      ]
    },
    {
      "cell_type": "code",
      "execution_count": 5,
      "metadata": {
        "id": "CrdDSDDubCwA"
      },
      "outputs": [],
      "source": [
        "#df1 = pd.concat(df1)"
      ]
    },
    {
      "cell_type": "code",
      "execution_count": 6,
      "metadata": {
        "id": "uaW24oAwab47"
      },
      "outputs": [],
      "source": [
        "df1 = ENG1_01[['Div','Date','Time','HomeTeam','AwayTeam','FTHG','FTAG','FTR','HTHG','HTAG','HTR','Referee','HS','AS','HST','AST','HF','AF','HC','AC','HY','AY','HR','AR','B365H','B365D','B365A','B365>2.5','B365<2.5']]\n",
        "\n",
        "df2 = ENG2_01[['Div','Date','Time','HomeTeam','AwayTeam','FTHG','FTAG','FTR','HTHG','HTAG','HTR','Referee','HS','AS','HST','AST','HF','AF','HC','AC','HY','AY','HR','AR','B365H','B365D','B365A','B365>2.5','B365<2.5']]\n"
      ]
    },
    {
      "cell_type": "code",
      "execution_count": 7,
      "metadata": {
        "colab": {
          "base_uri": "https://localhost:8080/",
          "height": 0
        },
        "id": "XWM5CVjtlPo-",
        "outputId": "8fff178d-d293-40bf-9a17-524e6359b296"
      },
      "outputs": [
        {
          "output_type": "execute_result",
          "data": {
            "text/plain": [
              "    Div        Date   Time        HomeTeam        AwayTeam  FTHG  FTAG FTR  \\\n",
              "0    E0  05/08/2022  20:00  Crystal Palace         Arsenal     0     2   A   \n",
              "1    E0  06/08/2022  12:30          Fulham       Liverpool     2     2   D   \n",
              "2    E0  06/08/2022  15:00     Bournemouth     Aston Villa     2     0   H   \n",
              "3    E0  06/08/2022  15:00           Leeds          Wolves     2     1   H   \n",
              "4    E0  06/08/2022  15:00       Newcastle   Nott'm Forest     2     0   H   \n",
              "..   ..         ...    ...             ...             ...   ...   ...  ..   \n",
              "265  E0  18/03/2023  15:00       Brentford       Leicester     1     1   D   \n",
              "266  E0  18/03/2023  15:00     Southampton       Tottenham     3     3   D   \n",
              "267  E0  18/03/2023  15:00          Wolves           Leeds     2     4   A   \n",
              "268  E0  18/03/2023  17:30         Chelsea         Everton     2     2   D   \n",
              "269  E0  19/03/2023  14:00         Arsenal  Crystal Palace     4     1   H   \n",
              "\n",
              "     HTHG  HTAG  ... AC HY  AY  HR  AR  B365H  B365D  B365A  B365>2.5  \\\n",
              "0       0     1  ...  5  1   2   0   0   4.20    3.6   1.85      2.10   \n",
              "1       1     0  ...  4  2   0   0   0  11.00    6.0   1.25      1.50   \n",
              "2       1     0  ...  5  3   3   0   0   3.75    3.5   2.00      2.00   \n",
              "3       1     1  ...  4  2   0   0   0   2.25    3.4   3.20      2.05   \n",
              "4       0     0  ...  1  0   3   0   0   1.66    3.8   5.25      2.05   \n",
              "..    ...   ...  ... .. ..  ..  ..  ..    ...    ...    ...       ...   \n",
              "265     1     0  ...  4  1   2   1   0   1.91    3.6   3.75      1.89   \n",
              "266     0     1  ...  3  1   1   0   0   4.75    3.6   1.75      2.06   \n",
              "267     0     1  ...  4  3   5   1   0   2.25    3.2   3.30      2.20   \n",
              "268     0     0  ...  2  2   2   0   0   1.50    4.2   7.50      2.10   \n",
              "269     2     0  ...  4  0   1   0   0   1.25    5.5  15.00      1.73   \n",
              "\n",
              "     B365<2.5  \n",
              "0        1.72  \n",
              "1        2.62  \n",
              "2        1.80  \n",
              "3        1.85  \n",
              "4        1.85  \n",
              "..        ...  \n",
              "265      2.01  \n",
              "266      1.84  \n",
              "267      1.67  \n",
              "268      1.73  \n",
              "269      2.10  \n",
              "\n",
              "[270 rows x 29 columns]"
            ],
            "text/html": [
              "\n",
              "  <div id=\"df-c9be7b2d-118c-4b76-89a4-0d057fd93324\">\n",
              "    <div class=\"colab-df-container\">\n",
              "      <div>\n",
              "<style scoped>\n",
              "    .dataframe tbody tr th:only-of-type {\n",
              "        vertical-align: middle;\n",
              "    }\n",
              "\n",
              "    .dataframe tbody tr th {\n",
              "        vertical-align: top;\n",
              "    }\n",
              "\n",
              "    .dataframe thead th {\n",
              "        text-align: right;\n",
              "    }\n",
              "</style>\n",
              "<table border=\"1\" class=\"dataframe\">\n",
              "  <thead>\n",
              "    <tr style=\"text-align: right;\">\n",
              "      <th></th>\n",
              "      <th>Div</th>\n",
              "      <th>Date</th>\n",
              "      <th>Time</th>\n",
              "      <th>HomeTeam</th>\n",
              "      <th>AwayTeam</th>\n",
              "      <th>FTHG</th>\n",
              "      <th>FTAG</th>\n",
              "      <th>FTR</th>\n",
              "      <th>HTHG</th>\n",
              "      <th>HTAG</th>\n",
              "      <th>...</th>\n",
              "      <th>AC</th>\n",
              "      <th>HY</th>\n",
              "      <th>AY</th>\n",
              "      <th>HR</th>\n",
              "      <th>AR</th>\n",
              "      <th>B365H</th>\n",
              "      <th>B365D</th>\n",
              "      <th>B365A</th>\n",
              "      <th>B365&gt;2.5</th>\n",
              "      <th>B365&lt;2.5</th>\n",
              "    </tr>\n",
              "  </thead>\n",
              "  <tbody>\n",
              "    <tr>\n",
              "      <th>0</th>\n",
              "      <td>E0</td>\n",
              "      <td>05/08/2022</td>\n",
              "      <td>20:00</td>\n",
              "      <td>Crystal Palace</td>\n",
              "      <td>Arsenal</td>\n",
              "      <td>0</td>\n",
              "      <td>2</td>\n",
              "      <td>A</td>\n",
              "      <td>0</td>\n",
              "      <td>1</td>\n",
              "      <td>...</td>\n",
              "      <td>5</td>\n",
              "      <td>1</td>\n",
              "      <td>2</td>\n",
              "      <td>0</td>\n",
              "      <td>0</td>\n",
              "      <td>4.20</td>\n",
              "      <td>3.6</td>\n",
              "      <td>1.85</td>\n",
              "      <td>2.10</td>\n",
              "      <td>1.72</td>\n",
              "    </tr>\n",
              "    <tr>\n",
              "      <th>1</th>\n",
              "      <td>E0</td>\n",
              "      <td>06/08/2022</td>\n",
              "      <td>12:30</td>\n",
              "      <td>Fulham</td>\n",
              "      <td>Liverpool</td>\n",
              "      <td>2</td>\n",
              "      <td>2</td>\n",
              "      <td>D</td>\n",
              "      <td>1</td>\n",
              "      <td>0</td>\n",
              "      <td>...</td>\n",
              "      <td>4</td>\n",
              "      <td>2</td>\n",
              "      <td>0</td>\n",
              "      <td>0</td>\n",
              "      <td>0</td>\n",
              "      <td>11.00</td>\n",
              "      <td>6.0</td>\n",
              "      <td>1.25</td>\n",
              "      <td>1.50</td>\n",
              "      <td>2.62</td>\n",
              "    </tr>\n",
              "    <tr>\n",
              "      <th>2</th>\n",
              "      <td>E0</td>\n",
              "      <td>06/08/2022</td>\n",
              "      <td>15:00</td>\n",
              "      <td>Bournemouth</td>\n",
              "      <td>Aston Villa</td>\n",
              "      <td>2</td>\n",
              "      <td>0</td>\n",
              "      <td>H</td>\n",
              "      <td>1</td>\n",
              "      <td>0</td>\n",
              "      <td>...</td>\n",
              "      <td>5</td>\n",
              "      <td>3</td>\n",
              "      <td>3</td>\n",
              "      <td>0</td>\n",
              "      <td>0</td>\n",
              "      <td>3.75</td>\n",
              "      <td>3.5</td>\n",
              "      <td>2.00</td>\n",
              "      <td>2.00</td>\n",
              "      <td>1.80</td>\n",
              "    </tr>\n",
              "    <tr>\n",
              "      <th>3</th>\n",
              "      <td>E0</td>\n",
              "      <td>06/08/2022</td>\n",
              "      <td>15:00</td>\n",
              "      <td>Leeds</td>\n",
              "      <td>Wolves</td>\n",
              "      <td>2</td>\n",
              "      <td>1</td>\n",
              "      <td>H</td>\n",
              "      <td>1</td>\n",
              "      <td>1</td>\n",
              "      <td>...</td>\n",
              "      <td>4</td>\n",
              "      <td>2</td>\n",
              "      <td>0</td>\n",
              "      <td>0</td>\n",
              "      <td>0</td>\n",
              "      <td>2.25</td>\n",
              "      <td>3.4</td>\n",
              "      <td>3.20</td>\n",
              "      <td>2.05</td>\n",
              "      <td>1.85</td>\n",
              "    </tr>\n",
              "    <tr>\n",
              "      <th>4</th>\n",
              "      <td>E0</td>\n",
              "      <td>06/08/2022</td>\n",
              "      <td>15:00</td>\n",
              "      <td>Newcastle</td>\n",
              "      <td>Nott'm Forest</td>\n",
              "      <td>2</td>\n",
              "      <td>0</td>\n",
              "      <td>H</td>\n",
              "      <td>0</td>\n",
              "      <td>0</td>\n",
              "      <td>...</td>\n",
              "      <td>1</td>\n",
              "      <td>0</td>\n",
              "      <td>3</td>\n",
              "      <td>0</td>\n",
              "      <td>0</td>\n",
              "      <td>1.66</td>\n",
              "      <td>3.8</td>\n",
              "      <td>5.25</td>\n",
              "      <td>2.05</td>\n",
              "      <td>1.85</td>\n",
              "    </tr>\n",
              "    <tr>\n",
              "      <th>...</th>\n",
              "      <td>...</td>\n",
              "      <td>...</td>\n",
              "      <td>...</td>\n",
              "      <td>...</td>\n",
              "      <td>...</td>\n",
              "      <td>...</td>\n",
              "      <td>...</td>\n",
              "      <td>...</td>\n",
              "      <td>...</td>\n",
              "      <td>...</td>\n",
              "      <td>...</td>\n",
              "      <td>...</td>\n",
              "      <td>...</td>\n",
              "      <td>...</td>\n",
              "      <td>...</td>\n",
              "      <td>...</td>\n",
              "      <td>...</td>\n",
              "      <td>...</td>\n",
              "      <td>...</td>\n",
              "      <td>...</td>\n",
              "      <td>...</td>\n",
              "    </tr>\n",
              "    <tr>\n",
              "      <th>265</th>\n",
              "      <td>E0</td>\n",
              "      <td>18/03/2023</td>\n",
              "      <td>15:00</td>\n",
              "      <td>Brentford</td>\n",
              "      <td>Leicester</td>\n",
              "      <td>1</td>\n",
              "      <td>1</td>\n",
              "      <td>D</td>\n",
              "      <td>1</td>\n",
              "      <td>0</td>\n",
              "      <td>...</td>\n",
              "      <td>4</td>\n",
              "      <td>1</td>\n",
              "      <td>2</td>\n",
              "      <td>1</td>\n",
              "      <td>0</td>\n",
              "      <td>1.91</td>\n",
              "      <td>3.6</td>\n",
              "      <td>3.75</td>\n",
              "      <td>1.89</td>\n",
              "      <td>2.01</td>\n",
              "    </tr>\n",
              "    <tr>\n",
              "      <th>266</th>\n",
              "      <td>E0</td>\n",
              "      <td>18/03/2023</td>\n",
              "      <td>15:00</td>\n",
              "      <td>Southampton</td>\n",
              "      <td>Tottenham</td>\n",
              "      <td>3</td>\n",
              "      <td>3</td>\n",
              "      <td>D</td>\n",
              "      <td>0</td>\n",
              "      <td>1</td>\n",
              "      <td>...</td>\n",
              "      <td>3</td>\n",
              "      <td>1</td>\n",
              "      <td>1</td>\n",
              "      <td>0</td>\n",
              "      <td>0</td>\n",
              "      <td>4.75</td>\n",
              "      <td>3.6</td>\n",
              "      <td>1.75</td>\n",
              "      <td>2.06</td>\n",
              "      <td>1.84</td>\n",
              "    </tr>\n",
              "    <tr>\n",
              "      <th>267</th>\n",
              "      <td>E0</td>\n",
              "      <td>18/03/2023</td>\n",
              "      <td>15:00</td>\n",
              "      <td>Wolves</td>\n",
              "      <td>Leeds</td>\n",
              "      <td>2</td>\n",
              "      <td>4</td>\n",
              "      <td>A</td>\n",
              "      <td>0</td>\n",
              "      <td>1</td>\n",
              "      <td>...</td>\n",
              "      <td>4</td>\n",
              "      <td>3</td>\n",
              "      <td>5</td>\n",
              "      <td>1</td>\n",
              "      <td>0</td>\n",
              "      <td>2.25</td>\n",
              "      <td>3.2</td>\n",
              "      <td>3.30</td>\n",
              "      <td>2.20</td>\n",
              "      <td>1.67</td>\n",
              "    </tr>\n",
              "    <tr>\n",
              "      <th>268</th>\n",
              "      <td>E0</td>\n",
              "      <td>18/03/2023</td>\n",
              "      <td>17:30</td>\n",
              "      <td>Chelsea</td>\n",
              "      <td>Everton</td>\n",
              "      <td>2</td>\n",
              "      <td>2</td>\n",
              "      <td>D</td>\n",
              "      <td>0</td>\n",
              "      <td>0</td>\n",
              "      <td>...</td>\n",
              "      <td>2</td>\n",
              "      <td>2</td>\n",
              "      <td>2</td>\n",
              "      <td>0</td>\n",
              "      <td>0</td>\n",
              "      <td>1.50</td>\n",
              "      <td>4.2</td>\n",
              "      <td>7.50</td>\n",
              "      <td>2.10</td>\n",
              "      <td>1.73</td>\n",
              "    </tr>\n",
              "    <tr>\n",
              "      <th>269</th>\n",
              "      <td>E0</td>\n",
              "      <td>19/03/2023</td>\n",
              "      <td>14:00</td>\n",
              "      <td>Arsenal</td>\n",
              "      <td>Crystal Palace</td>\n",
              "      <td>4</td>\n",
              "      <td>1</td>\n",
              "      <td>H</td>\n",
              "      <td>2</td>\n",
              "      <td>0</td>\n",
              "      <td>...</td>\n",
              "      <td>4</td>\n",
              "      <td>0</td>\n",
              "      <td>1</td>\n",
              "      <td>0</td>\n",
              "      <td>0</td>\n",
              "      <td>1.25</td>\n",
              "      <td>5.5</td>\n",
              "      <td>15.00</td>\n",
              "      <td>1.73</td>\n",
              "      <td>2.10</td>\n",
              "    </tr>\n",
              "  </tbody>\n",
              "</table>\n",
              "<p>270 rows × 29 columns</p>\n",
              "</div>\n",
              "      <button class=\"colab-df-convert\" onclick=\"convertToInteractive('df-c9be7b2d-118c-4b76-89a4-0d057fd93324')\"\n",
              "              title=\"Convert this dataframe to an interactive table.\"\n",
              "              style=\"display:none;\">\n",
              "        \n",
              "  <svg xmlns=\"http://www.w3.org/2000/svg\" height=\"24px\"viewBox=\"0 0 24 24\"\n",
              "       width=\"24px\">\n",
              "    <path d=\"M0 0h24v24H0V0z\" fill=\"none\"/>\n",
              "    <path d=\"M18.56 5.44l.94 2.06.94-2.06 2.06-.94-2.06-.94-.94-2.06-.94 2.06-2.06.94zm-11 1L8.5 8.5l.94-2.06 2.06-.94-2.06-.94L8.5 2.5l-.94 2.06-2.06.94zm10 10l.94 2.06.94-2.06 2.06-.94-2.06-.94-.94-2.06-.94 2.06-2.06.94z\"/><path d=\"M17.41 7.96l-1.37-1.37c-.4-.4-.92-.59-1.43-.59-.52 0-1.04.2-1.43.59L10.3 9.45l-7.72 7.72c-.78.78-.78 2.05 0 2.83L4 21.41c.39.39.9.59 1.41.59.51 0 1.02-.2 1.41-.59l7.78-7.78 2.81-2.81c.8-.78.8-2.07 0-2.86zM5.41 20L4 18.59l7.72-7.72 1.47 1.35L5.41 20z\"/>\n",
              "  </svg>\n",
              "      </button>\n",
              "      \n",
              "  <style>\n",
              "    .colab-df-container {\n",
              "      display:flex;\n",
              "      flex-wrap:wrap;\n",
              "      gap: 12px;\n",
              "    }\n",
              "\n",
              "    .colab-df-convert {\n",
              "      background-color: #E8F0FE;\n",
              "      border: none;\n",
              "      border-radius: 50%;\n",
              "      cursor: pointer;\n",
              "      display: none;\n",
              "      fill: #1967D2;\n",
              "      height: 32px;\n",
              "      padding: 0 0 0 0;\n",
              "      width: 32px;\n",
              "    }\n",
              "\n",
              "    .colab-df-convert:hover {\n",
              "      background-color: #E2EBFA;\n",
              "      box-shadow: 0px 1px 2px rgba(60, 64, 67, 0.3), 0px 1px 3px 1px rgba(60, 64, 67, 0.15);\n",
              "      fill: #174EA6;\n",
              "    }\n",
              "\n",
              "    [theme=dark] .colab-df-convert {\n",
              "      background-color: #3B4455;\n",
              "      fill: #D2E3FC;\n",
              "    }\n",
              "\n",
              "    [theme=dark] .colab-df-convert:hover {\n",
              "      background-color: #434B5C;\n",
              "      box-shadow: 0px 1px 3px 1px rgba(0, 0, 0, 0.15);\n",
              "      filter: drop-shadow(0px 1px 2px rgba(0, 0, 0, 0.3));\n",
              "      fill: #FFFFFF;\n",
              "    }\n",
              "  </style>\n",
              "\n",
              "      <script>\n",
              "        const buttonEl =\n",
              "          document.querySelector('#df-c9be7b2d-118c-4b76-89a4-0d057fd93324 button.colab-df-convert');\n",
              "        buttonEl.style.display =\n",
              "          google.colab.kernel.accessAllowed ? 'block' : 'none';\n",
              "\n",
              "        async function convertToInteractive(key) {\n",
              "          const element = document.querySelector('#df-c9be7b2d-118c-4b76-89a4-0d057fd93324');\n",
              "          const dataTable =\n",
              "            await google.colab.kernel.invokeFunction('convertToInteractive',\n",
              "                                                     [key], {});\n",
              "          if (!dataTable) return;\n",
              "\n",
              "          const docLinkHtml = 'Like what you see? Visit the ' +\n",
              "            '<a target=\"_blank\" href=https://colab.research.google.com/notebooks/data_table.ipynb>data table notebook</a>'\n",
              "            + ' to learn more about interactive tables.';\n",
              "          element.innerHTML = '';\n",
              "          dataTable['output_type'] = 'display_data';\n",
              "          await google.colab.output.renderOutput(dataTable, element);\n",
              "          const docLink = document.createElement('div');\n",
              "          docLink.innerHTML = docLinkHtml;\n",
              "          element.appendChild(docLink);\n",
              "        }\n",
              "      </script>\n",
              "    </div>\n",
              "  </div>\n",
              "  "
            ]
          },
          "metadata": {},
          "execution_count": 7
        }
      ],
      "source": [
        "df1"
      ]
    },
    {
      "cell_type": "code",
      "execution_count": 8,
      "metadata": {
        "id": "SnhPxomuaex8"
      },
      "outputs": [],
      "source": [
        "df1.columns =['Div','Date','Time','Home','Away','FT_Goals_H','FT_Goals_A','Resultado_finalHT','Gols_casa_ht','Gols_fora_ht','Resultado_HT','Arbitro','Chutes_Time_Casa','Chutes_Time_fora','Chutes_a_gol_casa','Chutes_a_gol_fora','Faltas_time_casa','Faltas_time_fora','Escanteios_casa','Escanteios_fora','Cartao_amarelo_casa','Cartao_amarelo_fora','Cartao_vermelho_casa','Cartao_vermelho_casa','FT_Odds_H','FT_Odds_D','FT_Odds_A','B365>2.5','B365<2.5'\n",
        "]\n",
        "df2.columns =['Div','Date','Time','Home','Away','FT_Goals_H','FT_Goals_A','Resultado_finalHT','Gols_casa_ht','Gols_fora_ht','Resultado_HT','Arbitro','Chutes_Time_Casa','Chutes_Time_fora','Chutes_a_gol_casa','Chutes_a_gol_fora','Faltas_time_casa','Faltas_time_fora','Escanteios_casa','Escanteios_fora','Cartao_amarelo_casa','Cartao_amarelo_fora','Cartao_vermelho_casa','Cartao_vermelho_casa','FT_Odds_H','FT_Odds_D','FT_Odds_A','B365>2.5','B365<2.5'\n",
        "]"
      ]
    },
    {
      "cell_type": "code",
      "execution_count": 9,
      "metadata": {
        "id": "s0kqz00rajo5"
      },
      "outputs": [],
      "source": [
        "df = df1.dropna()\n",
        "dff = df2.dropna()"
      ]
    },
    {
      "cell_type": "code",
      "execution_count": 10,
      "metadata": {
        "id": "JzurU78EakGQ"
      },
      "outputs": [],
      "source": [
        "df.to_excel(\"ENGLAND_S1.xlsx\", index=False)\n",
        "dff.to_excel(\"ENGLAND_S2.xlsx\", index=False)"
      ]
    },
    {
      "cell_type": "markdown",
      "metadata": {
        "id": "LOpiIdZYYrlA"
      },
      "source": [
        "#ESCOCIA"
      ]
    },
    {
      "cell_type": "code",
      "execution_count": 11,
      "metadata": {
        "id": "WqoDJLPhYtIy"
      },
      "outputs": [],
      "source": [
        "SCO1_01 = pd.read_csv(\"https://www.football-data.co.uk/mmz4281/2223/SC0.csv\")"
      ]
    },
    {
      "cell_type": "code",
      "execution_count": 12,
      "metadata": {
        "id": "Y8icmUaddWkl"
      },
      "outputs": [],
      "source": [
        "df1 = SCO1_01[['Div','Date','Time','HomeTeam','AwayTeam','FTHG','FTAG','FTR','HTHG','HTAG','HTR','Referee','HS','AS','HST','AST','HF','AF','HC','AC','HY','AY','HR','AR','B365H','B365D','B365A','B365>2.5','B365<2.5']]\n"
      ]
    },
    {
      "cell_type": "code",
      "execution_count": 13,
      "metadata": {
        "id": "0JQ5zfkedePx"
      },
      "outputs": [],
      "source": [
        "df1.columns =['Div','Date','Time','Home','Away','FT_Goals_H','FT_Goals_A','Resultado_finalHT','Gols_casa_ht','Gols_fora_ht','Resultado_HT','Arbitro','Chutes_Time_Casa','Chutes_Time_fora','Chutes_a_gol_casa','Chutes_a_gol_fora','Faltas_time_casa','Faltas_time_fora','Escanteios_casa','Escanteios_fora','Cartao_amarelo_casa','Cartao_amarelo_fora','Cartao_vermelho_casa','Cartao_vermelho_casa','FT_Odds_H','FT_Odds_D','FT_Odds_A','B365>2.5','B365<2.5'\n",
        "]"
      ]
    },
    {
      "cell_type": "code",
      "execution_count": 14,
      "metadata": {
        "id": "DMzeqr3QeJRz"
      },
      "outputs": [],
      "source": [
        "df = df1.dropna()\n"
      ]
    },
    {
      "cell_type": "code",
      "execution_count": 15,
      "metadata": {
        "id": "Yo2oNwmjeKsA"
      },
      "outputs": [],
      "source": [
        "df.to_excel(\"SCOTLAND_S1.xlsx\", index=False)"
      ]
    },
    {
      "cell_type": "markdown",
      "metadata": {
        "id": "cuVUOcZEYxrf"
      },
      "source": [
        "#ALEMANHA 1 e 2 "
      ]
    },
    {
      "cell_type": "code",
      "execution_count": 16,
      "metadata": {
        "id": "ekVmyhVmY7bX"
      },
      "outputs": [],
      "source": [
        "GER1_01 = pd.read_csv(\"https://www.football-data.co.uk/mmz4281/2223/D1.csv\")"
      ]
    },
    {
      "cell_type": "code",
      "execution_count": 17,
      "metadata": {
        "id": "IZVPKHS9Y74T"
      },
      "outputs": [],
      "source": [
        "GER2_01 = pd.read_csv(\"https://www.football-data.co.uk/mmz4281/2223/D2.csv\")"
      ]
    },
    {
      "cell_type": "code",
      "execution_count": 18,
      "metadata": {
        "id": "bnAc7xPvdvCQ"
      },
      "outputs": [],
      "source": [
        "df1 = [GER1_01]\n",
        "#df1 = pd.concat (df1)\n",
        "\n",
        "df2 = [GER2_01]"
      ]
    },
    {
      "cell_type": "code",
      "execution_count": 19,
      "metadata": {
        "id": "7VMTZ4TPd6Ac"
      },
      "outputs": [],
      "source": [
        "df1 = GER1_01[['Div','Date','Time','HomeTeam','AwayTeam','FTHG','FTAG','FTR','HTHG','HTAG','HTR','HS','AS','HST','AST','HF','AF','HC','AC','HY','AY','HR','AR','B365H','B365D','B365A','B365>2.5','B365<2.5']]\n",
        "\n",
        "df2 = GER2_01[['Div','Date','Time','HomeTeam','AwayTeam','FTHG','FTAG','FTR','HTHG','HTAG','HTR','HS','AS','HST','AST','HF','AF','HC','AC','HY','AY','HR','AR','B365H','B365D','B365A','B365>2.5','B365<2.5']]\n"
      ]
    },
    {
      "cell_type": "code",
      "execution_count": 20,
      "metadata": {
        "colab": {
          "base_uri": "https://localhost:8080/",
          "height": 0
        },
        "id": "oYvennVSe2zC",
        "outputId": "3fae235e-6f39-4bc3-a9b2-ab41709693fe"
      },
      "outputs": [
        {
          "output_type": "execute_result",
          "data": {
            "text/plain": [
              "    Div        Date   Time       HomeTeam       AwayTeam  FTHG  FTAG FTR  \\\n",
              "0    D1  05/08/2022  19:30  Ein Frankfurt  Bayern Munich     1     6   A   \n",
              "1    D1  06/08/2022  14:30       Augsburg       Freiburg     0     4   A   \n",
              "2    D1  06/08/2022  14:30         Bochum          Mainz     1     2   A   \n",
              "3    D1  06/08/2022  14:30     M'gladbach     Hoffenheim     3     1   H   \n",
              "4    D1  06/08/2022  14:30   Union Berlin         Hertha     3     1   H   \n",
              "..   ..         ...    ...            ...            ...   ...   ...  ..   \n",
              "220  D1  18/03/2023  14:30      Stuttgart      Wolfsburg     0     1   A   \n",
              "221  D1  18/03/2023  17:30       Dortmund        FC Koln     6     1   H   \n",
              "222  D1  19/03/2023  14:30   Union Berlin  Ein Frankfurt     2     0   H   \n",
              "223  D1  19/03/2023  16:30     Leverkusen  Bayern Munich     2     1   H   \n",
              "224  D1  19/03/2023  18:30          Mainz       Freiburg     1     1   D   \n",
              "\n",
              "     HTHG  HTAG  ... AC  HY  AY  HR  AR  B365H  B365D  B365A  B365>2.5  \\\n",
              "0       0     5  ...  6   2   0   0   0   6.00   5.00   1.50      1.40   \n",
              "1       0     0  ...  8   0   0   0   0   3.30   3.50   2.15      1.92   \n",
              "2       1     1  ...  5   2   3   0   0   3.20   3.40   2.20      1.96   \n",
              "3       1     1  ...  2   1   4   0   1   2.05   4.20   3.00      1.36   \n",
              "4       1     0  ...  4   2   3   0   0   1.72   3.75   4.50      2.06   \n",
              "..    ...   ...  ... ..  ..  ..  ..  ..    ...    ...    ...       ...   \n",
              "220     0     0  ...  8   1   0   0   0   2.38   3.40   2.90      1.99   \n",
              "221     4     1  ...  6   1   0   0   0   1.45   4.75   6.50      1.62   \n",
              "222     0     0  ...  7   3   2   0   0   2.38   3.20   3.20      2.30   \n",
              "223     0     1  ...  3   2   3   0   0   5.25   4.50   1.55      1.40   \n",
              "224     0     0  ...  5   2   3   0   0   2.10   3.50   3.30      2.00   \n",
              "\n",
              "     B365<2.5  \n",
              "0        3.00  \n",
              "1        1.98  \n",
              "2        1.94  \n",
              "3        3.20  \n",
              "4        1.84  \n",
              "..        ...  \n",
              "220      1.91  \n",
              "221      2.30  \n",
              "222      1.62  \n",
              "223      3.00  \n",
              "224      1.90  \n",
              "\n",
              "[225 rows x 28 columns]"
            ],
            "text/html": [
              "\n",
              "  <div id=\"df-8afd0f59-97d6-4d81-85f6-f8c86a6aa994\">\n",
              "    <div class=\"colab-df-container\">\n",
              "      <div>\n",
              "<style scoped>\n",
              "    .dataframe tbody tr th:only-of-type {\n",
              "        vertical-align: middle;\n",
              "    }\n",
              "\n",
              "    .dataframe tbody tr th {\n",
              "        vertical-align: top;\n",
              "    }\n",
              "\n",
              "    .dataframe thead th {\n",
              "        text-align: right;\n",
              "    }\n",
              "</style>\n",
              "<table border=\"1\" class=\"dataframe\">\n",
              "  <thead>\n",
              "    <tr style=\"text-align: right;\">\n",
              "      <th></th>\n",
              "      <th>Div</th>\n",
              "      <th>Date</th>\n",
              "      <th>Time</th>\n",
              "      <th>HomeTeam</th>\n",
              "      <th>AwayTeam</th>\n",
              "      <th>FTHG</th>\n",
              "      <th>FTAG</th>\n",
              "      <th>FTR</th>\n",
              "      <th>HTHG</th>\n",
              "      <th>HTAG</th>\n",
              "      <th>...</th>\n",
              "      <th>AC</th>\n",
              "      <th>HY</th>\n",
              "      <th>AY</th>\n",
              "      <th>HR</th>\n",
              "      <th>AR</th>\n",
              "      <th>B365H</th>\n",
              "      <th>B365D</th>\n",
              "      <th>B365A</th>\n",
              "      <th>B365&gt;2.5</th>\n",
              "      <th>B365&lt;2.5</th>\n",
              "    </tr>\n",
              "  </thead>\n",
              "  <tbody>\n",
              "    <tr>\n",
              "      <th>0</th>\n",
              "      <td>D1</td>\n",
              "      <td>05/08/2022</td>\n",
              "      <td>19:30</td>\n",
              "      <td>Ein Frankfurt</td>\n",
              "      <td>Bayern Munich</td>\n",
              "      <td>1</td>\n",
              "      <td>6</td>\n",
              "      <td>A</td>\n",
              "      <td>0</td>\n",
              "      <td>5</td>\n",
              "      <td>...</td>\n",
              "      <td>6</td>\n",
              "      <td>2</td>\n",
              "      <td>0</td>\n",
              "      <td>0</td>\n",
              "      <td>0</td>\n",
              "      <td>6.00</td>\n",
              "      <td>5.00</td>\n",
              "      <td>1.50</td>\n",
              "      <td>1.40</td>\n",
              "      <td>3.00</td>\n",
              "    </tr>\n",
              "    <tr>\n",
              "      <th>1</th>\n",
              "      <td>D1</td>\n",
              "      <td>06/08/2022</td>\n",
              "      <td>14:30</td>\n",
              "      <td>Augsburg</td>\n",
              "      <td>Freiburg</td>\n",
              "      <td>0</td>\n",
              "      <td>4</td>\n",
              "      <td>A</td>\n",
              "      <td>0</td>\n",
              "      <td>0</td>\n",
              "      <td>...</td>\n",
              "      <td>8</td>\n",
              "      <td>0</td>\n",
              "      <td>0</td>\n",
              "      <td>0</td>\n",
              "      <td>0</td>\n",
              "      <td>3.30</td>\n",
              "      <td>3.50</td>\n",
              "      <td>2.15</td>\n",
              "      <td>1.92</td>\n",
              "      <td>1.98</td>\n",
              "    </tr>\n",
              "    <tr>\n",
              "      <th>2</th>\n",
              "      <td>D1</td>\n",
              "      <td>06/08/2022</td>\n",
              "      <td>14:30</td>\n",
              "      <td>Bochum</td>\n",
              "      <td>Mainz</td>\n",
              "      <td>1</td>\n",
              "      <td>2</td>\n",
              "      <td>A</td>\n",
              "      <td>1</td>\n",
              "      <td>1</td>\n",
              "      <td>...</td>\n",
              "      <td>5</td>\n",
              "      <td>2</td>\n",
              "      <td>3</td>\n",
              "      <td>0</td>\n",
              "      <td>0</td>\n",
              "      <td>3.20</td>\n",
              "      <td>3.40</td>\n",
              "      <td>2.20</td>\n",
              "      <td>1.96</td>\n",
              "      <td>1.94</td>\n",
              "    </tr>\n",
              "    <tr>\n",
              "      <th>3</th>\n",
              "      <td>D1</td>\n",
              "      <td>06/08/2022</td>\n",
              "      <td>14:30</td>\n",
              "      <td>M'gladbach</td>\n",
              "      <td>Hoffenheim</td>\n",
              "      <td>3</td>\n",
              "      <td>1</td>\n",
              "      <td>H</td>\n",
              "      <td>1</td>\n",
              "      <td>1</td>\n",
              "      <td>...</td>\n",
              "      <td>2</td>\n",
              "      <td>1</td>\n",
              "      <td>4</td>\n",
              "      <td>0</td>\n",
              "      <td>1</td>\n",
              "      <td>2.05</td>\n",
              "      <td>4.20</td>\n",
              "      <td>3.00</td>\n",
              "      <td>1.36</td>\n",
              "      <td>3.20</td>\n",
              "    </tr>\n",
              "    <tr>\n",
              "      <th>4</th>\n",
              "      <td>D1</td>\n",
              "      <td>06/08/2022</td>\n",
              "      <td>14:30</td>\n",
              "      <td>Union Berlin</td>\n",
              "      <td>Hertha</td>\n",
              "      <td>3</td>\n",
              "      <td>1</td>\n",
              "      <td>H</td>\n",
              "      <td>1</td>\n",
              "      <td>0</td>\n",
              "      <td>...</td>\n",
              "      <td>4</td>\n",
              "      <td>2</td>\n",
              "      <td>3</td>\n",
              "      <td>0</td>\n",
              "      <td>0</td>\n",
              "      <td>1.72</td>\n",
              "      <td>3.75</td>\n",
              "      <td>4.50</td>\n",
              "      <td>2.06</td>\n",
              "      <td>1.84</td>\n",
              "    </tr>\n",
              "    <tr>\n",
              "      <th>...</th>\n",
              "      <td>...</td>\n",
              "      <td>...</td>\n",
              "      <td>...</td>\n",
              "      <td>...</td>\n",
              "      <td>...</td>\n",
              "      <td>...</td>\n",
              "      <td>...</td>\n",
              "      <td>...</td>\n",
              "      <td>...</td>\n",
              "      <td>...</td>\n",
              "      <td>...</td>\n",
              "      <td>...</td>\n",
              "      <td>...</td>\n",
              "      <td>...</td>\n",
              "      <td>...</td>\n",
              "      <td>...</td>\n",
              "      <td>...</td>\n",
              "      <td>...</td>\n",
              "      <td>...</td>\n",
              "      <td>...</td>\n",
              "      <td>...</td>\n",
              "    </tr>\n",
              "    <tr>\n",
              "      <th>220</th>\n",
              "      <td>D1</td>\n",
              "      <td>18/03/2023</td>\n",
              "      <td>14:30</td>\n",
              "      <td>Stuttgart</td>\n",
              "      <td>Wolfsburg</td>\n",
              "      <td>0</td>\n",
              "      <td>1</td>\n",
              "      <td>A</td>\n",
              "      <td>0</td>\n",
              "      <td>0</td>\n",
              "      <td>...</td>\n",
              "      <td>8</td>\n",
              "      <td>1</td>\n",
              "      <td>0</td>\n",
              "      <td>0</td>\n",
              "      <td>0</td>\n",
              "      <td>2.38</td>\n",
              "      <td>3.40</td>\n",
              "      <td>2.90</td>\n",
              "      <td>1.99</td>\n",
              "      <td>1.91</td>\n",
              "    </tr>\n",
              "    <tr>\n",
              "      <th>221</th>\n",
              "      <td>D1</td>\n",
              "      <td>18/03/2023</td>\n",
              "      <td>17:30</td>\n",
              "      <td>Dortmund</td>\n",
              "      <td>FC Koln</td>\n",
              "      <td>6</td>\n",
              "      <td>1</td>\n",
              "      <td>H</td>\n",
              "      <td>4</td>\n",
              "      <td>1</td>\n",
              "      <td>...</td>\n",
              "      <td>6</td>\n",
              "      <td>1</td>\n",
              "      <td>0</td>\n",
              "      <td>0</td>\n",
              "      <td>0</td>\n",
              "      <td>1.45</td>\n",
              "      <td>4.75</td>\n",
              "      <td>6.50</td>\n",
              "      <td>1.62</td>\n",
              "      <td>2.30</td>\n",
              "    </tr>\n",
              "    <tr>\n",
              "      <th>222</th>\n",
              "      <td>D1</td>\n",
              "      <td>19/03/2023</td>\n",
              "      <td>14:30</td>\n",
              "      <td>Union Berlin</td>\n",
              "      <td>Ein Frankfurt</td>\n",
              "      <td>2</td>\n",
              "      <td>0</td>\n",
              "      <td>H</td>\n",
              "      <td>0</td>\n",
              "      <td>0</td>\n",
              "      <td>...</td>\n",
              "      <td>7</td>\n",
              "      <td>3</td>\n",
              "      <td>2</td>\n",
              "      <td>0</td>\n",
              "      <td>0</td>\n",
              "      <td>2.38</td>\n",
              "      <td>3.20</td>\n",
              "      <td>3.20</td>\n",
              "      <td>2.30</td>\n",
              "      <td>1.62</td>\n",
              "    </tr>\n",
              "    <tr>\n",
              "      <th>223</th>\n",
              "      <td>D1</td>\n",
              "      <td>19/03/2023</td>\n",
              "      <td>16:30</td>\n",
              "      <td>Leverkusen</td>\n",
              "      <td>Bayern Munich</td>\n",
              "      <td>2</td>\n",
              "      <td>1</td>\n",
              "      <td>H</td>\n",
              "      <td>0</td>\n",
              "      <td>1</td>\n",
              "      <td>...</td>\n",
              "      <td>3</td>\n",
              "      <td>2</td>\n",
              "      <td>3</td>\n",
              "      <td>0</td>\n",
              "      <td>0</td>\n",
              "      <td>5.25</td>\n",
              "      <td>4.50</td>\n",
              "      <td>1.55</td>\n",
              "      <td>1.40</td>\n",
              "      <td>3.00</td>\n",
              "    </tr>\n",
              "    <tr>\n",
              "      <th>224</th>\n",
              "      <td>D1</td>\n",
              "      <td>19/03/2023</td>\n",
              "      <td>18:30</td>\n",
              "      <td>Mainz</td>\n",
              "      <td>Freiburg</td>\n",
              "      <td>1</td>\n",
              "      <td>1</td>\n",
              "      <td>D</td>\n",
              "      <td>0</td>\n",
              "      <td>0</td>\n",
              "      <td>...</td>\n",
              "      <td>5</td>\n",
              "      <td>2</td>\n",
              "      <td>3</td>\n",
              "      <td>0</td>\n",
              "      <td>0</td>\n",
              "      <td>2.10</td>\n",
              "      <td>3.50</td>\n",
              "      <td>3.30</td>\n",
              "      <td>2.00</td>\n",
              "      <td>1.90</td>\n",
              "    </tr>\n",
              "  </tbody>\n",
              "</table>\n",
              "<p>225 rows × 28 columns</p>\n",
              "</div>\n",
              "      <button class=\"colab-df-convert\" onclick=\"convertToInteractive('df-8afd0f59-97d6-4d81-85f6-f8c86a6aa994')\"\n",
              "              title=\"Convert this dataframe to an interactive table.\"\n",
              "              style=\"display:none;\">\n",
              "        \n",
              "  <svg xmlns=\"http://www.w3.org/2000/svg\" height=\"24px\"viewBox=\"0 0 24 24\"\n",
              "       width=\"24px\">\n",
              "    <path d=\"M0 0h24v24H0V0z\" fill=\"none\"/>\n",
              "    <path d=\"M18.56 5.44l.94 2.06.94-2.06 2.06-.94-2.06-.94-.94-2.06-.94 2.06-2.06.94zm-11 1L8.5 8.5l.94-2.06 2.06-.94-2.06-.94L8.5 2.5l-.94 2.06-2.06.94zm10 10l.94 2.06.94-2.06 2.06-.94-2.06-.94-.94-2.06-.94 2.06-2.06.94z\"/><path d=\"M17.41 7.96l-1.37-1.37c-.4-.4-.92-.59-1.43-.59-.52 0-1.04.2-1.43.59L10.3 9.45l-7.72 7.72c-.78.78-.78 2.05 0 2.83L4 21.41c.39.39.9.59 1.41.59.51 0 1.02-.2 1.41-.59l7.78-7.78 2.81-2.81c.8-.78.8-2.07 0-2.86zM5.41 20L4 18.59l7.72-7.72 1.47 1.35L5.41 20z\"/>\n",
              "  </svg>\n",
              "      </button>\n",
              "      \n",
              "  <style>\n",
              "    .colab-df-container {\n",
              "      display:flex;\n",
              "      flex-wrap:wrap;\n",
              "      gap: 12px;\n",
              "    }\n",
              "\n",
              "    .colab-df-convert {\n",
              "      background-color: #E8F0FE;\n",
              "      border: none;\n",
              "      border-radius: 50%;\n",
              "      cursor: pointer;\n",
              "      display: none;\n",
              "      fill: #1967D2;\n",
              "      height: 32px;\n",
              "      padding: 0 0 0 0;\n",
              "      width: 32px;\n",
              "    }\n",
              "\n",
              "    .colab-df-convert:hover {\n",
              "      background-color: #E2EBFA;\n",
              "      box-shadow: 0px 1px 2px rgba(60, 64, 67, 0.3), 0px 1px 3px 1px rgba(60, 64, 67, 0.15);\n",
              "      fill: #174EA6;\n",
              "    }\n",
              "\n",
              "    [theme=dark] .colab-df-convert {\n",
              "      background-color: #3B4455;\n",
              "      fill: #D2E3FC;\n",
              "    }\n",
              "\n",
              "    [theme=dark] .colab-df-convert:hover {\n",
              "      background-color: #434B5C;\n",
              "      box-shadow: 0px 1px 3px 1px rgba(0, 0, 0, 0.15);\n",
              "      filter: drop-shadow(0px 1px 2px rgba(0, 0, 0, 0.3));\n",
              "      fill: #FFFFFF;\n",
              "    }\n",
              "  </style>\n",
              "\n",
              "      <script>\n",
              "        const buttonEl =\n",
              "          document.querySelector('#df-8afd0f59-97d6-4d81-85f6-f8c86a6aa994 button.colab-df-convert');\n",
              "        buttonEl.style.display =\n",
              "          google.colab.kernel.accessAllowed ? 'block' : 'none';\n",
              "\n",
              "        async function convertToInteractive(key) {\n",
              "          const element = document.querySelector('#df-8afd0f59-97d6-4d81-85f6-f8c86a6aa994');\n",
              "          const dataTable =\n",
              "            await google.colab.kernel.invokeFunction('convertToInteractive',\n",
              "                                                     [key], {});\n",
              "          if (!dataTable) return;\n",
              "\n",
              "          const docLinkHtml = 'Like what you see? Visit the ' +\n",
              "            '<a target=\"_blank\" href=https://colab.research.google.com/notebooks/data_table.ipynb>data table notebook</a>'\n",
              "            + ' to learn more about interactive tables.';\n",
              "          element.innerHTML = '';\n",
              "          dataTable['output_type'] = 'display_data';\n",
              "          await google.colab.output.renderOutput(dataTable, element);\n",
              "          const docLink = document.createElement('div');\n",
              "          docLink.innerHTML = docLinkHtml;\n",
              "          element.appendChild(docLink);\n",
              "        }\n",
              "      </script>\n",
              "    </div>\n",
              "  </div>\n",
              "  "
            ]
          },
          "metadata": {},
          "execution_count": 20
        }
      ],
      "source": [
        "df1"
      ]
    },
    {
      "cell_type": "code",
      "execution_count": 21,
      "metadata": {
        "id": "RLl01ZFUd8sE"
      },
      "outputs": [],
      "source": [
        "df1.columns =['Div','Date','Time','Home','Away','FT_Goals_H','FT_Goals_A','Resultado_finalHT','Gols_casa_ht','Gols_fora_ht','Resultado_HT','Chutes_Time_Casa','Chutes_Time_fora','Chutes_a_gol_casa','Chutes_a_gol_fora','Faltas_time_casa','Faltas_time_fora','Escanteios_casa','Escanteios_fora','Cartao_amarelo_casa','Cartao_amarelo_fora','Cartao_vermelho_casa','Cartao_vermelho_casa','FT_Odds_H','FT_Odds_D','FT_Odds_A','B365>2.5','B365<2.5'\n",
        "]\n",
        "\n",
        "df2.columns =['Div','Date','Time','Home','Away','FT_Goals_H','FT_Goals_A','Resultado_finalHT','Gols_casa_ht','Gols_fora_ht','Resultado_HT','Chutes_Time_Casa','Chutes_Time_fora','Chutes_a_gol_casa','Chutes_a_gol_fora','Faltas_time_casa','Faltas_time_fora','Escanteios_casa','Escanteios_fora','Cartao_amarelo_casa','Cartao_amarelo_fora','Cartao_vermelho_casa','Cartao_vermelho_casa','FT_Odds_H','FT_Odds_D','FT_Odds_A','B365>2.5','B365<2.5'\n",
        "]"
      ]
    },
    {
      "cell_type": "code",
      "execution_count": 22,
      "metadata": {
        "id": "iqwTDP74eAd2"
      },
      "outputs": [],
      "source": [
        "df = df1.dropna()\n",
        "dff = df2.dropna()"
      ]
    },
    {
      "cell_type": "code",
      "execution_count": 23,
      "metadata": {
        "id": "ocySfeqCeEPE"
      },
      "outputs": [],
      "source": [
        "df.to_excel(\"GERMANY_S1.xlsx\", index=False)\n",
        "\n",
        "dff.to_excel(\"GERMANY_S2.xlsx\", index=False)"
      ]
    },
    {
      "cell_type": "markdown",
      "metadata": {
        "id": "lUqOc13TY-FR"
      },
      "source": [
        "#ITALIA 1 e 2"
      ]
    },
    {
      "cell_type": "code",
      "execution_count": 24,
      "metadata": {
        "id": "x-1FZUXTZCje"
      },
      "outputs": [],
      "source": [
        "ITA1_01 = pd.read_csv(\"https://www.football-data.co.uk/mmz4281/2223/I1.csv\")"
      ]
    },
    {
      "cell_type": "code",
      "execution_count": 25,
      "metadata": {
        "id": "daXUEAKaZDC2"
      },
      "outputs": [],
      "source": [
        "ITA2_01 = pd.read_csv(\"https://www.football-data.co.uk/mmz4281/2223/I2.csv\")"
      ]
    },
    {
      "cell_type": "code",
      "execution_count": 26,
      "metadata": {
        "id": "OTtRw3dMhG-q"
      },
      "outputs": [],
      "source": [
        "df1 = [ITA1_01]\n",
        "df2 = [ITA2_01]\n",
        "#df1 = pd.concat (df1)"
      ]
    },
    {
      "cell_type": "code",
      "execution_count": 27,
      "metadata": {
        "id": "bqRLgVBNhI9e"
      },
      "outputs": [],
      "source": [
        "df1 = ITA1_01[['Div','Date','Time','HomeTeam','AwayTeam','FTHG','FTAG','FTR','HTHG','HTAG','HTR','HS','AS','HST','AST','HF','AF','HC','AC','HY','AY','HR','AR','B365H','B365D','B365A','B365>2.5','B365<2.5']]\n",
        "\n",
        "df2 = ITA2_01[['Div','Date','Time','HomeTeam','AwayTeam','FTHG','FTAG','FTR','HTHG','HTAG','HTR','HS','AS','HST','AST','HF','AF','HC','AC','HY','AY','HR','AR','B365H','B365D','B365A','B365>2.5','B365<2.5']]\n",
        "\n"
      ]
    },
    {
      "cell_type": "code",
      "execution_count": 28,
      "metadata": {
        "id": "rkMs6VyxhSoo"
      },
      "outputs": [],
      "source": [
        "df1.columns =['Div','Date','Time','Home','Away','FT_Goals_H','FT_Goals_A','Resultado_finalHT','Gols_casa_ht','Gols_fora_ht','Resultado_HT','Chutes_Time_Casa','Chutes_Time_fora','Chutes_a_gol_casa','Chutes_a_gol_fora','Faltas_time_casa','Faltas_time_fora','Escanteios_casa','Escanteios_fora','Cartao_amarelo_casa','Cartao_amarelo_fora','Cartao_vermelho_casa','Cartao_vermelho_casa','FT_Odds_H','FT_Odds_D','FT_Odds_A','B365>2.5','B365<2.5'\n",
        "]\n",
        "\n",
        "df2.columns =['Div','Date','Time','Home','Away','FT_Goals_H','FT_Goals_A','Resultado_finalHT','Gols_casa_ht','Gols_fora_ht','Resultado_HT','Chutes_Time_Casa','Chutes_Time_fora','Chutes_a_gol_casa','Chutes_a_gol_fora','Faltas_time_casa','Faltas_time_fora','Escanteios_casa','Escanteios_fora','Cartao_amarelo_casa','Cartao_amarelo_fora','Cartao_vermelho_casa','Cartao_vermelho_casa','FT_Odds_H','FT_Odds_D','FT_Odds_A','B365>2.5','B365<2.5'\n",
        "]"
      ]
    },
    {
      "cell_type": "code",
      "execution_count": 29,
      "metadata": {
        "id": "BOvkXfMZhVLC"
      },
      "outputs": [],
      "source": [
        "df = df1.dropna()\n",
        "dff = df2.dropna()"
      ]
    },
    {
      "cell_type": "code",
      "execution_count": 30,
      "metadata": {
        "id": "X_mfapxShXO0"
      },
      "outputs": [],
      "source": [
        "df.to_excel(\"ITALY_S1.xlsx\", index=False)\n",
        "df.to_excel(\"ITALY_S2.xlsx\", index=False)"
      ]
    },
    {
      "cell_type": "markdown",
      "metadata": {
        "id": "hKJbU5HSZGOJ"
      },
      "source": [
        "#ESPANHA  1 e 2 "
      ]
    },
    {
      "cell_type": "code",
      "execution_count": 31,
      "metadata": {
        "id": "OrImDRZ4ZWFw"
      },
      "outputs": [],
      "source": [
        "SPA1_01 = pd.read_csv(\"https://www.football-data.co.uk/mmz4281/2223/SP1.csv\")\n",
        "SPA2_01 = pd.read_csv(\"https://www.football-data.co.uk/mmz4281/2223/SP2.csv\")"
      ]
    },
    {
      "cell_type": "code",
      "execution_count": 32,
      "metadata": {
        "id": "GXFcKgAZio8L"
      },
      "outputs": [],
      "source": [
        "df1 = [SPA1_01]\n",
        "df2 = [SPA2_01]\n",
        "\n",
        "\n",
        "#df1 = pd.concat (df1)"
      ]
    },
    {
      "cell_type": "code",
      "execution_count": 33,
      "metadata": {
        "id": "O4KTn3UZisO4"
      },
      "outputs": [],
      "source": [
        "df1 = SPA1_01[['Div','Date','Time','HomeTeam','AwayTeam','FTHG','FTAG','FTR','HTHG','HTAG','HTR','HS','AS','HST','AST','HF','AF','HC','AC','HY','AY','HR','AR','B365H','B365D','B365A','B365>2.5','B365<2.5']]\n",
        "\n",
        "df2 = SPA2_01[['Div','Date','Time','HomeTeam','AwayTeam','FTHG','FTAG','FTR','HTHG','HTAG','HTR','HS','AS','HST','AST','HF','AF','HC','AC','HY','AY','HR','AR','B365H','B365D','B365A','B365>2.5','B365<2.5']]\n"
      ]
    },
    {
      "cell_type": "code",
      "execution_count": 34,
      "metadata": {
        "id": "C4Td5W-uiueU"
      },
      "outputs": [],
      "source": [
        "df1.columns =['Div','Date','Time','Home','Away','FT_Goals_H','FT_Goals_A','Resultado_finalHT','Gols_casa_ht','Gols_fora_ht','Resultado_HT','Chutes_Time_Casa','Chutes_Time_fora','Chutes_a_gol_casa','Chutes_a_gol_fora','Faltas_time_casa','Faltas_time_fora','Escanteios_casa','Escanteios_fora','Cartao_amarelo_casa','Cartao_amarelo_fora','Cartao_vermelho_casa','Cartao_vermelho_casa','FT_Odds_H','FT_Odds_D','FT_Odds_A','B365>2.5','B365<2.5'\n",
        "]\n",
        "\n",
        "df2.columns =['Div','Date','Time','Home','Away','FT_Goals_H','FT_Goals_A','Resultado_finalHT','Gols_casa_ht','Gols_fora_ht','Resultado_HT','Chutes_Time_Casa','Chutes_Time_fora','Chutes_a_gol_casa','Chutes_a_gol_fora','Faltas_time_casa','Faltas_time_fora','Escanteios_casa','Escanteios_fora','Cartao_amarelo_casa','Cartao_amarelo_fora','Cartao_vermelho_casa','Cartao_vermelho_casa','FT_Odds_H','FT_Odds_D','FT_Odds_A','B365>2.5','B365<2.5'\n",
        "]"
      ]
    },
    {
      "cell_type": "code",
      "execution_count": 35,
      "metadata": {
        "id": "zRP4rIZuivnf"
      },
      "outputs": [],
      "source": [
        "df = df1.dropna()\n",
        "dff = df2.dropna()"
      ]
    },
    {
      "cell_type": "code",
      "execution_count": 36,
      "metadata": {
        "id": "yx4CPdAdiv9h"
      },
      "outputs": [],
      "source": [
        "df.to_excel(\"SPAIN_S1.xlsx\", index=False)\n",
        "dff.to_excel(\"SPAIN_S2.xlsx\", index=False)"
      ]
    },
    {
      "cell_type": "markdown",
      "metadata": {
        "id": "URq_aVv6Zdf1"
      },
      "source": [
        "#FRANÇA 1 E 2\n"
      ]
    },
    {
      "cell_type": "code",
      "execution_count": 37,
      "metadata": {
        "id": "trDQ2VjlZjPZ"
      },
      "outputs": [],
      "source": [
        "FRA1_01 = pd.read_csv(\"https://www.football-data.co.uk/mmz4281/2223/F1.csv\")"
      ]
    },
    {
      "cell_type": "code",
      "execution_count": 38,
      "metadata": {
        "id": "C-FoppUZZj73"
      },
      "outputs": [],
      "source": [
        "FRA2_01 = pd.read_csv(\"https://www.football-data.co.uk/mmz4281/2223/F2.csv\")"
      ]
    },
    {
      "cell_type": "code",
      "execution_count": 39,
      "metadata": {
        "id": "_vKvIz17izKE"
      },
      "outputs": [],
      "source": [
        "df1 = [FRA1_01]\n",
        "df2 = [FRA2_01]\n",
        "\n",
        "\n",
        "#df1 = pd.concat (df1)"
      ]
    },
    {
      "cell_type": "code",
      "execution_count": 40,
      "metadata": {
        "id": "aNP3WIh0i4ZN"
      },
      "outputs": [],
      "source": [
        "df1 = FRA1_01[['Div','Date','Time','HomeTeam','AwayTeam','FTHG','FTAG','FTR','HTHG','HTAG','HTR','HS','AS','HST','AST','HF','AF','HC','AC','HY','AY','HR','AR','B365H','B365D','B365A','B365>2.5','B365<2.5']]\n",
        "\n",
        "df2 = FRA2_01[['Div','Date','Time','HomeTeam','AwayTeam','FTHG','FTAG','FTR','HTHG','HTAG','HTR','HS','AS','HST','AST','HF','AF','HC','AC','HY','AY','HR','AR','B365H','B365D','B365A','B365>2.5','B365<2.5']]\n"
      ]
    },
    {
      "cell_type": "code",
      "execution_count": 41,
      "metadata": {
        "id": "b-osa5r7i5t9"
      },
      "outputs": [],
      "source": [
        "df1.columns =['Div','Date','Time','Home','Away','FT_Goals_H','FT_Goals_A','Resultado_finalHT','Gols_casa_ht','Gols_fora_ht','Resultado_HT','Chutes_Time_Casa','Chutes_Time_fora','Chutes_a_gol_casa','Chutes_a_gol_fora','Faltas_time_casa','Faltas_time_fora','Escanteios_casa','Escanteios_fora','Cartao_amarelo_casa','Cartao_amarelo_fora','Cartao_vermelho_casa','Cartao_vermelho_casa','FT_Odds_H','FT_Odds_D','FT_Odds_A','B365>2.5','B365<2.5'\n",
        "]\n",
        "\n",
        "df2.columns =['Div','Date','Time','Home','Away','FT_Goals_H','FT_Goals_A','Resultado_finalHT','Gols_casa_ht','Gols_fora_ht','Resultado_HT','Chutes_Time_Casa','Chutes_Time_fora','Chutes_a_gol_casa','Chutes_a_gol_fora','Faltas_time_casa','Faltas_time_fora','Escanteios_casa','Escanteios_fora','Cartao_amarelo_casa','Cartao_amarelo_fora','Cartao_vermelho_casa','Cartao_vermelho_casa','FT_Odds_H','FT_Odds_D','FT_Odds_A','B365>2.5','B365<2.5'\n",
        "]"
      ]
    },
    {
      "cell_type": "code",
      "execution_count": 42,
      "metadata": {
        "id": "-wYNlM5wi70Y"
      },
      "outputs": [],
      "source": [
        "df = df1.dropna()\n",
        "dff = df2.dropna()"
      ]
    },
    {
      "cell_type": "code",
      "execution_count": 43,
      "metadata": {
        "id": "ITn3awWki9BB"
      },
      "outputs": [],
      "source": [
        "df.to_excel(\"FRANCE_S1.xlsx\", index=False)\n",
        "\n",
        "dff.to_excel(\"FRANCE_S2.xlsx\", index=False)"
      ]
    },
    {
      "cell_type": "markdown",
      "metadata": {
        "id": "oON8IU6tZmyT"
      },
      "source": [
        "#HOLANDA\n"
      ]
    },
    {
      "cell_type": "code",
      "execution_count": 44,
      "metadata": {
        "id": "qORqPFugZrOm"
      },
      "outputs": [],
      "source": [
        "NET1_01 = pd.read_csv(\"https://www.football-data.co.uk/mmz4281/2223/N1.csv\")"
      ]
    },
    {
      "cell_type": "code",
      "execution_count": 45,
      "metadata": {
        "id": "AaZR5OH7jMEN"
      },
      "outputs": [],
      "source": [
        "df1 = NET1_01[['Div','Date','Time','HomeTeam','AwayTeam','FTHG','FTAG','FTR','HTHG','HTAG','HTR','HS','AS','HST','AST','HF','AF','HC','AC','HY','AY','HR','AR','B365H','B365D','B365A','B365>2.5','B365<2.5']]\n"
      ]
    },
    {
      "cell_type": "code",
      "execution_count": 46,
      "metadata": {
        "id": "0Q6J9c0-jRYQ"
      },
      "outputs": [],
      "source": [
        "df1.columns =['Div','Date','Time','Home','Away','FT_Goals_H','FT_Goals_A','Resultado_finalHT','Gols_casa_ht','Gols_fora_ht','Resultado_HT','Chutes_Time_Casa','Chutes_Time_fora','Chutes_a_gol_casa','Chutes_a_gol_fora','Faltas_time_casa','Faltas_time_fora','Escanteios_casa','Escanteios_fora','Cartao_amarelo_casa','Cartao_amarelo_fora','Cartao_vermelho_casa','Cartao_vermelho_casa','FT_Odds_H','FT_Odds_D','FT_Odds_A','B365>2.5','B365<2.5'\n",
        "]"
      ]
    },
    {
      "cell_type": "code",
      "execution_count": 47,
      "metadata": {
        "id": "Pa-Lhy28jUKE"
      },
      "outputs": [],
      "source": [
        "df = df1.dropna()"
      ]
    },
    {
      "cell_type": "code",
      "execution_count": 48,
      "metadata": {
        "id": "wELulUsKjV5e"
      },
      "outputs": [],
      "source": [
        "df.to_excel(\"NETERLAND_S1.xlsx\", index=False)"
      ]
    },
    {
      "cell_type": "markdown",
      "metadata": {
        "id": "qGhydGrAZu6q"
      },
      "source": [
        "#BELGICA "
      ]
    },
    {
      "cell_type": "code",
      "execution_count": 49,
      "metadata": {
        "id": "B-8IJSLEZwrv"
      },
      "outputs": [],
      "source": [
        "BEL1_01 = pd.read_csv(\"https://www.football-data.co.uk/mmz4281/2223/B1.csv\")"
      ]
    },
    {
      "cell_type": "code",
      "execution_count": 50,
      "metadata": {
        "id": "zYgenkV0kBu8"
      },
      "outputs": [],
      "source": [
        "df1 = BEL1_01[['Div','Date','Time','HomeTeam','AwayTeam','FTHG','FTAG','FTR','HTHG','HTAG','HTR','HS','AS','HST','AST','HF','AF','HC','AC','HY','AY','HR','AR','B365H','B365D','B365A','B365>2.5','B365<2.5']]\n"
      ]
    },
    {
      "cell_type": "code",
      "execution_count": 51,
      "metadata": {
        "id": "30koZQB5kDPu"
      },
      "outputs": [],
      "source": [
        "df1.columns =['Div','Date','Time','Home','Away','FT_Goals_H','FT_Goals_A','Resultado_finalHT','Gols_casa_ht','Gols_fora_ht','Resultado_HT','Chutes_Time_Casa','Chutes_Time_fora','Chutes_a_gol_casa','Chutes_a_gol_fora','Faltas_time_casa','Faltas_time_fora','Escanteios_casa','Escanteios_fora','Cartao_amarelo_casa','Cartao_amarelo_fora','Cartao_vermelho_casa','Cartao_vermelho_casa','FT_Odds_H','FT_Odds_D','FT_Odds_A','B365>2.5','B365<2.5'\n",
        "]"
      ]
    },
    {
      "cell_type": "code",
      "execution_count": 52,
      "metadata": {
        "id": "BACTF92dkEYQ"
      },
      "outputs": [],
      "source": [
        "df = df1.dropna()"
      ]
    },
    {
      "cell_type": "code",
      "execution_count": 53,
      "metadata": {
        "id": "R-cQOnY5kFeq"
      },
      "outputs": [],
      "source": [
        "df.to_excel(\"BELGIUM_S1.xlsx\", index=False)"
      ]
    },
    {
      "cell_type": "markdown",
      "metadata": {
        "id": "TY9mqCpfZxQX"
      },
      "source": [
        "#PORTUGAL"
      ]
    },
    {
      "cell_type": "code",
      "execution_count": 54,
      "metadata": {
        "id": "V1TuX5_eZ0uo"
      },
      "outputs": [],
      "source": [
        "POR1_01 = pd.read_csv(\"https://www.football-data.co.uk/mmz4281/2223/P1.csv\")"
      ]
    },
    {
      "cell_type": "code",
      "execution_count": 55,
      "metadata": {
        "id": "iRPV3L9kkNUk"
      },
      "outputs": [],
      "source": [
        "df1 = POR1_01[['Div','Date','Time','HomeTeam','AwayTeam','FTHG','FTAG','FTR','HTHG','HTAG','HTR','HS','AS','HST','AST','HF','AF','HC','AC','HY','AY','HR','AR','B365H','B365D','B365A','B365>2.5','B365<2.5']]\n"
      ]
    },
    {
      "cell_type": "code",
      "execution_count": 56,
      "metadata": {
        "id": "0aEB_ZoYkO99"
      },
      "outputs": [],
      "source": [
        "df1.columns =['Div','Date','Time','Home','Away','FT_Goals_H','FT_Goals_A','Resultado_finalHT','Gols_casa_ht','Gols_fora_ht','Resultado_HT','Chutes_Time_Casa','Chutes_Time_fora','Chutes_a_gol_casa','Chutes_a_gol_fora','Faltas_time_casa','Faltas_time_fora','Escanteios_casa','Escanteios_fora','Cartao_amarelo_casa','Cartao_amarelo_fora','Cartao_vermelho_casa','Cartao_vermelho_casa','FT_Odds_H','FT_Odds_D','FT_Odds_A','B365>2.5','B365<2.5'\n",
        "]"
      ]
    },
    {
      "cell_type": "code",
      "execution_count": 57,
      "metadata": {
        "id": "neC6YIDnkUS0"
      },
      "outputs": [],
      "source": [
        "df = df1.dropna()"
      ]
    },
    {
      "cell_type": "code",
      "execution_count": 58,
      "metadata": {
        "id": "oo03Ex5jkU0n"
      },
      "outputs": [],
      "source": [
        "df.to_excel(\"PORTUGAL_S1.xlsx\", index=False)"
      ]
    },
    {
      "cell_type": "markdown",
      "metadata": {
        "id": "6K2Y2zoFZ1QG"
      },
      "source": [
        "#TURQUIA "
      ]
    },
    {
      "cell_type": "code",
      "execution_count": 59,
      "metadata": {
        "id": "XvXfvT6NZ4RK"
      },
      "outputs": [],
      "source": [
        "TUR1_01 = pd.read_csv(\"https://www.football-data.co.uk/mmz4281/2223/T1.csv\")"
      ]
    },
    {
      "cell_type": "code",
      "execution_count": 60,
      "metadata": {
        "id": "M1U3pY4XlVOY"
      },
      "outputs": [],
      "source": [
        "df1 = TUR1_01[['Div','Date','Time','HomeTeam','AwayTeam','FTHG','FTAG','FTR','HTHG','HTAG','HTR','HS','AS','HST','AST','HF','AF','HC','AC','HY','AY','HR','AR','B365H','B365D','B365A','B365>2.5','B365<2.5']]\n"
      ]
    },
    {
      "cell_type": "code",
      "execution_count": 61,
      "metadata": {
        "id": "MnL_fX_ClXMg"
      },
      "outputs": [],
      "source": [
        "df1.columns =['Div','Date','Time','Home','Away','FT_Goals_H','FT_Goals_A','Resultado_finalHT','Gols_casa_ht','Gols_fora_ht','Resultado_HT','Chutes_Time_Casa','Chutes_Time_fora','Chutes_a_gol_casa','Chutes_a_gol_fora','Faltas_time_casa','Faltas_time_fora','Escanteios_casa','Escanteios_fora','Cartao_amarelo_casa','Cartao_amarelo_fora','Cartao_vermelho_casa','Cartao_vermelho_casa','FT_Odds_H','FT_Odds_D','FT_Odds_A','B365>2.5','B365<2.5'\n",
        "]"
      ]
    },
    {
      "cell_type": "code",
      "execution_count": 62,
      "metadata": {
        "id": "kq0c1cailYQY"
      },
      "outputs": [],
      "source": [
        "df = df1.dropna()"
      ]
    },
    {
      "cell_type": "code",
      "execution_count": 63,
      "metadata": {
        "id": "OwJZ3OPglZS4"
      },
      "outputs": [],
      "source": [
        "df.to_excel(\"TURKEY_S1.xlsx\", index=False)"
      ]
    },
    {
      "cell_type": "markdown",
      "metadata": {
        "id": "n05ScW23Z7Be"
      },
      "source": [
        "#GRECIA"
      ]
    },
    {
      "cell_type": "code",
      "execution_count": 64,
      "metadata": {
        "id": "6h4GlhZPZ8jp"
      },
      "outputs": [],
      "source": [
        "GRE1_01 = pd.read_csv(\"https://www.football-data.co.uk/mmz4281/2223/G1.csv\")"
      ]
    },
    {
      "cell_type": "code",
      "execution_count": 65,
      "metadata": {
        "id": "8UPgTG2Gl1DN"
      },
      "outputs": [],
      "source": [
        "df1 = GRE1_01[['Div','Date','Time','HomeTeam','AwayTeam','FTHG','FTAG','FTR','HTHG','HTAG','HTR','HS','AS','HST','AST','HF','AF','HC','AC','HY','AY','HR','AR','B365H','B365D','B365A','B365>2.5','B365<2.5']]\n"
      ]
    },
    {
      "cell_type": "code",
      "execution_count": 66,
      "metadata": {
        "id": "CuvHLLlPl3ER"
      },
      "outputs": [],
      "source": [
        "df1.columns =['Div','Date','Time','Home','Away','FT_Goals_H','FT_Goals_A','Resultado_finalHT','Gols_casa_ht','Gols_fora_ht','Resultado_HT','Chutes_Time_Casa','Chutes_Time_fora','Chutes_a_gol_casa','Chutes_a_gol_fora','Faltas_time_casa','Faltas_time_fora','Escanteios_casa','Escanteios_fora','Cartao_amarelo_casa','Cartao_amarelo_fora','Cartao_vermelho_casa','Cartao_vermelho_casa','FT_Odds_H','FT_Odds_D','FT_Odds_A','B365>2.5','B365<2.5'\n",
        "]"
      ]
    },
    {
      "cell_type": "code",
      "execution_count": 67,
      "metadata": {
        "id": "SqthxdG3l4ZN"
      },
      "outputs": [],
      "source": [
        "df = df1.dropna()"
      ]
    },
    {
      "cell_type": "code",
      "execution_count": 68,
      "metadata": {
        "id": "xfHH1Kyul5uJ"
      },
      "outputs": [],
      "source": [
        "df.to_excel(\"GREECE_S1.xlsx\", index=False)"
      ]
    },
    {
      "cell_type": "markdown",
      "metadata": {
        "id": "oh0xXHwMaGsP"
      },
      "source": [
        "#AJUSTANDO COLUNAS E IMPRIMINDO XLXS"
      ]
    }
  ],
  "metadata": {
    "colab": {
      "collapsed_sections": [
        "2_cJqCEDYmEo",
        "LOpiIdZYYrlA",
        "cuVUOcZEYxrf",
        "lUqOc13TY-FR",
        "hKJbU5HSZGOJ",
        "oON8IU6tZmyT",
        "qGhydGrAZu6q",
        "TY9mqCpfZxQX",
        "6K2Y2zoFZ1QG",
        "n05ScW23Z7Be"
      ],
      "provenance": [],
      "authorship_tag": "ABX9TyNdZ53GTEZ/p8yaj0Tc4Y9z",
      "include_colab_link": true
    },
    "kernelspec": {
      "display_name": "Python 3",
      "name": "python3"
    },
    "language_info": {
      "name": "python"
    }
  },
  "nbformat": 4,
  "nbformat_minor": 0
}