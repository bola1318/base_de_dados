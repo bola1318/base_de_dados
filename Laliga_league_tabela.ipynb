{
  "nbformat": 4,
  "nbformat_minor": 0,
  "metadata": {
    "colab": {
      "provenance": [],
      "include_colab_link": true
    },
    "kernelspec": {
      "name": "python3",
      "display_name": "Python 3"
    },
    "language_info": {
      "name": "python"
    }
  },
  "cells": [
    {
      "cell_type": "markdown",
      "metadata": {
        "id": "view-in-github",
        "colab_type": "text"
      },
      "source": [
        "<a href=\"https://colab.research.google.com/github/bola1318/base_de_dados/blob/main/Laliga_league_tabela.ipynb\" target=\"_parent\"><img src=\"https://colab.research.google.com/assets/colab-badge.svg\" alt=\"Open In Colab\"/></a>"
      ]
    },
    {
      "cell_type": "markdown",
      "source": [
        "\n",
        "premier1 = df1[1] #table 1 site https://fbref.com/en/comps/9/Premier-League-Stats#results2022-202391_overall\n",
        "premier1.to_excel(\"teste.xlsx\")\n",
        "\n"
      ],
      "metadata": {
        "id": "516_x2CvPcI7"
      }
    },
    {
      "cell_type": "code",
      "execution_count": null,
      "metadata": {
        "id": "Dn7zaZYIw1wQ"
      },
      "outputs": [],
      "source": [
        "import pandas as pd \n",
        "import requests \n",
        "from google.colab import data_table\n",
        "data_table.enable_dataframe_formatter()\n",
        "\n",
        "import csv"
      ]
    },
    {
      "cell_type": "code",
      "source": [
        "#coletando as planilhas \n",
        "\n",
        "header = {\n",
        "  \"User-Agent\": \"Mozilla/5.0 (X11; Linux x86_64) AppleWebKit/537.36 (KHTML, like Gecko) Chrome/50.0.2661.75 Safari/537.36\",\n",
        "  \"X-Requested-With\": \"XMLHttpRequest\"\n",
        "}\n",
        "\n",
        "#A url que você quer acesssar\n",
        "url_link1 = \"https://fbref.com/en/comps/12/La-Liga-Stats#results2022-2023121_overall\"\n",
        "#ENG_01 = pd.read_csv(\"https://fbref.com/en/comps/9/Premier-League-Stats#results2022-202391_overall\") \n",
        "\n",
        "r1 = requests.get(url_link1, headers=header)\n",
        "\n",
        "df1 = pd.read_html(r1.text)\n",
        "\n"
      ],
      "metadata": {
        "id": "yjIfrL2NxsJm"
      },
      "execution_count": null,
      "outputs": []
    },
    {
      "cell_type": "code",
      "source": [
        "#df1"
      ],
      "metadata": {
        "id": "BJceA6xNx7fT"
      },
      "execution_count": null,
      "outputs": []
    },
    {
      "cell_type": "code",
      "source": [
        "len(df1)"
      ],
      "metadata": {
        "colab": {
          "base_uri": "https://localhost:8080/"
        },
        "id": "U6a29lmozupt",
        "outputId": "c5af69e4-7684-46e6-81ff-6888aa239711"
      },
      "execution_count": null,
      "outputs": [
        {
          "output_type": "execute_result",
          "data": {
            "text/plain": [
              "24"
            ]
          },
          "metadata": {},
          "execution_count": 4
        }
      ]
    },
    {
      "cell_type": "code",
      "source": [
        "df1[0] #Regular season"
      ],
      "metadata": {
        "id": "yZl82uMVQY6D",
        "colab": {
          "base_uri": "https://localhost:8080/",
          "height": 983
        },
        "outputId": "5038b6f9-6c46-4d0d-b205-d628ae6645d5"
      },
      "execution_count": null,
      "outputs": [
        {
          "output_type": "execute_result",
          "data": {
            "text/plain": [
              "    Rk            Squad  MP   W  D   L  GF  GA  GD  Pts  Pts/MP    xG   xGA  \\\n",
              "0    1        Barcelona  14  12  1   1  33   5  28   37    2.64  32.6   9.9   \n",
              "1    2      Real Madrid  14  11  2   1  33  14  19   35    2.50  30.6  13.5   \n",
              "2    3    Real Sociedad  14   8  2   4  19  17   2   26    1.86  18.5  12.7   \n",
              "3    4    Athletic Club  14   7  3   4  24  14  10   24    1.71  21.6   9.7   \n",
              "4    5  Atlético Madrid  14   7  3   4  21  14   7   24    1.71  18.3  16.0   \n",
              "5    6            Betis  14   7  3   4  17  12   5   24    1.71  18.5  16.6   \n",
              "6    7          Osasuna  14   7  2   5  16  14   2   23    1.64  18.2  13.1   \n",
              "7    8   Rayo Vallecano  14   6  4   4  20  16   4   22    1.57  16.7  17.8   \n",
              "8    9       Villarreal  14   6  3   5  15  10   5   21    1.50  17.2  14.6   \n",
              "9   10         Valencia  14   5  4   5  22  15   7   19    1.36  20.3  14.5   \n",
              "10  11         Mallorca  14   5  4   5  13  13   0   19    1.36  13.2  14.2   \n",
              "11  12       Valladolid  14   5  2   7  13  21  -8   17    1.21  13.5  21.7   \n",
              "12  13           Girona  14   4  4   6  20  22  -2   16    1.14  18.5  17.7   \n",
              "13  14          Almería  14   5  1   8  16  22  -6   16    1.14  13.7  21.7   \n",
              "14  15           Getafe  14   3  5   6  12  20  -8   14    1.00   9.8  16.8   \n",
              "15  16         Espanyol  14   2  6   6  16  22  -6   12    0.86  15.8  17.4   \n",
              "16  17       Celta Vigo  14   3  3   8  14  26 -12   12    0.86  13.9  16.9   \n",
              "17  18          Sevilla  14   2  5   7  13  22  -9   11    0.79  14.1  24.9   \n",
              "18  19            Cádiz  14   2  5   7   9  26 -17   11    0.79  10.2  26.1   \n",
              "19  20            Elche  14   0  4  10  10  31 -21    4    0.29  10.3  29.6   \n",
              "\n",
              "     xGD  xGD/90     Last 5  Attendance  \\\n",
              "0   22.7    1.62  W W W W W       83194   \n",
              "1   17.2    1.23  W W D L W       57552   \n",
              "2    5.8    0.41  W L L D W       32580   \n",
              "3   11.9    0.85  D L W L W       43099   \n",
              "4    2.2    0.16  D W L D L       54507   \n",
              "5    1.9    0.14  D L W D L       51290   \n",
              "6    5.0    0.36  W D W W L       19156   \n",
              "7   -1.0   -0.07  D W W W D       12482   \n",
              "8    2.6    0.19  L W L L W       14465   \n",
              "9    5.8    0.42  D L L D W       41481   \n",
              "10  -1.0   -0.07  L W D W W       14788   \n",
              "11  -8.2   -0.58  W W L W L       19794   \n",
              "12   0.8    0.06  L D D W W       10777   \n",
              "13  -7.9   -0.57  W L W L W       12155   \n",
              "14  -7.0   -0.50  D D W D L       11510   \n",
              "15  -1.6   -0.12  L D D D L       19211   \n",
              "16  -3.0   -0.22  L D L L D       13640   \n",
              "17 -10.8   -0.77  D L L D L       36750   \n",
              "18 -15.9   -1.13  D L W D L       17415   \n",
              "19 -19.3   -1.38  L D L L L       21337   \n",
              "\n",
              "                                Top Team Scorer             Goalkeeper  Notes  \n",
              "0                       Robert Lewandowski - 13  Marc-André ter Stegen    NaN  \n",
              "1        Vinicius Júnior, Federico Valverde - 6       Thibaut Courtois    NaN  \n",
              "2                              Brais Méndez - 6            Álex Remiro    NaN  \n",
              "3            Iñaki Williams, Gorka Guruzeta - 5             Unai Simón    NaN  \n",
              "4          Álvaro Morata, Antoine Griezmann - 5              Jan Oblak    NaN  \n",
              "5                            Borja Iglesias - 8              Rui Silva    NaN  \n",
              "6                            Ezequiel Ávila - 6         Sergio Herrera    NaN  \n",
              "7   Álvaro García, Isaac Palazón Camacho... - 3     Stole Dimitrievski    NaN  \n",
              "8                                Alex Baena - 4         Gerónimo Rulli    NaN  \n",
              "9                            Edinson Cavani - 4   Giorgi Mamardashvili    NaN  \n",
              "10                             Vedat Muriqi - 8       Predrag Rajković    NaN  \n",
              "11                              Sergio León - 5            Jordi Masip    NaN  \n",
              "12                         Cristhian Stuani - 4            Juan Carlos    NaN  \n",
              "13                           El Bilal Touré - 3               Fernando    NaN  \n",
              "14                                Enes Ünal - 4            David Soria    NaN  \n",
              "15                                   Joselu - 7       Benjamin Lecomte    NaN  \n",
              "16                               Iago Aspas - 7      Agustín Marchesín    NaN  \n",
              "17               Érik Lamela, Óliver Torres - 3         Yassine Bounou    NaN  \n",
              "18              Álex Fernández, Lucas Pérez - 2       Jeremías Ledesma    NaN  \n",
              "19                               Pere Milla - 3            Édgar Badía    NaN  "
            ],
            "text/html": [
              "\n",
              "  <div id=\"df-10c52278-4d7d-41cf-9122-4035e06c6d44\">\n",
              "    <div class=\"colab-df-container\">\n",
              "      <div>\n",
              "<style scoped>\n",
              "    .dataframe tbody tr th:only-of-type {\n",
              "        vertical-align: middle;\n",
              "    }\n",
              "\n",
              "    .dataframe tbody tr th {\n",
              "        vertical-align: top;\n",
              "    }\n",
              "\n",
              "    .dataframe thead th {\n",
              "        text-align: right;\n",
              "    }\n",
              "</style>\n",
              "<table border=\"1\" class=\"dataframe\">\n",
              "  <thead>\n",
              "    <tr style=\"text-align: right;\">\n",
              "      <th></th>\n",
              "      <th>Rk</th>\n",
              "      <th>Squad</th>\n",
              "      <th>MP</th>\n",
              "      <th>W</th>\n",
              "      <th>D</th>\n",
              "      <th>L</th>\n",
              "      <th>GF</th>\n",
              "      <th>GA</th>\n",
              "      <th>GD</th>\n",
              "      <th>Pts</th>\n",
              "      <th>Pts/MP</th>\n",
              "      <th>xG</th>\n",
              "      <th>xGA</th>\n",
              "      <th>xGD</th>\n",
              "      <th>xGD/90</th>\n",
              "      <th>Last 5</th>\n",
              "      <th>Attendance</th>\n",
              "      <th>Top Team Scorer</th>\n",
              "      <th>Goalkeeper</th>\n",
              "      <th>Notes</th>\n",
              "    </tr>\n",
              "  </thead>\n",
              "  <tbody>\n",
              "    <tr>\n",
              "      <th>0</th>\n",
              "      <td>1</td>\n",
              "      <td>Barcelona</td>\n",
              "      <td>14</td>\n",
              "      <td>12</td>\n",
              "      <td>1</td>\n",
              "      <td>1</td>\n",
              "      <td>33</td>\n",
              "      <td>5</td>\n",
              "      <td>28</td>\n",
              "      <td>37</td>\n",
              "      <td>2.64</td>\n",
              "      <td>32.6</td>\n",
              "      <td>9.9</td>\n",
              "      <td>22.7</td>\n",
              "      <td>1.62</td>\n",
              "      <td>W W W W W</td>\n",
              "      <td>83194</td>\n",
              "      <td>Robert Lewandowski - 13</td>\n",
              "      <td>Marc-André ter Stegen</td>\n",
              "      <td>NaN</td>\n",
              "    </tr>\n",
              "    <tr>\n",
              "      <th>1</th>\n",
              "      <td>2</td>\n",
              "      <td>Real Madrid</td>\n",
              "      <td>14</td>\n",
              "      <td>11</td>\n",
              "      <td>2</td>\n",
              "      <td>1</td>\n",
              "      <td>33</td>\n",
              "      <td>14</td>\n",
              "      <td>19</td>\n",
              "      <td>35</td>\n",
              "      <td>2.50</td>\n",
              "      <td>30.6</td>\n",
              "      <td>13.5</td>\n",
              "      <td>17.2</td>\n",
              "      <td>1.23</td>\n",
              "      <td>W W D L W</td>\n",
              "      <td>57552</td>\n",
              "      <td>Vinicius Júnior, Federico Valverde - 6</td>\n",
              "      <td>Thibaut Courtois</td>\n",
              "      <td>NaN</td>\n",
              "    </tr>\n",
              "    <tr>\n",
              "      <th>2</th>\n",
              "      <td>3</td>\n",
              "      <td>Real Sociedad</td>\n",
              "      <td>14</td>\n",
              "      <td>8</td>\n",
              "      <td>2</td>\n",
              "      <td>4</td>\n",
              "      <td>19</td>\n",
              "      <td>17</td>\n",
              "      <td>2</td>\n",
              "      <td>26</td>\n",
              "      <td>1.86</td>\n",
              "      <td>18.5</td>\n",
              "      <td>12.7</td>\n",
              "      <td>5.8</td>\n",
              "      <td>0.41</td>\n",
              "      <td>W L L D W</td>\n",
              "      <td>32580</td>\n",
              "      <td>Brais Méndez - 6</td>\n",
              "      <td>Álex Remiro</td>\n",
              "      <td>NaN</td>\n",
              "    </tr>\n",
              "    <tr>\n",
              "      <th>3</th>\n",
              "      <td>4</td>\n",
              "      <td>Athletic Club</td>\n",
              "      <td>14</td>\n",
              "      <td>7</td>\n",
              "      <td>3</td>\n",
              "      <td>4</td>\n",
              "      <td>24</td>\n",
              "      <td>14</td>\n",
              "      <td>10</td>\n",
              "      <td>24</td>\n",
              "      <td>1.71</td>\n",
              "      <td>21.6</td>\n",
              "      <td>9.7</td>\n",
              "      <td>11.9</td>\n",
              "      <td>0.85</td>\n",
              "      <td>D L W L W</td>\n",
              "      <td>43099</td>\n",
              "      <td>Iñaki Williams, Gorka Guruzeta - 5</td>\n",
              "      <td>Unai Simón</td>\n",
              "      <td>NaN</td>\n",
              "    </tr>\n",
              "    <tr>\n",
              "      <th>4</th>\n",
              "      <td>5</td>\n",
              "      <td>Atlético Madrid</td>\n",
              "      <td>14</td>\n",
              "      <td>7</td>\n",
              "      <td>3</td>\n",
              "      <td>4</td>\n",
              "      <td>21</td>\n",
              "      <td>14</td>\n",
              "      <td>7</td>\n",
              "      <td>24</td>\n",
              "      <td>1.71</td>\n",
              "      <td>18.3</td>\n",
              "      <td>16.0</td>\n",
              "      <td>2.2</td>\n",
              "      <td>0.16</td>\n",
              "      <td>D W L D L</td>\n",
              "      <td>54507</td>\n",
              "      <td>Álvaro Morata, Antoine Griezmann - 5</td>\n",
              "      <td>Jan Oblak</td>\n",
              "      <td>NaN</td>\n",
              "    </tr>\n",
              "    <tr>\n",
              "      <th>5</th>\n",
              "      <td>6</td>\n",
              "      <td>Betis</td>\n",
              "      <td>14</td>\n",
              "      <td>7</td>\n",
              "      <td>3</td>\n",
              "      <td>4</td>\n",
              "      <td>17</td>\n",
              "      <td>12</td>\n",
              "      <td>5</td>\n",
              "      <td>24</td>\n",
              "      <td>1.71</td>\n",
              "      <td>18.5</td>\n",
              "      <td>16.6</td>\n",
              "      <td>1.9</td>\n",
              "      <td>0.14</td>\n",
              "      <td>D L W D L</td>\n",
              "      <td>51290</td>\n",
              "      <td>Borja Iglesias - 8</td>\n",
              "      <td>Rui Silva</td>\n",
              "      <td>NaN</td>\n",
              "    </tr>\n",
              "    <tr>\n",
              "      <th>6</th>\n",
              "      <td>7</td>\n",
              "      <td>Osasuna</td>\n",
              "      <td>14</td>\n",
              "      <td>7</td>\n",
              "      <td>2</td>\n",
              "      <td>5</td>\n",
              "      <td>16</td>\n",
              "      <td>14</td>\n",
              "      <td>2</td>\n",
              "      <td>23</td>\n",
              "      <td>1.64</td>\n",
              "      <td>18.2</td>\n",
              "      <td>13.1</td>\n",
              "      <td>5.0</td>\n",
              "      <td>0.36</td>\n",
              "      <td>W D W W L</td>\n",
              "      <td>19156</td>\n",
              "      <td>Ezequiel Ávila - 6</td>\n",
              "      <td>Sergio Herrera</td>\n",
              "      <td>NaN</td>\n",
              "    </tr>\n",
              "    <tr>\n",
              "      <th>7</th>\n",
              "      <td>8</td>\n",
              "      <td>Rayo Vallecano</td>\n",
              "      <td>14</td>\n",
              "      <td>6</td>\n",
              "      <td>4</td>\n",
              "      <td>4</td>\n",
              "      <td>20</td>\n",
              "      <td>16</td>\n",
              "      <td>4</td>\n",
              "      <td>22</td>\n",
              "      <td>1.57</td>\n",
              "      <td>16.7</td>\n",
              "      <td>17.8</td>\n",
              "      <td>-1.0</td>\n",
              "      <td>-0.07</td>\n",
              "      <td>D W W W D</td>\n",
              "      <td>12482</td>\n",
              "      <td>Álvaro García, Isaac Palazón Camacho... - 3</td>\n",
              "      <td>Stole Dimitrievski</td>\n",
              "      <td>NaN</td>\n",
              "    </tr>\n",
              "    <tr>\n",
              "      <th>8</th>\n",
              "      <td>9</td>\n",
              "      <td>Villarreal</td>\n",
              "      <td>14</td>\n",
              "      <td>6</td>\n",
              "      <td>3</td>\n",
              "      <td>5</td>\n",
              "      <td>15</td>\n",
              "      <td>10</td>\n",
              "      <td>5</td>\n",
              "      <td>21</td>\n",
              "      <td>1.50</td>\n",
              "      <td>17.2</td>\n",
              "      <td>14.6</td>\n",
              "      <td>2.6</td>\n",
              "      <td>0.19</td>\n",
              "      <td>L W L L W</td>\n",
              "      <td>14465</td>\n",
              "      <td>Alex Baena - 4</td>\n",
              "      <td>Gerónimo Rulli</td>\n",
              "      <td>NaN</td>\n",
              "    </tr>\n",
              "    <tr>\n",
              "      <th>9</th>\n",
              "      <td>10</td>\n",
              "      <td>Valencia</td>\n",
              "      <td>14</td>\n",
              "      <td>5</td>\n",
              "      <td>4</td>\n",
              "      <td>5</td>\n",
              "      <td>22</td>\n",
              "      <td>15</td>\n",
              "      <td>7</td>\n",
              "      <td>19</td>\n",
              "      <td>1.36</td>\n",
              "      <td>20.3</td>\n",
              "      <td>14.5</td>\n",
              "      <td>5.8</td>\n",
              "      <td>0.42</td>\n",
              "      <td>D L L D W</td>\n",
              "      <td>41481</td>\n",
              "      <td>Edinson Cavani - 4</td>\n",
              "      <td>Giorgi Mamardashvili</td>\n",
              "      <td>NaN</td>\n",
              "    </tr>\n",
              "    <tr>\n",
              "      <th>10</th>\n",
              "      <td>11</td>\n",
              "      <td>Mallorca</td>\n",
              "      <td>14</td>\n",
              "      <td>5</td>\n",
              "      <td>4</td>\n",
              "      <td>5</td>\n",
              "      <td>13</td>\n",
              "      <td>13</td>\n",
              "      <td>0</td>\n",
              "      <td>19</td>\n",
              "      <td>1.36</td>\n",
              "      <td>13.2</td>\n",
              "      <td>14.2</td>\n",
              "      <td>-1.0</td>\n",
              "      <td>-0.07</td>\n",
              "      <td>L W D W W</td>\n",
              "      <td>14788</td>\n",
              "      <td>Vedat Muriqi - 8</td>\n",
              "      <td>Predrag Rajković</td>\n",
              "      <td>NaN</td>\n",
              "    </tr>\n",
              "    <tr>\n",
              "      <th>11</th>\n",
              "      <td>12</td>\n",
              "      <td>Valladolid</td>\n",
              "      <td>14</td>\n",
              "      <td>5</td>\n",
              "      <td>2</td>\n",
              "      <td>7</td>\n",
              "      <td>13</td>\n",
              "      <td>21</td>\n",
              "      <td>-8</td>\n",
              "      <td>17</td>\n",
              "      <td>1.21</td>\n",
              "      <td>13.5</td>\n",
              "      <td>21.7</td>\n",
              "      <td>-8.2</td>\n",
              "      <td>-0.58</td>\n",
              "      <td>W W L W L</td>\n",
              "      <td>19794</td>\n",
              "      <td>Sergio León - 5</td>\n",
              "      <td>Jordi Masip</td>\n",
              "      <td>NaN</td>\n",
              "    </tr>\n",
              "    <tr>\n",
              "      <th>12</th>\n",
              "      <td>13</td>\n",
              "      <td>Girona</td>\n",
              "      <td>14</td>\n",
              "      <td>4</td>\n",
              "      <td>4</td>\n",
              "      <td>6</td>\n",
              "      <td>20</td>\n",
              "      <td>22</td>\n",
              "      <td>-2</td>\n",
              "      <td>16</td>\n",
              "      <td>1.14</td>\n",
              "      <td>18.5</td>\n",
              "      <td>17.7</td>\n",
              "      <td>0.8</td>\n",
              "      <td>0.06</td>\n",
              "      <td>L D D W W</td>\n",
              "      <td>10777</td>\n",
              "      <td>Cristhian Stuani - 4</td>\n",
              "      <td>Juan Carlos</td>\n",
              "      <td>NaN</td>\n",
              "    </tr>\n",
              "    <tr>\n",
              "      <th>13</th>\n",
              "      <td>14</td>\n",
              "      <td>Almería</td>\n",
              "      <td>14</td>\n",
              "      <td>5</td>\n",
              "      <td>1</td>\n",
              "      <td>8</td>\n",
              "      <td>16</td>\n",
              "      <td>22</td>\n",
              "      <td>-6</td>\n",
              "      <td>16</td>\n",
              "      <td>1.14</td>\n",
              "      <td>13.7</td>\n",
              "      <td>21.7</td>\n",
              "      <td>-7.9</td>\n",
              "      <td>-0.57</td>\n",
              "      <td>W L W L W</td>\n",
              "      <td>12155</td>\n",
              "      <td>El Bilal Touré - 3</td>\n",
              "      <td>Fernando</td>\n",
              "      <td>NaN</td>\n",
              "    </tr>\n",
              "    <tr>\n",
              "      <th>14</th>\n",
              "      <td>15</td>\n",
              "      <td>Getafe</td>\n",
              "      <td>14</td>\n",
              "      <td>3</td>\n",
              "      <td>5</td>\n",
              "      <td>6</td>\n",
              "      <td>12</td>\n",
              "      <td>20</td>\n",
              "      <td>-8</td>\n",
              "      <td>14</td>\n",
              "      <td>1.00</td>\n",
              "      <td>9.8</td>\n",
              "      <td>16.8</td>\n",
              "      <td>-7.0</td>\n",
              "      <td>-0.50</td>\n",
              "      <td>D D W D L</td>\n",
              "      <td>11510</td>\n",
              "      <td>Enes Ünal - 4</td>\n",
              "      <td>David Soria</td>\n",
              "      <td>NaN</td>\n",
              "    </tr>\n",
              "    <tr>\n",
              "      <th>15</th>\n",
              "      <td>16</td>\n",
              "      <td>Espanyol</td>\n",
              "      <td>14</td>\n",
              "      <td>2</td>\n",
              "      <td>6</td>\n",
              "      <td>6</td>\n",
              "      <td>16</td>\n",
              "      <td>22</td>\n",
              "      <td>-6</td>\n",
              "      <td>12</td>\n",
              "      <td>0.86</td>\n",
              "      <td>15.8</td>\n",
              "      <td>17.4</td>\n",
              "      <td>-1.6</td>\n",
              "      <td>-0.12</td>\n",
              "      <td>L D D D L</td>\n",
              "      <td>19211</td>\n",
              "      <td>Joselu - 7</td>\n",
              "      <td>Benjamin Lecomte</td>\n",
              "      <td>NaN</td>\n",
              "    </tr>\n",
              "    <tr>\n",
              "      <th>16</th>\n",
              "      <td>17</td>\n",
              "      <td>Celta Vigo</td>\n",
              "      <td>14</td>\n",
              "      <td>3</td>\n",
              "      <td>3</td>\n",
              "      <td>8</td>\n",
              "      <td>14</td>\n",
              "      <td>26</td>\n",
              "      <td>-12</td>\n",
              "      <td>12</td>\n",
              "      <td>0.86</td>\n",
              "      <td>13.9</td>\n",
              "      <td>16.9</td>\n",
              "      <td>-3.0</td>\n",
              "      <td>-0.22</td>\n",
              "      <td>L D L L D</td>\n",
              "      <td>13640</td>\n",
              "      <td>Iago Aspas - 7</td>\n",
              "      <td>Agustín Marchesín</td>\n",
              "      <td>NaN</td>\n",
              "    </tr>\n",
              "    <tr>\n",
              "      <th>17</th>\n",
              "      <td>18</td>\n",
              "      <td>Sevilla</td>\n",
              "      <td>14</td>\n",
              "      <td>2</td>\n",
              "      <td>5</td>\n",
              "      <td>7</td>\n",
              "      <td>13</td>\n",
              "      <td>22</td>\n",
              "      <td>-9</td>\n",
              "      <td>11</td>\n",
              "      <td>0.79</td>\n",
              "      <td>14.1</td>\n",
              "      <td>24.9</td>\n",
              "      <td>-10.8</td>\n",
              "      <td>-0.77</td>\n",
              "      <td>D L L D L</td>\n",
              "      <td>36750</td>\n",
              "      <td>Érik Lamela, Óliver Torres - 3</td>\n",
              "      <td>Yassine Bounou</td>\n",
              "      <td>NaN</td>\n",
              "    </tr>\n",
              "    <tr>\n",
              "      <th>18</th>\n",
              "      <td>19</td>\n",
              "      <td>Cádiz</td>\n",
              "      <td>14</td>\n",
              "      <td>2</td>\n",
              "      <td>5</td>\n",
              "      <td>7</td>\n",
              "      <td>9</td>\n",
              "      <td>26</td>\n",
              "      <td>-17</td>\n",
              "      <td>11</td>\n",
              "      <td>0.79</td>\n",
              "      <td>10.2</td>\n",
              "      <td>26.1</td>\n",
              "      <td>-15.9</td>\n",
              "      <td>-1.13</td>\n",
              "      <td>D L W D L</td>\n",
              "      <td>17415</td>\n",
              "      <td>Álex Fernández, Lucas Pérez - 2</td>\n",
              "      <td>Jeremías Ledesma</td>\n",
              "      <td>NaN</td>\n",
              "    </tr>\n",
              "    <tr>\n",
              "      <th>19</th>\n",
              "      <td>20</td>\n",
              "      <td>Elche</td>\n",
              "      <td>14</td>\n",
              "      <td>0</td>\n",
              "      <td>4</td>\n",
              "      <td>10</td>\n",
              "      <td>10</td>\n",
              "      <td>31</td>\n",
              "      <td>-21</td>\n",
              "      <td>4</td>\n",
              "      <td>0.29</td>\n",
              "      <td>10.3</td>\n",
              "      <td>29.6</td>\n",
              "      <td>-19.3</td>\n",
              "      <td>-1.38</td>\n",
              "      <td>L D L L L</td>\n",
              "      <td>21337</td>\n",
              "      <td>Pere Milla - 3</td>\n",
              "      <td>Édgar Badía</td>\n",
              "      <td>NaN</td>\n",
              "    </tr>\n",
              "  </tbody>\n",
              "</table>\n",
              "</div>\n",
              "      <button class=\"colab-df-convert\" onclick=\"convertToInteractive('df-10c52278-4d7d-41cf-9122-4035e06c6d44')\"\n",
              "              title=\"Convert this dataframe to an interactive table.\"\n",
              "              style=\"display:none;\">\n",
              "        \n",
              "  <svg xmlns=\"http://www.w3.org/2000/svg\" height=\"24px\"viewBox=\"0 0 24 24\"\n",
              "       width=\"24px\">\n",
              "    <path d=\"M0 0h24v24H0V0z\" fill=\"none\"/>\n",
              "    <path d=\"M18.56 5.44l.94 2.06.94-2.06 2.06-.94-2.06-.94-.94-2.06-.94 2.06-2.06.94zm-11 1L8.5 8.5l.94-2.06 2.06-.94-2.06-.94L8.5 2.5l-.94 2.06-2.06.94zm10 10l.94 2.06.94-2.06 2.06-.94-2.06-.94-.94-2.06-.94 2.06-2.06.94z\"/><path d=\"M17.41 7.96l-1.37-1.37c-.4-.4-.92-.59-1.43-.59-.52 0-1.04.2-1.43.59L10.3 9.45l-7.72 7.72c-.78.78-.78 2.05 0 2.83L4 21.41c.39.39.9.59 1.41.59.51 0 1.02-.2 1.41-.59l7.78-7.78 2.81-2.81c.8-.78.8-2.07 0-2.86zM5.41 20L4 18.59l7.72-7.72 1.47 1.35L5.41 20z\"/>\n",
              "  </svg>\n",
              "      </button>\n",
              "      \n",
              "  <style>\n",
              "    .colab-df-container {\n",
              "      display:flex;\n",
              "      flex-wrap:wrap;\n",
              "      gap: 12px;\n",
              "    }\n",
              "\n",
              "    .colab-df-convert {\n",
              "      background-color: #E8F0FE;\n",
              "      border: none;\n",
              "      border-radius: 50%;\n",
              "      cursor: pointer;\n",
              "      display: none;\n",
              "      fill: #1967D2;\n",
              "      height: 32px;\n",
              "      padding: 0 0 0 0;\n",
              "      width: 32px;\n",
              "    }\n",
              "\n",
              "    .colab-df-convert:hover {\n",
              "      background-color: #E2EBFA;\n",
              "      box-shadow: 0px 1px 2px rgba(60, 64, 67, 0.3), 0px 1px 3px 1px rgba(60, 64, 67, 0.15);\n",
              "      fill: #174EA6;\n",
              "    }\n",
              "\n",
              "    [theme=dark] .colab-df-convert {\n",
              "      background-color: #3B4455;\n",
              "      fill: #D2E3FC;\n",
              "    }\n",
              "\n",
              "    [theme=dark] .colab-df-convert:hover {\n",
              "      background-color: #434B5C;\n",
              "      box-shadow: 0px 1px 3px 1px rgba(0, 0, 0, 0.15);\n",
              "      filter: drop-shadow(0px 1px 2px rgba(0, 0, 0, 0.3));\n",
              "      fill: #FFFFFF;\n",
              "    }\n",
              "  </style>\n",
              "\n",
              "      <script>\n",
              "        const buttonEl =\n",
              "          document.querySelector('#df-10c52278-4d7d-41cf-9122-4035e06c6d44 button.colab-df-convert');\n",
              "        buttonEl.style.display =\n",
              "          google.colab.kernel.accessAllowed ? 'block' : 'none';\n",
              "\n",
              "        async function convertToInteractive(key) {\n",
              "          const element = document.querySelector('#df-10c52278-4d7d-41cf-9122-4035e06c6d44');\n",
              "          const dataTable =\n",
              "            await google.colab.kernel.invokeFunction('convertToInteractive',\n",
              "                                                     [key], {});\n",
              "          if (!dataTable) return;\n",
              "\n",
              "          const docLinkHtml = 'Like what you see? Visit the ' +\n",
              "            '<a target=\"_blank\" href=https://colab.research.google.com/notebooks/data_table.ipynb>data table notebook</a>'\n",
              "            + ' to learn more about interactive tables.';\n",
              "          element.innerHTML = '';\n",
              "          dataTable['output_type'] = 'display_data';\n",
              "          await google.colab.output.renderOutput(dataTable, element);\n",
              "          const docLink = document.createElement('div');\n",
              "          docLink.innerHTML = docLinkHtml;\n",
              "          element.appendChild(docLink);\n",
              "        }\n",
              "      </script>\n",
              "    </div>\n",
              "  </div>\n",
              "  "
            ],
            "application/vnd.google.colaboratory.module+javascript": "\n      import \"https://ssl.gstatic.com/colaboratory/data_table/fb998edc550c7947/data_table.js\";\n\n      window.createDataTable({\n        data: [[{\n            'v': 0,\n            'f': \"0\",\n        },\n{\n            'v': 1,\n            'f': \"1\",\n        },\n\"Barcelona\",\n{\n            'v': 14,\n            'f': \"14\",\n        },\n{\n            'v': 12,\n            'f': \"12\",\n        },\n{\n            'v': 1,\n            'f': \"1\",\n        },\n{\n            'v': 1,\n            'f': \"1\",\n        },\n{\n            'v': 33,\n            'f': \"33\",\n        },\n{\n            'v': 5,\n            'f': \"5\",\n        },\n{\n            'v': 28,\n            'f': \"28\",\n        },\n{\n            'v': 37,\n            'f': \"37\",\n        },\n{\n            'v': 2.64,\n            'f': \"2.64\",\n        },\n{\n            'v': 32.6,\n            'f': \"32.6\",\n        },\n{\n            'v': 9.9,\n            'f': \"9.9\",\n        },\n{\n            'v': 22.7,\n            'f': \"22.7\",\n        },\n{\n            'v': 1.62,\n            'f': \"1.62\",\n        },\n\"W W W W W\",\n{\n            'v': 83194,\n            'f': \"83194\",\n        },\n\"Robert Lewandowski - 13\",\n\"Marc-Andr\\u00e9 ter Stegen\",\n{\n            'v': NaN,\n            'f': \"NaN\",\n        }],\n [{\n            'v': 1,\n            'f': \"1\",\n        },\n{\n            'v': 2,\n            'f': \"2\",\n        },\n\"Real Madrid\",\n{\n            'v': 14,\n            'f': \"14\",\n        },\n{\n            'v': 11,\n            'f': \"11\",\n        },\n{\n            'v': 2,\n            'f': \"2\",\n        },\n{\n            'v': 1,\n            'f': \"1\",\n        },\n{\n            'v': 33,\n            'f': \"33\",\n        },\n{\n            'v': 14,\n            'f': \"14\",\n        },\n{\n            'v': 19,\n            'f': \"19\",\n        },\n{\n            'v': 35,\n            'f': \"35\",\n        },\n{\n            'v': 2.5,\n            'f': \"2.5\",\n        },\n{\n            'v': 30.6,\n            'f': \"30.6\",\n        },\n{\n            'v': 13.5,\n            'f': \"13.5\",\n        },\n{\n            'v': 17.2,\n            'f': \"17.2\",\n        },\n{\n            'v': 1.23,\n            'f': \"1.23\",\n        },\n\"W W D L W\",\n{\n            'v': 57552,\n            'f': \"57552\",\n        },\n\"Vinicius J\\u00fanior, Federico Valverde - 6\",\n\"Thibaut Courtois\",\n{\n            'v': NaN,\n            'f': \"NaN\",\n        }],\n [{\n            'v': 2,\n            'f': \"2\",\n        },\n{\n            'v': 3,\n            'f': \"3\",\n        },\n\"Real Sociedad\",\n{\n            'v': 14,\n            'f': \"14\",\n        },\n{\n            'v': 8,\n            'f': \"8\",\n        },\n{\n            'v': 2,\n            'f': \"2\",\n        },\n{\n            'v': 4,\n            'f': \"4\",\n        },\n{\n            'v': 19,\n            'f': \"19\",\n        },\n{\n            'v': 17,\n            'f': \"17\",\n        },\n{\n            'v': 2,\n            'f': \"2\",\n        },\n{\n            'v': 26,\n            'f': \"26\",\n        },\n{\n            'v': 1.86,\n            'f': \"1.86\",\n        },\n{\n            'v': 18.5,\n            'f': \"18.5\",\n        },\n{\n            'v': 12.7,\n            'f': \"12.7\",\n        },\n{\n            'v': 5.8,\n            'f': \"5.8\",\n        },\n{\n            'v': 0.41,\n            'f': \"0.41\",\n        },\n\"W L L D W\",\n{\n            'v': 32580,\n            'f': \"32580\",\n        },\n\"Brais M\\u00e9ndez - 6\",\n\"\\u00c1lex Remiro\",\n{\n            'v': NaN,\n            'f': \"NaN\",\n        }],\n [{\n            'v': 3,\n            'f': \"3\",\n        },\n{\n            'v': 4,\n            'f': \"4\",\n        },\n\"Athletic Club\",\n{\n            'v': 14,\n            'f': \"14\",\n        },\n{\n            'v': 7,\n            'f': \"7\",\n        },\n{\n            'v': 3,\n            'f': \"3\",\n        },\n{\n            'v': 4,\n            'f': \"4\",\n        },\n{\n            'v': 24,\n            'f': \"24\",\n        },\n{\n            'v': 14,\n            'f': \"14\",\n        },\n{\n            'v': 10,\n            'f': \"10\",\n        },\n{\n            'v': 24,\n            'f': \"24\",\n        },\n{\n            'v': 1.71,\n            'f': \"1.71\",\n        },\n{\n            'v': 21.6,\n            'f': \"21.6\",\n        },\n{\n            'v': 9.7,\n            'f': \"9.7\",\n        },\n{\n            'v': 11.9,\n            'f': \"11.9\",\n        },\n{\n            'v': 0.85,\n            'f': \"0.85\",\n        },\n\"D L W L W\",\n{\n            'v': 43099,\n            'f': \"43099\",\n        },\n\"I\\u00f1aki Williams, Gorka Guruzeta - 5\",\n\"Unai Sim\\u00f3n\",\n{\n            'v': NaN,\n            'f': \"NaN\",\n        }],\n [{\n            'v': 4,\n            'f': \"4\",\n        },\n{\n            'v': 5,\n            'f': \"5\",\n        },\n\"Atl\\u00e9tico Madrid\",\n{\n            'v': 14,\n            'f': \"14\",\n        },\n{\n            'v': 7,\n            'f': \"7\",\n        },\n{\n            'v': 3,\n            'f': \"3\",\n        },\n{\n            'v': 4,\n            'f': \"4\",\n        },\n{\n            'v': 21,\n            'f': \"21\",\n        },\n{\n            'v': 14,\n            'f': \"14\",\n        },\n{\n            'v': 7,\n            'f': \"7\",\n        },\n{\n            'v': 24,\n            'f': \"24\",\n        },\n{\n            'v': 1.71,\n            'f': \"1.71\",\n        },\n{\n            'v': 18.3,\n            'f': \"18.3\",\n        },\n{\n            'v': 16.0,\n            'f': \"16.0\",\n        },\n{\n            'v': 2.2,\n            'f': \"2.2\",\n        },\n{\n            'v': 0.16,\n            'f': \"0.16\",\n        },\n\"D W L D L\",\n{\n            'v': 54507,\n            'f': \"54507\",\n        },\n\"\\u00c1lvaro Morata, Antoine Griezmann - 5\",\n\"Jan Oblak\",\n{\n            'v': NaN,\n            'f': \"NaN\",\n        }],\n [{\n            'v': 5,\n            'f': \"5\",\n        },\n{\n            'v': 6,\n            'f': \"6\",\n        },\n\"Betis\",\n{\n            'v': 14,\n            'f': \"14\",\n        },\n{\n            'v': 7,\n            'f': \"7\",\n        },\n{\n            'v': 3,\n            'f': \"3\",\n        },\n{\n            'v': 4,\n            'f': \"4\",\n        },\n{\n            'v': 17,\n            'f': \"17\",\n        },\n{\n            'v': 12,\n            'f': \"12\",\n        },\n{\n            'v': 5,\n            'f': \"5\",\n        },\n{\n            'v': 24,\n            'f': \"24\",\n        },\n{\n            'v': 1.71,\n            'f': \"1.71\",\n        },\n{\n            'v': 18.5,\n            'f': \"18.5\",\n        },\n{\n            'v': 16.6,\n            'f': \"16.6\",\n        },\n{\n            'v': 1.9,\n            'f': \"1.9\",\n        },\n{\n            'v': 0.14,\n            'f': \"0.14\",\n        },\n\"D L W D L\",\n{\n            'v': 51290,\n            'f': \"51290\",\n        },\n\"Borja Iglesias - 8\",\n\"Rui Silva\",\n{\n            'v': NaN,\n            'f': \"NaN\",\n        }],\n [{\n            'v': 6,\n            'f': \"6\",\n        },\n{\n            'v': 7,\n            'f': \"7\",\n        },\n\"Osasuna\",\n{\n            'v': 14,\n            'f': \"14\",\n        },\n{\n            'v': 7,\n            'f': \"7\",\n        },\n{\n            'v': 2,\n            'f': \"2\",\n        },\n{\n            'v': 5,\n            'f': \"5\",\n        },\n{\n            'v': 16,\n            'f': \"16\",\n        },\n{\n            'v': 14,\n            'f': \"14\",\n        },\n{\n            'v': 2,\n            'f': \"2\",\n        },\n{\n            'v': 23,\n            'f': \"23\",\n        },\n{\n            'v': 1.64,\n            'f': \"1.64\",\n        },\n{\n            'v': 18.2,\n            'f': \"18.2\",\n        },\n{\n            'v': 13.1,\n            'f': \"13.1\",\n        },\n{\n            'v': 5.0,\n            'f': \"5.0\",\n        },\n{\n            'v': 0.36,\n            'f': \"0.36\",\n        },\n\"W D W W L\",\n{\n            'v': 19156,\n            'f': \"19156\",\n        },\n\"Ezequiel \\u00c1vila - 6\",\n\"Sergio Herrera\",\n{\n            'v': NaN,\n            'f': \"NaN\",\n        }],\n [{\n            'v': 7,\n            'f': \"7\",\n        },\n{\n            'v': 8,\n            'f': \"8\",\n        },\n\"Rayo Vallecano\",\n{\n            'v': 14,\n            'f': \"14\",\n        },\n{\n            'v': 6,\n            'f': \"6\",\n        },\n{\n            'v': 4,\n            'f': \"4\",\n        },\n{\n            'v': 4,\n            'f': \"4\",\n        },\n{\n            'v': 20,\n            'f': \"20\",\n        },\n{\n            'v': 16,\n            'f': \"16\",\n        },\n{\n            'v': 4,\n            'f': \"4\",\n        },\n{\n            'v': 22,\n            'f': \"22\",\n        },\n{\n            'v': 1.57,\n            'f': \"1.57\",\n        },\n{\n            'v': 16.7,\n            'f': \"16.7\",\n        },\n{\n            'v': 17.8,\n            'f': \"17.8\",\n        },\n{\n            'v': -1.0,\n            'f': \"-1.0\",\n        },\n{\n            'v': -0.07,\n            'f': \"-0.07\",\n        },\n\"D W W W D\",\n{\n            'v': 12482,\n            'f': \"12482\",\n        },\n\"\\u00c1lvaro Garc\\u00eda, Isaac Palaz\\u00f3n Camacho... - 3\",\n\"Stole Dimitrievski\",\n{\n            'v': NaN,\n            'f': \"NaN\",\n        }],\n [{\n            'v': 8,\n            'f': \"8\",\n        },\n{\n            'v': 9,\n            'f': \"9\",\n        },\n\"Villarreal\",\n{\n            'v': 14,\n            'f': \"14\",\n        },\n{\n            'v': 6,\n            'f': \"6\",\n        },\n{\n            'v': 3,\n            'f': \"3\",\n        },\n{\n            'v': 5,\n            'f': \"5\",\n        },\n{\n            'v': 15,\n            'f': \"15\",\n        },\n{\n            'v': 10,\n            'f': \"10\",\n        },\n{\n            'v': 5,\n            'f': \"5\",\n        },\n{\n            'v': 21,\n            'f': \"21\",\n        },\n{\n            'v': 1.5,\n            'f': \"1.5\",\n        },\n{\n            'v': 17.2,\n            'f': \"17.2\",\n        },\n{\n            'v': 14.6,\n            'f': \"14.6\",\n        },\n{\n            'v': 2.6,\n            'f': \"2.6\",\n        },\n{\n            'v': 0.19,\n            'f': \"0.19\",\n        },\n\"L W L L W\",\n{\n            'v': 14465,\n            'f': \"14465\",\n        },\n\"Alex Baena - 4\",\n\"Ger\\u00f3nimo Rulli\",\n{\n            'v': NaN,\n            'f': \"NaN\",\n        }],\n [{\n            'v': 9,\n            'f': \"9\",\n        },\n{\n            'v': 10,\n            'f': \"10\",\n        },\n\"Valencia\",\n{\n            'v': 14,\n            'f': \"14\",\n        },\n{\n            'v': 5,\n            'f': \"5\",\n        },\n{\n            'v': 4,\n            'f': \"4\",\n        },\n{\n            'v': 5,\n            'f': \"5\",\n        },\n{\n            'v': 22,\n            'f': \"22\",\n        },\n{\n            'v': 15,\n            'f': \"15\",\n        },\n{\n            'v': 7,\n            'f': \"7\",\n        },\n{\n            'v': 19,\n            'f': \"19\",\n        },\n{\n            'v': 1.36,\n            'f': \"1.36\",\n        },\n{\n            'v': 20.3,\n            'f': \"20.3\",\n        },\n{\n            'v': 14.5,\n            'f': \"14.5\",\n        },\n{\n            'v': 5.8,\n            'f': \"5.8\",\n        },\n{\n            'v': 0.42,\n            'f': \"0.42\",\n        },\n\"D L L D W\",\n{\n            'v': 41481,\n            'f': \"41481\",\n        },\n\"Edinson Cavani - 4\",\n\"Giorgi Mamardashvili\",\n{\n            'v': NaN,\n            'f': \"NaN\",\n        }],\n [{\n            'v': 10,\n            'f': \"10\",\n        },\n{\n            'v': 11,\n            'f': \"11\",\n        },\n\"Mallorca\",\n{\n            'v': 14,\n            'f': \"14\",\n        },\n{\n            'v': 5,\n            'f': \"5\",\n        },\n{\n            'v': 4,\n            'f': \"4\",\n        },\n{\n            'v': 5,\n            'f': \"5\",\n        },\n{\n            'v': 13,\n            'f': \"13\",\n        },\n{\n            'v': 13,\n            'f': \"13\",\n        },\n{\n            'v': 0,\n            'f': \"0\",\n        },\n{\n            'v': 19,\n            'f': \"19\",\n        },\n{\n            'v': 1.36,\n            'f': \"1.36\",\n        },\n{\n            'v': 13.2,\n            'f': \"13.2\",\n        },\n{\n            'v': 14.2,\n            'f': \"14.2\",\n        },\n{\n            'v': -1.0,\n            'f': \"-1.0\",\n        },\n{\n            'v': -0.07,\n            'f': \"-0.07\",\n        },\n\"L W D W W\",\n{\n            'v': 14788,\n            'f': \"14788\",\n        },\n\"Vedat Muriqi - 8\",\n\"Predrag Rajkovi\\u0107\",\n{\n            'v': NaN,\n            'f': \"NaN\",\n        }],\n [{\n            'v': 11,\n            'f': \"11\",\n        },\n{\n            'v': 12,\n            'f': \"12\",\n        },\n\"Valladolid\",\n{\n            'v': 14,\n            'f': \"14\",\n        },\n{\n            'v': 5,\n            'f': \"5\",\n        },\n{\n            'v': 2,\n            'f': \"2\",\n        },\n{\n            'v': 7,\n            'f': \"7\",\n        },\n{\n            'v': 13,\n            'f': \"13\",\n        },\n{\n            'v': 21,\n            'f': \"21\",\n        },\n{\n            'v': -8,\n            'f': \"-8\",\n        },\n{\n            'v': 17,\n            'f': \"17\",\n        },\n{\n            'v': 1.21,\n            'f': \"1.21\",\n        },\n{\n            'v': 13.5,\n            'f': \"13.5\",\n        },\n{\n            'v': 21.7,\n            'f': \"21.7\",\n        },\n{\n            'v': -8.2,\n            'f': \"-8.2\",\n        },\n{\n            'v': -0.58,\n            'f': \"-0.58\",\n        },\n\"W W L W L\",\n{\n            'v': 19794,\n            'f': \"19794\",\n        },\n\"Sergio Le\\u00f3n - 5\",\n\"Jordi Masip\",\n{\n            'v': NaN,\n            'f': \"NaN\",\n        }],\n [{\n            'v': 12,\n            'f': \"12\",\n        },\n{\n            'v': 13,\n            'f': \"13\",\n        },\n\"Girona\",\n{\n            'v': 14,\n            'f': \"14\",\n        },\n{\n            'v': 4,\n            'f': \"4\",\n        },\n{\n            'v': 4,\n            'f': \"4\",\n        },\n{\n            'v': 6,\n            'f': \"6\",\n        },\n{\n            'v': 20,\n            'f': \"20\",\n        },\n{\n            'v': 22,\n            'f': \"22\",\n        },\n{\n            'v': -2,\n            'f': \"-2\",\n        },\n{\n            'v': 16,\n            'f': \"16\",\n        },\n{\n            'v': 1.14,\n            'f': \"1.14\",\n        },\n{\n            'v': 18.5,\n            'f': \"18.5\",\n        },\n{\n            'v': 17.7,\n            'f': \"17.7\",\n        },\n{\n            'v': 0.8,\n            'f': \"0.8\",\n        },\n{\n            'v': 0.06,\n            'f': \"0.06\",\n        },\n\"L D D W W\",\n{\n            'v': 10777,\n            'f': \"10777\",\n        },\n\"Cristhian Stuani - 4\",\n\"Juan Carlos\",\n{\n            'v': NaN,\n            'f': \"NaN\",\n        }],\n [{\n            'v': 13,\n            'f': \"13\",\n        },\n{\n            'v': 14,\n            'f': \"14\",\n        },\n\"Almer\\u00eda\",\n{\n            'v': 14,\n            'f': \"14\",\n        },\n{\n            'v': 5,\n            'f': \"5\",\n        },\n{\n            'v': 1,\n            'f': \"1\",\n        },\n{\n            'v': 8,\n            'f': \"8\",\n        },\n{\n            'v': 16,\n            'f': \"16\",\n        },\n{\n            'v': 22,\n            'f': \"22\",\n        },\n{\n            'v': -6,\n            'f': \"-6\",\n        },\n{\n            'v': 16,\n            'f': \"16\",\n        },\n{\n            'v': 1.14,\n            'f': \"1.14\",\n        },\n{\n            'v': 13.7,\n            'f': \"13.7\",\n        },\n{\n            'v': 21.7,\n            'f': \"21.7\",\n        },\n{\n            'v': -7.9,\n            'f': \"-7.9\",\n        },\n{\n            'v': -0.57,\n            'f': \"-0.57\",\n        },\n\"W L W L W\",\n{\n            'v': 12155,\n            'f': \"12155\",\n        },\n\"El Bilal Tour\\u00e9 - 3\",\n\"Fernando\",\n{\n            'v': NaN,\n            'f': \"NaN\",\n        }],\n [{\n            'v': 14,\n            'f': \"14\",\n        },\n{\n            'v': 15,\n            'f': \"15\",\n        },\n\"Getafe\",\n{\n            'v': 14,\n            'f': \"14\",\n        },\n{\n            'v': 3,\n            'f': \"3\",\n        },\n{\n            'v': 5,\n            'f': \"5\",\n        },\n{\n            'v': 6,\n            'f': \"6\",\n        },\n{\n            'v': 12,\n            'f': \"12\",\n        },\n{\n            'v': 20,\n            'f': \"20\",\n        },\n{\n            'v': -8,\n            'f': \"-8\",\n        },\n{\n            'v': 14,\n            'f': \"14\",\n        },\n{\n            'v': 1.0,\n            'f': \"1.0\",\n        },\n{\n            'v': 9.8,\n            'f': \"9.8\",\n        },\n{\n            'v': 16.8,\n            'f': \"16.8\",\n        },\n{\n            'v': -7.0,\n            'f': \"-7.0\",\n        },\n{\n            'v': -0.5,\n            'f': \"-0.5\",\n        },\n\"D D W D L\",\n{\n            'v': 11510,\n            'f': \"11510\",\n        },\n\"Enes \\u00dcnal - 4\",\n\"David Soria\",\n{\n            'v': NaN,\n            'f': \"NaN\",\n        }],\n [{\n            'v': 15,\n            'f': \"15\",\n        },\n{\n            'v': 16,\n            'f': \"16\",\n        },\n\"Espanyol\",\n{\n            'v': 14,\n            'f': \"14\",\n        },\n{\n            'v': 2,\n            'f': \"2\",\n        },\n{\n            'v': 6,\n            'f': \"6\",\n        },\n{\n            'v': 6,\n            'f': \"6\",\n        },\n{\n            'v': 16,\n            'f': \"16\",\n        },\n{\n            'v': 22,\n            'f': \"22\",\n        },\n{\n            'v': -6,\n            'f': \"-6\",\n        },\n{\n            'v': 12,\n            'f': \"12\",\n        },\n{\n            'v': 0.86,\n            'f': \"0.86\",\n        },\n{\n            'v': 15.8,\n            'f': \"15.8\",\n        },\n{\n            'v': 17.4,\n            'f': \"17.4\",\n        },\n{\n            'v': -1.6,\n            'f': \"-1.6\",\n        },\n{\n            'v': -0.12,\n            'f': \"-0.12\",\n        },\n\"L D D D L\",\n{\n            'v': 19211,\n            'f': \"19211\",\n        },\n\"Joselu - 7\",\n\"Benjamin Lecomte\",\n{\n            'v': NaN,\n            'f': \"NaN\",\n        }],\n [{\n            'v': 16,\n            'f': \"16\",\n        },\n{\n            'v': 17,\n            'f': \"17\",\n        },\n\"Celta Vigo\",\n{\n            'v': 14,\n            'f': \"14\",\n        },\n{\n            'v': 3,\n            'f': \"3\",\n        },\n{\n            'v': 3,\n            'f': \"3\",\n        },\n{\n            'v': 8,\n            'f': \"8\",\n        },\n{\n            'v': 14,\n            'f': \"14\",\n        },\n{\n            'v': 26,\n            'f': \"26\",\n        },\n{\n            'v': -12,\n            'f': \"-12\",\n        },\n{\n            'v': 12,\n            'f': \"12\",\n        },\n{\n            'v': 0.86,\n            'f': \"0.86\",\n        },\n{\n            'v': 13.9,\n            'f': \"13.9\",\n        },\n{\n            'v': 16.9,\n            'f': \"16.9\",\n        },\n{\n            'v': -3.0,\n            'f': \"-3.0\",\n        },\n{\n            'v': -0.22,\n            'f': \"-0.22\",\n        },\n\"L D L L D\",\n{\n            'v': 13640,\n            'f': \"13640\",\n        },\n\"Iago Aspas - 7\",\n\"Agust\\u00edn Marches\\u00edn\",\n{\n            'v': NaN,\n            'f': \"NaN\",\n        }],\n [{\n            'v': 17,\n            'f': \"17\",\n        },\n{\n            'v': 18,\n            'f': \"18\",\n        },\n\"Sevilla\",\n{\n            'v': 14,\n            'f': \"14\",\n        },\n{\n            'v': 2,\n            'f': \"2\",\n        },\n{\n            'v': 5,\n            'f': \"5\",\n        },\n{\n            'v': 7,\n            'f': \"7\",\n        },\n{\n            'v': 13,\n            'f': \"13\",\n        },\n{\n            'v': 22,\n            'f': \"22\",\n        },\n{\n            'v': -9,\n            'f': \"-9\",\n        },\n{\n            'v': 11,\n            'f': \"11\",\n        },\n{\n            'v': 0.79,\n            'f': \"0.79\",\n        },\n{\n            'v': 14.1,\n            'f': \"14.1\",\n        },\n{\n            'v': 24.9,\n            'f': \"24.9\",\n        },\n{\n            'v': -10.8,\n            'f': \"-10.8\",\n        },\n{\n            'v': -0.77,\n            'f': \"-0.77\",\n        },\n\"D L L D L\",\n{\n            'v': 36750,\n            'f': \"36750\",\n        },\n\"\\u00c9rik Lamela, \\u00d3liver Torres - 3\",\n\"Yassine Bounou\",\n{\n            'v': NaN,\n            'f': \"NaN\",\n        }],\n [{\n            'v': 18,\n            'f': \"18\",\n        },\n{\n            'v': 19,\n            'f': \"19\",\n        },\n\"C\\u00e1diz\",\n{\n            'v': 14,\n            'f': \"14\",\n        },\n{\n            'v': 2,\n            'f': \"2\",\n        },\n{\n            'v': 5,\n            'f': \"5\",\n        },\n{\n            'v': 7,\n            'f': \"7\",\n        },\n{\n            'v': 9,\n            'f': \"9\",\n        },\n{\n            'v': 26,\n            'f': \"26\",\n        },\n{\n            'v': -17,\n            'f': \"-17\",\n        },\n{\n            'v': 11,\n            'f': \"11\",\n        },\n{\n            'v': 0.79,\n            'f': \"0.79\",\n        },\n{\n            'v': 10.2,\n            'f': \"10.2\",\n        },\n{\n            'v': 26.1,\n            'f': \"26.1\",\n        },\n{\n            'v': -15.9,\n            'f': \"-15.9\",\n        },\n{\n            'v': -1.13,\n            'f': \"-1.13\",\n        },\n\"D L W D L\",\n{\n            'v': 17415,\n            'f': \"17415\",\n        },\n\"\\u00c1lex Fern\\u00e1ndez, Lucas P\\u00e9rez - 2\",\n\"Jerem\\u00edas Ledesma\",\n{\n            'v': NaN,\n            'f': \"NaN\",\n        }],\n [{\n            'v': 19,\n            'f': \"19\",\n        },\n{\n            'v': 20,\n            'f': \"20\",\n        },\n\"Elche\",\n{\n            'v': 14,\n            'f': \"14\",\n        },\n{\n            'v': 0,\n            'f': \"0\",\n        },\n{\n            'v': 4,\n            'f': \"4\",\n        },\n{\n            'v': 10,\n            'f': \"10\",\n        },\n{\n            'v': 10,\n            'f': \"10\",\n        },\n{\n            'v': 31,\n            'f': \"31\",\n        },\n{\n            'v': -21,\n            'f': \"-21\",\n        },\n{\n            'v': 4,\n            'f': \"4\",\n        },\n{\n            'v': 0.29,\n            'f': \"0.29\",\n        },\n{\n            'v': 10.3,\n            'f': \"10.3\",\n        },\n{\n            'v': 29.6,\n            'f': \"29.6\",\n        },\n{\n            'v': -19.3,\n            'f': \"-19.3\",\n        },\n{\n            'v': -1.38,\n            'f': \"-1.38\",\n        },\n\"L D L L L\",\n{\n            'v': 21337,\n            'f': \"21337\",\n        },\n\"Pere Milla - 3\",\n\"\\u00c9dgar Bad\\u00eda\",\n{\n            'v': NaN,\n            'f': \"NaN\",\n        }]],\n        columns: [[\"number\", \"index\"], [\"number\", \"Rk\"], [\"string\", \"Squad\"], [\"number\", \"MP\"], [\"number\", \"W\"], [\"number\", \"D\"], [\"number\", \"L\"], [\"number\", \"GF\"], [\"number\", \"GA\"], [\"number\", \"GD\"], [\"number\", \"Pts\"], [\"number\", \"Pts/MP\"], [\"number\", \"xG\"], [\"number\", \"xGA\"], [\"number\", \"xGD\"], [\"number\", \"xGD/90\"], [\"string\", \"Last 5\"], [\"number\", \"Attendance\"], [\"string\", \"Top Team Scorer\"], [\"string\", \"Goalkeeper\"], [\"number\", \"Notes\"]],\n        columnOptions: [{\"width\": \"1px\", \"className\": \"index_column\"}],\n        rowsPerPage: 25,\n        helpUrl: \"https://colab.research.google.com/notebooks/data_table.ipynb\",\n        suppressOutputScrolling: true,\n        minimumWidth: undefined,\n      });\n    "
          },
          "metadata": {},
          "execution_count": 5
        }
      ]
    },
    {
      "cell_type": "markdown",
      "source": [
        "selecionar e concatenar as mesmas tabelas de todas das as ligas\n",
        "\n",
        "> Bloco com recuo\n",
        "\n",
        "\n",
        "\n"
      ],
      "metadata": {
        "id": "ermVCdG-Toti"
      }
    },
    {
      "cell_type": "code",
      "source": [
        "premier1 = df1[0]\n",
        "premier1.to_excel(\"laliga_Regular_season.xlsx\")\n"
      ],
      "metadata": {
        "id": "FNn3xQ37R6st"
      },
      "execution_count": null,
      "outputs": []
    },
    {
      "cell_type": "markdown",
      "source": [
        "Estatísticas padrão do esquadrão"
      ],
      "metadata": {
        "id": "qzo9lZCVP9c-"
      }
    },
    {
      "cell_type": "code",
      "source": [
        "#df2[2]  # Squad Standard Stats 2022-2023"
      ],
      "metadata": {
        "id": "sH90iZO9z2PG"
      },
      "execution_count": null,
      "outputs": []
    },
    {
      "cell_type": "code",
      "source": [
        "##premier2.to_excel(\"premier_Squad _tandard _stats.xlsx\")"
      ],
      "metadata": {
        "id": "vjloqWAVSZPS"
      },
      "execution_count": null,
      "outputs": []
    },
    {
      "cell_type": "markdown",
      "source": [
        "Squad Shooting\n"
      ],
      "metadata": {
        "id": "xTDIEh7DQRZV"
      }
    },
    {
      "cell_type": "code",
      "source": [
        "#df3[8]"
      ],
      "metadata": {
        "id": "w_A-rUYXPYvj"
      },
      "execution_count": null,
      "outputs": []
    },
    {
      "cell_type": "code",
      "source": [
        "#Concatenando as Planilhas\n",
        "#df = [premier1,premier2]\n",
        "#df = pd.concat(df)\n",
        "\n",
        "#df\n",
        "#df.to_excel(\"tudo.xlsx\")"
      ],
      "metadata": {
        "id": "tKjp3-kvQwg7"
      },
      "execution_count": null,
      "outputs": []
    },
    {
      "cell_type": "code",
      "source": [
        "#df1[3] #fora de casa "
      ],
      "metadata": {
        "id": "iSzHBUgd0Kyr"
      },
      "execution_count": null,
      "outputs": []
    },
    {
      "cell_type": "code",
      "source": [
        "#df1[4]#Squad Goalkeeping home"
      ],
      "metadata": {
        "id": "SZi9iLw80MW0"
      },
      "execution_count": null,
      "outputs": []
    },
    {
      "cell_type": "code",
      "source": [
        "#df1[5]  #Squad Goalkeeping away"
      ],
      "metadata": {
        "id": "BUL16MvT0PH7"
      },
      "execution_count": null,
      "outputs": []
    },
    {
      "cell_type": "code",
      "source": [
        "#df1[6]#Squad Advanced Goalkeeping home"
      ],
      "metadata": {
        "id": "esjXl6rK0W5y"
      },
      "execution_count": null,
      "outputs": []
    },
    {
      "cell_type": "code",
      "source": [
        "#df1[7] #Squad Advanced Goalkeeping away"
      ],
      "metadata": {
        "id": "MyvEnTyE0Y12"
      },
      "execution_count": null,
      "outputs": []
    },
    {
      "cell_type": "code",
      "source": [
        "#df1[8] #Squad Shooting home"
      ],
      "metadata": {
        "id": "gI7hdpmo0cI9"
      },
      "execution_count": null,
      "outputs": []
    },
    {
      "cell_type": "code",
      "source": [
        "#df1[9] # Squad Shooting away"
      ],
      "metadata": {
        "id": "Xf_JHnHP0fS3"
      },
      "execution_count": null,
      "outputs": []
    },
    {
      "cell_type": "code",
      "source": [
        " #Squad Passing home"
      ],
      "metadata": {
        "id": "Nfyo7UsV0kbE"
      },
      "execution_count": null,
      "outputs": []
    },
    {
      "cell_type": "code",
      "source": [
        "#df1[11] # Squad Passing away "
      ],
      "metadata": {
        "id": "PrVneios0mFC"
      },
      "execution_count": null,
      "outputs": []
    },
    {
      "cell_type": "code",
      "source": [
        "#df1[12]  #Squad Pass Types  home"
      ],
      "metadata": {
        "id": "gBaj2_IS0om5"
      },
      "execution_count": null,
      "outputs": []
    },
    {
      "cell_type": "code",
      "source": [
        "#df1[13] #Squad Pass Types away "
      ],
      "metadata": {
        "id": "xWrafEzE0qGt"
      },
      "execution_count": null,
      "outputs": []
    },
    {
      "cell_type": "code",
      "source": [
        "#df1[14] #Squad Goal and Shot Creation home"
      ],
      "metadata": {
        "id": "Vw_QsWw90tGD"
      },
      "execution_count": null,
      "outputs": []
    },
    {
      "cell_type": "code",
      "source": [
        "#df1[15] #Squad Goal and Shot Creation  away "
      ],
      "metadata": {
        "id": "rhaFnhPZ0w6j"
      },
      "execution_count": null,
      "outputs": []
    },
    {
      "cell_type": "code",
      "source": [
        "#df1[16] #Squad Goal and Shot Creation  home"
      ],
      "metadata": {
        "id": "I7uji0yl01GT"
      },
      "execution_count": null,
      "outputs": []
    },
    {
      "cell_type": "code",
      "source": [
        "#df1[17] #Squad Goal and Shot Creation  away "
      ],
      "metadata": {
        "id": "Oh7FDfd-1Bb1"
      },
      "execution_count": null,
      "outputs": []
    },
    {
      "cell_type": "code",
      "source": [
        "#df1[18]"
      ],
      "metadata": {
        "id": "sJjf9U1C1DVB"
      },
      "execution_count": null,
      "outputs": []
    },
    {
      "cell_type": "code",
      "source": [
        "#df1[19]"
      ],
      "metadata": {
        "id": "EUp0GHRI1Fa3"
      },
      "execution_count": null,
      "outputs": []
    },
    {
      "cell_type": "code",
      "source": [
        "#df1[20]"
      ],
      "metadata": {
        "id": "-8gUDBuo1LxQ"
      },
      "execution_count": null,
      "outputs": []
    },
    {
      "cell_type": "code",
      "source": [
        "#df1[21]"
      ],
      "metadata": {
        "id": "NhuvvvXj1N7H"
      },
      "execution_count": null,
      "outputs": []
    },
    {
      "cell_type": "code",
      "source": [
        "#df1[22]"
      ],
      "metadata": {
        "id": "FImg0sWn1PtU"
      },
      "execution_count": null,
      "outputs": []
    },
    {
      "cell_type": "code",
      "source": [],
      "metadata": {
        "id": "c4Iu-6ot1RaE"
      },
      "execution_count": null,
      "outputs": []
    }
  ]
}