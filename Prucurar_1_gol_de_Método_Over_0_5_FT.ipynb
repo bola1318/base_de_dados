{
  "nbformat": 4,
  "nbformat_minor": 0,
  "metadata": {
    "colab": {
      "provenance": [],
      "collapsed_sections": [
        "vwQe9oU8WbDt"
      ],
      "private_outputs": true,
      "include_colab_link": true
    },
    "kernelspec": {
      "name": "python3",
      "display_name": "Python 3"
    },
    "language_info": {
      "name": "python"
    }
  },
  "cells": [
    {
      "cell_type": "markdown",
      "metadata": {
        "id": "view-in-github",
        "colab_type": "text"
      },
      "source": [
        "<a href=\"https://colab.research.google.com/github/bola1318/base_de_dados/blob/main/Prucurar_1_gol_de_M%C3%A9todo_Over_0_5_FT.ipynb\" target=\"_parent\"><img src=\"https://colab.research.google.com/assets/colab-badge.svg\" alt=\"Open In Colab\"/></a>"
      ]
    },
    {
      "cell_type": "markdown",
      "source": [
        "# Importando as Bibliotecas e o DataFrame "
      ],
      "metadata": {
        "id": "sHwRHe5YcHYn"
      }
    },
    {
      "cell_type": "code",
      "execution_count": null,
      "metadata": {
        "id": "bknPLhIHeKs1"
      },
      "outputs": [],
      "source": [
        "import pandas as pd\n",
        "from google.colab import data_table\n",
        "data_table.enable_dataframe_formatter()\n",
        "import warnings\n",
        "warnings.filterwarnings('ignore')"
      ]
    },
    {
      "cell_type": "code",
      "source": [
        "df1 = pd.read_csv(\"https://www.football-data.co.uk/mmz4281/2223/E0.csv\")\n",
        "df1['Liga'] = 'Inglaterra 1'"
      ],
      "metadata": {
        "id": "TQQpHVhVex3O"
      },
      "execution_count": null,
      "outputs": []
    },
    {
      "cell_type": "code",
      "source": [
        "df1 = df1[['Liga','Date','HomeTeam','AwayTeam','HTHG','HTAG','HTR','FTHG','FTAG','FTR','B365H','B365D','B365A','B365>2.5','B365<2.5']]\n",
        "df1.columns = ['League','Date','Home','Away','Goals_H_HT','Goals_A_HT','Result_HT','Goals_H_FT','Goals_A_FT','Result_FT','Odds_H','Odds_D','Odds_A','Odds_Over25_FT','Odds_Under25_FT']"
      ],
      "metadata": {
        "id": "3JQRytp9fA65"
      },
      "execution_count": null,
      "outputs": []
    },
    {
      "cell_type": "code",
      "source": [
        "df1 = df1.dropna()"
      ],
      "metadata": {
        "id": "MOhjjJi9HZkF"
      },
      "execution_count": null,
      "outputs": []
    },
    {
      "cell_type": "code",
      "source": [
        "df1"
      ],
      "metadata": {
        "id": "l0frQhWCMh2G"
      },
      "execution_count": null,
      "outputs": []
    },
    {
      "cell_type": "markdown",
      "source": [
        "# Filtro de Odds"
      ],
      "metadata": {
        "id": "KuUtBiDrgnZx"
      }
    },
    {
      "cell_type": "code",
      "source": [
        "# Selecionando o Filtro de Odds\n",
        "flt1 = (df1.Odds_H >= 1.10) & (df1.Odds_H <= 1.80) & (df1.Odds_Over25_FT >= 1.50) & (df1.Odds_Over25_FT <= 2.00)\n",
        "df_v1 = df1[flt1];\n",
        "# Ajustando o Índice\n",
        "df_v1.reset_index(inplace=True, drop=True)\n",
        "df_v1.index = df_v1.index.set_names(['Nº'])\n",
        "df_v1 = df_v1.rename(index=lambda x: x + 1)"
      ],
      "metadata": {
        "id": "cwe3Kn28ZNZw"
      },
      "execution_count": null,
      "outputs": []
    },
    {
      "cell_type": "code",
      "source": [
        "Odd_Minima = 1.50\n",
        "Stake = 1\n",
        "green = Stake * (Odd_Minima - 1) \n",
        "red = -Stake\n",
        "# Over 0.5 FT\n",
        "df_v1.loc[((df_v1['Goals_H_FT'] + df_v1['Goals_A_FT']) > 0), 'Profit_Over05'] = green\n",
        "df_v1.loc[((df_v1['Goals_H_FT'] + df_v1['Goals_A_FT']) == 0), 'Profit_Over05'] = red\n",
        "df_v1['Profit_acu_Over05'] = df_v1.Profit_Over05.cumsum()\n",
        "df_v1.Profit_acu_Over05.plot(title='Over 0.5 FT', xlabel='Quantidade de Apostas', ylabel='Stakes')"
      ],
      "metadata": {
        "id": "YZ72UEcNalCE"
      },
      "execution_count": null,
      "outputs": []
    },
    {
      "cell_type": "code",
      "source": [
        "df_v1['Profit_acu_Over05'].tail(1)"
      ],
      "metadata": {
        "id": "sG5YAdd9YgCe"
      },
      "execution_count": null,
      "outputs": []
    },
    {
      "cell_type": "markdown",
      "source": [
        "# Importando o DataFrame (2021/2022)"
      ],
      "metadata": {
        "id": "HedzWrD0g1k6"
      }
    },
    {
      "cell_type": "code",
      "source": [
        "# Temporada 2021/2022\n",
        "\n",
        "# Inglaterra 1\n",
        "ENG1 = pd.read_csv(\"https://www.football-data.co.uk/mmz4281/2223/E0.csv\")\n",
        "ENG1['Liga'] = 'Inglaterra 1'\n",
        "\n",
        "# Inglaterra 2\n",
        "ENG2 = pd.read_csv(\"https://www.football-data.co.uk/mmz4281/2223/E1.csv\")\n",
        "ENG2['Liga'] = 'Inglaterra 2'\n",
        "\n",
        "# Escócia 1\n",
        "SCO1 = pd.read_csv(\"https://www.football-data.co.uk/mmz4281/2223/SC0.csv\")\n",
        "SCO1['Liga'] = 'Escócia 1'\n",
        "\n",
        "# Alemanha 1\n",
        "GER1 = pd.read_csv(\"https://www.football-data.co.uk/mmz4281/2223/D1.csv\")\n",
        "GER1['Liga'] = 'Alemanha 1'\n",
        "\n",
        "# Alemanha 2\n",
        "GER2 = pd.read_csv(\"https://www.football-data.co.uk/mmz4281/2223/D2.csv\")\n",
        "GER2['Liga'] = 'Alemanha 2'\n",
        "\n",
        "# Itália 1\n",
        "ITA1 = pd.read_csv(\"https://www.football-data.co.uk/mmz4281/2223/I1.csv\")\n",
        "ITA1['Liga'] = 'Itália 1'\n",
        "\n",
        "# Itália 2\n",
        "ITA2 = pd.read_csv(\"https://www.football-data.co.uk/mmz4281/2223/I2.csv\")\n",
        "ITA2['Liga'] = 'Itália 2'\n",
        "\n",
        "# Espanha 1\n",
        "SPA1 = pd.read_csv(\"https://www.football-data.co.uk/mmz4281/2223/SP1.csv\")\n",
        "SPA1['Liga'] = 'Espanha 1'\n",
        "\n",
        "# Espanha 2\n",
        "SPA2 = pd.read_csv(\"https://www.football-data.co.uk/mmz4281/2223/SP2.csv\")\n",
        "SPA2['Liga'] = 'Espanha 2'\n",
        "\n",
        "# França 1\n",
        "FRA1 = pd.read_csv(\"https://www.football-data.co.uk/mmz4281/2223/F1.csv\")\n",
        "FRA1['Liga'] = 'França 1'\n",
        "\n",
        "# França 2\n",
        "FRA2 = pd.read_csv(\"https://www.football-data.co.uk/mmz4281/2223/F2.csv\")\n",
        "FRA2['Liga'] = 'França 2'\n",
        "\n",
        "# Holanda 1\n",
        "NET1 = pd.read_csv(\"https://www.football-data.co.uk/mmz4281/2223/N1.csv\")\n",
        "NET1['Liga'] = 'Holanda 1'\n",
        "\n",
        "# Bélgica 1\n",
        "BEL1 = pd.read_csv(\"https://www.football-data.co.uk/mmz4281/2223/B1.csv\")\n",
        "BEL1['Liga'] = 'Bélgica 1'\n",
        "\n",
        "# Portugal 1\n",
        "POR1 = pd.read_csv(\"https://www.football-data.co.uk/mmz4281/2223/P1.csv\")\n",
        "POR1['Liga'] = 'Portugal 1'\n",
        "\n",
        "# Turquia 1\n",
        "TUR1 = pd.read_csv(\"https://www.football-data.co.uk/mmz4281/2223/T1.csv\")\n",
        "TUR1['Liga'] = 'Turquia 1'\n",
        "\n",
        "# Grécia 1\n",
        "GRE1 = pd.read_csv(\"https://www.football-data.co.uk/mmz4281/2223/G1.csv\")\n",
        "GRE1['Liga'] = 'Grécia 1'"
      ],
      "metadata": {
        "id": "mhlJmOPkdHIL"
      },
      "execution_count": null,
      "outputs": []
    },
    {
      "cell_type": "code",
      "source": [
        "df2 = [ENG1, ENG2, SCO1, GER1, GER2, ITA1, ITA2, SPA1, SPA2, FRA1, FRA2, NET1, BEL1, POR1, TUR1, GRE1]\n",
        "df2 = pd.concat(df2)\n",
        "df2 = df2[['Liga','Date','HomeTeam','AwayTeam','HTHG','HTAG','HTR','FTHG','FTAG','FTR','B365H','B365D','B365A','B365>2.5','B365<2.5']]\n",
        "df2.columns = ['League','Date','Home','Away','Goals_H_HT','Goals_A_HT','Result_HT','Goals_H_FT','Goals_A_FT','Result_FT','Odds_H','Odds_D','Odds_A','Odds_Over25_FT','Odds_Under25_FT']\n",
        "df2 = df2.dropna()"
      ],
      "metadata": {
        "id": "Sob6IJk5fGAt"
      },
      "execution_count": null,
      "outputs": []
    },
    {
      "cell_type": "code",
      "source": [
        "df2.to_excel(\"DataFrame_2022_2023.xlsx\")"
      ],
      "metadata": {
        "id": "fv95J9m5YCuR"
      },
      "execution_count": null,
      "outputs": []
    },
    {
      "cell_type": "markdown",
      "source": [
        "# Filtro de Odds (2021/2022)"
      ],
      "metadata": {
        "id": "gwAvnJH8g8EO"
      }
    },
    {
      "cell_type": "code",
      "source": [
        "# Selecionando o Filtro de Odds\n",
        "flt2 = (df2.Odds_H >= 1.10) & (df2.Odds_H <= 1.80) & (df2.Odds_Over25_FT >= 1.50) & (df2.Odds_Over25_FT <= 2.00)\n",
        "df_v2 = df2[flt2];\n",
        "# Ajustando o Índice\n",
        "df_v2.reset_index(inplace=True, drop=True)\n",
        "df_v2.index = df_v2.index.set_names(['Nº'])\n",
        "df_v2 = df_v2.rename(index=lambda x: x + 1)"
      ],
      "metadata": {
        "id": "VNLvUqcKfs3q"
      },
      "execution_count": null,
      "outputs": []
    },
    {
      "cell_type": "code",
      "source": [
        "Odd_Minima = 1.50\n",
        "Stake = 15   #1  #ou colocar o valor \n",
        "green = Stake * (Odd_Minima - 1) \n",
        "red = -Stake\n",
        "# Over 0.5 FT\n",
        "df_v2.loc[((df_v2['Goals_H_FT'] + df_v2['Goals_A_FT']) > 0), 'Profit_Over05'] = green\n",
        "df_v2.loc[((df_v2['Goals_H_FT'] + df_v2['Goals_A_FT']) == 0), 'Profit_Over05'] = red\n",
        "df_v2['Profit_acu_Over05'] = df_v2.Profit_Over05.cumsum()\n",
        "df_v2.Profit_acu_Over05.plot(title='Over 0.5 FT', xlabel='Quantidade de Apostas', ylabel='Stakes')\n",
        "df_v2['Profit_acu_Over05'].tail(1)"
      ],
      "metadata": {
        "id": "wLiXLvbofobz"
      },
      "execution_count": null,
      "outputs": []
    },
    {
      "cell_type": "markdown",
      "source": [
        "# Filtro por Liga"
      ],
      "metadata": {
        "id": "6kVa1FCjQ1FO"
      }
    },
    {
      "cell_type": "code",
      "source": [
        "# Selecionando o Filtro de Odds\n",
        "flt2 = (df_v2.League == \"Inglaterra 1\") \n",
        "df_v3 = df_v2[flt2];\n",
        "# Ajustando o Índice\n",
        "df_v3.reset_index(inplace=True, drop=True)\n",
        "df_v3.index = df_v3.index.set_names(['Nº'])\n",
        "df_v3 = df_v3.rename(index=lambda x: x + 1)\n",
        "# Plotando o Gráfico\n",
        "df_v3['Profit_acu_Over05'] = df_v3.Profit_Over05.cumsum()\n",
        "df_v3.Profit_acu_Over05.plot(title='Over 0.5 FT', xlabel='Quantidade de Apostas', ylabel='Stakes')\n",
        "df_v3['Profit_acu_Over05'].tail(1)"
      ],
      "metadata": {
        "id": "PJ4qx-XJkjCN"
      },
      "execution_count": null,
      "outputs": []
    },
    {
      "cell_type": "code",
      "source": [
        "# Selecionando o Filtro de Odds\n",
        "flt2 = (df_v2.League == \"Inglaterra 2\") \n",
        "df_v3 = df_v2[flt2];\n",
        "# Ajustando o Índice\n",
        "df_v3.reset_index(inplace=True, drop=True)\n",
        "df_v3.index = df_v3.index.set_names(['Nº'])\n",
        "df_v3 = df_v3.rename(index=lambda x: x + 1)\n",
        "# Plotando o Gráfico\n",
        "df_v3['Profit_acu_Over05'] = df_v3.Profit_Over05.cumsum()\n",
        "df_v3.Profit_acu_Over05.plot(title='Over 0.5 FT', xlabel='Quantidade de Apostas', ylabel='Stakes')\n",
        "df_v3['Profit_acu_Over05'].tail(1)"
      ],
      "metadata": {
        "id": "aJEc8CNtRGlN"
      },
      "execution_count": null,
      "outputs": []
    },
    {
      "cell_type": "code",
      "source": [
        "# Selecionando o Filtro de Odds\n",
        "flt2 = (df_v2.League == \"Escócia 1\") \n",
        "df_v3 = df_v2[flt2];\n",
        "# Ajustando o Índice\n",
        "df_v3.reset_index(inplace=True, drop=True)\n",
        "df_v3.index = df_v3.index.set_names(['Nº'])\n",
        "df_v3 = df_v3.rename(index=lambda x: x + 1)\n",
        "# Plotando o Gráfico\n",
        "df_v3['Profit_acu_Over05'] = df_v3.Profit_Over05.cumsum()\n",
        "df_v3.Profit_acu_Over05.plot(title='Over 0.5 FT', xlabel='Quantidade de Apostas', ylabel='Stakes')\n",
        "df_v3['Profit_acu_Over05'].tail(1)"
      ],
      "metadata": {
        "id": "3j490s5uTfmM"
      },
      "execution_count": null,
      "outputs": []
    },
    {
      "cell_type": "code",
      "source": [
        "# Selecionando o Filtro de Odds\n",
        "flt2 = (df_v2.League == \"Alemanha 1\") \n",
        "df_v3 = df_v2[flt2];\n",
        "# Ajustando o Índice\n",
        "df_v3.reset_index(inplace=True, drop=True)\n",
        "df_v3.index = df_v3.index.set_names(['Nº'])\n",
        "df_v3 = df_v3.rename(index=lambda x: x + 1)\n",
        "# Plotando o Gráfico\n",
        "df_v3['Profit_acu_Over05'] = df_v3.Profit_Over05.cumsum()\n",
        "df_v3.Profit_acu_Over05.plot(title='Over 0.5 FT', xlabel='Quantidade de Apostas', ylabel='Stakes')\n",
        "df_v3['Profit_acu_Over05'].tail(1)"
      ],
      "metadata": {
        "id": "8AqOxp61Sgbw"
      },
      "execution_count": null,
      "outputs": []
    },
    {
      "cell_type": "code",
      "source": [
        "# Selecionando o Filtro de Odds\n",
        "flt2 = (df_v2.League == \"Alemanha 2\") \n",
        "df_v3 = df_v2[flt2];\n",
        "# Ajustando o Índice\n",
        "df_v3.reset_index(inplace=True, drop=True)\n",
        "df_v3.index = df_v3.index.set_names(['Nº'])\n",
        "df_v3 = df_v3.rename(index=lambda x: x + 1)\n",
        "# Plotando o Gráfico\n",
        "df_v3['Profit_acu_Over05'] = df_v3.Profit_Over05.cumsum()\n",
        "df_v3.Profit_acu_Over05.plot(title='Over 0.5 FT', xlabel='Quantidade de Apostas', ylabel='Stakes')\n",
        "df_v3['Profit_acu_Over05'].tail(1)"
      ],
      "metadata": {
        "id": "TClG_1ZQTGSL"
      },
      "execution_count": null,
      "outputs": []
    },
    {
      "cell_type": "code",
      "source": [
        "# Selecionando o Filtro de Odds\n",
        "flt2 = (df_v2.League == \"Itália 1\") \n",
        "df_v3 = df_v2[flt2];\n",
        "# Ajustando o Índice\n",
        "df_v3.reset_index(inplace=True, drop=True)\n",
        "df_v3.index = df_v3.index.set_names(['Nº'])\n",
        "df_v3 = df_v3.rename(index=lambda x: x + 1)\n",
        "# Plotando o Gráfico\n",
        "df_v3['Profit_acu_Over05'] = df_v3.Profit_Over05.cumsum()\n",
        "df_v3.Profit_acu_Over05.plot(title='Over 0.5 FT', xlabel='Quantidade de Apostas', ylabel='Stakes')\n",
        "df_v3['Profit_acu_Over05'].tail(1)"
      ],
      "metadata": {
        "id": "HB--oBLcTHx-"
      },
      "execution_count": null,
      "outputs": []
    },
    {
      "cell_type": "code",
      "source": [
        "# Selecionando o Filtro de Odds\n",
        "flt2 = (df_v2.League == \"Itália 2\") \n",
        "df_v3 = df_v2[flt2];\n",
        "# Ajustando o Índice\n",
        "df_v3.reset_index(inplace=True, drop=True)\n",
        "df_v3.index = df_v3.index.set_names(['Nº'])\n",
        "df_v3 = df_v3.rename(index=lambda x: x + 1)\n",
        "# Plotando o Gráfico\n",
        "df_v3['Profit_acu_Over05'] = df_v3.Profit_Over05.cumsum()\n",
        "df_v3.Profit_acu_Over05.plot(title='Over 0.5 FT', xlabel='Quantidade de Apostas', ylabel='Stakes')\n",
        "df_v3['Profit_acu_Over05'].tail(1)"
      ],
      "metadata": {
        "id": "1MmTjmnXTIT7"
      },
      "execution_count": null,
      "outputs": []
    },
    {
      "cell_type": "code",
      "source": [
        "# Selecionando o Filtro de Odds\n",
        "flt2 = (df_v2.League == \"Espanha 1\") \n",
        "df_v3 = df_v2[flt2];\n",
        "# Ajustando o Índice\n",
        "df_v3.reset_index(inplace=True, drop=True)\n",
        "df_v3.index = df_v3.index.set_names(['Nº'])\n",
        "df_v3 = df_v3.rename(index=lambda x: x + 1)\n",
        "# Plotando o Gráfico\n",
        "df_v3['Profit_acu_Over05'] = df_v3.Profit_Over05.cumsum()\n",
        "df_v3.Profit_acu_Over05.plot(title='Over 0.5 FT', xlabel='Quantidade de Apostas', ylabel='Stakes')\n",
        "df_v3['Profit_acu_Over05'].tail(1)"
      ],
      "metadata": {
        "id": "1T5GBJ8DTG2O"
      },
      "execution_count": null,
      "outputs": []
    },
    {
      "cell_type": "code",
      "source": [
        "# Selecionando o Filtro de Odds\n",
        "flt2 = (df_v2.League == \"Espanha 2\") \n",
        "df_v3 = df_v2[flt2];\n",
        "# Ajustando o Índice\n",
        "df_v3.reset_index(inplace=True, drop=True)\n",
        "df_v3.index = df_v3.index.set_names(['Nº'])\n",
        "df_v3 = df_v3.rename(index=lambda x: x + 1)\n",
        "# Plotando o Gráfico\n",
        "df_v3['Profit_acu_Over05'] = df_v3.Profit_Over05.cumsum()\n",
        "df_v3.Profit_acu_Over05.plot(title='Over 0.5 FT', xlabel='Quantidade de Apostas', ylabel='Stakes')\n",
        "df_v3['Profit_acu_Over05'].tail(1)"
      ],
      "metadata": {
        "id": "YylyUXJxTHWR"
      },
      "execution_count": null,
      "outputs": []
    },
    {
      "cell_type": "code",
      "source": [
        "# Selecionando o Filtro de Odds\n",
        "flt2 = (df_v2.League == \"França 1\") \n",
        "df_v3 = df_v2[flt2];\n",
        "# Ajustando o Índice\n",
        "df_v3.reset_index(inplace=True, drop=True)\n",
        "df_v3.index = df_v3.index.set_names(['Nº'])\n",
        "df_v3 = df_v3.rename(index=lambda x: x + 1)\n",
        "# Plotando o Gráfico\n",
        "df_v3['Profit_acu_Over05'] = df_v3.Profit_Over05.cumsum()\n",
        "df_v3.Profit_acu_Over05.plot(title='Over 0.5 FT', xlabel='Quantidade de Apostas', ylabel='Stakes')\n",
        "df_v3['Profit_acu_Over05'].tail(1)"
      ],
      "metadata": {
        "id": "op1zSp12TIvA"
      },
      "execution_count": null,
      "outputs": []
    },
    {
      "cell_type": "code",
      "source": [
        "# Selecionando o Filtro de Odds\n",
        "flt2 = (df_v2.League == \"França 2\") \n",
        "df_v3 = df_v2[flt2];\n",
        "# Ajustando o Índice\n",
        "df_v3.reset_index(inplace=True, drop=True)\n",
        "df_v3.index = df_v3.index.set_names(['Nº'])\n",
        "df_v3 = df_v3.rename(index=lambda x: x + 1)\n",
        "# Plotando o Gráfico\n",
        "df_v3['Profit_acu_Over05'] = df_v3.Profit_Over05.cumsum()\n",
        "df_v3.Profit_acu_Over05.plot(title='Over 0.5 FT', xlabel='Quantidade de Apostas', ylabel='Stakes')\n",
        "df_v3['Profit_acu_Over05'].tail(1)"
      ],
      "metadata": {
        "id": "nHH5ZllGTJSX"
      },
      "execution_count": null,
      "outputs": []
    },
    {
      "cell_type": "code",
      "source": [
        "# Selecionando o Filtro de Odds\n",
        "flt2 = (df_v2.League == \"Holanda 1\") \n",
        "df_v3 = df_v2[flt2];\n",
        "# Ajustando o Índice\n",
        "df_v3.reset_index(inplace=True, drop=True)\n",
        "df_v3.index = df_v3.index.set_names(['Nº'])\n",
        "df_v3 = df_v3.rename(index=lambda x: x + 1)\n",
        "# Plotando o Gráfico\n",
        "df_v3['Profit_acu_Over05'] = df_v3.Profit_Over05.cumsum()\n",
        "df_v3.Profit_acu_Over05.plot(title='Over 0.5 FT', xlabel='Quantidade de Apostas', ylabel='Stakes')\n",
        "df_v3['Profit_acu_Over05'].tail(1)"
      ],
      "metadata": {
        "id": "Zbxdij74TKqv"
      },
      "execution_count": null,
      "outputs": []
    },
    {
      "cell_type": "code",
      "source": [
        "# Selecionando o Filtro de Odds\n",
        "flt2 = (df_v2.League == \"Bélgica 1\") \n",
        "df_v3 = df_v2[flt2];\n",
        "# Ajustando o Índice\n",
        "df_v3.reset_index(inplace=True, drop=True)\n",
        "df_v3.index = df_v3.index.set_names(['Nº'])\n",
        "df_v3 = df_v3.rename(index=lambda x: x + 1)\n",
        "# Plotando o Gráfico\n",
        "df_v3['Profit_acu_Over05'] = df_v3.Profit_Over05.cumsum()\n",
        "df_v3.Profit_acu_Over05.plot(title='Over 0.5 FT', xlabel='Quantidade de Apostas', ylabel='Stakes')\n",
        "df_v3['Profit_acu_Over05'].tail(1)"
      ],
      "metadata": {
        "id": "tLdOCzgATJoT"
      },
      "execution_count": null,
      "outputs": []
    },
    {
      "cell_type": "code",
      "source": [
        "# Selecionando o Filtro de Odds\n",
        "flt2 = (df_v2.League == \"Portugal 1\") \n",
        "df_v3 = df_v2[flt2];\n",
        "# Ajustando o Índice\n",
        "df_v3.reset_index(inplace=True, drop=True)\n",
        "df_v3.index = df_v3.index.set_names(['Nº'])\n",
        "df_v3 = df_v3.rename(index=lambda x: x + 1)\n",
        "# Plotando o Gráfico\n",
        "df_v3['Profit_acu_Over05'] = df_v3.Profit_Over05.cumsum()\n",
        "df_v3.Profit_acu_Over05.plot(title='Over 0.5 FT', xlabel='Quantidade de Apostas', ylabel='Stakes')\n",
        "df_v3['Profit_acu_Over05'].tail(1)"
      ],
      "metadata": {
        "id": "d7Qw0m9BTKIx"
      },
      "execution_count": null,
      "outputs": []
    },
    {
      "cell_type": "code",
      "source": [
        "# Selecionando o Filtro de Odds\n",
        "flt2 = (df_v2.League == \"Turquia 1\") \n",
        "df_v3 = df_v2[flt2];\n",
        "# Ajustando o Índice\n",
        "df_v3.reset_index(inplace=True, drop=True)\n",
        "df_v3.index = df_v3.index.set_names(['Nº'])\n",
        "df_v3 = df_v3.rename(index=lambda x: x + 1)\n",
        "# Plotando o Gráfico\n",
        "df_v3['Profit_acu_Over05'] = df_v3.Profit_Over05.cumsum()\n",
        "df_v3.Profit_acu_Over05.plot(title='Over 0.5 FT', xlabel='Quantidade de Apostas', ylabel='Stakes')\n",
        "df_v3['Profit_acu_Over05'].tail(1)"
      ],
      "metadata": {
        "id": "jnQFTTQiT2Lv"
      },
      "execution_count": null,
      "outputs": []
    },
    {
      "cell_type": "code",
      "source": [
        " # Selecionando o Filtro de Odds\n",
        "flt2 = (df_v2.League == \"Grécia 1\") \n",
        "df_v3 = df_v2[flt2];\n",
        "# Ajustando o Índice\n",
        "df_v3.reset_index(inplace=True, drop=True)\n",
        "df_v3.index = df_v3.index.set_names(['Nº'])\n",
        "df_v3 = df_v3.rename(index=lambda x: x + 1)\n",
        "# Plotando o Gráfico\n",
        "df_v3['Profit_acu_Over05'] = df_v3.Profit_Over05.cumsum()\n",
        "df_v3.Profit_acu_Over05.plot(title='Over 0.5 FT', xlabel='Quantidade de Apostas', ylabel='Stakes')\n",
        "df_v3['Profit_acu_Over05'].tail(1)"
      ],
      "metadata": {
        "id": "VpGvyZG0T4rx"
      },
      "execution_count": null,
      "outputs": []
    },
    {
      "cell_type": "markdown",
      "source": [
        "# Importando o DataFrame (2021/2022)"
      ],
      "metadata": {
        "id": "vwQe9oU8WbDt"
      }
    },
    {
      "cell_type": "code",
      "source": [
        "# Temporada 2020/2021\n",
        "\n",
        "# Inglaterra 1\n",
        "ENG1 = pd.read_csv(\"https://www.football-data.co.uk/mmz4281/2122/E0.csv\")\n",
        "ENG1['Liga'] = 'Inglaterra 1'\n",
        "\n",
        "# Inglaterra 2\n",
        "ENG2 = pd.read_csv(\"https://www.football-data.co.uk/mmz4281/2122/E1.csv\")\n",
        "ENG2['Liga'] = 'Inglaterra 2'\n",
        "\n",
        "# Escócia 1\n",
        "SCO1 = pd.read_csv(\"https://www.football-data.co.uk/mmz4281/2122/SC0.csv\")\n",
        "SCO1['Liga'] = 'Escócia 1'\n",
        "\n",
        "# Alemanha 1\n",
        "GER1 = pd.read_csv(\"https://www.football-data.co.uk/mmz4281/2122/D1.csv\")\n",
        "GER1['Liga'] = 'Alemanha 1'\n",
        "\n",
        "# Alemanha 2\n",
        "GER2 = pd.read_csv(\"https://www.football-data.co.uk/mmz4281/2122/D2.csv\")\n",
        "GER2['Liga'] = 'Alemanha 2'\n",
        "\n",
        "# Itália 1\n",
        "ITA1 = pd.read_csv(\"https://www.football-data.co.uk/mmz4281/2122/I1.csv\")\n",
        "ITA1['Liga'] = 'Itália 1'\n",
        "\n",
        "# Itália 2\n",
        "ITA2 = pd.read_csv(\"https://www.football-data.co.uk/mmz4281/2122/I2.csv\")\n",
        "ITA2['Liga'] = 'Itália 2'\n",
        "\n",
        "# Espanha 1\n",
        "SPA1 = pd.read_csv(\"https://www.football-data.co.uk/mmz4281/2122/SP1.csv\")\n",
        "SPA1['Liga'] = 'Espanha 1'\n",
        "\n",
        "# Espanha 2\n",
        "SPA2 = pd.read_csv(\"https://www.football-data.co.uk/mmz4281/2122/SP2.csv\")\n",
        "SPA2['Liga'] = 'Espanha 2'\n",
        "\n",
        "# França 1\n",
        "FRA1 = pd.read_csv(\"https://www.football-data.co.uk/mmz4281/2122/F1.csv\")\n",
        "FRA1['Liga'] = 'França 1'\n",
        "\n",
        "# França 2\n",
        "FRA2 = pd.read_csv(\"https://www.football-data.co.uk/mmz4281/2122/F2.csv\")\n",
        "FRA2['Liga'] = 'França 2'\n",
        "\n",
        "# Holanda 1\n",
        "NET1 = pd.read_csv(\"https://www.football-data.co.uk/mmz4281/2122/N1.csv\")\n",
        "NET1['Liga'] = 'Holanda 1'\n",
        "\n",
        "# Bélgica 1\n",
        "BEL1 = pd.read_csv(\"https://www.football-data.co.uk/mmz4281/2122/B1.csv\")\n",
        "BEL1['Liga'] = 'Bélgica 1'\n",
        "\n",
        "# Portugal 1\n",
        "POR1 = pd.read_csv(\"https://www.football-data.co.uk/mmz4281/2122/P1.csv\")\n",
        "POR1['Liga'] = 'Portugal 1'\n",
        "\n",
        "# Turquia 1\n",
        "TUR1 = pd.read_csv(\"https://www.football-data.co.uk/mmz4281/2122/T1.csv\")\n",
        "TUR1['Liga'] = 'Turquia 1'\n",
        "\n",
        "# Grécia 1\n",
        "GRE1 = pd.read_csv(\"https://www.football-data.co.uk/mmz4281/2122/G1.csv\")\n",
        "GRE1['Liga'] = 'Grécia 1'"
      ],
      "metadata": {
        "id": "MFjHUSdNUvGT"
      },
      "execution_count": null,
      "outputs": []
    },
    {
      "cell_type": "code",
      "source": [
        "df3 = [ENG1, ENG2, SCO1, GER1, GER2, ITA1, ITA2, SPA1, SPA2, FRA1, FRA2, NET1, BEL1, POR1, TUR1, GRE1]\n",
        "df3 = pd.concat(df3)\n",
        "df3 = df3[['Liga','Date','HomeTeam','AwayTeam','HTHG','HTAG','HTR','FTHG','FTAG','FTR','B365H','B365D','B365A','B365>2.5','B365<2.5']]\n",
        "df3.columns = ['League','Date','Home','Away','Goals_H_HT','Goals_A_HT','Result_HT','Goals_H_FT','Goals_A_FT','Result_FT','Odds_H','Odds_D','Odds_A','Odds_Over25_FT','Odds_Under25_FT']\n",
        "df3 = df3.dropna()"
      ],
      "metadata": {
        "id": "QbslrT7-WuRZ"
      },
      "execution_count": null,
      "outputs": []
    },
    {
      "cell_type": "markdown",
      "source": [
        "# Filtro de Odds (2021/2022)\n"
      ],
      "metadata": {
        "id": "b4zPHRIpW1ta"
      }
    },
    {
      "cell_type": "code",
      "source": [
        "# Selecionando o Filtro de Odds\n",
        "flt3 = (df3.Odds_H >= 1.10) & (df3.Odds_H <= 1.80) & (df3.Odds_Over25_FT >= 1.50) & (df3.Odds_Over25_FT <= 2.00)\n",
        "df_v3 = df3[flt3];\n",
        "# Ajustando o Índice\n",
        "df_v3.reset_index(inplace=True, drop=True)\n",
        "df_v3.index = df_v3.index.set_names(['Nº'])\n",
        "df_v3 = df_v3.rename(index=lambda x: x + 1)"
      ],
      "metadata": {
        "id": "Gh9ZwZJUW7zd"
      },
      "execution_count": null,
      "outputs": []
    },
    {
      "cell_type": "code",
      "source": [
        "Odd_Minima = 1.50\n",
        "green = 1 * (Odd_Minima - 1) \n",
        "red = -1\n",
        "# Over 0.5 FT\n",
        "df_v3.loc[((df_v2['Goals_H_FT'] + df_v3['Goals_A_FT']) > 0), 'Profit_Over05'] = green\n",
        "df_v3.loc[((df_v2['Goals_H_FT'] + df_v3['Goals_A_FT']) == 0), 'Profit_Over05'] = red\n",
        "df_v3['Profit_acu_Over05'] = df_v3.Profit_Over05.cumsum()\n",
        "df_v3.Profit_acu_Over05.plot(title='Over 0.5 FT', xlabel='Quantidade de Apostas', ylabel='Stakes')\n",
        "df_v3['Profit_acu_Over05'].tail(1)"
      ],
      "metadata": {
        "id": "stXFX5A0W-c8"
      },
      "execution_count": null,
      "outputs": []
    },
    {
      "cell_type": "code",
      "source": [
        "df3.to_excel(\"DataFrame_2021_2022.xlsx\")"
      ],
      "metadata": {
        "id": "TSX79YfTYOy2"
      },
      "execution_count": null,
      "outputs": []
    },
    {
      "cell_type": "code",
      "source": [
        "df3"
      ],
      "metadata": {
        "id": "mjO8a7q-YQp7"
      },
      "execution_count": null,
      "outputs": []
    }
  ]
}