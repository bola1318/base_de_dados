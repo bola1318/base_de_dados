{
  "nbformat": 4,
  "nbformat_minor": 0,
  "metadata": {
    "colab": {
      "provenance": [],
      "include_colab_link": true
    },
    "kernelspec": {
      "name": "python3",
      "display_name": "Python 3"
    },
    "language_info": {
      "name": "python"
    }
  },
  "cells": [
    {
      "cell_type": "markdown",
      "metadata": {
        "id": "view-in-github",
        "colab_type": "text"
      },
      "source": [
        "<a href=\"https://colab.research.google.com/github/bola1318/base_de_dados/blob/main/PrimeiraligaPortugal_tabela.ipynb\" target=\"_parent\"><img src=\"https://colab.research.google.com/assets/colab-badge.svg\" alt=\"Open In Colab\"/></a>"
      ]
    },
    {
      "cell_type": "markdown",
      "source": [
        "\n",
        "\n",
        "> Bloco com recuo\n",
        "\n",
        "\n",
        "premier1 = df1[1] #table 1 site https://fbref.com/en/comps/32/Primeira-Liga-Stats#results2022-2023321_overall\n",
        "premier1.to_excel(\"teste.xlsx\")\n",
        "\n"
      ],
      "metadata": {
        "id": "516_x2CvPcI7"
      }
    },
    {
      "cell_type": "code",
      "execution_count": 1,
      "metadata": {
        "id": "Dn7zaZYIw1wQ"
      },
      "outputs": [],
      "source": [
        "import pandas as pd \n",
        "import requests \n",
        "from google.colab import data_table\n",
        "data_table.enable_dataframe_formatter()\n",
        "\n",
        "import csv"
      ]
    },
    {
      "cell_type": "code",
      "source": [
        "#coletando as planilhas \n",
        "\n",
        "header = {\n",
        "  \"User-Agent\": \"Mozilla/5.0 (X11; Linux x86_64) AppleWebKit/537.36 (KHTML, like Gecko) Chrome/50.0.2661.75 Safari/537.36\",\n",
        "  \"X-Requested-With\": \"XMLHttpRequest\"\n",
        "}\n",
        "\n",
        "#A url que você quer acesssar\n",
        "url_link1 = \"https://fbref.com/en/comps/32/Primeira-Liga-Stats#results2022-2023321_overall\"\n",
        "#ENG_01 = pd.read_csv(\"https://fbref.com/en/comps/9/Premier-League-Stats#results2022-202391_overall\") \n",
        "\n",
        "r1 = requests.get(url_link1, headers=header)\n",
        "\n",
        "df1 = pd.read_html(r1.text)\n",
        "\n"
      ],
      "metadata": {
        "id": "yjIfrL2NxsJm"
      },
      "execution_count": 2,
      "outputs": []
    },
    {
      "cell_type": "code",
      "source": [],
      "metadata": {
        "id": "BJceA6xNx7fT"
      },
      "execution_count": 2,
      "outputs": []
    },
    {
      "cell_type": "code",
      "source": [
        "len(df1)"
      ],
      "metadata": {
        "id": "U6a29lmozupt",
        "outputId": "27b856c6-8b5d-471d-9501-ecc50e2439a4",
        "colab": {
          "base_uri": "https://localhost:8080/"
        }
      },
      "execution_count": 3,
      "outputs": [
        {
          "output_type": "execute_result",
          "data": {
            "text/plain": [
              "24"
            ]
          },
          "metadata": {},
          "execution_count": 3
        }
      ]
    },
    {
      "cell_type": "code",
      "source": [
        "df1[0] #Regular season"
      ],
      "metadata": {
        "id": "yZl82uMVQY6D",
        "outputId": "3c01d63e-a9b0-437d-e049-2551ef8b3272",
        "colab": {
          "base_uri": "https://localhost:8080/",
          "height": 480
        }
      },
      "execution_count": 4,
      "outputs": [
        {
          "output_type": "execute_result",
          "data": {
            "text/plain": [
              "    Rk           Squad  MP   W  D   L  GF  GA  GD  Pts  Pts/MP    xG   xGA  \\\n",
              "0    1         Benfica  26  23  2   1  67  14  53   71    2.73  66.7  16.6   \n",
              "1    2           Porto  26  19  4   3  56  17  39   61    2.35  53.8  22.0   \n",
              "2    3           Braga  26  19  2   5  56  23  33   59    2.27  43.6  29.0   \n",
              "3    4     Sporting CP  25  17  2   6  52  23  29   53    2.12  52.1  21.7   \n",
              "4    5          Arouca  26  11  8   7  30  32  -2   41    1.58  30.7  35.9   \n",
              "5    6         Vitória  26  12  5   9  25  29  -4   41    1.58  27.0  30.5   \n",
              "6    7        Casa Pia  26  11  5  10  23  27  -4   38    1.46  26.3  35.8   \n",
              "7    8          Vizela  26  10  5  11  30  28   2   35    1.35  33.3  31.2   \n",
              "8    9         Rio Ave  26   9  6  11  25  29  -4   33    1.27  25.6  35.5   \n",
              "9   10       Famalicão  26  10  3  13  25  33  -8   33    1.27  26.5  33.8   \n",
              "10  11          Chaves  26   8  8  10  27  33  -6   32    1.23  32.6  41.7   \n",
              "11  12        Boavista  26   8  6  12  30  44 -14   30    1.15  27.5  37.6   \n",
              "12  13  Gil Vicente FC  25   8  5  12  26  32  -6   29    1.16  33.6  39.0   \n",
              "13  14    Portimonense  26   8  2  16  18  33 -15   26    1.00  32.0  39.7   \n",
              "14  15         Estoril  26   7  4  15  22  39 -17   25    0.96  25.3  41.1   \n",
              "15  16        Marítimo  26   5  4  17  21  49 -28   19    0.73  31.5  44.8   \n",
              "16  17           Paços  26   4  5  17  19  43 -24   17    0.65  24.2  39.2   \n",
              "17  18     Santa Clara  26   3  6  17  17  41 -24   15    0.58  21.3  38.5   \n",
              "\n",
              "     xGD  xGD/90     Last 5  Attendance                 Top Team Scorer  \\\n",
              "0   50.1    1.93  W W W W W       55804  João Mário, Gonçalo Ramos - 17   \n",
              "1   31.8    1.22  L W W D W       38570               Mehdi Taremi - 13   \n",
              "2   14.6    0.56  L W W D W       15224                Simon Banza - 10   \n",
              "3   30.4    1.21  W W W W W       28959            Pedro Gonçalves - 12   \n",
              "4   -5.2   -0.20  W D W D W        1666   Rafa Mújica, Oday Dabbagh - 7   \n",
              "5   -3.6   -0.14  W W L L D       13888                      Safira - 5   \n",
              "6   -9.5   -0.36  L W L W L        4225     Rafael Martins, Clayton - 4   \n",
              "7    2.1    0.08  L W L W W        3263             Milutin Osmajić - 6   \n",
              "8   -9.9   -0.38  W L W W L        2870           Abdul-Aziz Yakubu - 7   \n",
              "9   -7.3   -0.28  W L W W L        3371          Ivan Jaime Pajuelo - 6   \n",
              "10  -9.1   -0.35  L L W W L        3836      Héctor, Steven Vitória - 6   \n",
              "11 -10.1   -0.39  W D L L L        6504               Yusupha Njie - 10   \n",
              "12  -5.3   -0.21  D W W L L        3985               Fran Navarro - 13   \n",
              "13  -7.7   -0.30  L L L L L        1944             Welinton Júnior - 4   \n",
              "14 -15.8   -0.61  L L L L W        2417               Tiago Gouveia - 5   \n",
              "15 -13.3   -0.51  W L L L W        8266               André Vidigal - 5   \n",
              "16 -15.0   -0.58  L L W D D        4280               Adrián Butzke - 5   \n",
              "17 -17.2   -0.66  L L L L L        2625              Gabriel Vieira - 5   \n",
              "\n",
              "                        Goalkeeper  Notes  \n",
              "0             Odisseas Vlachodimos    NaN  \n",
              "1                      Diogo Costa    NaN  \n",
              "2                          Matheus    NaN  \n",
              "3                     Antonio Adán    NaN  \n",
              "4          Ignacio De Arruabarrena    NaN  \n",
              "5                     Bruno Varela    NaN  \n",
              "6                  Ricardo Batista    NaN  \n",
              "7                   Fabijan Buntić    NaN  \n",
              "8                         Jhonatan    NaN  \n",
              "9           Luiz Lúcio Reis Júnior    NaN  \n",
              "10  Paulo Vítor Fagundes dos Anjos    NaN  \n",
              "11                 Rafael Bracalli    NaN  \n",
              "12                          Andrew    NaN  \n",
              "13                 Kosuke Nakamura    NaN  \n",
              "14                    Daniel Leite    NaN  \n",
              "15        João Miguel Macedo Silva    NaN  \n",
              "16            José Carlos Marafona    NaN  \n",
              "17                 Gabriel Batista    NaN  "
            ],
            "text/html": [
              "\n",
              "  <div id=\"df-19b084f7-9f58-431a-aaf6-18a31f63472a\">\n",
              "    <div class=\"colab-df-container\">\n",
              "      <div>\n",
              "<style scoped>\n",
              "    .dataframe tbody tr th:only-of-type {\n",
              "        vertical-align: middle;\n",
              "    }\n",
              "\n",
              "    .dataframe tbody tr th {\n",
              "        vertical-align: top;\n",
              "    }\n",
              "\n",
              "    .dataframe thead th {\n",
              "        text-align: right;\n",
              "    }\n",
              "</style>\n",
              "<table border=\"1\" class=\"dataframe\">\n",
              "  <thead>\n",
              "    <tr style=\"text-align: right;\">\n",
              "      <th></th>\n",
              "      <th>Rk</th>\n",
              "      <th>Squad</th>\n",
              "      <th>MP</th>\n",
              "      <th>W</th>\n",
              "      <th>D</th>\n",
              "      <th>L</th>\n",
              "      <th>GF</th>\n",
              "      <th>GA</th>\n",
              "      <th>GD</th>\n",
              "      <th>Pts</th>\n",
              "      <th>Pts/MP</th>\n",
              "      <th>xG</th>\n",
              "      <th>xGA</th>\n",
              "      <th>xGD</th>\n",
              "      <th>xGD/90</th>\n",
              "      <th>Last 5</th>\n",
              "      <th>Attendance</th>\n",
              "      <th>Top Team Scorer</th>\n",
              "      <th>Goalkeeper</th>\n",
              "      <th>Notes</th>\n",
              "    </tr>\n",
              "  </thead>\n",
              "  <tbody>\n",
              "    <tr>\n",
              "      <th>0</th>\n",
              "      <td>1</td>\n",
              "      <td>Benfica</td>\n",
              "      <td>26</td>\n",
              "      <td>23</td>\n",
              "      <td>2</td>\n",
              "      <td>1</td>\n",
              "      <td>67</td>\n",
              "      <td>14</td>\n",
              "      <td>53</td>\n",
              "      <td>71</td>\n",
              "      <td>2.73</td>\n",
              "      <td>66.7</td>\n",
              "      <td>16.6</td>\n",
              "      <td>50.1</td>\n",
              "      <td>1.93</td>\n",
              "      <td>W W W W W</td>\n",
              "      <td>55804</td>\n",
              "      <td>João Mário, Gonçalo Ramos - 17</td>\n",
              "      <td>Odisseas Vlachodimos</td>\n",
              "      <td>NaN</td>\n",
              "    </tr>\n",
              "    <tr>\n",
              "      <th>1</th>\n",
              "      <td>2</td>\n",
              "      <td>Porto</td>\n",
              "      <td>26</td>\n",
              "      <td>19</td>\n",
              "      <td>4</td>\n",
              "      <td>3</td>\n",
              "      <td>56</td>\n",
              "      <td>17</td>\n",
              "      <td>39</td>\n",
              "      <td>61</td>\n",
              "      <td>2.35</td>\n",
              "      <td>53.8</td>\n",
              "      <td>22.0</td>\n",
              "      <td>31.8</td>\n",
              "      <td>1.22</td>\n",
              "      <td>L W W D W</td>\n",
              "      <td>38570</td>\n",
              "      <td>Mehdi Taremi - 13</td>\n",
              "      <td>Diogo Costa</td>\n",
              "      <td>NaN</td>\n",
              "    </tr>\n",
              "    <tr>\n",
              "      <th>2</th>\n",
              "      <td>3</td>\n",
              "      <td>Braga</td>\n",
              "      <td>26</td>\n",
              "      <td>19</td>\n",
              "      <td>2</td>\n",
              "      <td>5</td>\n",
              "      <td>56</td>\n",
              "      <td>23</td>\n",
              "      <td>33</td>\n",
              "      <td>59</td>\n",
              "      <td>2.27</td>\n",
              "      <td>43.6</td>\n",
              "      <td>29.0</td>\n",
              "      <td>14.6</td>\n",
              "      <td>0.56</td>\n",
              "      <td>L W W D W</td>\n",
              "      <td>15224</td>\n",
              "      <td>Simon Banza - 10</td>\n",
              "      <td>Matheus</td>\n",
              "      <td>NaN</td>\n",
              "    </tr>\n",
              "    <tr>\n",
              "      <th>3</th>\n",
              "      <td>4</td>\n",
              "      <td>Sporting CP</td>\n",
              "      <td>25</td>\n",
              "      <td>17</td>\n",
              "      <td>2</td>\n",
              "      <td>6</td>\n",
              "      <td>52</td>\n",
              "      <td>23</td>\n",
              "      <td>29</td>\n",
              "      <td>53</td>\n",
              "      <td>2.12</td>\n",
              "      <td>52.1</td>\n",
              "      <td>21.7</td>\n",
              "      <td>30.4</td>\n",
              "      <td>1.21</td>\n",
              "      <td>W W W W W</td>\n",
              "      <td>28959</td>\n",
              "      <td>Pedro Gonçalves - 12</td>\n",
              "      <td>Antonio Adán</td>\n",
              "      <td>NaN</td>\n",
              "    </tr>\n",
              "    <tr>\n",
              "      <th>4</th>\n",
              "      <td>5</td>\n",
              "      <td>Arouca</td>\n",
              "      <td>26</td>\n",
              "      <td>11</td>\n",
              "      <td>8</td>\n",
              "      <td>7</td>\n",
              "      <td>30</td>\n",
              "      <td>32</td>\n",
              "      <td>-2</td>\n",
              "      <td>41</td>\n",
              "      <td>1.58</td>\n",
              "      <td>30.7</td>\n",
              "      <td>35.9</td>\n",
              "      <td>-5.2</td>\n",
              "      <td>-0.20</td>\n",
              "      <td>W D W D W</td>\n",
              "      <td>1666</td>\n",
              "      <td>Rafa Mújica, Oday Dabbagh - 7</td>\n",
              "      <td>Ignacio De Arruabarrena</td>\n",
              "      <td>NaN</td>\n",
              "    </tr>\n",
              "    <tr>\n",
              "      <th>5</th>\n",
              "      <td>6</td>\n",
              "      <td>Vitória</td>\n",
              "      <td>26</td>\n",
              "      <td>12</td>\n",
              "      <td>5</td>\n",
              "      <td>9</td>\n",
              "      <td>25</td>\n",
              "      <td>29</td>\n",
              "      <td>-4</td>\n",
              "      <td>41</td>\n",
              "      <td>1.58</td>\n",
              "      <td>27.0</td>\n",
              "      <td>30.5</td>\n",
              "      <td>-3.6</td>\n",
              "      <td>-0.14</td>\n",
              "      <td>W W L L D</td>\n",
              "      <td>13888</td>\n",
              "      <td>Safira - 5</td>\n",
              "      <td>Bruno Varela</td>\n",
              "      <td>NaN</td>\n",
              "    </tr>\n",
              "    <tr>\n",
              "      <th>6</th>\n",
              "      <td>7</td>\n",
              "      <td>Casa Pia</td>\n",
              "      <td>26</td>\n",
              "      <td>11</td>\n",
              "      <td>5</td>\n",
              "      <td>10</td>\n",
              "      <td>23</td>\n",
              "      <td>27</td>\n",
              "      <td>-4</td>\n",
              "      <td>38</td>\n",
              "      <td>1.46</td>\n",
              "      <td>26.3</td>\n",
              "      <td>35.8</td>\n",
              "      <td>-9.5</td>\n",
              "      <td>-0.36</td>\n",
              "      <td>L W L W L</td>\n",
              "      <td>4225</td>\n",
              "      <td>Rafael Martins, Clayton - 4</td>\n",
              "      <td>Ricardo Batista</td>\n",
              "      <td>NaN</td>\n",
              "    </tr>\n",
              "    <tr>\n",
              "      <th>7</th>\n",
              "      <td>8</td>\n",
              "      <td>Vizela</td>\n",
              "      <td>26</td>\n",
              "      <td>10</td>\n",
              "      <td>5</td>\n",
              "      <td>11</td>\n",
              "      <td>30</td>\n",
              "      <td>28</td>\n",
              "      <td>2</td>\n",
              "      <td>35</td>\n",
              "      <td>1.35</td>\n",
              "      <td>33.3</td>\n",
              "      <td>31.2</td>\n",
              "      <td>2.1</td>\n",
              "      <td>0.08</td>\n",
              "      <td>L W L W W</td>\n",
              "      <td>3263</td>\n",
              "      <td>Milutin Osmajić - 6</td>\n",
              "      <td>Fabijan Buntić</td>\n",
              "      <td>NaN</td>\n",
              "    </tr>\n",
              "    <tr>\n",
              "      <th>8</th>\n",
              "      <td>9</td>\n",
              "      <td>Rio Ave</td>\n",
              "      <td>26</td>\n",
              "      <td>9</td>\n",
              "      <td>6</td>\n",
              "      <td>11</td>\n",
              "      <td>25</td>\n",
              "      <td>29</td>\n",
              "      <td>-4</td>\n",
              "      <td>33</td>\n",
              "      <td>1.27</td>\n",
              "      <td>25.6</td>\n",
              "      <td>35.5</td>\n",
              "      <td>-9.9</td>\n",
              "      <td>-0.38</td>\n",
              "      <td>W L W W L</td>\n",
              "      <td>2870</td>\n",
              "      <td>Abdul-Aziz Yakubu - 7</td>\n",
              "      <td>Jhonatan</td>\n",
              "      <td>NaN</td>\n",
              "    </tr>\n",
              "    <tr>\n",
              "      <th>9</th>\n",
              "      <td>10</td>\n",
              "      <td>Famalicão</td>\n",
              "      <td>26</td>\n",
              "      <td>10</td>\n",
              "      <td>3</td>\n",
              "      <td>13</td>\n",
              "      <td>25</td>\n",
              "      <td>33</td>\n",
              "      <td>-8</td>\n",
              "      <td>33</td>\n",
              "      <td>1.27</td>\n",
              "      <td>26.5</td>\n",
              "      <td>33.8</td>\n",
              "      <td>-7.3</td>\n",
              "      <td>-0.28</td>\n",
              "      <td>W L W W L</td>\n",
              "      <td>3371</td>\n",
              "      <td>Ivan Jaime Pajuelo - 6</td>\n",
              "      <td>Luiz Lúcio Reis Júnior</td>\n",
              "      <td>NaN</td>\n",
              "    </tr>\n",
              "    <tr>\n",
              "      <th>10</th>\n",
              "      <td>11</td>\n",
              "      <td>Chaves</td>\n",
              "      <td>26</td>\n",
              "      <td>8</td>\n",
              "      <td>8</td>\n",
              "      <td>10</td>\n",
              "      <td>27</td>\n",
              "      <td>33</td>\n",
              "      <td>-6</td>\n",
              "      <td>32</td>\n",
              "      <td>1.23</td>\n",
              "      <td>32.6</td>\n",
              "      <td>41.7</td>\n",
              "      <td>-9.1</td>\n",
              "      <td>-0.35</td>\n",
              "      <td>L L W W L</td>\n",
              "      <td>3836</td>\n",
              "      <td>Héctor, Steven Vitória - 6</td>\n",
              "      <td>Paulo Vítor Fagundes dos Anjos</td>\n",
              "      <td>NaN</td>\n",
              "    </tr>\n",
              "    <tr>\n",
              "      <th>11</th>\n",
              "      <td>12</td>\n",
              "      <td>Boavista</td>\n",
              "      <td>26</td>\n",
              "      <td>8</td>\n",
              "      <td>6</td>\n",
              "      <td>12</td>\n",
              "      <td>30</td>\n",
              "      <td>44</td>\n",
              "      <td>-14</td>\n",
              "      <td>30</td>\n",
              "      <td>1.15</td>\n",
              "      <td>27.5</td>\n",
              "      <td>37.6</td>\n",
              "      <td>-10.1</td>\n",
              "      <td>-0.39</td>\n",
              "      <td>W D L L L</td>\n",
              "      <td>6504</td>\n",
              "      <td>Yusupha Njie - 10</td>\n",
              "      <td>Rafael Bracalli</td>\n",
              "      <td>NaN</td>\n",
              "    </tr>\n",
              "    <tr>\n",
              "      <th>12</th>\n",
              "      <td>13</td>\n",
              "      <td>Gil Vicente FC</td>\n",
              "      <td>25</td>\n",
              "      <td>8</td>\n",
              "      <td>5</td>\n",
              "      <td>12</td>\n",
              "      <td>26</td>\n",
              "      <td>32</td>\n",
              "      <td>-6</td>\n",
              "      <td>29</td>\n",
              "      <td>1.16</td>\n",
              "      <td>33.6</td>\n",
              "      <td>39.0</td>\n",
              "      <td>-5.3</td>\n",
              "      <td>-0.21</td>\n",
              "      <td>D W W L L</td>\n",
              "      <td>3985</td>\n",
              "      <td>Fran Navarro - 13</td>\n",
              "      <td>Andrew</td>\n",
              "      <td>NaN</td>\n",
              "    </tr>\n",
              "    <tr>\n",
              "      <th>13</th>\n",
              "      <td>14</td>\n",
              "      <td>Portimonense</td>\n",
              "      <td>26</td>\n",
              "      <td>8</td>\n",
              "      <td>2</td>\n",
              "      <td>16</td>\n",
              "      <td>18</td>\n",
              "      <td>33</td>\n",
              "      <td>-15</td>\n",
              "      <td>26</td>\n",
              "      <td>1.00</td>\n",
              "      <td>32.0</td>\n",
              "      <td>39.7</td>\n",
              "      <td>-7.7</td>\n",
              "      <td>-0.30</td>\n",
              "      <td>L L L L L</td>\n",
              "      <td>1944</td>\n",
              "      <td>Welinton Júnior - 4</td>\n",
              "      <td>Kosuke Nakamura</td>\n",
              "      <td>NaN</td>\n",
              "    </tr>\n",
              "    <tr>\n",
              "      <th>14</th>\n",
              "      <td>15</td>\n",
              "      <td>Estoril</td>\n",
              "      <td>26</td>\n",
              "      <td>7</td>\n",
              "      <td>4</td>\n",
              "      <td>15</td>\n",
              "      <td>22</td>\n",
              "      <td>39</td>\n",
              "      <td>-17</td>\n",
              "      <td>25</td>\n",
              "      <td>0.96</td>\n",
              "      <td>25.3</td>\n",
              "      <td>41.1</td>\n",
              "      <td>-15.8</td>\n",
              "      <td>-0.61</td>\n",
              "      <td>L L L L W</td>\n",
              "      <td>2417</td>\n",
              "      <td>Tiago Gouveia - 5</td>\n",
              "      <td>Daniel Leite</td>\n",
              "      <td>NaN</td>\n",
              "    </tr>\n",
              "    <tr>\n",
              "      <th>15</th>\n",
              "      <td>16</td>\n",
              "      <td>Marítimo</td>\n",
              "      <td>26</td>\n",
              "      <td>5</td>\n",
              "      <td>4</td>\n",
              "      <td>17</td>\n",
              "      <td>21</td>\n",
              "      <td>49</td>\n",
              "      <td>-28</td>\n",
              "      <td>19</td>\n",
              "      <td>0.73</td>\n",
              "      <td>31.5</td>\n",
              "      <td>44.8</td>\n",
              "      <td>-13.3</td>\n",
              "      <td>-0.51</td>\n",
              "      <td>W L L L W</td>\n",
              "      <td>8266</td>\n",
              "      <td>André Vidigal - 5</td>\n",
              "      <td>João Miguel Macedo Silva</td>\n",
              "      <td>NaN</td>\n",
              "    </tr>\n",
              "    <tr>\n",
              "      <th>16</th>\n",
              "      <td>17</td>\n",
              "      <td>Paços</td>\n",
              "      <td>26</td>\n",
              "      <td>4</td>\n",
              "      <td>5</td>\n",
              "      <td>17</td>\n",
              "      <td>19</td>\n",
              "      <td>43</td>\n",
              "      <td>-24</td>\n",
              "      <td>17</td>\n",
              "      <td>0.65</td>\n",
              "      <td>24.2</td>\n",
              "      <td>39.2</td>\n",
              "      <td>-15.0</td>\n",
              "      <td>-0.58</td>\n",
              "      <td>L L W D D</td>\n",
              "      <td>4280</td>\n",
              "      <td>Adrián Butzke - 5</td>\n",
              "      <td>José Carlos Marafona</td>\n",
              "      <td>NaN</td>\n",
              "    </tr>\n",
              "    <tr>\n",
              "      <th>17</th>\n",
              "      <td>18</td>\n",
              "      <td>Santa Clara</td>\n",
              "      <td>26</td>\n",
              "      <td>3</td>\n",
              "      <td>6</td>\n",
              "      <td>17</td>\n",
              "      <td>17</td>\n",
              "      <td>41</td>\n",
              "      <td>-24</td>\n",
              "      <td>15</td>\n",
              "      <td>0.58</td>\n",
              "      <td>21.3</td>\n",
              "      <td>38.5</td>\n",
              "      <td>-17.2</td>\n",
              "      <td>-0.66</td>\n",
              "      <td>L L L L L</td>\n",
              "      <td>2625</td>\n",
              "      <td>Gabriel Vieira - 5</td>\n",
              "      <td>Gabriel Batista</td>\n",
              "      <td>NaN</td>\n",
              "    </tr>\n",
              "  </tbody>\n",
              "</table>\n",
              "</div>\n",
              "      <button class=\"colab-df-convert\" onclick=\"convertToInteractive('df-19b084f7-9f58-431a-aaf6-18a31f63472a')\"\n",
              "              title=\"Convert this dataframe to an interactive table.\"\n",
              "              style=\"display:none;\">\n",
              "        \n",
              "  <svg xmlns=\"http://www.w3.org/2000/svg\" height=\"24px\"viewBox=\"0 0 24 24\"\n",
              "       width=\"24px\">\n",
              "    <path d=\"M0 0h24v24H0V0z\" fill=\"none\"/>\n",
              "    <path d=\"M18.56 5.44l.94 2.06.94-2.06 2.06-.94-2.06-.94-.94-2.06-.94 2.06-2.06.94zm-11 1L8.5 8.5l.94-2.06 2.06-.94-2.06-.94L8.5 2.5l-.94 2.06-2.06.94zm10 10l.94 2.06.94-2.06 2.06-.94-2.06-.94-.94-2.06-.94 2.06-2.06.94z\"/><path d=\"M17.41 7.96l-1.37-1.37c-.4-.4-.92-.59-1.43-.59-.52 0-1.04.2-1.43.59L10.3 9.45l-7.72 7.72c-.78.78-.78 2.05 0 2.83L4 21.41c.39.39.9.59 1.41.59.51 0 1.02-.2 1.41-.59l7.78-7.78 2.81-2.81c.8-.78.8-2.07 0-2.86zM5.41 20L4 18.59l7.72-7.72 1.47 1.35L5.41 20z\"/>\n",
              "  </svg>\n",
              "      </button>\n",
              "      \n",
              "  <style>\n",
              "    .colab-df-container {\n",
              "      display:flex;\n",
              "      flex-wrap:wrap;\n",
              "      gap: 12px;\n",
              "    }\n",
              "\n",
              "    .colab-df-convert {\n",
              "      background-color: #E8F0FE;\n",
              "      border: none;\n",
              "      border-radius: 50%;\n",
              "      cursor: pointer;\n",
              "      display: none;\n",
              "      fill: #1967D2;\n",
              "      height: 32px;\n",
              "      padding: 0 0 0 0;\n",
              "      width: 32px;\n",
              "    }\n",
              "\n",
              "    .colab-df-convert:hover {\n",
              "      background-color: #E2EBFA;\n",
              "      box-shadow: 0px 1px 2px rgba(60, 64, 67, 0.3), 0px 1px 3px 1px rgba(60, 64, 67, 0.15);\n",
              "      fill: #174EA6;\n",
              "    }\n",
              "\n",
              "    [theme=dark] .colab-df-convert {\n",
              "      background-color: #3B4455;\n",
              "      fill: #D2E3FC;\n",
              "    }\n",
              "\n",
              "    [theme=dark] .colab-df-convert:hover {\n",
              "      background-color: #434B5C;\n",
              "      box-shadow: 0px 1px 3px 1px rgba(0, 0, 0, 0.15);\n",
              "      filter: drop-shadow(0px 1px 2px rgba(0, 0, 0, 0.3));\n",
              "      fill: #FFFFFF;\n",
              "    }\n",
              "  </style>\n",
              "\n",
              "      <script>\n",
              "        const buttonEl =\n",
              "          document.querySelector('#df-19b084f7-9f58-431a-aaf6-18a31f63472a button.colab-df-convert');\n",
              "        buttonEl.style.display =\n",
              "          google.colab.kernel.accessAllowed ? 'block' : 'none';\n",
              "\n",
              "        async function convertToInteractive(key) {\n",
              "          const element = document.querySelector('#df-19b084f7-9f58-431a-aaf6-18a31f63472a');\n",
              "          const dataTable =\n",
              "            await google.colab.kernel.invokeFunction('convertToInteractive',\n",
              "                                                     [key], {});\n",
              "          if (!dataTable) return;\n",
              "\n",
              "          const docLinkHtml = 'Like what you see? Visit the ' +\n",
              "            '<a target=\"_blank\" href=https://colab.research.google.com/notebooks/data_table.ipynb>data table notebook</a>'\n",
              "            + ' to learn more about interactive tables.';\n",
              "          element.innerHTML = '';\n",
              "          dataTable['output_type'] = 'display_data';\n",
              "          await google.colab.output.renderOutput(dataTable, element);\n",
              "          const docLink = document.createElement('div');\n",
              "          docLink.innerHTML = docLinkHtml;\n",
              "          element.appendChild(docLink);\n",
              "        }\n",
              "      </script>\n",
              "    </div>\n",
              "  </div>\n",
              "  "
            ],
            "application/vnd.google.colaboratory.module+javascript": "\n      import \"https://ssl.gstatic.com/colaboratory/data_table/99dac6621f6ae8c4/data_table.js\";\n\n      window.createDataTable({\n        data: [[{\n            'v': 0,\n            'f': \"0\",\n        },\n{\n            'v': 1,\n            'f': \"1\",\n        },\n\"Benfica\",\n{\n            'v': 26,\n            'f': \"26\",\n        },\n{\n            'v': 23,\n            'f': \"23\",\n        },\n{\n            'v': 2,\n            'f': \"2\",\n        },\n{\n            'v': 1,\n            'f': \"1\",\n        },\n{\n            'v': 67,\n            'f': \"67\",\n        },\n{\n            'v': 14,\n            'f': \"14\",\n        },\n{\n            'v': 53,\n            'f': \"53\",\n        },\n{\n            'v': 71,\n            'f': \"71\",\n        },\n{\n            'v': 2.73,\n            'f': \"2.73\",\n        },\n{\n            'v': 66.7,\n            'f': \"66.7\",\n        },\n{\n            'v': 16.6,\n            'f': \"16.6\",\n        },\n{\n            'v': 50.1,\n            'f': \"50.1\",\n        },\n{\n            'v': 1.93,\n            'f': \"1.93\",\n        },\n\"W W W W W\",\n{\n            'v': 55804,\n            'f': \"55804\",\n        },\n\"Jo\\u00e3o M\\u00e1rio, Gon\\u00e7alo Ramos - 17\",\n\"Odisseas Vlachodimos\",\n{\n            'v': NaN,\n            'f': \"NaN\",\n        }],\n [{\n            'v': 1,\n            'f': \"1\",\n        },\n{\n            'v': 2,\n            'f': \"2\",\n        },\n\"Porto\",\n{\n            'v': 26,\n            'f': \"26\",\n        },\n{\n            'v': 19,\n            'f': \"19\",\n        },\n{\n            'v': 4,\n            'f': \"4\",\n        },\n{\n            'v': 3,\n            'f': \"3\",\n        },\n{\n            'v': 56,\n            'f': \"56\",\n        },\n{\n            'v': 17,\n            'f': \"17\",\n        },\n{\n            'v': 39,\n            'f': \"39\",\n        },\n{\n            'v': 61,\n            'f': \"61\",\n        },\n{\n            'v': 2.35,\n            'f': \"2.35\",\n        },\n{\n            'v': 53.8,\n            'f': \"53.8\",\n        },\n{\n            'v': 22.0,\n            'f': \"22.0\",\n        },\n{\n            'v': 31.8,\n            'f': \"31.8\",\n        },\n{\n            'v': 1.22,\n            'f': \"1.22\",\n        },\n\"L W W D W\",\n{\n            'v': 38570,\n            'f': \"38570\",\n        },\n\"Mehdi Taremi - 13\",\n\"Diogo Costa\",\n{\n            'v': NaN,\n            'f': \"NaN\",\n        }],\n [{\n            'v': 2,\n            'f': \"2\",\n        },\n{\n            'v': 3,\n            'f': \"3\",\n        },\n\"Braga\",\n{\n            'v': 26,\n            'f': \"26\",\n        },\n{\n            'v': 19,\n            'f': \"19\",\n        },\n{\n            'v': 2,\n            'f': \"2\",\n        },\n{\n            'v': 5,\n            'f': \"5\",\n        },\n{\n            'v': 56,\n            'f': \"56\",\n        },\n{\n            'v': 23,\n            'f': \"23\",\n        },\n{\n            'v': 33,\n            'f': \"33\",\n        },\n{\n            'v': 59,\n            'f': \"59\",\n        },\n{\n            'v': 2.27,\n            'f': \"2.27\",\n        },\n{\n            'v': 43.6,\n            'f': \"43.6\",\n        },\n{\n            'v': 29.0,\n            'f': \"29.0\",\n        },\n{\n            'v': 14.6,\n            'f': \"14.6\",\n        },\n{\n            'v': 0.56,\n            'f': \"0.56\",\n        },\n\"L W W D W\",\n{\n            'v': 15224,\n            'f': \"15224\",\n        },\n\"Simon Banza - 10\",\n\"Matheus\",\n{\n            'v': NaN,\n            'f': \"NaN\",\n        }],\n [{\n            'v': 3,\n            'f': \"3\",\n        },\n{\n            'v': 4,\n            'f': \"4\",\n        },\n\"Sporting CP\",\n{\n            'v': 25,\n            'f': \"25\",\n        },\n{\n            'v': 17,\n            'f': \"17\",\n        },\n{\n            'v': 2,\n            'f': \"2\",\n        },\n{\n            'v': 6,\n            'f': \"6\",\n        },\n{\n            'v': 52,\n            'f': \"52\",\n        },\n{\n            'v': 23,\n            'f': \"23\",\n        },\n{\n            'v': 29,\n            'f': \"29\",\n        },\n{\n            'v': 53,\n            'f': \"53\",\n        },\n{\n            'v': 2.12,\n            'f': \"2.12\",\n        },\n{\n            'v': 52.1,\n            'f': \"52.1\",\n        },\n{\n            'v': 21.7,\n            'f': \"21.7\",\n        },\n{\n            'v': 30.4,\n            'f': \"30.4\",\n        },\n{\n            'v': 1.21,\n            'f': \"1.21\",\n        },\n\"W W W W W\",\n{\n            'v': 28959,\n            'f': \"28959\",\n        },\n\"Pedro Gon\\u00e7alves - 12\",\n\"Antonio Ad\\u00e1n\",\n{\n            'v': NaN,\n            'f': \"NaN\",\n        }],\n [{\n            'v': 4,\n            'f': \"4\",\n        },\n{\n            'v': 5,\n            'f': \"5\",\n        },\n\"Arouca\",\n{\n            'v': 26,\n            'f': \"26\",\n        },\n{\n            'v': 11,\n            'f': \"11\",\n        },\n{\n            'v': 8,\n            'f': \"8\",\n        },\n{\n            'v': 7,\n            'f': \"7\",\n        },\n{\n            'v': 30,\n            'f': \"30\",\n        },\n{\n            'v': 32,\n            'f': \"32\",\n        },\n{\n            'v': -2,\n            'f': \"-2\",\n        },\n{\n            'v': 41,\n            'f': \"41\",\n        },\n{\n            'v': 1.58,\n            'f': \"1.58\",\n        },\n{\n            'v': 30.7,\n            'f': \"30.7\",\n        },\n{\n            'v': 35.9,\n            'f': \"35.9\",\n        },\n{\n            'v': -5.2,\n            'f': \"-5.2\",\n        },\n{\n            'v': -0.2,\n            'f': \"-0.2\",\n        },\n\"W D W D W\",\n{\n            'v': 1666,\n            'f': \"1666\",\n        },\n\"Rafa M\\u00fajica, Oday Dabbagh - 7\",\n\"Ignacio De Arruabarrena\",\n{\n            'v': NaN,\n            'f': \"NaN\",\n        }],\n [{\n            'v': 5,\n            'f': \"5\",\n        },\n{\n            'v': 6,\n            'f': \"6\",\n        },\n\"Vit\\u00f3ria\",\n{\n            'v': 26,\n            'f': \"26\",\n        },\n{\n            'v': 12,\n            'f': \"12\",\n        },\n{\n            'v': 5,\n            'f': \"5\",\n        },\n{\n            'v': 9,\n            'f': \"9\",\n        },\n{\n            'v': 25,\n            'f': \"25\",\n        },\n{\n            'v': 29,\n            'f': \"29\",\n        },\n{\n            'v': -4,\n            'f': \"-4\",\n        },\n{\n            'v': 41,\n            'f': \"41\",\n        },\n{\n            'v': 1.58,\n            'f': \"1.58\",\n        },\n{\n            'v': 27.0,\n            'f': \"27.0\",\n        },\n{\n            'v': 30.5,\n            'f': \"30.5\",\n        },\n{\n            'v': -3.6,\n            'f': \"-3.6\",\n        },\n{\n            'v': -0.14,\n            'f': \"-0.14\",\n        },\n\"W W L L D\",\n{\n            'v': 13888,\n            'f': \"13888\",\n        },\n\"Safira - 5\",\n\"Bruno Varela\",\n{\n            'v': NaN,\n            'f': \"NaN\",\n        }],\n [{\n            'v': 6,\n            'f': \"6\",\n        },\n{\n            'v': 7,\n            'f': \"7\",\n        },\n\"Casa Pia\",\n{\n            'v': 26,\n            'f': \"26\",\n        },\n{\n            'v': 11,\n            'f': \"11\",\n        },\n{\n            'v': 5,\n            'f': \"5\",\n        },\n{\n            'v': 10,\n            'f': \"10\",\n        },\n{\n            'v': 23,\n            'f': \"23\",\n        },\n{\n            'v': 27,\n            'f': \"27\",\n        },\n{\n            'v': -4,\n            'f': \"-4\",\n        },\n{\n            'v': 38,\n            'f': \"38\",\n        },\n{\n            'v': 1.46,\n            'f': \"1.46\",\n        },\n{\n            'v': 26.3,\n            'f': \"26.3\",\n        },\n{\n            'v': 35.8,\n            'f': \"35.8\",\n        },\n{\n            'v': -9.5,\n            'f': \"-9.5\",\n        },\n{\n            'v': -0.36,\n            'f': \"-0.36\",\n        },\n\"L W L W L\",\n{\n            'v': 4225,\n            'f': \"4225\",\n        },\n\"Rafael Martins, Clayton - 4\",\n\"Ricardo Batista\",\n{\n            'v': NaN,\n            'f': \"NaN\",\n        }],\n [{\n            'v': 7,\n            'f': \"7\",\n        },\n{\n            'v': 8,\n            'f': \"8\",\n        },\n\"Vizela\",\n{\n            'v': 26,\n            'f': \"26\",\n        },\n{\n            'v': 10,\n            'f': \"10\",\n        },\n{\n            'v': 5,\n            'f': \"5\",\n        },\n{\n            'v': 11,\n            'f': \"11\",\n        },\n{\n            'v': 30,\n            'f': \"30\",\n        },\n{\n            'v': 28,\n            'f': \"28\",\n        },\n{\n            'v': 2,\n            'f': \"2\",\n        },\n{\n            'v': 35,\n            'f': \"35\",\n        },\n{\n            'v': 1.35,\n            'f': \"1.35\",\n        },\n{\n            'v': 33.3,\n            'f': \"33.3\",\n        },\n{\n            'v': 31.2,\n            'f': \"31.2\",\n        },\n{\n            'v': 2.1,\n            'f': \"2.1\",\n        },\n{\n            'v': 0.08,\n            'f': \"0.08\",\n        },\n\"L W L W W\",\n{\n            'v': 3263,\n            'f': \"3263\",\n        },\n\"Milutin Osmaji\\u0107 - 6\",\n\"Fabijan Bunti\\u0107\",\n{\n            'v': NaN,\n            'f': \"NaN\",\n        }],\n [{\n            'v': 8,\n            'f': \"8\",\n        },\n{\n            'v': 9,\n            'f': \"9\",\n        },\n\"Rio Ave\",\n{\n            'v': 26,\n            'f': \"26\",\n        },\n{\n            'v': 9,\n            'f': \"9\",\n        },\n{\n            'v': 6,\n            'f': \"6\",\n        },\n{\n            'v': 11,\n            'f': \"11\",\n        },\n{\n            'v': 25,\n            'f': \"25\",\n        },\n{\n            'v': 29,\n            'f': \"29\",\n        },\n{\n            'v': -4,\n            'f': \"-4\",\n        },\n{\n            'v': 33,\n            'f': \"33\",\n        },\n{\n            'v': 1.27,\n            'f': \"1.27\",\n        },\n{\n            'v': 25.6,\n            'f': \"25.6\",\n        },\n{\n            'v': 35.5,\n            'f': \"35.5\",\n        },\n{\n            'v': -9.9,\n            'f': \"-9.9\",\n        },\n{\n            'v': -0.38,\n            'f': \"-0.38\",\n        },\n\"W L W W L\",\n{\n            'v': 2870,\n            'f': \"2870\",\n        },\n\"Abdul-Aziz Yakubu - 7\",\n\"Jhonatan\",\n{\n            'v': NaN,\n            'f': \"NaN\",\n        }],\n [{\n            'v': 9,\n            'f': \"9\",\n        },\n{\n            'v': 10,\n            'f': \"10\",\n        },\n\"Famalic\\u00e3o\",\n{\n            'v': 26,\n            'f': \"26\",\n        },\n{\n            'v': 10,\n            'f': \"10\",\n        },\n{\n            'v': 3,\n            'f': \"3\",\n        },\n{\n            'v': 13,\n            'f': \"13\",\n        },\n{\n            'v': 25,\n            'f': \"25\",\n        },\n{\n            'v': 33,\n            'f': \"33\",\n        },\n{\n            'v': -8,\n            'f': \"-8\",\n        },\n{\n            'v': 33,\n            'f': \"33\",\n        },\n{\n            'v': 1.27,\n            'f': \"1.27\",\n        },\n{\n            'v': 26.5,\n            'f': \"26.5\",\n        },\n{\n            'v': 33.8,\n            'f': \"33.8\",\n        },\n{\n            'v': -7.3,\n            'f': \"-7.3\",\n        },\n{\n            'v': -0.28,\n            'f': \"-0.28\",\n        },\n\"W L W W L\",\n{\n            'v': 3371,\n            'f': \"3371\",\n        },\n\"Ivan Jaime Pajuelo - 6\",\n\"Luiz L\\u00facio Reis J\\u00fanior\",\n{\n            'v': NaN,\n            'f': \"NaN\",\n        }],\n [{\n            'v': 10,\n            'f': \"10\",\n        },\n{\n            'v': 11,\n            'f': \"11\",\n        },\n\"Chaves\",\n{\n            'v': 26,\n            'f': \"26\",\n        },\n{\n            'v': 8,\n            'f': \"8\",\n        },\n{\n            'v': 8,\n            'f': \"8\",\n        },\n{\n            'v': 10,\n            'f': \"10\",\n        },\n{\n            'v': 27,\n            'f': \"27\",\n        },\n{\n            'v': 33,\n            'f': \"33\",\n        },\n{\n            'v': -6,\n            'f': \"-6\",\n        },\n{\n            'v': 32,\n            'f': \"32\",\n        },\n{\n            'v': 1.23,\n            'f': \"1.23\",\n        },\n{\n            'v': 32.6,\n            'f': \"32.6\",\n        },\n{\n            'v': 41.7,\n            'f': \"41.7\",\n        },\n{\n            'v': -9.1,\n            'f': \"-9.1\",\n        },\n{\n            'v': -0.35,\n            'f': \"-0.35\",\n        },\n\"L L W W L\",\n{\n            'v': 3836,\n            'f': \"3836\",\n        },\n\"H\\u00e9ctor, Steven Vit\\u00f3ria - 6\",\n\"Paulo V\\u00edtor Fagundes dos Anjos\",\n{\n            'v': NaN,\n            'f': \"NaN\",\n        }],\n [{\n            'v': 11,\n            'f': \"11\",\n        },\n{\n            'v': 12,\n            'f': \"12\",\n        },\n\"Boavista\",\n{\n            'v': 26,\n            'f': \"26\",\n        },\n{\n            'v': 8,\n            'f': \"8\",\n        },\n{\n            'v': 6,\n            'f': \"6\",\n        },\n{\n            'v': 12,\n            'f': \"12\",\n        },\n{\n            'v': 30,\n            'f': \"30\",\n        },\n{\n            'v': 44,\n            'f': \"44\",\n        },\n{\n            'v': -14,\n            'f': \"-14\",\n        },\n{\n            'v': 30,\n            'f': \"30\",\n        },\n{\n            'v': 1.15,\n            'f': \"1.15\",\n        },\n{\n            'v': 27.5,\n            'f': \"27.5\",\n        },\n{\n            'v': 37.6,\n            'f': \"37.6\",\n        },\n{\n            'v': -10.1,\n            'f': \"-10.1\",\n        },\n{\n            'v': -0.39,\n            'f': \"-0.39\",\n        },\n\"W D L L L\",\n{\n            'v': 6504,\n            'f': \"6504\",\n        },\n\"Yusupha Njie - 10\",\n\"Rafael Bracalli\",\n{\n            'v': NaN,\n            'f': \"NaN\",\n        }],\n [{\n            'v': 12,\n            'f': \"12\",\n        },\n{\n            'v': 13,\n            'f': \"13\",\n        },\n\"Gil Vicente FC\",\n{\n            'v': 25,\n            'f': \"25\",\n        },\n{\n            'v': 8,\n            'f': \"8\",\n        },\n{\n            'v': 5,\n            'f': \"5\",\n        },\n{\n            'v': 12,\n            'f': \"12\",\n        },\n{\n            'v': 26,\n            'f': \"26\",\n        },\n{\n            'v': 32,\n            'f': \"32\",\n        },\n{\n            'v': -6,\n            'f': \"-6\",\n        },\n{\n            'v': 29,\n            'f': \"29\",\n        },\n{\n            'v': 1.16,\n            'f': \"1.16\",\n        },\n{\n            'v': 33.6,\n            'f': \"33.6\",\n        },\n{\n            'v': 39.0,\n            'f': \"39.0\",\n        },\n{\n            'v': -5.3,\n            'f': \"-5.3\",\n        },\n{\n            'v': -0.21,\n            'f': \"-0.21\",\n        },\n\"D W W L L\",\n{\n            'v': 3985,\n            'f': \"3985\",\n        },\n\"Fran Navarro - 13\",\n\"Andrew\",\n{\n            'v': NaN,\n            'f': \"NaN\",\n        }],\n [{\n            'v': 13,\n            'f': \"13\",\n        },\n{\n            'v': 14,\n            'f': \"14\",\n        },\n\"Portimonense\",\n{\n            'v': 26,\n            'f': \"26\",\n        },\n{\n            'v': 8,\n            'f': \"8\",\n        },\n{\n            'v': 2,\n            'f': \"2\",\n        },\n{\n            'v': 16,\n            'f': \"16\",\n        },\n{\n            'v': 18,\n            'f': \"18\",\n        },\n{\n            'v': 33,\n            'f': \"33\",\n        },\n{\n            'v': -15,\n            'f': \"-15\",\n        },\n{\n            'v': 26,\n            'f': \"26\",\n        },\n{\n            'v': 1.0,\n            'f': \"1.0\",\n        },\n{\n            'v': 32.0,\n            'f': \"32.0\",\n        },\n{\n            'v': 39.7,\n            'f': \"39.7\",\n        },\n{\n            'v': -7.7,\n            'f': \"-7.7\",\n        },\n{\n            'v': -0.3,\n            'f': \"-0.3\",\n        },\n\"L L L L L\",\n{\n            'v': 1944,\n            'f': \"1944\",\n        },\n\"Welinton J\\u00fanior - 4\",\n\"Kosuke Nakamura\",\n{\n            'v': NaN,\n            'f': \"NaN\",\n        }],\n [{\n            'v': 14,\n            'f': \"14\",\n        },\n{\n            'v': 15,\n            'f': \"15\",\n        },\n\"Estoril\",\n{\n            'v': 26,\n            'f': \"26\",\n        },\n{\n            'v': 7,\n            'f': \"7\",\n        },\n{\n            'v': 4,\n            'f': \"4\",\n        },\n{\n            'v': 15,\n            'f': \"15\",\n        },\n{\n            'v': 22,\n            'f': \"22\",\n        },\n{\n            'v': 39,\n            'f': \"39\",\n        },\n{\n            'v': -17,\n            'f': \"-17\",\n        },\n{\n            'v': 25,\n            'f': \"25\",\n        },\n{\n            'v': 0.96,\n            'f': \"0.96\",\n        },\n{\n            'v': 25.3,\n            'f': \"25.3\",\n        },\n{\n            'v': 41.1,\n            'f': \"41.1\",\n        },\n{\n            'v': -15.8,\n            'f': \"-15.8\",\n        },\n{\n            'v': -0.61,\n            'f': \"-0.61\",\n        },\n\"L L L L W\",\n{\n            'v': 2417,\n            'f': \"2417\",\n        },\n\"Tiago Gouveia - 5\",\n\"Daniel Leite\",\n{\n            'v': NaN,\n            'f': \"NaN\",\n        }],\n [{\n            'v': 15,\n            'f': \"15\",\n        },\n{\n            'v': 16,\n            'f': \"16\",\n        },\n\"Mar\\u00edtimo\",\n{\n            'v': 26,\n            'f': \"26\",\n        },\n{\n            'v': 5,\n            'f': \"5\",\n        },\n{\n            'v': 4,\n            'f': \"4\",\n        },\n{\n            'v': 17,\n            'f': \"17\",\n        },\n{\n            'v': 21,\n            'f': \"21\",\n        },\n{\n            'v': 49,\n            'f': \"49\",\n        },\n{\n            'v': -28,\n            'f': \"-28\",\n        },\n{\n            'v': 19,\n            'f': \"19\",\n        },\n{\n            'v': 0.73,\n            'f': \"0.73\",\n        },\n{\n            'v': 31.5,\n            'f': \"31.5\",\n        },\n{\n            'v': 44.8,\n            'f': \"44.8\",\n        },\n{\n            'v': -13.3,\n            'f': \"-13.3\",\n        },\n{\n            'v': -0.51,\n            'f': \"-0.51\",\n        },\n\"W L L L W\",\n{\n            'v': 8266,\n            'f': \"8266\",\n        },\n\"Andr\\u00e9 Vidigal - 5\",\n\"Jo\\u00e3o Miguel Macedo Silva\",\n{\n            'v': NaN,\n            'f': \"NaN\",\n        }],\n [{\n            'v': 16,\n            'f': \"16\",\n        },\n{\n            'v': 17,\n            'f': \"17\",\n        },\n\"Pa\\u00e7os\",\n{\n            'v': 26,\n            'f': \"26\",\n        },\n{\n            'v': 4,\n            'f': \"4\",\n        },\n{\n            'v': 5,\n            'f': \"5\",\n        },\n{\n            'v': 17,\n            'f': \"17\",\n        },\n{\n            'v': 19,\n            'f': \"19\",\n        },\n{\n            'v': 43,\n            'f': \"43\",\n        },\n{\n            'v': -24,\n            'f': \"-24\",\n        },\n{\n            'v': 17,\n            'f': \"17\",\n        },\n{\n            'v': 0.65,\n            'f': \"0.65\",\n        },\n{\n            'v': 24.2,\n            'f': \"24.2\",\n        },\n{\n            'v': 39.2,\n            'f': \"39.2\",\n        },\n{\n            'v': -15.0,\n            'f': \"-15.0\",\n        },\n{\n            'v': -0.58,\n            'f': \"-0.58\",\n        },\n\"L L W D D\",\n{\n            'v': 4280,\n            'f': \"4280\",\n        },\n\"Adri\\u00e1n Butzke - 5\",\n\"Jos\\u00e9 Carlos Marafona\",\n{\n            'v': NaN,\n            'f': \"NaN\",\n        }],\n [{\n            'v': 17,\n            'f': \"17\",\n        },\n{\n            'v': 18,\n            'f': \"18\",\n        },\n\"Santa Clara\",\n{\n            'v': 26,\n            'f': \"26\",\n        },\n{\n            'v': 3,\n            'f': \"3\",\n        },\n{\n            'v': 6,\n            'f': \"6\",\n        },\n{\n            'v': 17,\n            'f': \"17\",\n        },\n{\n            'v': 17,\n            'f': \"17\",\n        },\n{\n            'v': 41,\n            'f': \"41\",\n        },\n{\n            'v': -24,\n            'f': \"-24\",\n        },\n{\n            'v': 15,\n            'f': \"15\",\n        },\n{\n            'v': 0.58,\n            'f': \"0.58\",\n        },\n{\n            'v': 21.3,\n            'f': \"21.3\",\n        },\n{\n            'v': 38.5,\n            'f': \"38.5\",\n        },\n{\n            'v': -17.2,\n            'f': \"-17.2\",\n        },\n{\n            'v': -0.66,\n            'f': \"-0.66\",\n        },\n\"L L L L L\",\n{\n            'v': 2625,\n            'f': \"2625\",\n        },\n\"Gabriel Vieira - 5\",\n\"Gabriel Batista\",\n{\n            'v': NaN,\n            'f': \"NaN\",\n        }]],\n        columns: [[\"number\", \"index\"], [\"number\", \"Rk\"], [\"string\", \"Squad\"], [\"number\", \"MP\"], [\"number\", \"W\"], [\"number\", \"D\"], [\"number\", \"L\"], [\"number\", \"GF\"], [\"number\", \"GA\"], [\"number\", \"GD\"], [\"number\", \"Pts\"], [\"number\", \"Pts/MP\"], [\"number\", \"xG\"], [\"number\", \"xGA\"], [\"number\", \"xGD\"], [\"number\", \"xGD/90\"], [\"string\", \"Last 5\"], [\"number\", \"Attendance\"], [\"string\", \"Top Team Scorer\"], [\"string\", \"Goalkeeper\"], [\"number\", \"Notes\"]],\n        columnOptions: [{\"width\": \"1px\", \"className\": \"index_column\"}],\n        rowsPerPage: 25,\n        helpUrl: \"https://colab.research.google.com/notebooks/data_table.ipynb\",\n        suppressOutputScrolling: true,\n        minimumWidth: undefined,\n      });\n    "
          },
          "metadata": {},
          "execution_count": 4
        }
      ]
    },
    {
      "cell_type": "markdown",
      "source": [
        "selecionar e concatenar as mesmas tabelas de todas das as ligas\n",
        "\n",
        "> Bloco com recuo\n",
        "\n",
        "\n",
        "\n"
      ],
      "metadata": {
        "id": "ermVCdG-Toti"
      }
    },
    {
      "cell_type": "code",
      "source": [
        "premier1 = df1[0]\n",
        "premier1.to_excel(\"primeiraligaportugal_Regular_season.xlsx\")\n"
      ],
      "metadata": {
        "id": "FNn3xQ37R6st"
      },
      "execution_count": 5,
      "outputs": []
    },
    {
      "cell_type": "markdown",
      "source": [
        "Estatísticas padrão do esquadrão"
      ],
      "metadata": {
        "id": "qzo9lZCVP9c-"
      }
    },
    {
      "cell_type": "code",
      "source": [
        "#df2[2]  # Squad Standard Stats 2022-2023"
      ],
      "metadata": {
        "id": "sH90iZO9z2PG"
      },
      "execution_count": 6,
      "outputs": []
    },
    {
      "cell_type": "code",
      "source": [
        "##premier2.to_excel(\"premier_Squad _tandard _stats.xlsx\")"
      ],
      "metadata": {
        "id": "vjloqWAVSZPS"
      },
      "execution_count": 7,
      "outputs": []
    },
    {
      "cell_type": "markdown",
      "source": [
        "Squad Shooting\n"
      ],
      "metadata": {
        "id": "xTDIEh7DQRZV"
      }
    },
    {
      "cell_type": "code",
      "source": [
        "#df3[8]"
      ],
      "metadata": {
        "id": "w_A-rUYXPYvj"
      },
      "execution_count": 8,
      "outputs": []
    },
    {
      "cell_type": "code",
      "source": [
        "#Concatenando as Planilhas\n",
        "#df = [premier1,premier2]\n",
        "#df = pd.concat(df)\n",
        "\n",
        "#df\n",
        "#df.to_excel(\"tudo.xlsx\")"
      ],
      "metadata": {
        "id": "tKjp3-kvQwg7"
      },
      "execution_count": 9,
      "outputs": []
    },
    {
      "cell_type": "code",
      "source": [
        "#df1[3] #fora de casa "
      ],
      "metadata": {
        "id": "iSzHBUgd0Kyr"
      },
      "execution_count": 10,
      "outputs": []
    },
    {
      "cell_type": "code",
      "source": [
        "#df1[4]#Squad Goalkeeping home"
      ],
      "metadata": {
        "id": "SZi9iLw80MW0"
      },
      "execution_count": 11,
      "outputs": []
    },
    {
      "cell_type": "code",
      "source": [
        "#df1[5]  #Squad Goalkeeping away"
      ],
      "metadata": {
        "id": "BUL16MvT0PH7"
      },
      "execution_count": 12,
      "outputs": []
    },
    {
      "cell_type": "code",
      "source": [
        "#df1[6]#Squad Advanced Goalkeeping home"
      ],
      "metadata": {
        "id": "esjXl6rK0W5y"
      },
      "execution_count": 13,
      "outputs": []
    },
    {
      "cell_type": "code",
      "source": [
        "#df1[7] #Squad Advanced Goalkeeping away"
      ],
      "metadata": {
        "id": "MyvEnTyE0Y12"
      },
      "execution_count": 14,
      "outputs": []
    },
    {
      "cell_type": "code",
      "source": [
        "#df1[8] #Squad Shooting home"
      ],
      "metadata": {
        "id": "gI7hdpmo0cI9"
      },
      "execution_count": 15,
      "outputs": []
    },
    {
      "cell_type": "code",
      "source": [
        "#df1[9] # Squad Shooting away"
      ],
      "metadata": {
        "id": "Xf_JHnHP0fS3"
      },
      "execution_count": 16,
      "outputs": []
    },
    {
      "cell_type": "code",
      "source": [
        " #Squad Passing home"
      ],
      "metadata": {
        "id": "Nfyo7UsV0kbE"
      },
      "execution_count": 17,
      "outputs": []
    },
    {
      "cell_type": "code",
      "source": [
        "#df1[11] # Squad Passing away "
      ],
      "metadata": {
        "id": "PrVneios0mFC"
      },
      "execution_count": 18,
      "outputs": []
    },
    {
      "cell_type": "code",
      "source": [
        "#df1[12]  #Squad Pass Types  home"
      ],
      "metadata": {
        "id": "gBaj2_IS0om5"
      },
      "execution_count": 19,
      "outputs": []
    },
    {
      "cell_type": "code",
      "source": [
        "#df1[13] #Squad Pass Types away "
      ],
      "metadata": {
        "id": "xWrafEzE0qGt"
      },
      "execution_count": 20,
      "outputs": []
    },
    {
      "cell_type": "code",
      "source": [
        "#df1[14] #Squad Goal and Shot Creation home"
      ],
      "metadata": {
        "id": "Vw_QsWw90tGD"
      },
      "execution_count": 21,
      "outputs": []
    },
    {
      "cell_type": "code",
      "source": [
        "#df1[15] #Squad Goal and Shot Creation  away "
      ],
      "metadata": {
        "id": "rhaFnhPZ0w6j"
      },
      "execution_count": 22,
      "outputs": []
    },
    {
      "cell_type": "code",
      "source": [
        "#df1[16] #Squad Goal and Shot Creation  home"
      ],
      "metadata": {
        "id": "I7uji0yl01GT"
      },
      "execution_count": 23,
      "outputs": []
    },
    {
      "cell_type": "code",
      "source": [
        "#df1[17] #Squad Goal and Shot Creation  away "
      ],
      "metadata": {
        "id": "Oh7FDfd-1Bb1"
      },
      "execution_count": 24,
      "outputs": []
    },
    {
      "cell_type": "code",
      "source": [
        "#df1[18]"
      ],
      "metadata": {
        "id": "sJjf9U1C1DVB"
      },
      "execution_count": 25,
      "outputs": []
    },
    {
      "cell_type": "code",
      "source": [
        "#df1[19]"
      ],
      "metadata": {
        "id": "EUp0GHRI1Fa3"
      },
      "execution_count": 26,
      "outputs": []
    },
    {
      "cell_type": "code",
      "source": [
        "#df1[20]"
      ],
      "metadata": {
        "id": "-8gUDBuo1LxQ"
      },
      "execution_count": 27,
      "outputs": []
    },
    {
      "cell_type": "code",
      "source": [
        "#df1[21]"
      ],
      "metadata": {
        "id": "NhuvvvXj1N7H"
      },
      "execution_count": 28,
      "outputs": []
    },
    {
      "cell_type": "code",
      "source": [
        "#df1[22]"
      ],
      "metadata": {
        "id": "FImg0sWn1PtU"
      },
      "execution_count": 29,
      "outputs": []
    },
    {
      "cell_type": "code",
      "source": [],
      "metadata": {
        "id": "c4Iu-6ot1RaE"
      },
      "execution_count": 29,
      "outputs": []
    }
  ]
}