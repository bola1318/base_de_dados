{
  "nbformat": 4,
  "nbformat_minor": 0,
  "metadata": {
    "colab": {
      "provenance": [],
      "include_colab_link": true
    },
    "kernelspec": {
      "name": "python3",
      "display_name": "Python 3"
    },
    "language_info": {
      "name": "python"
    }
  },
  "cells": [
    {
      "cell_type": "markdown",
      "metadata": {
        "id": "view-in-github",
        "colab_type": "text"
      },
      "source": [
        "<a href=\"https://colab.research.google.com/github/bola1318/base_de_dados/blob/main/serieAitalia_league_tabela.ipynb\" target=\"_parent\"><img src=\"https://colab.research.google.com/assets/colab-badge.svg\" alt=\"Open In Colab\"/></a>"
      ]
    },
    {
      "cell_type": "markdown",
      "source": [
        "\n",
        "\n",
        "> Bloco com recuo\n",
        "\n",
        "\n",
        "premier1 = df1[1] #table 1 sitehttps://fbref.com/en/comps/11/Serie-A-Stats#results2022-2023111_overall\n",
        "premier1.to_excel(\"teste.xlsx\")\n",
        "\n"
      ],
      "metadata": {
        "id": "516_x2CvPcI7"
      }
    },
    {
      "cell_type": "code",
      "execution_count": 1,
      "metadata": {
        "id": "Dn7zaZYIw1wQ"
      },
      "outputs": [],
      "source": [
        "import pandas as pd \n",
        "import requests \n",
        "from google.colab import data_table\n",
        "data_table.enable_dataframe_formatter()\n",
        "\n",
        "import csv"
      ]
    },
    {
      "cell_type": "code",
      "source": [
        "#coletando as planilhas \n",
        "\n",
        "header = {\n",
        "  \"User-Agent\": \"Mozilla/5.0 (X11; Linux x86_64) AppleWebKit/537.36 (KHTML, like Gecko) Chrome/50.0.2661.75 Safari/537.36\",\n",
        "  \"X-Requested-With\": \"XMLHttpRequest\"\n",
        "}\n",
        "\n",
        "#A url que você quer acesssar\n",
        "url_link1 = \"https://fbref.com/en/comps/11/Serie-A-Stats#results2022-2023111_overall\"\n",
        "#ENG_01 = pd.read_csv(\"https://fbref.com/en/comps/9/Premier-League-Stats#results2022-202391_overall\") \n",
        "\n",
        "r1 = requests.get(url_link1, headers=header)\n",
        "\n",
        "df1 = pd.read_html(r1.text)\n",
        "\n"
      ],
      "metadata": {
        "id": "yjIfrL2NxsJm"
      },
      "execution_count": 2,
      "outputs": []
    },
    {
      "cell_type": "code",
      "source": [],
      "metadata": {
        "id": "BJceA6xNx7fT"
      },
      "execution_count": 2,
      "outputs": []
    },
    {
      "cell_type": "code",
      "source": [
        "len(df1)"
      ],
      "metadata": {
        "colab": {
          "base_uri": "https://localhost:8080/"
        },
        "id": "U6a29lmozupt",
        "outputId": "b2952c81-9db4-454f-bb7f-f2c0c11021ab"
      },
      "execution_count": 3,
      "outputs": [
        {
          "output_type": "execute_result",
          "data": {
            "text/plain": [
              "24"
            ]
          },
          "metadata": {},
          "execution_count": 3
        }
      ]
    },
    {
      "cell_type": "code",
      "source": [
        "df1[0] #Regular season"
      ],
      "metadata": {
        "id": "yZl82uMVQY6D",
        "colab": {
          "base_uri": "https://localhost:8080/",
          "height": 523
        },
        "outputId": "a1772cc9-5108-47f2-d9e3-c5f8a258839f"
      },
      "execution_count": 4,
      "outputs": [
        {
          "output_type": "execute_result",
          "data": {
            "text/plain": [
              "    Rk          Squad  MP   W   D   L  GF  GA  GD  Pts  Pts/MP    xG   xGA  \\\n",
              "0    1         Napoli  28  23   2   3  64  20  44   71    2.54  51.7  23.7   \n",
              "1    2          Lazio  28  16   7   5  44  19  25   55    1.96  35.3  30.5   \n",
              "2    3          Milan  28  15   6   7  48  36  12   51    1.82  43.6  31.6   \n",
              "3    4          Inter  28  16   2  10  47  32  15   50    1.79  50.1  25.3   \n",
              "4    5           Roma  28  15   5   8  38  26  12   50    1.79  43.8  22.3   \n",
              "5    6       Atalanta  28  14   6   8  47  32  15   48    1.71  44.9  29.5   \n",
              "6    7       Juventus  28  18   5   5  46  22  24   59    2.11  40.9  29.4   \n",
              "7    8        Bologna  28  11   7  10  36  36   0   40    1.43  30.1  35.3   \n",
              "8    9     Fiorentina  28  11   7  10  33  31   2   40    1.43  39.4  33.5   \n",
              "9   10         Torino  28  10   8  10  30  34  -4   38    1.36  31.0  32.7   \n",
              "10  11        Udinese  28   9  11   8  37  34   3   38    1.36  36.6  37.4   \n",
              "11  12       Sassuolo  28  10   7  11  36  41  -5   37    1.32  37.4  37.3   \n",
              "12  13          Monza  28   9   7  12  32  39  -7   34    1.21  34.8  34.7   \n",
              "13  14         Empoli  28   7  10  11  25  36 -11   31    1.11  27.6  43.8   \n",
              "14  15    Salernitana  28   6  10  12  32  48 -16   28    1.00  28.0  50.5   \n",
              "15  16          Lecce  28   6   9  13  24  33  -9   27    0.96  22.4  31.7   \n",
              "16  17         Spezia  28   5  10  13  24  44 -20   25    0.89  29.2  47.1   \n",
              "17  18  Hellas Verona  28   4   7  17  22  42 -20   19    0.68  27.8  35.8   \n",
              "18  19      Sampdoria  28   3   6  19  16  47 -31   15    0.54  23.7  44.9   \n",
              "19  20      Cremonese  28   1  10  17  23  52 -29   13    0.46  29.2  50.4   \n",
              "\n",
              "     xGD  xGD/90     Last 5  Attendance                     Top Team Scorer  \\\n",
              "0   28.0    1.00  W L W W L       27495                 Victor Osimhen - 21   \n",
              "1    4.8    0.17  W W D W W       26250  Ciro Immobile, Mattia Zaccagni - 9   \n",
              "2   12.0    0.43  W L D L W       50412                    Rafael Leão - 10   \n",
              "3   24.8    0.89  L W L L L       43384               Lautaro Martínez - 14   \n",
              "4   21.5    0.77  L W L L W       39711                   Paulo Dybala - 10   \n",
              "5   15.3    0.55  L D L W W       12895                Ademola Lookman - 13   \n",
              "6   11.5    0.41  W L W W W       25078                  Dušan Vlahović - 8   \n",
              "7   -5.2   -0.19  W L D D W       11873                Marko Arnautović - 8   \n",
              "8    5.9    0.21  W W W W W       25764                          Arthur - 6   \n",
              "9   -1.7   -0.06  L W W L D       12411                Antonio Sanabria - 8   \n",
              "10  -0.8   -0.03  D D W W L       14635                            Beto - 9   \n",
              "11   0.0    0.00  W W W W D        8240                Armand Lauriente - 7   \n",
              "12   0.1    0.00  L W D D L        8050                          Carlos - 5   \n",
              "13 -16.2   -0.58  L L L L W        5715                Tommaso Baldanzi - 4   \n",
              "14 -22.5   -0.80  W D D D D       12756                    Boulaye Dia - 10   \n",
              "15  -9.3   -0.33  L L L L L       17128               Gabriel Strefezza - 7   \n",
              "16 -17.9   -0.64  D D W L D        4862                   M'Bala Nzola - 12   \n",
              "17  -7.9   -0.28  L D D L L       11124                   Darko Lazović - 3   \n",
              "18 -21.2   -0.76  L D L W L       13836               Manolo Gabbiadini - 6   \n",
              "19 -21.3   -0.76  W L L D L        8197                  Daniel Ciofani - 6   \n",
              "\n",
              "                Goalkeeper  Notes  \n",
              "0               Alex Meret    NaN  \n",
              "1            Ivan Provedel    NaN  \n",
              "2       Ciprian Tătărușanu    NaN  \n",
              "3              André Onana    NaN  \n",
              "4             Rui Patrício    NaN  \n",
              "5               Juan Musso    NaN  \n",
              "6        Wojciech Szczęsny    NaN  \n",
              "7         Łukasz Skorupski    NaN  \n",
              "8       Pietro Terracciano    NaN  \n",
              "9   Vanja Milinković-Savić    NaN  \n",
              "10         Marco Silvestri    NaN  \n",
              "11         Andrea Consigli    NaN  \n",
              "12     Michele Di Gregorio    NaN  \n",
              "13       Guglielmo Vicario    NaN  \n",
              "14              Luigi Sepe    NaN  \n",
              "15       Wladimiro Falcone    NaN  \n",
              "16    Bartłomiej Drągowski    NaN  \n",
              "17         Lorenzo Montipò    NaN  \n",
              "18             Emil Audero    NaN  \n",
              "19       Marco Carnesecchi    NaN  "
            ],
            "text/html": [
              "\n",
              "  <div id=\"df-043a8f5f-d831-4b03-b2e0-89b2adee9063\">\n",
              "    <div class=\"colab-df-container\">\n",
              "      <div>\n",
              "<style scoped>\n",
              "    .dataframe tbody tr th:only-of-type {\n",
              "        vertical-align: middle;\n",
              "    }\n",
              "\n",
              "    .dataframe tbody tr th {\n",
              "        vertical-align: top;\n",
              "    }\n",
              "\n",
              "    .dataframe thead th {\n",
              "        text-align: right;\n",
              "    }\n",
              "</style>\n",
              "<table border=\"1\" class=\"dataframe\">\n",
              "  <thead>\n",
              "    <tr style=\"text-align: right;\">\n",
              "      <th></th>\n",
              "      <th>Rk</th>\n",
              "      <th>Squad</th>\n",
              "      <th>MP</th>\n",
              "      <th>W</th>\n",
              "      <th>D</th>\n",
              "      <th>L</th>\n",
              "      <th>GF</th>\n",
              "      <th>GA</th>\n",
              "      <th>GD</th>\n",
              "      <th>Pts</th>\n",
              "      <th>Pts/MP</th>\n",
              "      <th>xG</th>\n",
              "      <th>xGA</th>\n",
              "      <th>xGD</th>\n",
              "      <th>xGD/90</th>\n",
              "      <th>Last 5</th>\n",
              "      <th>Attendance</th>\n",
              "      <th>Top Team Scorer</th>\n",
              "      <th>Goalkeeper</th>\n",
              "      <th>Notes</th>\n",
              "    </tr>\n",
              "  </thead>\n",
              "  <tbody>\n",
              "    <tr>\n",
              "      <th>0</th>\n",
              "      <td>1</td>\n",
              "      <td>Napoli</td>\n",
              "      <td>28</td>\n",
              "      <td>23</td>\n",
              "      <td>2</td>\n",
              "      <td>3</td>\n",
              "      <td>64</td>\n",
              "      <td>20</td>\n",
              "      <td>44</td>\n",
              "      <td>71</td>\n",
              "      <td>2.54</td>\n",
              "      <td>51.7</td>\n",
              "      <td>23.7</td>\n",
              "      <td>28.0</td>\n",
              "      <td>1.00</td>\n",
              "      <td>W L W W L</td>\n",
              "      <td>27495</td>\n",
              "      <td>Victor Osimhen - 21</td>\n",
              "      <td>Alex Meret</td>\n",
              "      <td>NaN</td>\n",
              "    </tr>\n",
              "    <tr>\n",
              "      <th>1</th>\n",
              "      <td>2</td>\n",
              "      <td>Lazio</td>\n",
              "      <td>28</td>\n",
              "      <td>16</td>\n",
              "      <td>7</td>\n",
              "      <td>5</td>\n",
              "      <td>44</td>\n",
              "      <td>19</td>\n",
              "      <td>25</td>\n",
              "      <td>55</td>\n",
              "      <td>1.96</td>\n",
              "      <td>35.3</td>\n",
              "      <td>30.5</td>\n",
              "      <td>4.8</td>\n",
              "      <td>0.17</td>\n",
              "      <td>W W D W W</td>\n",
              "      <td>26250</td>\n",
              "      <td>Ciro Immobile, Mattia Zaccagni - 9</td>\n",
              "      <td>Ivan Provedel</td>\n",
              "      <td>NaN</td>\n",
              "    </tr>\n",
              "    <tr>\n",
              "      <th>2</th>\n",
              "      <td>3</td>\n",
              "      <td>Milan</td>\n",
              "      <td>28</td>\n",
              "      <td>15</td>\n",
              "      <td>6</td>\n",
              "      <td>7</td>\n",
              "      <td>48</td>\n",
              "      <td>36</td>\n",
              "      <td>12</td>\n",
              "      <td>51</td>\n",
              "      <td>1.82</td>\n",
              "      <td>43.6</td>\n",
              "      <td>31.6</td>\n",
              "      <td>12.0</td>\n",
              "      <td>0.43</td>\n",
              "      <td>W L D L W</td>\n",
              "      <td>50412</td>\n",
              "      <td>Rafael Leão - 10</td>\n",
              "      <td>Ciprian Tătărușanu</td>\n",
              "      <td>NaN</td>\n",
              "    </tr>\n",
              "    <tr>\n",
              "      <th>3</th>\n",
              "      <td>4</td>\n",
              "      <td>Inter</td>\n",
              "      <td>28</td>\n",
              "      <td>16</td>\n",
              "      <td>2</td>\n",
              "      <td>10</td>\n",
              "      <td>47</td>\n",
              "      <td>32</td>\n",
              "      <td>15</td>\n",
              "      <td>50</td>\n",
              "      <td>1.79</td>\n",
              "      <td>50.1</td>\n",
              "      <td>25.3</td>\n",
              "      <td>24.8</td>\n",
              "      <td>0.89</td>\n",
              "      <td>L W L L L</td>\n",
              "      <td>43384</td>\n",
              "      <td>Lautaro Martínez - 14</td>\n",
              "      <td>André Onana</td>\n",
              "      <td>NaN</td>\n",
              "    </tr>\n",
              "    <tr>\n",
              "      <th>4</th>\n",
              "      <td>5</td>\n",
              "      <td>Roma</td>\n",
              "      <td>28</td>\n",
              "      <td>15</td>\n",
              "      <td>5</td>\n",
              "      <td>8</td>\n",
              "      <td>38</td>\n",
              "      <td>26</td>\n",
              "      <td>12</td>\n",
              "      <td>50</td>\n",
              "      <td>1.79</td>\n",
              "      <td>43.8</td>\n",
              "      <td>22.3</td>\n",
              "      <td>21.5</td>\n",
              "      <td>0.77</td>\n",
              "      <td>L W L L W</td>\n",
              "      <td>39711</td>\n",
              "      <td>Paulo Dybala - 10</td>\n",
              "      <td>Rui Patrício</td>\n",
              "      <td>NaN</td>\n",
              "    </tr>\n",
              "    <tr>\n",
              "      <th>5</th>\n",
              "      <td>6</td>\n",
              "      <td>Atalanta</td>\n",
              "      <td>28</td>\n",
              "      <td>14</td>\n",
              "      <td>6</td>\n",
              "      <td>8</td>\n",
              "      <td>47</td>\n",
              "      <td>32</td>\n",
              "      <td>15</td>\n",
              "      <td>48</td>\n",
              "      <td>1.71</td>\n",
              "      <td>44.9</td>\n",
              "      <td>29.5</td>\n",
              "      <td>15.3</td>\n",
              "      <td>0.55</td>\n",
              "      <td>L D L W W</td>\n",
              "      <td>12895</td>\n",
              "      <td>Ademola Lookman - 13</td>\n",
              "      <td>Juan Musso</td>\n",
              "      <td>NaN</td>\n",
              "    </tr>\n",
              "    <tr>\n",
              "      <th>6</th>\n",
              "      <td>7</td>\n",
              "      <td>Juventus</td>\n",
              "      <td>28</td>\n",
              "      <td>18</td>\n",
              "      <td>5</td>\n",
              "      <td>5</td>\n",
              "      <td>46</td>\n",
              "      <td>22</td>\n",
              "      <td>24</td>\n",
              "      <td>59</td>\n",
              "      <td>2.11</td>\n",
              "      <td>40.9</td>\n",
              "      <td>29.4</td>\n",
              "      <td>11.5</td>\n",
              "      <td>0.41</td>\n",
              "      <td>W L W W W</td>\n",
              "      <td>25078</td>\n",
              "      <td>Dušan Vlahović - 8</td>\n",
              "      <td>Wojciech Szczęsny</td>\n",
              "      <td>NaN</td>\n",
              "    </tr>\n",
              "    <tr>\n",
              "      <th>7</th>\n",
              "      <td>8</td>\n",
              "      <td>Bologna</td>\n",
              "      <td>28</td>\n",
              "      <td>11</td>\n",
              "      <td>7</td>\n",
              "      <td>10</td>\n",
              "      <td>36</td>\n",
              "      <td>36</td>\n",
              "      <td>0</td>\n",
              "      <td>40</td>\n",
              "      <td>1.43</td>\n",
              "      <td>30.1</td>\n",
              "      <td>35.3</td>\n",
              "      <td>-5.2</td>\n",
              "      <td>-0.19</td>\n",
              "      <td>W L D D W</td>\n",
              "      <td>11873</td>\n",
              "      <td>Marko Arnautović - 8</td>\n",
              "      <td>Łukasz Skorupski</td>\n",
              "      <td>NaN</td>\n",
              "    </tr>\n",
              "    <tr>\n",
              "      <th>8</th>\n",
              "      <td>9</td>\n",
              "      <td>Fiorentina</td>\n",
              "      <td>28</td>\n",
              "      <td>11</td>\n",
              "      <td>7</td>\n",
              "      <td>10</td>\n",
              "      <td>33</td>\n",
              "      <td>31</td>\n",
              "      <td>2</td>\n",
              "      <td>40</td>\n",
              "      <td>1.43</td>\n",
              "      <td>39.4</td>\n",
              "      <td>33.5</td>\n",
              "      <td>5.9</td>\n",
              "      <td>0.21</td>\n",
              "      <td>W W W W W</td>\n",
              "      <td>25764</td>\n",
              "      <td>Arthur - 6</td>\n",
              "      <td>Pietro Terracciano</td>\n",
              "      <td>NaN</td>\n",
              "    </tr>\n",
              "    <tr>\n",
              "      <th>9</th>\n",
              "      <td>10</td>\n",
              "      <td>Torino</td>\n",
              "      <td>28</td>\n",
              "      <td>10</td>\n",
              "      <td>8</td>\n",
              "      <td>10</td>\n",
              "      <td>30</td>\n",
              "      <td>34</td>\n",
              "      <td>-4</td>\n",
              "      <td>38</td>\n",
              "      <td>1.36</td>\n",
              "      <td>31.0</td>\n",
              "      <td>32.7</td>\n",
              "      <td>-1.7</td>\n",
              "      <td>-0.06</td>\n",
              "      <td>L W W L D</td>\n",
              "      <td>12411</td>\n",
              "      <td>Antonio Sanabria - 8</td>\n",
              "      <td>Vanja Milinković-Savić</td>\n",
              "      <td>NaN</td>\n",
              "    </tr>\n",
              "    <tr>\n",
              "      <th>10</th>\n",
              "      <td>11</td>\n",
              "      <td>Udinese</td>\n",
              "      <td>28</td>\n",
              "      <td>9</td>\n",
              "      <td>11</td>\n",
              "      <td>8</td>\n",
              "      <td>37</td>\n",
              "      <td>34</td>\n",
              "      <td>3</td>\n",
              "      <td>38</td>\n",
              "      <td>1.36</td>\n",
              "      <td>36.6</td>\n",
              "      <td>37.4</td>\n",
              "      <td>-0.8</td>\n",
              "      <td>-0.03</td>\n",
              "      <td>D D W W L</td>\n",
              "      <td>14635</td>\n",
              "      <td>Beto - 9</td>\n",
              "      <td>Marco Silvestri</td>\n",
              "      <td>NaN</td>\n",
              "    </tr>\n",
              "    <tr>\n",
              "      <th>11</th>\n",
              "      <td>12</td>\n",
              "      <td>Sassuolo</td>\n",
              "      <td>28</td>\n",
              "      <td>10</td>\n",
              "      <td>7</td>\n",
              "      <td>11</td>\n",
              "      <td>36</td>\n",
              "      <td>41</td>\n",
              "      <td>-5</td>\n",
              "      <td>37</td>\n",
              "      <td>1.32</td>\n",
              "      <td>37.4</td>\n",
              "      <td>37.3</td>\n",
              "      <td>0.0</td>\n",
              "      <td>0.00</td>\n",
              "      <td>W W W W D</td>\n",
              "      <td>8240</td>\n",
              "      <td>Armand Lauriente - 7</td>\n",
              "      <td>Andrea Consigli</td>\n",
              "      <td>NaN</td>\n",
              "    </tr>\n",
              "    <tr>\n",
              "      <th>12</th>\n",
              "      <td>13</td>\n",
              "      <td>Monza</td>\n",
              "      <td>28</td>\n",
              "      <td>9</td>\n",
              "      <td>7</td>\n",
              "      <td>12</td>\n",
              "      <td>32</td>\n",
              "      <td>39</td>\n",
              "      <td>-7</td>\n",
              "      <td>34</td>\n",
              "      <td>1.21</td>\n",
              "      <td>34.8</td>\n",
              "      <td>34.7</td>\n",
              "      <td>0.1</td>\n",
              "      <td>0.00</td>\n",
              "      <td>L W D D L</td>\n",
              "      <td>8050</td>\n",
              "      <td>Carlos - 5</td>\n",
              "      <td>Michele Di Gregorio</td>\n",
              "      <td>NaN</td>\n",
              "    </tr>\n",
              "    <tr>\n",
              "      <th>13</th>\n",
              "      <td>14</td>\n",
              "      <td>Empoli</td>\n",
              "      <td>28</td>\n",
              "      <td>7</td>\n",
              "      <td>10</td>\n",
              "      <td>11</td>\n",
              "      <td>25</td>\n",
              "      <td>36</td>\n",
              "      <td>-11</td>\n",
              "      <td>31</td>\n",
              "      <td>1.11</td>\n",
              "      <td>27.6</td>\n",
              "      <td>43.8</td>\n",
              "      <td>-16.2</td>\n",
              "      <td>-0.58</td>\n",
              "      <td>L L L L W</td>\n",
              "      <td>5715</td>\n",
              "      <td>Tommaso Baldanzi - 4</td>\n",
              "      <td>Guglielmo Vicario</td>\n",
              "      <td>NaN</td>\n",
              "    </tr>\n",
              "    <tr>\n",
              "      <th>14</th>\n",
              "      <td>15</td>\n",
              "      <td>Salernitana</td>\n",
              "      <td>28</td>\n",
              "      <td>6</td>\n",
              "      <td>10</td>\n",
              "      <td>12</td>\n",
              "      <td>32</td>\n",
              "      <td>48</td>\n",
              "      <td>-16</td>\n",
              "      <td>28</td>\n",
              "      <td>1.00</td>\n",
              "      <td>28.0</td>\n",
              "      <td>50.5</td>\n",
              "      <td>-22.5</td>\n",
              "      <td>-0.80</td>\n",
              "      <td>W D D D D</td>\n",
              "      <td>12756</td>\n",
              "      <td>Boulaye Dia - 10</td>\n",
              "      <td>Luigi Sepe</td>\n",
              "      <td>NaN</td>\n",
              "    </tr>\n",
              "    <tr>\n",
              "      <th>15</th>\n",
              "      <td>16</td>\n",
              "      <td>Lecce</td>\n",
              "      <td>28</td>\n",
              "      <td>6</td>\n",
              "      <td>9</td>\n",
              "      <td>13</td>\n",
              "      <td>24</td>\n",
              "      <td>33</td>\n",
              "      <td>-9</td>\n",
              "      <td>27</td>\n",
              "      <td>0.96</td>\n",
              "      <td>22.4</td>\n",
              "      <td>31.7</td>\n",
              "      <td>-9.3</td>\n",
              "      <td>-0.33</td>\n",
              "      <td>L L L L L</td>\n",
              "      <td>17128</td>\n",
              "      <td>Gabriel Strefezza - 7</td>\n",
              "      <td>Wladimiro Falcone</td>\n",
              "      <td>NaN</td>\n",
              "    </tr>\n",
              "    <tr>\n",
              "      <th>16</th>\n",
              "      <td>17</td>\n",
              "      <td>Spezia</td>\n",
              "      <td>28</td>\n",
              "      <td>5</td>\n",
              "      <td>10</td>\n",
              "      <td>13</td>\n",
              "      <td>24</td>\n",
              "      <td>44</td>\n",
              "      <td>-20</td>\n",
              "      <td>25</td>\n",
              "      <td>0.89</td>\n",
              "      <td>29.2</td>\n",
              "      <td>47.1</td>\n",
              "      <td>-17.9</td>\n",
              "      <td>-0.64</td>\n",
              "      <td>D D W L D</td>\n",
              "      <td>4862</td>\n",
              "      <td>M'Bala Nzola - 12</td>\n",
              "      <td>Bartłomiej Drągowski</td>\n",
              "      <td>NaN</td>\n",
              "    </tr>\n",
              "    <tr>\n",
              "      <th>17</th>\n",
              "      <td>18</td>\n",
              "      <td>Hellas Verona</td>\n",
              "      <td>28</td>\n",
              "      <td>4</td>\n",
              "      <td>7</td>\n",
              "      <td>17</td>\n",
              "      <td>22</td>\n",
              "      <td>42</td>\n",
              "      <td>-20</td>\n",
              "      <td>19</td>\n",
              "      <td>0.68</td>\n",
              "      <td>27.8</td>\n",
              "      <td>35.8</td>\n",
              "      <td>-7.9</td>\n",
              "      <td>-0.28</td>\n",
              "      <td>L D D L L</td>\n",
              "      <td>11124</td>\n",
              "      <td>Darko Lazović - 3</td>\n",
              "      <td>Lorenzo Montipò</td>\n",
              "      <td>NaN</td>\n",
              "    </tr>\n",
              "    <tr>\n",
              "      <th>18</th>\n",
              "      <td>19</td>\n",
              "      <td>Sampdoria</td>\n",
              "      <td>28</td>\n",
              "      <td>3</td>\n",
              "      <td>6</td>\n",
              "      <td>19</td>\n",
              "      <td>16</td>\n",
              "      <td>47</td>\n",
              "      <td>-31</td>\n",
              "      <td>15</td>\n",
              "      <td>0.54</td>\n",
              "      <td>23.7</td>\n",
              "      <td>44.9</td>\n",
              "      <td>-21.2</td>\n",
              "      <td>-0.76</td>\n",
              "      <td>L D L W L</td>\n",
              "      <td>13836</td>\n",
              "      <td>Manolo Gabbiadini - 6</td>\n",
              "      <td>Emil Audero</td>\n",
              "      <td>NaN</td>\n",
              "    </tr>\n",
              "    <tr>\n",
              "      <th>19</th>\n",
              "      <td>20</td>\n",
              "      <td>Cremonese</td>\n",
              "      <td>28</td>\n",
              "      <td>1</td>\n",
              "      <td>10</td>\n",
              "      <td>17</td>\n",
              "      <td>23</td>\n",
              "      <td>52</td>\n",
              "      <td>-29</td>\n",
              "      <td>13</td>\n",
              "      <td>0.46</td>\n",
              "      <td>29.2</td>\n",
              "      <td>50.4</td>\n",
              "      <td>-21.3</td>\n",
              "      <td>-0.76</td>\n",
              "      <td>W L L D L</td>\n",
              "      <td>8197</td>\n",
              "      <td>Daniel Ciofani - 6</td>\n",
              "      <td>Marco Carnesecchi</td>\n",
              "      <td>NaN</td>\n",
              "    </tr>\n",
              "  </tbody>\n",
              "</table>\n",
              "</div>\n",
              "      <button class=\"colab-df-convert\" onclick=\"convertToInteractive('df-043a8f5f-d831-4b03-b2e0-89b2adee9063')\"\n",
              "              title=\"Convert this dataframe to an interactive table.\"\n",
              "              style=\"display:none;\">\n",
              "        \n",
              "  <svg xmlns=\"http://www.w3.org/2000/svg\" height=\"24px\"viewBox=\"0 0 24 24\"\n",
              "       width=\"24px\">\n",
              "    <path d=\"M0 0h24v24H0V0z\" fill=\"none\"/>\n",
              "    <path d=\"M18.56 5.44l.94 2.06.94-2.06 2.06-.94-2.06-.94-.94-2.06-.94 2.06-2.06.94zm-11 1L8.5 8.5l.94-2.06 2.06-.94-2.06-.94L8.5 2.5l-.94 2.06-2.06.94zm10 10l.94 2.06.94-2.06 2.06-.94-2.06-.94-.94-2.06-.94 2.06-2.06.94z\"/><path d=\"M17.41 7.96l-1.37-1.37c-.4-.4-.92-.59-1.43-.59-.52 0-1.04.2-1.43.59L10.3 9.45l-7.72 7.72c-.78.78-.78 2.05 0 2.83L4 21.41c.39.39.9.59 1.41.59.51 0 1.02-.2 1.41-.59l7.78-7.78 2.81-2.81c.8-.78.8-2.07 0-2.86zM5.41 20L4 18.59l7.72-7.72 1.47 1.35L5.41 20z\"/>\n",
              "  </svg>\n",
              "      </button>\n",
              "      \n",
              "  <style>\n",
              "    .colab-df-container {\n",
              "      display:flex;\n",
              "      flex-wrap:wrap;\n",
              "      gap: 12px;\n",
              "    }\n",
              "\n",
              "    .colab-df-convert {\n",
              "      background-color: #E8F0FE;\n",
              "      border: none;\n",
              "      border-radius: 50%;\n",
              "      cursor: pointer;\n",
              "      display: none;\n",
              "      fill: #1967D2;\n",
              "      height: 32px;\n",
              "      padding: 0 0 0 0;\n",
              "      width: 32px;\n",
              "    }\n",
              "\n",
              "    .colab-df-convert:hover {\n",
              "      background-color: #E2EBFA;\n",
              "      box-shadow: 0px 1px 2px rgba(60, 64, 67, 0.3), 0px 1px 3px 1px rgba(60, 64, 67, 0.15);\n",
              "      fill: #174EA6;\n",
              "    }\n",
              "\n",
              "    [theme=dark] .colab-df-convert {\n",
              "      background-color: #3B4455;\n",
              "      fill: #D2E3FC;\n",
              "    }\n",
              "\n",
              "    [theme=dark] .colab-df-convert:hover {\n",
              "      background-color: #434B5C;\n",
              "      box-shadow: 0px 1px 3px 1px rgba(0, 0, 0, 0.15);\n",
              "      filter: drop-shadow(0px 1px 2px rgba(0, 0, 0, 0.3));\n",
              "      fill: #FFFFFF;\n",
              "    }\n",
              "  </style>\n",
              "\n",
              "      <script>\n",
              "        const buttonEl =\n",
              "          document.querySelector('#df-043a8f5f-d831-4b03-b2e0-89b2adee9063 button.colab-df-convert');\n",
              "        buttonEl.style.display =\n",
              "          google.colab.kernel.accessAllowed ? 'block' : 'none';\n",
              "\n",
              "        async function convertToInteractive(key) {\n",
              "          const element = document.querySelector('#df-043a8f5f-d831-4b03-b2e0-89b2adee9063');\n",
              "          const dataTable =\n",
              "            await google.colab.kernel.invokeFunction('convertToInteractive',\n",
              "                                                     [key], {});\n",
              "          if (!dataTable) return;\n",
              "\n",
              "          const docLinkHtml = 'Like what you see? Visit the ' +\n",
              "            '<a target=\"_blank\" href=https://colab.research.google.com/notebooks/data_table.ipynb>data table notebook</a>'\n",
              "            + ' to learn more about interactive tables.';\n",
              "          element.innerHTML = '';\n",
              "          dataTable['output_type'] = 'display_data';\n",
              "          await google.colab.output.renderOutput(dataTable, element);\n",
              "          const docLink = document.createElement('div');\n",
              "          docLink.innerHTML = docLinkHtml;\n",
              "          element.appendChild(docLink);\n",
              "        }\n",
              "      </script>\n",
              "    </div>\n",
              "  </div>\n",
              "  "
            ],
            "application/vnd.google.colaboratory.module+javascript": "\n      import \"https://ssl.gstatic.com/colaboratory/data_table/99dac6621f6ae8c4/data_table.js\";\n\n      window.createDataTable({\n        data: [[{\n            'v': 0,\n            'f': \"0\",\n        },\n{\n            'v': 1,\n            'f': \"1\",\n        },\n\"Napoli\",\n{\n            'v': 28,\n            'f': \"28\",\n        },\n{\n            'v': 23,\n            'f': \"23\",\n        },\n{\n            'v': 2,\n            'f': \"2\",\n        },\n{\n            'v': 3,\n            'f': \"3\",\n        },\n{\n            'v': 64,\n            'f': \"64\",\n        },\n{\n            'v': 20,\n            'f': \"20\",\n        },\n{\n            'v': 44,\n            'f': \"44\",\n        },\n{\n            'v': 71,\n            'f': \"71\",\n        },\n{\n            'v': 2.54,\n            'f': \"2.54\",\n        },\n{\n            'v': 51.7,\n            'f': \"51.7\",\n        },\n{\n            'v': 23.7,\n            'f': \"23.7\",\n        },\n{\n            'v': 28.0,\n            'f': \"28.0\",\n        },\n{\n            'v': 1.0,\n            'f': \"1.0\",\n        },\n\"W L W W L\",\n{\n            'v': 27495,\n            'f': \"27495\",\n        },\n\"Victor Osimhen - 21\",\n\"Alex Meret\",\n{\n            'v': NaN,\n            'f': \"NaN\",\n        }],\n [{\n            'v': 1,\n            'f': \"1\",\n        },\n{\n            'v': 2,\n            'f': \"2\",\n        },\n\"Lazio\",\n{\n            'v': 28,\n            'f': \"28\",\n        },\n{\n            'v': 16,\n            'f': \"16\",\n        },\n{\n            'v': 7,\n            'f': \"7\",\n        },\n{\n            'v': 5,\n            'f': \"5\",\n        },\n{\n            'v': 44,\n            'f': \"44\",\n        },\n{\n            'v': 19,\n            'f': \"19\",\n        },\n{\n            'v': 25,\n            'f': \"25\",\n        },\n{\n            'v': 55,\n            'f': \"55\",\n        },\n{\n            'v': 1.96,\n            'f': \"1.96\",\n        },\n{\n            'v': 35.3,\n            'f': \"35.3\",\n        },\n{\n            'v': 30.5,\n            'f': \"30.5\",\n        },\n{\n            'v': 4.8,\n            'f': \"4.8\",\n        },\n{\n            'v': 0.17,\n            'f': \"0.17\",\n        },\n\"W W D W W\",\n{\n            'v': 26250,\n            'f': \"26250\",\n        },\n\"Ciro Immobile, Mattia Zaccagni - 9\",\n\"Ivan Provedel\",\n{\n            'v': NaN,\n            'f': \"NaN\",\n        }],\n [{\n            'v': 2,\n            'f': \"2\",\n        },\n{\n            'v': 3,\n            'f': \"3\",\n        },\n\"Milan\",\n{\n            'v': 28,\n            'f': \"28\",\n        },\n{\n            'v': 15,\n            'f': \"15\",\n        },\n{\n            'v': 6,\n            'f': \"6\",\n        },\n{\n            'v': 7,\n            'f': \"7\",\n        },\n{\n            'v': 48,\n            'f': \"48\",\n        },\n{\n            'v': 36,\n            'f': \"36\",\n        },\n{\n            'v': 12,\n            'f': \"12\",\n        },\n{\n            'v': 51,\n            'f': \"51\",\n        },\n{\n            'v': 1.82,\n            'f': \"1.82\",\n        },\n{\n            'v': 43.6,\n            'f': \"43.6\",\n        },\n{\n            'v': 31.6,\n            'f': \"31.6\",\n        },\n{\n            'v': 12.0,\n            'f': \"12.0\",\n        },\n{\n            'v': 0.43,\n            'f': \"0.43\",\n        },\n\"W L D L W\",\n{\n            'v': 50412,\n            'f': \"50412\",\n        },\n\"Rafael Le\\u00e3o - 10\",\n\"Ciprian T\\u0103t\\u0103ru\\u0219anu\",\n{\n            'v': NaN,\n            'f': \"NaN\",\n        }],\n [{\n            'v': 3,\n            'f': \"3\",\n        },\n{\n            'v': 4,\n            'f': \"4\",\n        },\n\"Inter\",\n{\n            'v': 28,\n            'f': \"28\",\n        },\n{\n            'v': 16,\n            'f': \"16\",\n        },\n{\n            'v': 2,\n            'f': \"2\",\n        },\n{\n            'v': 10,\n            'f': \"10\",\n        },\n{\n            'v': 47,\n            'f': \"47\",\n        },\n{\n            'v': 32,\n            'f': \"32\",\n        },\n{\n            'v': 15,\n            'f': \"15\",\n        },\n{\n            'v': 50,\n            'f': \"50\",\n        },\n{\n            'v': 1.79,\n            'f': \"1.79\",\n        },\n{\n            'v': 50.1,\n            'f': \"50.1\",\n        },\n{\n            'v': 25.3,\n            'f': \"25.3\",\n        },\n{\n            'v': 24.8,\n            'f': \"24.8\",\n        },\n{\n            'v': 0.89,\n            'f': \"0.89\",\n        },\n\"L W L L L\",\n{\n            'v': 43384,\n            'f': \"43384\",\n        },\n\"Lautaro Mart\\u00ednez - 14\",\n\"Andr\\u00e9 Onana\",\n{\n            'v': NaN,\n            'f': \"NaN\",\n        }],\n [{\n            'v': 4,\n            'f': \"4\",\n        },\n{\n            'v': 5,\n            'f': \"5\",\n        },\n\"Roma\",\n{\n            'v': 28,\n            'f': \"28\",\n        },\n{\n            'v': 15,\n            'f': \"15\",\n        },\n{\n            'v': 5,\n            'f': \"5\",\n        },\n{\n            'v': 8,\n            'f': \"8\",\n        },\n{\n            'v': 38,\n            'f': \"38\",\n        },\n{\n            'v': 26,\n            'f': \"26\",\n        },\n{\n            'v': 12,\n            'f': \"12\",\n        },\n{\n            'v': 50,\n            'f': \"50\",\n        },\n{\n            'v': 1.79,\n            'f': \"1.79\",\n        },\n{\n            'v': 43.8,\n            'f': \"43.8\",\n        },\n{\n            'v': 22.3,\n            'f': \"22.3\",\n        },\n{\n            'v': 21.5,\n            'f': \"21.5\",\n        },\n{\n            'v': 0.77,\n            'f': \"0.77\",\n        },\n\"L W L L W\",\n{\n            'v': 39711,\n            'f': \"39711\",\n        },\n\"Paulo Dybala - 10\",\n\"Rui Patr\\u00edcio\",\n{\n            'v': NaN,\n            'f': \"NaN\",\n        }],\n [{\n            'v': 5,\n            'f': \"5\",\n        },\n{\n            'v': 6,\n            'f': \"6\",\n        },\n\"Atalanta\",\n{\n            'v': 28,\n            'f': \"28\",\n        },\n{\n            'v': 14,\n            'f': \"14\",\n        },\n{\n            'v': 6,\n            'f': \"6\",\n        },\n{\n            'v': 8,\n            'f': \"8\",\n        },\n{\n            'v': 47,\n            'f': \"47\",\n        },\n{\n            'v': 32,\n            'f': \"32\",\n        },\n{\n            'v': 15,\n            'f': \"15\",\n        },\n{\n            'v': 48,\n            'f': \"48\",\n        },\n{\n            'v': 1.71,\n            'f': \"1.71\",\n        },\n{\n            'v': 44.9,\n            'f': \"44.9\",\n        },\n{\n            'v': 29.5,\n            'f': \"29.5\",\n        },\n{\n            'v': 15.3,\n            'f': \"15.3\",\n        },\n{\n            'v': 0.55,\n            'f': \"0.55\",\n        },\n\"L D L W W\",\n{\n            'v': 12895,\n            'f': \"12895\",\n        },\n\"Ademola Lookman - 13\",\n\"Juan Musso\",\n{\n            'v': NaN,\n            'f': \"NaN\",\n        }],\n [{\n            'v': 6,\n            'f': \"6\",\n        },\n{\n            'v': 7,\n            'f': \"7\",\n        },\n\"Juventus\",\n{\n            'v': 28,\n            'f': \"28\",\n        },\n{\n            'v': 18,\n            'f': \"18\",\n        },\n{\n            'v': 5,\n            'f': \"5\",\n        },\n{\n            'v': 5,\n            'f': \"5\",\n        },\n{\n            'v': 46,\n            'f': \"46\",\n        },\n{\n            'v': 22,\n            'f': \"22\",\n        },\n{\n            'v': 24,\n            'f': \"24\",\n        },\n{\n            'v': 59,\n            'f': \"59\",\n        },\n{\n            'v': 2.11,\n            'f': \"2.11\",\n        },\n{\n            'v': 40.9,\n            'f': \"40.9\",\n        },\n{\n            'v': 29.4,\n            'f': \"29.4\",\n        },\n{\n            'v': 11.5,\n            'f': \"11.5\",\n        },\n{\n            'v': 0.41,\n            'f': \"0.41\",\n        },\n\"W L W W W\",\n{\n            'v': 25078,\n            'f': \"25078\",\n        },\n\"Du\\u0161an Vlahovi\\u0107 - 8\",\n\"Wojciech Szcz\\u0119sny\",\n{\n            'v': NaN,\n            'f': \"NaN\",\n        }],\n [{\n            'v': 7,\n            'f': \"7\",\n        },\n{\n            'v': 8,\n            'f': \"8\",\n        },\n\"Bologna\",\n{\n            'v': 28,\n            'f': \"28\",\n        },\n{\n            'v': 11,\n            'f': \"11\",\n        },\n{\n            'v': 7,\n            'f': \"7\",\n        },\n{\n            'v': 10,\n            'f': \"10\",\n        },\n{\n            'v': 36,\n            'f': \"36\",\n        },\n{\n            'v': 36,\n            'f': \"36\",\n        },\n{\n            'v': 0,\n            'f': \"0\",\n        },\n{\n            'v': 40,\n            'f': \"40\",\n        },\n{\n            'v': 1.43,\n            'f': \"1.43\",\n        },\n{\n            'v': 30.1,\n            'f': \"30.1\",\n        },\n{\n            'v': 35.3,\n            'f': \"35.3\",\n        },\n{\n            'v': -5.2,\n            'f': \"-5.2\",\n        },\n{\n            'v': -0.19,\n            'f': \"-0.19\",\n        },\n\"W L D D W\",\n{\n            'v': 11873,\n            'f': \"11873\",\n        },\n\"Marko Arnautovi\\u0107 - 8\",\n\"\\u0141ukasz Skorupski\",\n{\n            'v': NaN,\n            'f': \"NaN\",\n        }],\n [{\n            'v': 8,\n            'f': \"8\",\n        },\n{\n            'v': 9,\n            'f': \"9\",\n        },\n\"Fiorentina\",\n{\n            'v': 28,\n            'f': \"28\",\n        },\n{\n            'v': 11,\n            'f': \"11\",\n        },\n{\n            'v': 7,\n            'f': \"7\",\n        },\n{\n            'v': 10,\n            'f': \"10\",\n        },\n{\n            'v': 33,\n            'f': \"33\",\n        },\n{\n            'v': 31,\n            'f': \"31\",\n        },\n{\n            'v': 2,\n            'f': \"2\",\n        },\n{\n            'v': 40,\n            'f': \"40\",\n        },\n{\n            'v': 1.43,\n            'f': \"1.43\",\n        },\n{\n            'v': 39.4,\n            'f': \"39.4\",\n        },\n{\n            'v': 33.5,\n            'f': \"33.5\",\n        },\n{\n            'v': 5.9,\n            'f': \"5.9\",\n        },\n{\n            'v': 0.21,\n            'f': \"0.21\",\n        },\n\"W W W W W\",\n{\n            'v': 25764,\n            'f': \"25764\",\n        },\n\"Arthur - 6\",\n\"Pietro Terracciano\",\n{\n            'v': NaN,\n            'f': \"NaN\",\n        }],\n [{\n            'v': 9,\n            'f': \"9\",\n        },\n{\n            'v': 10,\n            'f': \"10\",\n        },\n\"Torino\",\n{\n            'v': 28,\n            'f': \"28\",\n        },\n{\n            'v': 10,\n            'f': \"10\",\n        },\n{\n            'v': 8,\n            'f': \"8\",\n        },\n{\n            'v': 10,\n            'f': \"10\",\n        },\n{\n            'v': 30,\n            'f': \"30\",\n        },\n{\n            'v': 34,\n            'f': \"34\",\n        },\n{\n            'v': -4,\n            'f': \"-4\",\n        },\n{\n            'v': 38,\n            'f': \"38\",\n        },\n{\n            'v': 1.36,\n            'f': \"1.36\",\n        },\n{\n            'v': 31.0,\n            'f': \"31.0\",\n        },\n{\n            'v': 32.7,\n            'f': \"32.7\",\n        },\n{\n            'v': -1.7,\n            'f': \"-1.7\",\n        },\n{\n            'v': -0.06,\n            'f': \"-0.06\",\n        },\n\"L W W L D\",\n{\n            'v': 12411,\n            'f': \"12411\",\n        },\n\"Antonio Sanabria - 8\",\n\"Vanja Milinkovi\\u0107-Savi\\u0107\",\n{\n            'v': NaN,\n            'f': \"NaN\",\n        }],\n [{\n            'v': 10,\n            'f': \"10\",\n        },\n{\n            'v': 11,\n            'f': \"11\",\n        },\n\"Udinese\",\n{\n            'v': 28,\n            'f': \"28\",\n        },\n{\n            'v': 9,\n            'f': \"9\",\n        },\n{\n            'v': 11,\n            'f': \"11\",\n        },\n{\n            'v': 8,\n            'f': \"8\",\n        },\n{\n            'v': 37,\n            'f': \"37\",\n        },\n{\n            'v': 34,\n            'f': \"34\",\n        },\n{\n            'v': 3,\n            'f': \"3\",\n        },\n{\n            'v': 38,\n            'f': \"38\",\n        },\n{\n            'v': 1.36,\n            'f': \"1.36\",\n        },\n{\n            'v': 36.6,\n            'f': \"36.6\",\n        },\n{\n            'v': 37.4,\n            'f': \"37.4\",\n        },\n{\n            'v': -0.8,\n            'f': \"-0.8\",\n        },\n{\n            'v': -0.03,\n            'f': \"-0.03\",\n        },\n\"D D W W L\",\n{\n            'v': 14635,\n            'f': \"14635\",\n        },\n\"Beto - 9\",\n\"Marco Silvestri\",\n{\n            'v': NaN,\n            'f': \"NaN\",\n        }],\n [{\n            'v': 11,\n            'f': \"11\",\n        },\n{\n            'v': 12,\n            'f': \"12\",\n        },\n\"Sassuolo\",\n{\n            'v': 28,\n            'f': \"28\",\n        },\n{\n            'v': 10,\n            'f': \"10\",\n        },\n{\n            'v': 7,\n            'f': \"7\",\n        },\n{\n            'v': 11,\n            'f': \"11\",\n        },\n{\n            'v': 36,\n            'f': \"36\",\n        },\n{\n            'v': 41,\n            'f': \"41\",\n        },\n{\n            'v': -5,\n            'f': \"-5\",\n        },\n{\n            'v': 37,\n            'f': \"37\",\n        },\n{\n            'v': 1.32,\n            'f': \"1.32\",\n        },\n{\n            'v': 37.4,\n            'f': \"37.4\",\n        },\n{\n            'v': 37.3,\n            'f': \"37.3\",\n        },\n{\n            'v': 0.0,\n            'f': \"0.0\",\n        },\n{\n            'v': 0.0,\n            'f': \"0.0\",\n        },\n\"W W W W D\",\n{\n            'v': 8240,\n            'f': \"8240\",\n        },\n\"Armand Lauriente - 7\",\n\"Andrea Consigli\",\n{\n            'v': NaN,\n            'f': \"NaN\",\n        }],\n [{\n            'v': 12,\n            'f': \"12\",\n        },\n{\n            'v': 13,\n            'f': \"13\",\n        },\n\"Monza\",\n{\n            'v': 28,\n            'f': \"28\",\n        },\n{\n            'v': 9,\n            'f': \"9\",\n        },\n{\n            'v': 7,\n            'f': \"7\",\n        },\n{\n            'v': 12,\n            'f': \"12\",\n        },\n{\n            'v': 32,\n            'f': \"32\",\n        },\n{\n            'v': 39,\n            'f': \"39\",\n        },\n{\n            'v': -7,\n            'f': \"-7\",\n        },\n{\n            'v': 34,\n            'f': \"34\",\n        },\n{\n            'v': 1.21,\n            'f': \"1.21\",\n        },\n{\n            'v': 34.8,\n            'f': \"34.8\",\n        },\n{\n            'v': 34.7,\n            'f': \"34.7\",\n        },\n{\n            'v': 0.1,\n            'f': \"0.1\",\n        },\n{\n            'v': 0.0,\n            'f': \"0.0\",\n        },\n\"L W D D L\",\n{\n            'v': 8050,\n            'f': \"8050\",\n        },\n\"Carlos - 5\",\n\"Michele Di Gregorio\",\n{\n            'v': NaN,\n            'f': \"NaN\",\n        }],\n [{\n            'v': 13,\n            'f': \"13\",\n        },\n{\n            'v': 14,\n            'f': \"14\",\n        },\n\"Empoli\",\n{\n            'v': 28,\n            'f': \"28\",\n        },\n{\n            'v': 7,\n            'f': \"7\",\n        },\n{\n            'v': 10,\n            'f': \"10\",\n        },\n{\n            'v': 11,\n            'f': \"11\",\n        },\n{\n            'v': 25,\n            'f': \"25\",\n        },\n{\n            'v': 36,\n            'f': \"36\",\n        },\n{\n            'v': -11,\n            'f': \"-11\",\n        },\n{\n            'v': 31,\n            'f': \"31\",\n        },\n{\n            'v': 1.11,\n            'f': \"1.11\",\n        },\n{\n            'v': 27.6,\n            'f': \"27.6\",\n        },\n{\n            'v': 43.8,\n            'f': \"43.8\",\n        },\n{\n            'v': -16.2,\n            'f': \"-16.2\",\n        },\n{\n            'v': -0.58,\n            'f': \"-0.58\",\n        },\n\"L L L L W\",\n{\n            'v': 5715,\n            'f': \"5715\",\n        },\n\"Tommaso Baldanzi - 4\",\n\"Guglielmo Vicario\",\n{\n            'v': NaN,\n            'f': \"NaN\",\n        }],\n [{\n            'v': 14,\n            'f': \"14\",\n        },\n{\n            'v': 15,\n            'f': \"15\",\n        },\n\"Salernitana\",\n{\n            'v': 28,\n            'f': \"28\",\n        },\n{\n            'v': 6,\n            'f': \"6\",\n        },\n{\n            'v': 10,\n            'f': \"10\",\n        },\n{\n            'v': 12,\n            'f': \"12\",\n        },\n{\n            'v': 32,\n            'f': \"32\",\n        },\n{\n            'v': 48,\n            'f': \"48\",\n        },\n{\n            'v': -16,\n            'f': \"-16\",\n        },\n{\n            'v': 28,\n            'f': \"28\",\n        },\n{\n            'v': 1.0,\n            'f': \"1.0\",\n        },\n{\n            'v': 28.0,\n            'f': \"28.0\",\n        },\n{\n            'v': 50.5,\n            'f': \"50.5\",\n        },\n{\n            'v': -22.5,\n            'f': \"-22.5\",\n        },\n{\n            'v': -0.8,\n            'f': \"-0.8\",\n        },\n\"W D D D D\",\n{\n            'v': 12756,\n            'f': \"12756\",\n        },\n\"Boulaye Dia - 10\",\n\"Luigi Sepe\",\n{\n            'v': NaN,\n            'f': \"NaN\",\n        }],\n [{\n            'v': 15,\n            'f': \"15\",\n        },\n{\n            'v': 16,\n            'f': \"16\",\n        },\n\"Lecce\",\n{\n            'v': 28,\n            'f': \"28\",\n        },\n{\n            'v': 6,\n            'f': \"6\",\n        },\n{\n            'v': 9,\n            'f': \"9\",\n        },\n{\n            'v': 13,\n            'f': \"13\",\n        },\n{\n            'v': 24,\n            'f': \"24\",\n        },\n{\n            'v': 33,\n            'f': \"33\",\n        },\n{\n            'v': -9,\n            'f': \"-9\",\n        },\n{\n            'v': 27,\n            'f': \"27\",\n        },\n{\n            'v': 0.96,\n            'f': \"0.96\",\n        },\n{\n            'v': 22.4,\n            'f': \"22.4\",\n        },\n{\n            'v': 31.7,\n            'f': \"31.7\",\n        },\n{\n            'v': -9.3,\n            'f': \"-9.3\",\n        },\n{\n            'v': -0.33,\n            'f': \"-0.33\",\n        },\n\"L L L L L\",\n{\n            'v': 17128,\n            'f': \"17128\",\n        },\n\"Gabriel Strefezza - 7\",\n\"Wladimiro Falcone\",\n{\n            'v': NaN,\n            'f': \"NaN\",\n        }],\n [{\n            'v': 16,\n            'f': \"16\",\n        },\n{\n            'v': 17,\n            'f': \"17\",\n        },\n\"Spezia\",\n{\n            'v': 28,\n            'f': \"28\",\n        },\n{\n            'v': 5,\n            'f': \"5\",\n        },\n{\n            'v': 10,\n            'f': \"10\",\n        },\n{\n            'v': 13,\n            'f': \"13\",\n        },\n{\n            'v': 24,\n            'f': \"24\",\n        },\n{\n            'v': 44,\n            'f': \"44\",\n        },\n{\n            'v': -20,\n            'f': \"-20\",\n        },\n{\n            'v': 25,\n            'f': \"25\",\n        },\n{\n            'v': 0.89,\n            'f': \"0.89\",\n        },\n{\n            'v': 29.2,\n            'f': \"29.2\",\n        },\n{\n            'v': 47.1,\n            'f': \"47.1\",\n        },\n{\n            'v': -17.9,\n            'f': \"-17.9\",\n        },\n{\n            'v': -0.64,\n            'f': \"-0.64\",\n        },\n\"D D W L D\",\n{\n            'v': 4862,\n            'f': \"4862\",\n        },\n\"M'Bala Nzola - 12\",\n\"Bart\\u0142omiej Dr\\u0105gowski\",\n{\n            'v': NaN,\n            'f': \"NaN\",\n        }],\n [{\n            'v': 17,\n            'f': \"17\",\n        },\n{\n            'v': 18,\n            'f': \"18\",\n        },\n\"Hellas Verona\",\n{\n            'v': 28,\n            'f': \"28\",\n        },\n{\n            'v': 4,\n            'f': \"4\",\n        },\n{\n            'v': 7,\n            'f': \"7\",\n        },\n{\n            'v': 17,\n            'f': \"17\",\n        },\n{\n            'v': 22,\n            'f': \"22\",\n        },\n{\n            'v': 42,\n            'f': \"42\",\n        },\n{\n            'v': -20,\n            'f': \"-20\",\n        },\n{\n            'v': 19,\n            'f': \"19\",\n        },\n{\n            'v': 0.68,\n            'f': \"0.68\",\n        },\n{\n            'v': 27.8,\n            'f': \"27.8\",\n        },\n{\n            'v': 35.8,\n            'f': \"35.8\",\n        },\n{\n            'v': -7.9,\n            'f': \"-7.9\",\n        },\n{\n            'v': -0.28,\n            'f': \"-0.28\",\n        },\n\"L D D L L\",\n{\n            'v': 11124,\n            'f': \"11124\",\n        },\n\"Darko Lazovi\\u0107 - 3\",\n\"Lorenzo Montip\\u00f2\",\n{\n            'v': NaN,\n            'f': \"NaN\",\n        }],\n [{\n            'v': 18,\n            'f': \"18\",\n        },\n{\n            'v': 19,\n            'f': \"19\",\n        },\n\"Sampdoria\",\n{\n            'v': 28,\n            'f': \"28\",\n        },\n{\n            'v': 3,\n            'f': \"3\",\n        },\n{\n            'v': 6,\n            'f': \"6\",\n        },\n{\n            'v': 19,\n            'f': \"19\",\n        },\n{\n            'v': 16,\n            'f': \"16\",\n        },\n{\n            'v': 47,\n            'f': \"47\",\n        },\n{\n            'v': -31,\n            'f': \"-31\",\n        },\n{\n            'v': 15,\n            'f': \"15\",\n        },\n{\n            'v': 0.54,\n            'f': \"0.54\",\n        },\n{\n            'v': 23.7,\n            'f': \"23.7\",\n        },\n{\n            'v': 44.9,\n            'f': \"44.9\",\n        },\n{\n            'v': -21.2,\n            'f': \"-21.2\",\n        },\n{\n            'v': -0.76,\n            'f': \"-0.76\",\n        },\n\"L D L W L\",\n{\n            'v': 13836,\n            'f': \"13836\",\n        },\n\"Manolo Gabbiadini - 6\",\n\"Emil Audero\",\n{\n            'v': NaN,\n            'f': \"NaN\",\n        }],\n [{\n            'v': 19,\n            'f': \"19\",\n        },\n{\n            'v': 20,\n            'f': \"20\",\n        },\n\"Cremonese\",\n{\n            'v': 28,\n            'f': \"28\",\n        },\n{\n            'v': 1,\n            'f': \"1\",\n        },\n{\n            'v': 10,\n            'f': \"10\",\n        },\n{\n            'v': 17,\n            'f': \"17\",\n        },\n{\n            'v': 23,\n            'f': \"23\",\n        },\n{\n            'v': 52,\n            'f': \"52\",\n        },\n{\n            'v': -29,\n            'f': \"-29\",\n        },\n{\n            'v': 13,\n            'f': \"13\",\n        },\n{\n            'v': 0.46,\n            'f': \"0.46\",\n        },\n{\n            'v': 29.2,\n            'f': \"29.2\",\n        },\n{\n            'v': 50.4,\n            'f': \"50.4\",\n        },\n{\n            'v': -21.3,\n            'f': \"-21.3\",\n        },\n{\n            'v': -0.76,\n            'f': \"-0.76\",\n        },\n\"W L L D L\",\n{\n            'v': 8197,\n            'f': \"8197\",\n        },\n\"Daniel Ciofani - 6\",\n\"Marco Carnesecchi\",\n{\n            'v': NaN,\n            'f': \"NaN\",\n        }]],\n        columns: [[\"number\", \"index\"], [\"number\", \"Rk\"], [\"string\", \"Squad\"], [\"number\", \"MP\"], [\"number\", \"W\"], [\"number\", \"D\"], [\"number\", \"L\"], [\"number\", \"GF\"], [\"number\", \"GA\"], [\"number\", \"GD\"], [\"number\", \"Pts\"], [\"number\", \"Pts/MP\"], [\"number\", \"xG\"], [\"number\", \"xGA\"], [\"number\", \"xGD\"], [\"number\", \"xGD/90\"], [\"string\", \"Last 5\"], [\"number\", \"Attendance\"], [\"string\", \"Top Team Scorer\"], [\"string\", \"Goalkeeper\"], [\"number\", \"Notes\"]],\n        columnOptions: [{\"width\": \"1px\", \"className\": \"index_column\"}],\n        rowsPerPage: 25,\n        helpUrl: \"https://colab.research.google.com/notebooks/data_table.ipynb\",\n        suppressOutputScrolling: true,\n        minimumWidth: undefined,\n      });\n    "
          },
          "metadata": {},
          "execution_count": 4
        }
      ]
    },
    {
      "cell_type": "markdown",
      "source": [
        "selecionar e concatenar as mesmas tabelas de todas das as ligas\n",
        "\n",
        "> Bloco com recuo\n",
        "\n",
        "\n",
        "\n"
      ],
      "metadata": {
        "id": "ermVCdG-Toti"
      }
    },
    {
      "cell_type": "code",
      "source": [
        "premier1 = df1[0]\n",
        "premier1.to_excel(\"serieaitalia_Regular_season.xlsx\")\n"
      ],
      "metadata": {
        "id": "FNn3xQ37R6st"
      },
      "execution_count": 5,
      "outputs": []
    },
    {
      "cell_type": "markdown",
      "source": [
        "Estatísticas padrão do esquadrão"
      ],
      "metadata": {
        "id": "qzo9lZCVP9c-"
      }
    },
    {
      "cell_type": "code",
      "source": [
        "#df2[2]  # Squad Standard Stats 2022-2023"
      ],
      "metadata": {
        "id": "sH90iZO9z2PG"
      },
      "execution_count": 6,
      "outputs": []
    },
    {
      "cell_type": "code",
      "source": [
        "##premier2.to_excel(\"premier_Squad _tandard _stats.xlsx\")"
      ],
      "metadata": {
        "id": "vjloqWAVSZPS"
      },
      "execution_count": 7,
      "outputs": []
    },
    {
      "cell_type": "markdown",
      "source": [
        "Squad Shooting\n"
      ],
      "metadata": {
        "id": "xTDIEh7DQRZV"
      }
    },
    {
      "cell_type": "code",
      "source": [
        "#df3[8]"
      ],
      "metadata": {
        "id": "w_A-rUYXPYvj"
      },
      "execution_count": 8,
      "outputs": []
    },
    {
      "cell_type": "code",
      "source": [
        "#Concatenando as Planilhas\n",
        "#df = [premier1,premier2]\n",
        "#df = pd.concat(df)\n",
        "\n",
        "#df\n",
        "#df.to_excel(\"tudo.xlsx\")"
      ],
      "metadata": {
        "id": "tKjp3-kvQwg7"
      },
      "execution_count": 9,
      "outputs": []
    },
    {
      "cell_type": "code",
      "source": [
        "#df1[3] #fora de casa "
      ],
      "metadata": {
        "id": "iSzHBUgd0Kyr"
      },
      "execution_count": 10,
      "outputs": []
    },
    {
      "cell_type": "code",
      "source": [
        "#df1[4]#Squad Goalkeeping home"
      ],
      "metadata": {
        "id": "SZi9iLw80MW0"
      },
      "execution_count": 11,
      "outputs": []
    },
    {
      "cell_type": "code",
      "source": [
        "#df1[5]  #Squad Goalkeeping away"
      ],
      "metadata": {
        "id": "BUL16MvT0PH7"
      },
      "execution_count": 12,
      "outputs": []
    },
    {
      "cell_type": "code",
      "source": [
        "#df1[6]#Squad Advanced Goalkeeping home"
      ],
      "metadata": {
        "id": "esjXl6rK0W5y"
      },
      "execution_count": 13,
      "outputs": []
    },
    {
      "cell_type": "code",
      "source": [
        "#df1[7] #Squad Advanced Goalkeeping away"
      ],
      "metadata": {
        "id": "MyvEnTyE0Y12"
      },
      "execution_count": 14,
      "outputs": []
    },
    {
      "cell_type": "code",
      "source": [
        "#df1[8] #Squad Shooting home"
      ],
      "metadata": {
        "id": "gI7hdpmo0cI9"
      },
      "execution_count": 15,
      "outputs": []
    },
    {
      "cell_type": "code",
      "source": [
        "#df1[9] # Squad Shooting away"
      ],
      "metadata": {
        "id": "Xf_JHnHP0fS3"
      },
      "execution_count": 16,
      "outputs": []
    },
    {
      "cell_type": "code",
      "source": [
        " #Squad Passing home"
      ],
      "metadata": {
        "id": "Nfyo7UsV0kbE"
      },
      "execution_count": 17,
      "outputs": []
    },
    {
      "cell_type": "code",
      "source": [
        "#df1[11] # Squad Passing away "
      ],
      "metadata": {
        "id": "PrVneios0mFC"
      },
      "execution_count": 18,
      "outputs": []
    },
    {
      "cell_type": "code",
      "source": [
        "#df1[12]  #Squad Pass Types  home"
      ],
      "metadata": {
        "id": "gBaj2_IS0om5"
      },
      "execution_count": 19,
      "outputs": []
    },
    {
      "cell_type": "code",
      "source": [
        "#df1[13] #Squad Pass Types away "
      ],
      "metadata": {
        "id": "xWrafEzE0qGt"
      },
      "execution_count": 20,
      "outputs": []
    },
    {
      "cell_type": "code",
      "source": [
        "#df1[14] #Squad Goal and Shot Creation home"
      ],
      "metadata": {
        "id": "Vw_QsWw90tGD"
      },
      "execution_count": 21,
      "outputs": []
    },
    {
      "cell_type": "code",
      "source": [
        "#df1[15] #Squad Goal and Shot Creation  away "
      ],
      "metadata": {
        "id": "rhaFnhPZ0w6j"
      },
      "execution_count": 22,
      "outputs": []
    },
    {
      "cell_type": "code",
      "source": [
        "#df1[16] #Squad Goal and Shot Creation  home"
      ],
      "metadata": {
        "id": "I7uji0yl01GT"
      },
      "execution_count": 23,
      "outputs": []
    },
    {
      "cell_type": "code",
      "source": [
        "#df1[17] #Squad Goal and Shot Creation  away "
      ],
      "metadata": {
        "id": "Oh7FDfd-1Bb1"
      },
      "execution_count": 24,
      "outputs": []
    },
    {
      "cell_type": "code",
      "source": [
        "#df1[18]"
      ],
      "metadata": {
        "id": "sJjf9U1C1DVB"
      },
      "execution_count": 25,
      "outputs": []
    },
    {
      "cell_type": "code",
      "source": [
        "#df1[19]"
      ],
      "metadata": {
        "id": "EUp0GHRI1Fa3"
      },
      "execution_count": 26,
      "outputs": []
    },
    {
      "cell_type": "code",
      "source": [
        "#df1[20]"
      ],
      "metadata": {
        "id": "-8gUDBuo1LxQ"
      },
      "execution_count": 27,
      "outputs": []
    },
    {
      "cell_type": "code",
      "source": [
        "#df1[21]"
      ],
      "metadata": {
        "id": "NhuvvvXj1N7H"
      },
      "execution_count": 28,
      "outputs": []
    },
    {
      "cell_type": "code",
      "source": [
        "#df1[22]"
      ],
      "metadata": {
        "id": "FImg0sWn1PtU"
      },
      "execution_count": 29,
      "outputs": []
    },
    {
      "cell_type": "code",
      "source": [],
      "metadata": {
        "id": "c4Iu-6ot1RaE"
      },
      "execution_count": 29,
      "outputs": []
    }
  ]
}