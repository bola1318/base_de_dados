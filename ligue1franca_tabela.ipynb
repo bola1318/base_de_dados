{
  "nbformat": 4,
  "nbformat_minor": 0,
  "metadata": {
    "colab": {
      "provenance": [],
      "include_colab_link": true
    },
    "kernelspec": {
      "name": "python3",
      "display_name": "Python 3"
    },
    "language_info": {
      "name": "python"
    }
  },
  "cells": [
    {
      "cell_type": "markdown",
      "metadata": {
        "id": "view-in-github",
        "colab_type": "text"
      },
      "source": [
        "<a href=\"https://colab.research.google.com/github/bola1318/base_de_dados/blob/main/ligue1franca_tabela.ipynb\" target=\"_parent\"><img src=\"https://colab.research.google.com/assets/colab-badge.svg\" alt=\"Open In Colab\"/></a>"
      ]
    },
    {
      "cell_type": "markdown",
      "source": [
        "\n",
        "\n",
        "> Bloco com recuo\n",
        "\n",
        "\n",
        "premier1 = df1[1] #table 1 site https://fbref.com/en/comps/32/Primeira-Liga-Stats#results2022-2023321_overall\n",
        "premier1.to_excel(\"teste.xlsx\")\n",
        "\n"
      ],
      "metadata": {
        "id": "516_x2CvPcI7"
      }
    },
    {
      "cell_type": "code",
      "execution_count": 1,
      "metadata": {
        "id": "Dn7zaZYIw1wQ"
      },
      "outputs": [],
      "source": [
        "import pandas as pd \n",
        "import requests \n",
        "from google.colab import data_table\n",
        "data_table.enable_dataframe_formatter()\n",
        "\n",
        "import csv"
      ]
    },
    {
      "cell_type": "code",
      "source": [
        "#coletando as planilhas \n",
        "\n",
        "header = {\n",
        "  \"User-Agent\": \"Mozilla/5.0 (X11; Linux x86_64) AppleWebKit/537.36 (KHTML, like Gecko) Chrome/50.0.2661.75 Safari/537.36\",\n",
        "  \"X-Requested-With\": \"XMLHttpRequest\"\n",
        "}\n",
        "\n",
        "#A url que você quer acesssar\n",
        "url_link1 = \"https://fbref.com/en/comps/13/Ligue-1-Stats\"\n",
        "#ENG_01 = pd.read_csv(\"https://fbref.com/en/comps/9/Premier-League-Stats#results2022-202391_overall\") \n",
        "\n",
        "r1 = requests.get(url_link1, headers=header)\n",
        "\n",
        "df1 = pd.read_html(r1.text)\n",
        "\n"
      ],
      "metadata": {
        "id": "yjIfrL2NxsJm"
      },
      "execution_count": 2,
      "outputs": []
    },
    {
      "cell_type": "code",
      "source": [],
      "metadata": {
        "id": "BJceA6xNx7fT"
      },
      "execution_count": 2,
      "outputs": []
    },
    {
      "cell_type": "code",
      "source": [
        "len(df1)"
      ],
      "metadata": {
        "id": "U6a29lmozupt",
        "outputId": "8110e35f-e840-4041-f05b-6e22cd9a1127",
        "colab": {
          "base_uri": "https://localhost:8080/"
        }
      },
      "execution_count": 3,
      "outputs": [
        {
          "output_type": "execute_result",
          "data": {
            "text/plain": [
              "24"
            ]
          },
          "metadata": {},
          "execution_count": 3
        }
      ]
    },
    {
      "cell_type": "code",
      "source": [
        "df1[0] #Regular season"
      ],
      "metadata": {
        "id": "yZl82uMVQY6D",
        "outputId": "7eb123cf-a8b9-4555-c6cd-5219f50299ed",
        "colab": {
          "base_uri": "https://localhost:8080/",
          "height": 523
        }
      },
      "execution_count": 4,
      "outputs": [
        {
          "output_type": "execute_result",
          "data": {
            "text/plain": [
              "    Rk          Squad  MP   W   D   L  GF  GA  GD  Pts  Pts/MP    xG   xGA  \\\n",
              "0    1      Paris S-G  29  21   3   5  68  29  39   66    2.28  60.8  34.0   \n",
              "1    2           Lens  29  17   9   3  48  21  27   60    2.07  51.4  31.5   \n",
              "2    3      Marseille  29  18   6   5  54  29  25   60    2.07  49.0  36.2   \n",
              "3    4         Monaco  29  17   6   6  61  40  21   57    1.97  48.9  39.0   \n",
              "4    5          Lille  29  15   7   7  54  37  17   52    1.79  53.5  32.4   \n",
              "5    6         Rennes  29  15   5   9  47  30  17   50    1.72  44.6  36.6   \n",
              "6    7          Reims  29  11  13   5  39  28  11   46    1.59  47.8  36.9   \n",
              "7    8           Nice  29  11  12   6  38  26  12   45    1.55  40.4  32.3   \n",
              "8    9           Lyon  29  12   8   9  44  32  12   44    1.52  45.0  37.2   \n",
              "9   10        Lorient  29  12   8   9  42  40   2   44    1.52  35.0  45.1   \n",
              "10  11    Montpellier  29  11   4  14  45  48  -3   37    1.28  37.3  46.4   \n",
              "11  12  Clermont Foot  29  10   7  12  29  41 -12   37    1.28  33.1  47.8   \n",
              "12  13       Toulouse  29  10   5  14  44  51  -7   35    1.21  40.2  44.5   \n",
              "13  14         Nantes  29   6  12  11  30  40 -10   30    1.03  33.3  38.5   \n",
              "14  15          Brest  29   6   9  14  33  47 -14   27    0.93  32.5  45.5   \n",
              "15  16     Strasbourg  29   5  11  13  37  50 -13   26    0.90  36.0  48.5   \n",
              "16  17        Auxerre  29   6   8  15  24  51 -27   26    0.90  30.7  43.0   \n",
              "17  18         Troyes  29   4   9  16  38  62 -24   21    0.72  33.3  55.8   \n",
              "18  19        Ajaccio  29   6   3  20  21  52 -31   21    0.72  32.6  40.2   \n",
              "19  20         Angers  29   2   5  22  22  64 -42   11    0.38  32.8  46.8   \n",
              "\n",
              "     xGD  xGD/90     Last 5  Attendance  \\\n",
              "0   26.8    0.92  W W W L L       40067   \n",
              "1   19.9    0.69  D D W W W       37531   \n",
              "2   12.8    0.44  L W D W D       62532   \n",
              "3    9.9    0.34  L D L W W        6931   \n",
              "4   21.1    0.73  W D D W W       33048   \n",
              "5    8.0    0.27  W L D W L       25734   \n",
              "6   10.9    0.38  W W W L W       11577   \n",
              "7    8.1    0.28  W D D D D       19982   \n",
              "8    7.7    0.27  W D D D W       43729   \n",
              "9  -10.1   -0.35  L D W D L       14481   \n",
              "10  -9.1   -0.31  D W W W D       12491   \n",
              "11 -14.8   -0.51  D W L L W       10428   \n",
              "12  -4.3   -0.15  L L W L L       22932   \n",
              "13  -5.2   -0.18  L L D D L       28089   \n",
              "14 -13.0   -0.45  L W L D W       11239   \n",
              "15 -12.4   -0.43  D L D W L       23553   \n",
              "16 -12.3   -0.42  W D D L W       14090   \n",
              "17 -22.5   -0.78  L D L D L        8941   \n",
              "18  -7.6   -0.26  W L L L L        6880   \n",
              "19 -13.9   -0.48  L L L L D        9019   \n",
              "\n",
              "                           Top Team Scorer            Goalkeeper  Notes  \n",
              "0                       Kylian Mbappé - 19  Gianluigi Donnarumma    NaN  \n",
              "1                         Loïs Openda - 15           Brice Samba    NaN  \n",
              "2                      Alexis Sánchez - 12             Pau López    NaN  \n",
              "3                   Wissam Ben Yedder - 17       Alexander Nübel    NaN  \n",
              "4                      Jonathan David - 19       Lucas Chevalier    NaN  \n",
              "5         Amine Gouiri, Martin Terrier - 9        Steve Mandanda    NaN  \n",
              "6                     Folarin Balogun - 17         Yehvann Diouf    NaN  \n",
              "7                       Gaëtan Laborde - 8     Kasper Schmeichel    NaN  \n",
              "8                 Alexandre Lacazette - 17         Anthony Lopes    NaN  \n",
              "9                         Terem Moffi - 12          Vito Mannone    NaN  \n",
              "10                     Sepe Elye Wahi - 12           Jonas Omlin    NaN  \n",
              "11                        Grejohn Kyei - 5             Mory Diaw    NaN  \n",
              "12                     Thijs Dallinga - 11           Maxime Dupé    NaN  \n",
              "13       Ludovic Blas, Mostafa Mohamed - 6          Alban Lafont    NaN  \n",
              "14                   Jérémy Le Douaron - 7           Marco Bizot    NaN  \n",
              "15                       Habib Diallo - 15             Matz Sels    NaN  \n",
              "16                        M'Baye Niang - 4         Benoît Costil    NaN  \n",
              "17                   Mama Samba Baldé - 10       Gauthier Gallon    NaN  \n",
              "18  Youcef Belaïli, Mounaim El Idrissy - 6        Benjamin Leroy    NaN  \n",
              "19                      Sofiane Boufal - 4       Paul Bernardoni    NaN  "
            ],
            "text/html": [
              "\n",
              "  <div id=\"df-18964279-a79a-4fc6-b27d-6d0e1fd40d95\">\n",
              "    <div class=\"colab-df-container\">\n",
              "      <div>\n",
              "<style scoped>\n",
              "    .dataframe tbody tr th:only-of-type {\n",
              "        vertical-align: middle;\n",
              "    }\n",
              "\n",
              "    .dataframe tbody tr th {\n",
              "        vertical-align: top;\n",
              "    }\n",
              "\n",
              "    .dataframe thead th {\n",
              "        text-align: right;\n",
              "    }\n",
              "</style>\n",
              "<table border=\"1\" class=\"dataframe\">\n",
              "  <thead>\n",
              "    <tr style=\"text-align: right;\">\n",
              "      <th></th>\n",
              "      <th>Rk</th>\n",
              "      <th>Squad</th>\n",
              "      <th>MP</th>\n",
              "      <th>W</th>\n",
              "      <th>D</th>\n",
              "      <th>L</th>\n",
              "      <th>GF</th>\n",
              "      <th>GA</th>\n",
              "      <th>GD</th>\n",
              "      <th>Pts</th>\n",
              "      <th>Pts/MP</th>\n",
              "      <th>xG</th>\n",
              "      <th>xGA</th>\n",
              "      <th>xGD</th>\n",
              "      <th>xGD/90</th>\n",
              "      <th>Last 5</th>\n",
              "      <th>Attendance</th>\n",
              "      <th>Top Team Scorer</th>\n",
              "      <th>Goalkeeper</th>\n",
              "      <th>Notes</th>\n",
              "    </tr>\n",
              "  </thead>\n",
              "  <tbody>\n",
              "    <tr>\n",
              "      <th>0</th>\n",
              "      <td>1</td>\n",
              "      <td>Paris S-G</td>\n",
              "      <td>29</td>\n",
              "      <td>21</td>\n",
              "      <td>3</td>\n",
              "      <td>5</td>\n",
              "      <td>68</td>\n",
              "      <td>29</td>\n",
              "      <td>39</td>\n",
              "      <td>66</td>\n",
              "      <td>2.28</td>\n",
              "      <td>60.8</td>\n",
              "      <td>34.0</td>\n",
              "      <td>26.8</td>\n",
              "      <td>0.92</td>\n",
              "      <td>W W W L L</td>\n",
              "      <td>40067</td>\n",
              "      <td>Kylian Mbappé - 19</td>\n",
              "      <td>Gianluigi Donnarumma</td>\n",
              "      <td>NaN</td>\n",
              "    </tr>\n",
              "    <tr>\n",
              "      <th>1</th>\n",
              "      <td>2</td>\n",
              "      <td>Lens</td>\n",
              "      <td>29</td>\n",
              "      <td>17</td>\n",
              "      <td>9</td>\n",
              "      <td>3</td>\n",
              "      <td>48</td>\n",
              "      <td>21</td>\n",
              "      <td>27</td>\n",
              "      <td>60</td>\n",
              "      <td>2.07</td>\n",
              "      <td>51.4</td>\n",
              "      <td>31.5</td>\n",
              "      <td>19.9</td>\n",
              "      <td>0.69</td>\n",
              "      <td>D D W W W</td>\n",
              "      <td>37531</td>\n",
              "      <td>Loïs Openda - 15</td>\n",
              "      <td>Brice Samba</td>\n",
              "      <td>NaN</td>\n",
              "    </tr>\n",
              "    <tr>\n",
              "      <th>2</th>\n",
              "      <td>3</td>\n",
              "      <td>Marseille</td>\n",
              "      <td>29</td>\n",
              "      <td>18</td>\n",
              "      <td>6</td>\n",
              "      <td>5</td>\n",
              "      <td>54</td>\n",
              "      <td>29</td>\n",
              "      <td>25</td>\n",
              "      <td>60</td>\n",
              "      <td>2.07</td>\n",
              "      <td>49.0</td>\n",
              "      <td>36.2</td>\n",
              "      <td>12.8</td>\n",
              "      <td>0.44</td>\n",
              "      <td>L W D W D</td>\n",
              "      <td>62532</td>\n",
              "      <td>Alexis Sánchez - 12</td>\n",
              "      <td>Pau López</td>\n",
              "      <td>NaN</td>\n",
              "    </tr>\n",
              "    <tr>\n",
              "      <th>3</th>\n",
              "      <td>4</td>\n",
              "      <td>Monaco</td>\n",
              "      <td>29</td>\n",
              "      <td>17</td>\n",
              "      <td>6</td>\n",
              "      <td>6</td>\n",
              "      <td>61</td>\n",
              "      <td>40</td>\n",
              "      <td>21</td>\n",
              "      <td>57</td>\n",
              "      <td>1.97</td>\n",
              "      <td>48.9</td>\n",
              "      <td>39.0</td>\n",
              "      <td>9.9</td>\n",
              "      <td>0.34</td>\n",
              "      <td>L D L W W</td>\n",
              "      <td>6931</td>\n",
              "      <td>Wissam Ben Yedder - 17</td>\n",
              "      <td>Alexander Nübel</td>\n",
              "      <td>NaN</td>\n",
              "    </tr>\n",
              "    <tr>\n",
              "      <th>4</th>\n",
              "      <td>5</td>\n",
              "      <td>Lille</td>\n",
              "      <td>29</td>\n",
              "      <td>15</td>\n",
              "      <td>7</td>\n",
              "      <td>7</td>\n",
              "      <td>54</td>\n",
              "      <td>37</td>\n",
              "      <td>17</td>\n",
              "      <td>52</td>\n",
              "      <td>1.79</td>\n",
              "      <td>53.5</td>\n",
              "      <td>32.4</td>\n",
              "      <td>21.1</td>\n",
              "      <td>0.73</td>\n",
              "      <td>W D D W W</td>\n",
              "      <td>33048</td>\n",
              "      <td>Jonathan David - 19</td>\n",
              "      <td>Lucas Chevalier</td>\n",
              "      <td>NaN</td>\n",
              "    </tr>\n",
              "    <tr>\n",
              "      <th>5</th>\n",
              "      <td>6</td>\n",
              "      <td>Rennes</td>\n",
              "      <td>29</td>\n",
              "      <td>15</td>\n",
              "      <td>5</td>\n",
              "      <td>9</td>\n",
              "      <td>47</td>\n",
              "      <td>30</td>\n",
              "      <td>17</td>\n",
              "      <td>50</td>\n",
              "      <td>1.72</td>\n",
              "      <td>44.6</td>\n",
              "      <td>36.6</td>\n",
              "      <td>8.0</td>\n",
              "      <td>0.27</td>\n",
              "      <td>W L D W L</td>\n",
              "      <td>25734</td>\n",
              "      <td>Amine Gouiri, Martin Terrier - 9</td>\n",
              "      <td>Steve Mandanda</td>\n",
              "      <td>NaN</td>\n",
              "    </tr>\n",
              "    <tr>\n",
              "      <th>6</th>\n",
              "      <td>7</td>\n",
              "      <td>Reims</td>\n",
              "      <td>29</td>\n",
              "      <td>11</td>\n",
              "      <td>13</td>\n",
              "      <td>5</td>\n",
              "      <td>39</td>\n",
              "      <td>28</td>\n",
              "      <td>11</td>\n",
              "      <td>46</td>\n",
              "      <td>1.59</td>\n",
              "      <td>47.8</td>\n",
              "      <td>36.9</td>\n",
              "      <td>10.9</td>\n",
              "      <td>0.38</td>\n",
              "      <td>W W W L W</td>\n",
              "      <td>11577</td>\n",
              "      <td>Folarin Balogun - 17</td>\n",
              "      <td>Yehvann Diouf</td>\n",
              "      <td>NaN</td>\n",
              "    </tr>\n",
              "    <tr>\n",
              "      <th>7</th>\n",
              "      <td>8</td>\n",
              "      <td>Nice</td>\n",
              "      <td>29</td>\n",
              "      <td>11</td>\n",
              "      <td>12</td>\n",
              "      <td>6</td>\n",
              "      <td>38</td>\n",
              "      <td>26</td>\n",
              "      <td>12</td>\n",
              "      <td>45</td>\n",
              "      <td>1.55</td>\n",
              "      <td>40.4</td>\n",
              "      <td>32.3</td>\n",
              "      <td>8.1</td>\n",
              "      <td>0.28</td>\n",
              "      <td>W D D D D</td>\n",
              "      <td>19982</td>\n",
              "      <td>Gaëtan Laborde - 8</td>\n",
              "      <td>Kasper Schmeichel</td>\n",
              "      <td>NaN</td>\n",
              "    </tr>\n",
              "    <tr>\n",
              "      <th>8</th>\n",
              "      <td>9</td>\n",
              "      <td>Lyon</td>\n",
              "      <td>29</td>\n",
              "      <td>12</td>\n",
              "      <td>8</td>\n",
              "      <td>9</td>\n",
              "      <td>44</td>\n",
              "      <td>32</td>\n",
              "      <td>12</td>\n",
              "      <td>44</td>\n",
              "      <td>1.52</td>\n",
              "      <td>45.0</td>\n",
              "      <td>37.2</td>\n",
              "      <td>7.7</td>\n",
              "      <td>0.27</td>\n",
              "      <td>W D D D W</td>\n",
              "      <td>43729</td>\n",
              "      <td>Alexandre Lacazette - 17</td>\n",
              "      <td>Anthony Lopes</td>\n",
              "      <td>NaN</td>\n",
              "    </tr>\n",
              "    <tr>\n",
              "      <th>9</th>\n",
              "      <td>10</td>\n",
              "      <td>Lorient</td>\n",
              "      <td>29</td>\n",
              "      <td>12</td>\n",
              "      <td>8</td>\n",
              "      <td>9</td>\n",
              "      <td>42</td>\n",
              "      <td>40</td>\n",
              "      <td>2</td>\n",
              "      <td>44</td>\n",
              "      <td>1.52</td>\n",
              "      <td>35.0</td>\n",
              "      <td>45.1</td>\n",
              "      <td>-10.1</td>\n",
              "      <td>-0.35</td>\n",
              "      <td>L D W D L</td>\n",
              "      <td>14481</td>\n",
              "      <td>Terem Moffi - 12</td>\n",
              "      <td>Vito Mannone</td>\n",
              "      <td>NaN</td>\n",
              "    </tr>\n",
              "    <tr>\n",
              "      <th>10</th>\n",
              "      <td>11</td>\n",
              "      <td>Montpellier</td>\n",
              "      <td>29</td>\n",
              "      <td>11</td>\n",
              "      <td>4</td>\n",
              "      <td>14</td>\n",
              "      <td>45</td>\n",
              "      <td>48</td>\n",
              "      <td>-3</td>\n",
              "      <td>37</td>\n",
              "      <td>1.28</td>\n",
              "      <td>37.3</td>\n",
              "      <td>46.4</td>\n",
              "      <td>-9.1</td>\n",
              "      <td>-0.31</td>\n",
              "      <td>D W W W D</td>\n",
              "      <td>12491</td>\n",
              "      <td>Sepe Elye Wahi - 12</td>\n",
              "      <td>Jonas Omlin</td>\n",
              "      <td>NaN</td>\n",
              "    </tr>\n",
              "    <tr>\n",
              "      <th>11</th>\n",
              "      <td>12</td>\n",
              "      <td>Clermont Foot</td>\n",
              "      <td>29</td>\n",
              "      <td>10</td>\n",
              "      <td>7</td>\n",
              "      <td>12</td>\n",
              "      <td>29</td>\n",
              "      <td>41</td>\n",
              "      <td>-12</td>\n",
              "      <td>37</td>\n",
              "      <td>1.28</td>\n",
              "      <td>33.1</td>\n",
              "      <td>47.8</td>\n",
              "      <td>-14.8</td>\n",
              "      <td>-0.51</td>\n",
              "      <td>D W L L W</td>\n",
              "      <td>10428</td>\n",
              "      <td>Grejohn Kyei - 5</td>\n",
              "      <td>Mory Diaw</td>\n",
              "      <td>NaN</td>\n",
              "    </tr>\n",
              "    <tr>\n",
              "      <th>12</th>\n",
              "      <td>13</td>\n",
              "      <td>Toulouse</td>\n",
              "      <td>29</td>\n",
              "      <td>10</td>\n",
              "      <td>5</td>\n",
              "      <td>14</td>\n",
              "      <td>44</td>\n",
              "      <td>51</td>\n",
              "      <td>-7</td>\n",
              "      <td>35</td>\n",
              "      <td>1.21</td>\n",
              "      <td>40.2</td>\n",
              "      <td>44.5</td>\n",
              "      <td>-4.3</td>\n",
              "      <td>-0.15</td>\n",
              "      <td>L L W L L</td>\n",
              "      <td>22932</td>\n",
              "      <td>Thijs Dallinga - 11</td>\n",
              "      <td>Maxime Dupé</td>\n",
              "      <td>NaN</td>\n",
              "    </tr>\n",
              "    <tr>\n",
              "      <th>13</th>\n",
              "      <td>14</td>\n",
              "      <td>Nantes</td>\n",
              "      <td>29</td>\n",
              "      <td>6</td>\n",
              "      <td>12</td>\n",
              "      <td>11</td>\n",
              "      <td>30</td>\n",
              "      <td>40</td>\n",
              "      <td>-10</td>\n",
              "      <td>30</td>\n",
              "      <td>1.03</td>\n",
              "      <td>33.3</td>\n",
              "      <td>38.5</td>\n",
              "      <td>-5.2</td>\n",
              "      <td>-0.18</td>\n",
              "      <td>L L D D L</td>\n",
              "      <td>28089</td>\n",
              "      <td>Ludovic Blas, Mostafa Mohamed - 6</td>\n",
              "      <td>Alban Lafont</td>\n",
              "      <td>NaN</td>\n",
              "    </tr>\n",
              "    <tr>\n",
              "      <th>14</th>\n",
              "      <td>15</td>\n",
              "      <td>Brest</td>\n",
              "      <td>29</td>\n",
              "      <td>6</td>\n",
              "      <td>9</td>\n",
              "      <td>14</td>\n",
              "      <td>33</td>\n",
              "      <td>47</td>\n",
              "      <td>-14</td>\n",
              "      <td>27</td>\n",
              "      <td>0.93</td>\n",
              "      <td>32.5</td>\n",
              "      <td>45.5</td>\n",
              "      <td>-13.0</td>\n",
              "      <td>-0.45</td>\n",
              "      <td>L W L D W</td>\n",
              "      <td>11239</td>\n",
              "      <td>Jérémy Le Douaron - 7</td>\n",
              "      <td>Marco Bizot</td>\n",
              "      <td>NaN</td>\n",
              "    </tr>\n",
              "    <tr>\n",
              "      <th>15</th>\n",
              "      <td>16</td>\n",
              "      <td>Strasbourg</td>\n",
              "      <td>29</td>\n",
              "      <td>5</td>\n",
              "      <td>11</td>\n",
              "      <td>13</td>\n",
              "      <td>37</td>\n",
              "      <td>50</td>\n",
              "      <td>-13</td>\n",
              "      <td>26</td>\n",
              "      <td>0.90</td>\n",
              "      <td>36.0</td>\n",
              "      <td>48.5</td>\n",
              "      <td>-12.4</td>\n",
              "      <td>-0.43</td>\n",
              "      <td>D L D W L</td>\n",
              "      <td>23553</td>\n",
              "      <td>Habib Diallo - 15</td>\n",
              "      <td>Matz Sels</td>\n",
              "      <td>NaN</td>\n",
              "    </tr>\n",
              "    <tr>\n",
              "      <th>16</th>\n",
              "      <td>17</td>\n",
              "      <td>Auxerre</td>\n",
              "      <td>29</td>\n",
              "      <td>6</td>\n",
              "      <td>8</td>\n",
              "      <td>15</td>\n",
              "      <td>24</td>\n",
              "      <td>51</td>\n",
              "      <td>-27</td>\n",
              "      <td>26</td>\n",
              "      <td>0.90</td>\n",
              "      <td>30.7</td>\n",
              "      <td>43.0</td>\n",
              "      <td>-12.3</td>\n",
              "      <td>-0.42</td>\n",
              "      <td>W D D L W</td>\n",
              "      <td>14090</td>\n",
              "      <td>M'Baye Niang - 4</td>\n",
              "      <td>Benoît Costil</td>\n",
              "      <td>NaN</td>\n",
              "    </tr>\n",
              "    <tr>\n",
              "      <th>17</th>\n",
              "      <td>18</td>\n",
              "      <td>Troyes</td>\n",
              "      <td>29</td>\n",
              "      <td>4</td>\n",
              "      <td>9</td>\n",
              "      <td>16</td>\n",
              "      <td>38</td>\n",
              "      <td>62</td>\n",
              "      <td>-24</td>\n",
              "      <td>21</td>\n",
              "      <td>0.72</td>\n",
              "      <td>33.3</td>\n",
              "      <td>55.8</td>\n",
              "      <td>-22.5</td>\n",
              "      <td>-0.78</td>\n",
              "      <td>L D L D L</td>\n",
              "      <td>8941</td>\n",
              "      <td>Mama Samba Baldé - 10</td>\n",
              "      <td>Gauthier Gallon</td>\n",
              "      <td>NaN</td>\n",
              "    </tr>\n",
              "    <tr>\n",
              "      <th>18</th>\n",
              "      <td>19</td>\n",
              "      <td>Ajaccio</td>\n",
              "      <td>29</td>\n",
              "      <td>6</td>\n",
              "      <td>3</td>\n",
              "      <td>20</td>\n",
              "      <td>21</td>\n",
              "      <td>52</td>\n",
              "      <td>-31</td>\n",
              "      <td>21</td>\n",
              "      <td>0.72</td>\n",
              "      <td>32.6</td>\n",
              "      <td>40.2</td>\n",
              "      <td>-7.6</td>\n",
              "      <td>-0.26</td>\n",
              "      <td>W L L L L</td>\n",
              "      <td>6880</td>\n",
              "      <td>Youcef Belaïli, Mounaim El Idrissy - 6</td>\n",
              "      <td>Benjamin Leroy</td>\n",
              "      <td>NaN</td>\n",
              "    </tr>\n",
              "    <tr>\n",
              "      <th>19</th>\n",
              "      <td>20</td>\n",
              "      <td>Angers</td>\n",
              "      <td>29</td>\n",
              "      <td>2</td>\n",
              "      <td>5</td>\n",
              "      <td>22</td>\n",
              "      <td>22</td>\n",
              "      <td>64</td>\n",
              "      <td>-42</td>\n",
              "      <td>11</td>\n",
              "      <td>0.38</td>\n",
              "      <td>32.8</td>\n",
              "      <td>46.8</td>\n",
              "      <td>-13.9</td>\n",
              "      <td>-0.48</td>\n",
              "      <td>L L L L D</td>\n",
              "      <td>9019</td>\n",
              "      <td>Sofiane Boufal - 4</td>\n",
              "      <td>Paul Bernardoni</td>\n",
              "      <td>NaN</td>\n",
              "    </tr>\n",
              "  </tbody>\n",
              "</table>\n",
              "</div>\n",
              "      <button class=\"colab-df-convert\" onclick=\"convertToInteractive('df-18964279-a79a-4fc6-b27d-6d0e1fd40d95')\"\n",
              "              title=\"Convert this dataframe to an interactive table.\"\n",
              "              style=\"display:none;\">\n",
              "        \n",
              "  <svg xmlns=\"http://www.w3.org/2000/svg\" height=\"24px\"viewBox=\"0 0 24 24\"\n",
              "       width=\"24px\">\n",
              "    <path d=\"M0 0h24v24H0V0z\" fill=\"none\"/>\n",
              "    <path d=\"M18.56 5.44l.94 2.06.94-2.06 2.06-.94-2.06-.94-.94-2.06-.94 2.06-2.06.94zm-11 1L8.5 8.5l.94-2.06 2.06-.94-2.06-.94L8.5 2.5l-.94 2.06-2.06.94zm10 10l.94 2.06.94-2.06 2.06-.94-2.06-.94-.94-2.06-.94 2.06-2.06.94z\"/><path d=\"M17.41 7.96l-1.37-1.37c-.4-.4-.92-.59-1.43-.59-.52 0-1.04.2-1.43.59L10.3 9.45l-7.72 7.72c-.78.78-.78 2.05 0 2.83L4 21.41c.39.39.9.59 1.41.59.51 0 1.02-.2 1.41-.59l7.78-7.78 2.81-2.81c.8-.78.8-2.07 0-2.86zM5.41 20L4 18.59l7.72-7.72 1.47 1.35L5.41 20z\"/>\n",
              "  </svg>\n",
              "      </button>\n",
              "      \n",
              "  <style>\n",
              "    .colab-df-container {\n",
              "      display:flex;\n",
              "      flex-wrap:wrap;\n",
              "      gap: 12px;\n",
              "    }\n",
              "\n",
              "    .colab-df-convert {\n",
              "      background-color: #E8F0FE;\n",
              "      border: none;\n",
              "      border-radius: 50%;\n",
              "      cursor: pointer;\n",
              "      display: none;\n",
              "      fill: #1967D2;\n",
              "      height: 32px;\n",
              "      padding: 0 0 0 0;\n",
              "      width: 32px;\n",
              "    }\n",
              "\n",
              "    .colab-df-convert:hover {\n",
              "      background-color: #E2EBFA;\n",
              "      box-shadow: 0px 1px 2px rgba(60, 64, 67, 0.3), 0px 1px 3px 1px rgba(60, 64, 67, 0.15);\n",
              "      fill: #174EA6;\n",
              "    }\n",
              "\n",
              "    [theme=dark] .colab-df-convert {\n",
              "      background-color: #3B4455;\n",
              "      fill: #D2E3FC;\n",
              "    }\n",
              "\n",
              "    [theme=dark] .colab-df-convert:hover {\n",
              "      background-color: #434B5C;\n",
              "      box-shadow: 0px 1px 3px 1px rgba(0, 0, 0, 0.15);\n",
              "      filter: drop-shadow(0px 1px 2px rgba(0, 0, 0, 0.3));\n",
              "      fill: #FFFFFF;\n",
              "    }\n",
              "  </style>\n",
              "\n",
              "      <script>\n",
              "        const buttonEl =\n",
              "          document.querySelector('#df-18964279-a79a-4fc6-b27d-6d0e1fd40d95 button.colab-df-convert');\n",
              "        buttonEl.style.display =\n",
              "          google.colab.kernel.accessAllowed ? 'block' : 'none';\n",
              "\n",
              "        async function convertToInteractive(key) {\n",
              "          const element = document.querySelector('#df-18964279-a79a-4fc6-b27d-6d0e1fd40d95');\n",
              "          const dataTable =\n",
              "            await google.colab.kernel.invokeFunction('convertToInteractive',\n",
              "                                                     [key], {});\n",
              "          if (!dataTable) return;\n",
              "\n",
              "          const docLinkHtml = 'Like what you see? Visit the ' +\n",
              "            '<a target=\"_blank\" href=https://colab.research.google.com/notebooks/data_table.ipynb>data table notebook</a>'\n",
              "            + ' to learn more about interactive tables.';\n",
              "          element.innerHTML = '';\n",
              "          dataTable['output_type'] = 'display_data';\n",
              "          await google.colab.output.renderOutput(dataTable, element);\n",
              "          const docLink = document.createElement('div');\n",
              "          docLink.innerHTML = docLinkHtml;\n",
              "          element.appendChild(docLink);\n",
              "        }\n",
              "      </script>\n",
              "    </div>\n",
              "  </div>\n",
              "  "
            ],
            "application/vnd.google.colaboratory.module+javascript": "\n      import \"https://ssl.gstatic.com/colaboratory/data_table/99dac6621f6ae8c4/data_table.js\";\n\n      window.createDataTable({\n        data: [[{\n            'v': 0,\n            'f': \"0\",\n        },\n{\n            'v': 1,\n            'f': \"1\",\n        },\n\"Paris S-G\",\n{\n            'v': 29,\n            'f': \"29\",\n        },\n{\n            'v': 21,\n            'f': \"21\",\n        },\n{\n            'v': 3,\n            'f': \"3\",\n        },\n{\n            'v': 5,\n            'f': \"5\",\n        },\n{\n            'v': 68,\n            'f': \"68\",\n        },\n{\n            'v': 29,\n            'f': \"29\",\n        },\n{\n            'v': 39,\n            'f': \"39\",\n        },\n{\n            'v': 66,\n            'f': \"66\",\n        },\n{\n            'v': 2.28,\n            'f': \"2.28\",\n        },\n{\n            'v': 60.8,\n            'f': \"60.8\",\n        },\n{\n            'v': 34.0,\n            'f': \"34.0\",\n        },\n{\n            'v': 26.8,\n            'f': \"26.8\",\n        },\n{\n            'v': 0.92,\n            'f': \"0.92\",\n        },\n\"W W W L L\",\n{\n            'v': 40067,\n            'f': \"40067\",\n        },\n\"Kylian Mbapp\\u00e9 - 19\",\n\"Gianluigi Donnarumma\",\n{\n            'v': NaN,\n            'f': \"NaN\",\n        }],\n [{\n            'v': 1,\n            'f': \"1\",\n        },\n{\n            'v': 2,\n            'f': \"2\",\n        },\n\"Lens\",\n{\n            'v': 29,\n            'f': \"29\",\n        },\n{\n            'v': 17,\n            'f': \"17\",\n        },\n{\n            'v': 9,\n            'f': \"9\",\n        },\n{\n            'v': 3,\n            'f': \"3\",\n        },\n{\n            'v': 48,\n            'f': \"48\",\n        },\n{\n            'v': 21,\n            'f': \"21\",\n        },\n{\n            'v': 27,\n            'f': \"27\",\n        },\n{\n            'v': 60,\n            'f': \"60\",\n        },\n{\n            'v': 2.07,\n            'f': \"2.07\",\n        },\n{\n            'v': 51.4,\n            'f': \"51.4\",\n        },\n{\n            'v': 31.5,\n            'f': \"31.5\",\n        },\n{\n            'v': 19.9,\n            'f': \"19.9\",\n        },\n{\n            'v': 0.69,\n            'f': \"0.69\",\n        },\n\"D D W W W\",\n{\n            'v': 37531,\n            'f': \"37531\",\n        },\n\"Lo\\u00efs Openda - 15\",\n\"Brice Samba\",\n{\n            'v': NaN,\n            'f': \"NaN\",\n        }],\n [{\n            'v': 2,\n            'f': \"2\",\n        },\n{\n            'v': 3,\n            'f': \"3\",\n        },\n\"Marseille\",\n{\n            'v': 29,\n            'f': \"29\",\n        },\n{\n            'v': 18,\n            'f': \"18\",\n        },\n{\n            'v': 6,\n            'f': \"6\",\n        },\n{\n            'v': 5,\n            'f': \"5\",\n        },\n{\n            'v': 54,\n            'f': \"54\",\n        },\n{\n            'v': 29,\n            'f': \"29\",\n        },\n{\n            'v': 25,\n            'f': \"25\",\n        },\n{\n            'v': 60,\n            'f': \"60\",\n        },\n{\n            'v': 2.07,\n            'f': \"2.07\",\n        },\n{\n            'v': 49.0,\n            'f': \"49.0\",\n        },\n{\n            'v': 36.2,\n            'f': \"36.2\",\n        },\n{\n            'v': 12.8,\n            'f': \"12.8\",\n        },\n{\n            'v': 0.44,\n            'f': \"0.44\",\n        },\n\"L W D W D\",\n{\n            'v': 62532,\n            'f': \"62532\",\n        },\n\"Alexis S\\u00e1nchez - 12\",\n\"Pau L\\u00f3pez\",\n{\n            'v': NaN,\n            'f': \"NaN\",\n        }],\n [{\n            'v': 3,\n            'f': \"3\",\n        },\n{\n            'v': 4,\n            'f': \"4\",\n        },\n\"Monaco\",\n{\n            'v': 29,\n            'f': \"29\",\n        },\n{\n            'v': 17,\n            'f': \"17\",\n        },\n{\n            'v': 6,\n            'f': \"6\",\n        },\n{\n            'v': 6,\n            'f': \"6\",\n        },\n{\n            'v': 61,\n            'f': \"61\",\n        },\n{\n            'v': 40,\n            'f': \"40\",\n        },\n{\n            'v': 21,\n            'f': \"21\",\n        },\n{\n            'v': 57,\n            'f': \"57\",\n        },\n{\n            'v': 1.97,\n            'f': \"1.97\",\n        },\n{\n            'v': 48.9,\n            'f': \"48.9\",\n        },\n{\n            'v': 39.0,\n            'f': \"39.0\",\n        },\n{\n            'v': 9.9,\n            'f': \"9.9\",\n        },\n{\n            'v': 0.34,\n            'f': \"0.34\",\n        },\n\"L D L W W\",\n{\n            'v': 6931,\n            'f': \"6931\",\n        },\n\"Wissam Ben Yedder - 17\",\n\"Alexander N\\u00fcbel\",\n{\n            'v': NaN,\n            'f': \"NaN\",\n        }],\n [{\n            'v': 4,\n            'f': \"4\",\n        },\n{\n            'v': 5,\n            'f': \"5\",\n        },\n\"Lille\",\n{\n            'v': 29,\n            'f': \"29\",\n        },\n{\n            'v': 15,\n            'f': \"15\",\n        },\n{\n            'v': 7,\n            'f': \"7\",\n        },\n{\n            'v': 7,\n            'f': \"7\",\n        },\n{\n            'v': 54,\n            'f': \"54\",\n        },\n{\n            'v': 37,\n            'f': \"37\",\n        },\n{\n            'v': 17,\n            'f': \"17\",\n        },\n{\n            'v': 52,\n            'f': \"52\",\n        },\n{\n            'v': 1.79,\n            'f': \"1.79\",\n        },\n{\n            'v': 53.5,\n            'f': \"53.5\",\n        },\n{\n            'v': 32.4,\n            'f': \"32.4\",\n        },\n{\n            'v': 21.1,\n            'f': \"21.1\",\n        },\n{\n            'v': 0.73,\n            'f': \"0.73\",\n        },\n\"W D D W W\",\n{\n            'v': 33048,\n            'f': \"33048\",\n        },\n\"Jonathan David - 19\",\n\"Lucas Chevalier\",\n{\n            'v': NaN,\n            'f': \"NaN\",\n        }],\n [{\n            'v': 5,\n            'f': \"5\",\n        },\n{\n            'v': 6,\n            'f': \"6\",\n        },\n\"Rennes\",\n{\n            'v': 29,\n            'f': \"29\",\n        },\n{\n            'v': 15,\n            'f': \"15\",\n        },\n{\n            'v': 5,\n            'f': \"5\",\n        },\n{\n            'v': 9,\n            'f': \"9\",\n        },\n{\n            'v': 47,\n            'f': \"47\",\n        },\n{\n            'v': 30,\n            'f': \"30\",\n        },\n{\n            'v': 17,\n            'f': \"17\",\n        },\n{\n            'v': 50,\n            'f': \"50\",\n        },\n{\n            'v': 1.72,\n            'f': \"1.72\",\n        },\n{\n            'v': 44.6,\n            'f': \"44.6\",\n        },\n{\n            'v': 36.6,\n            'f': \"36.6\",\n        },\n{\n            'v': 8.0,\n            'f': \"8.0\",\n        },\n{\n            'v': 0.27,\n            'f': \"0.27\",\n        },\n\"W L D W L\",\n{\n            'v': 25734,\n            'f': \"25734\",\n        },\n\"Amine Gouiri, Martin Terrier - 9\",\n\"Steve Mandanda\",\n{\n            'v': NaN,\n            'f': \"NaN\",\n        }],\n [{\n            'v': 6,\n            'f': \"6\",\n        },\n{\n            'v': 7,\n            'f': \"7\",\n        },\n\"Reims\",\n{\n            'v': 29,\n            'f': \"29\",\n        },\n{\n            'v': 11,\n            'f': \"11\",\n        },\n{\n            'v': 13,\n            'f': \"13\",\n        },\n{\n            'v': 5,\n            'f': \"5\",\n        },\n{\n            'v': 39,\n            'f': \"39\",\n        },\n{\n            'v': 28,\n            'f': \"28\",\n        },\n{\n            'v': 11,\n            'f': \"11\",\n        },\n{\n            'v': 46,\n            'f': \"46\",\n        },\n{\n            'v': 1.59,\n            'f': \"1.59\",\n        },\n{\n            'v': 47.8,\n            'f': \"47.8\",\n        },\n{\n            'v': 36.9,\n            'f': \"36.9\",\n        },\n{\n            'v': 10.9,\n            'f': \"10.9\",\n        },\n{\n            'v': 0.38,\n            'f': \"0.38\",\n        },\n\"W W W L W\",\n{\n            'v': 11577,\n            'f': \"11577\",\n        },\n\"Folarin Balogun - 17\",\n\"Yehvann Diouf\",\n{\n            'v': NaN,\n            'f': \"NaN\",\n        }],\n [{\n            'v': 7,\n            'f': \"7\",\n        },\n{\n            'v': 8,\n            'f': \"8\",\n        },\n\"Nice\",\n{\n            'v': 29,\n            'f': \"29\",\n        },\n{\n            'v': 11,\n            'f': \"11\",\n        },\n{\n            'v': 12,\n            'f': \"12\",\n        },\n{\n            'v': 6,\n            'f': \"6\",\n        },\n{\n            'v': 38,\n            'f': \"38\",\n        },\n{\n            'v': 26,\n            'f': \"26\",\n        },\n{\n            'v': 12,\n            'f': \"12\",\n        },\n{\n            'v': 45,\n            'f': \"45\",\n        },\n{\n            'v': 1.55,\n            'f': \"1.55\",\n        },\n{\n            'v': 40.4,\n            'f': \"40.4\",\n        },\n{\n            'v': 32.3,\n            'f': \"32.3\",\n        },\n{\n            'v': 8.1,\n            'f': \"8.1\",\n        },\n{\n            'v': 0.28,\n            'f': \"0.28\",\n        },\n\"W D D D D\",\n{\n            'v': 19982,\n            'f': \"19982\",\n        },\n\"Ga\\u00ebtan Laborde - 8\",\n\"Kasper Schmeichel\",\n{\n            'v': NaN,\n            'f': \"NaN\",\n        }],\n [{\n            'v': 8,\n            'f': \"8\",\n        },\n{\n            'v': 9,\n            'f': \"9\",\n        },\n\"Lyon\",\n{\n            'v': 29,\n            'f': \"29\",\n        },\n{\n            'v': 12,\n            'f': \"12\",\n        },\n{\n            'v': 8,\n            'f': \"8\",\n        },\n{\n            'v': 9,\n            'f': \"9\",\n        },\n{\n            'v': 44,\n            'f': \"44\",\n        },\n{\n            'v': 32,\n            'f': \"32\",\n        },\n{\n            'v': 12,\n            'f': \"12\",\n        },\n{\n            'v': 44,\n            'f': \"44\",\n        },\n{\n            'v': 1.52,\n            'f': \"1.52\",\n        },\n{\n            'v': 45.0,\n            'f': \"45.0\",\n        },\n{\n            'v': 37.2,\n            'f': \"37.2\",\n        },\n{\n            'v': 7.7,\n            'f': \"7.7\",\n        },\n{\n            'v': 0.27,\n            'f': \"0.27\",\n        },\n\"W D D D W\",\n{\n            'v': 43729,\n            'f': \"43729\",\n        },\n\"Alexandre Lacazette - 17\",\n\"Anthony Lopes\",\n{\n            'v': NaN,\n            'f': \"NaN\",\n        }],\n [{\n            'v': 9,\n            'f': \"9\",\n        },\n{\n            'v': 10,\n            'f': \"10\",\n        },\n\"Lorient\",\n{\n            'v': 29,\n            'f': \"29\",\n        },\n{\n            'v': 12,\n            'f': \"12\",\n        },\n{\n            'v': 8,\n            'f': \"8\",\n        },\n{\n            'v': 9,\n            'f': \"9\",\n        },\n{\n            'v': 42,\n            'f': \"42\",\n        },\n{\n            'v': 40,\n            'f': \"40\",\n        },\n{\n            'v': 2,\n            'f': \"2\",\n        },\n{\n            'v': 44,\n            'f': \"44\",\n        },\n{\n            'v': 1.52,\n            'f': \"1.52\",\n        },\n{\n            'v': 35.0,\n            'f': \"35.0\",\n        },\n{\n            'v': 45.1,\n            'f': \"45.1\",\n        },\n{\n            'v': -10.1,\n            'f': \"-10.1\",\n        },\n{\n            'v': -0.35,\n            'f': \"-0.35\",\n        },\n\"L D W D L\",\n{\n            'v': 14481,\n            'f': \"14481\",\n        },\n\"Terem Moffi - 12\",\n\"Vito Mannone\",\n{\n            'v': NaN,\n            'f': \"NaN\",\n        }],\n [{\n            'v': 10,\n            'f': \"10\",\n        },\n{\n            'v': 11,\n            'f': \"11\",\n        },\n\"Montpellier\",\n{\n            'v': 29,\n            'f': \"29\",\n        },\n{\n            'v': 11,\n            'f': \"11\",\n        },\n{\n            'v': 4,\n            'f': \"4\",\n        },\n{\n            'v': 14,\n            'f': \"14\",\n        },\n{\n            'v': 45,\n            'f': \"45\",\n        },\n{\n            'v': 48,\n            'f': \"48\",\n        },\n{\n            'v': -3,\n            'f': \"-3\",\n        },\n{\n            'v': 37,\n            'f': \"37\",\n        },\n{\n            'v': 1.28,\n            'f': \"1.28\",\n        },\n{\n            'v': 37.3,\n            'f': \"37.3\",\n        },\n{\n            'v': 46.4,\n            'f': \"46.4\",\n        },\n{\n            'v': -9.1,\n            'f': \"-9.1\",\n        },\n{\n            'v': -0.31,\n            'f': \"-0.31\",\n        },\n\"D W W W D\",\n{\n            'v': 12491,\n            'f': \"12491\",\n        },\n\"Sepe Elye Wahi - 12\",\n\"Jonas Omlin\",\n{\n            'v': NaN,\n            'f': \"NaN\",\n        }],\n [{\n            'v': 11,\n            'f': \"11\",\n        },\n{\n            'v': 12,\n            'f': \"12\",\n        },\n\"Clermont Foot\",\n{\n            'v': 29,\n            'f': \"29\",\n        },\n{\n            'v': 10,\n            'f': \"10\",\n        },\n{\n            'v': 7,\n            'f': \"7\",\n        },\n{\n            'v': 12,\n            'f': \"12\",\n        },\n{\n            'v': 29,\n            'f': \"29\",\n        },\n{\n            'v': 41,\n            'f': \"41\",\n        },\n{\n            'v': -12,\n            'f': \"-12\",\n        },\n{\n            'v': 37,\n            'f': \"37\",\n        },\n{\n            'v': 1.28,\n            'f': \"1.28\",\n        },\n{\n            'v': 33.1,\n            'f': \"33.1\",\n        },\n{\n            'v': 47.8,\n            'f': \"47.8\",\n        },\n{\n            'v': -14.8,\n            'f': \"-14.8\",\n        },\n{\n            'v': -0.51,\n            'f': \"-0.51\",\n        },\n\"D W L L W\",\n{\n            'v': 10428,\n            'f': \"10428\",\n        },\n\"Grejohn Kyei - 5\",\n\"Mory Diaw\",\n{\n            'v': NaN,\n            'f': \"NaN\",\n        }],\n [{\n            'v': 12,\n            'f': \"12\",\n        },\n{\n            'v': 13,\n            'f': \"13\",\n        },\n\"Toulouse\",\n{\n            'v': 29,\n            'f': \"29\",\n        },\n{\n            'v': 10,\n            'f': \"10\",\n        },\n{\n            'v': 5,\n            'f': \"5\",\n        },\n{\n            'v': 14,\n            'f': \"14\",\n        },\n{\n            'v': 44,\n            'f': \"44\",\n        },\n{\n            'v': 51,\n            'f': \"51\",\n        },\n{\n            'v': -7,\n            'f': \"-7\",\n        },\n{\n            'v': 35,\n            'f': \"35\",\n        },\n{\n            'v': 1.21,\n            'f': \"1.21\",\n        },\n{\n            'v': 40.2,\n            'f': \"40.2\",\n        },\n{\n            'v': 44.5,\n            'f': \"44.5\",\n        },\n{\n            'v': -4.3,\n            'f': \"-4.3\",\n        },\n{\n            'v': -0.15,\n            'f': \"-0.15\",\n        },\n\"L L W L L\",\n{\n            'v': 22932,\n            'f': \"22932\",\n        },\n\"Thijs Dallinga - 11\",\n\"Maxime Dup\\u00e9\",\n{\n            'v': NaN,\n            'f': \"NaN\",\n        }],\n [{\n            'v': 13,\n            'f': \"13\",\n        },\n{\n            'v': 14,\n            'f': \"14\",\n        },\n\"Nantes\",\n{\n            'v': 29,\n            'f': \"29\",\n        },\n{\n            'v': 6,\n            'f': \"6\",\n        },\n{\n            'v': 12,\n            'f': \"12\",\n        },\n{\n            'v': 11,\n            'f': \"11\",\n        },\n{\n            'v': 30,\n            'f': \"30\",\n        },\n{\n            'v': 40,\n            'f': \"40\",\n        },\n{\n            'v': -10,\n            'f': \"-10\",\n        },\n{\n            'v': 30,\n            'f': \"30\",\n        },\n{\n            'v': 1.03,\n            'f': \"1.03\",\n        },\n{\n            'v': 33.3,\n            'f': \"33.3\",\n        },\n{\n            'v': 38.5,\n            'f': \"38.5\",\n        },\n{\n            'v': -5.2,\n            'f': \"-5.2\",\n        },\n{\n            'v': -0.18,\n            'f': \"-0.18\",\n        },\n\"L L D D L\",\n{\n            'v': 28089,\n            'f': \"28089\",\n        },\n\"Ludovic Blas, Mostafa Mohamed - 6\",\n\"Alban Lafont\",\n{\n            'v': NaN,\n            'f': \"NaN\",\n        }],\n [{\n            'v': 14,\n            'f': \"14\",\n        },\n{\n            'v': 15,\n            'f': \"15\",\n        },\n\"Brest\",\n{\n            'v': 29,\n            'f': \"29\",\n        },\n{\n            'v': 6,\n            'f': \"6\",\n        },\n{\n            'v': 9,\n            'f': \"9\",\n        },\n{\n            'v': 14,\n            'f': \"14\",\n        },\n{\n            'v': 33,\n            'f': \"33\",\n        },\n{\n            'v': 47,\n            'f': \"47\",\n        },\n{\n            'v': -14,\n            'f': \"-14\",\n        },\n{\n            'v': 27,\n            'f': \"27\",\n        },\n{\n            'v': 0.93,\n            'f': \"0.93\",\n        },\n{\n            'v': 32.5,\n            'f': \"32.5\",\n        },\n{\n            'v': 45.5,\n            'f': \"45.5\",\n        },\n{\n            'v': -13.0,\n            'f': \"-13.0\",\n        },\n{\n            'v': -0.45,\n            'f': \"-0.45\",\n        },\n\"L W L D W\",\n{\n            'v': 11239,\n            'f': \"11239\",\n        },\n\"J\\u00e9r\\u00e9my Le Douaron - 7\",\n\"Marco Bizot\",\n{\n            'v': NaN,\n            'f': \"NaN\",\n        }],\n [{\n            'v': 15,\n            'f': \"15\",\n        },\n{\n            'v': 16,\n            'f': \"16\",\n        },\n\"Strasbourg\",\n{\n            'v': 29,\n            'f': \"29\",\n        },\n{\n            'v': 5,\n            'f': \"5\",\n        },\n{\n            'v': 11,\n            'f': \"11\",\n        },\n{\n            'v': 13,\n            'f': \"13\",\n        },\n{\n            'v': 37,\n            'f': \"37\",\n        },\n{\n            'v': 50,\n            'f': \"50\",\n        },\n{\n            'v': -13,\n            'f': \"-13\",\n        },\n{\n            'v': 26,\n            'f': \"26\",\n        },\n{\n            'v': 0.9,\n            'f': \"0.9\",\n        },\n{\n            'v': 36.0,\n            'f': \"36.0\",\n        },\n{\n            'v': 48.5,\n            'f': \"48.5\",\n        },\n{\n            'v': -12.4,\n            'f': \"-12.4\",\n        },\n{\n            'v': -0.43,\n            'f': \"-0.43\",\n        },\n\"D L D W L\",\n{\n            'v': 23553,\n            'f': \"23553\",\n        },\n\"Habib Diallo - 15\",\n\"Matz Sels\",\n{\n            'v': NaN,\n            'f': \"NaN\",\n        }],\n [{\n            'v': 16,\n            'f': \"16\",\n        },\n{\n            'v': 17,\n            'f': \"17\",\n        },\n\"Auxerre\",\n{\n            'v': 29,\n            'f': \"29\",\n        },\n{\n            'v': 6,\n            'f': \"6\",\n        },\n{\n            'v': 8,\n            'f': \"8\",\n        },\n{\n            'v': 15,\n            'f': \"15\",\n        },\n{\n            'v': 24,\n            'f': \"24\",\n        },\n{\n            'v': 51,\n            'f': \"51\",\n        },\n{\n            'v': -27,\n            'f': \"-27\",\n        },\n{\n            'v': 26,\n            'f': \"26\",\n        },\n{\n            'v': 0.9,\n            'f': \"0.9\",\n        },\n{\n            'v': 30.7,\n            'f': \"30.7\",\n        },\n{\n            'v': 43.0,\n            'f': \"43.0\",\n        },\n{\n            'v': -12.3,\n            'f': \"-12.3\",\n        },\n{\n            'v': -0.42,\n            'f': \"-0.42\",\n        },\n\"W D D L W\",\n{\n            'v': 14090,\n            'f': \"14090\",\n        },\n\"M'Baye Niang - 4\",\n\"Beno\\u00eet Costil\",\n{\n            'v': NaN,\n            'f': \"NaN\",\n        }],\n [{\n            'v': 17,\n            'f': \"17\",\n        },\n{\n            'v': 18,\n            'f': \"18\",\n        },\n\"Troyes\",\n{\n            'v': 29,\n            'f': \"29\",\n        },\n{\n            'v': 4,\n            'f': \"4\",\n        },\n{\n            'v': 9,\n            'f': \"9\",\n        },\n{\n            'v': 16,\n            'f': \"16\",\n        },\n{\n            'v': 38,\n            'f': \"38\",\n        },\n{\n            'v': 62,\n            'f': \"62\",\n        },\n{\n            'v': -24,\n            'f': \"-24\",\n        },\n{\n            'v': 21,\n            'f': \"21\",\n        },\n{\n            'v': 0.72,\n            'f': \"0.72\",\n        },\n{\n            'v': 33.3,\n            'f': \"33.3\",\n        },\n{\n            'v': 55.8,\n            'f': \"55.8\",\n        },\n{\n            'v': -22.5,\n            'f': \"-22.5\",\n        },\n{\n            'v': -0.78,\n            'f': \"-0.78\",\n        },\n\"L D L D L\",\n{\n            'v': 8941,\n            'f': \"8941\",\n        },\n\"Mama Samba Bald\\u00e9 - 10\",\n\"Gauthier Gallon\",\n{\n            'v': NaN,\n            'f': \"NaN\",\n        }],\n [{\n            'v': 18,\n            'f': \"18\",\n        },\n{\n            'v': 19,\n            'f': \"19\",\n        },\n\"Ajaccio\",\n{\n            'v': 29,\n            'f': \"29\",\n        },\n{\n            'v': 6,\n            'f': \"6\",\n        },\n{\n            'v': 3,\n            'f': \"3\",\n        },\n{\n            'v': 20,\n            'f': \"20\",\n        },\n{\n            'v': 21,\n            'f': \"21\",\n        },\n{\n            'v': 52,\n            'f': \"52\",\n        },\n{\n            'v': -31,\n            'f': \"-31\",\n        },\n{\n            'v': 21,\n            'f': \"21\",\n        },\n{\n            'v': 0.72,\n            'f': \"0.72\",\n        },\n{\n            'v': 32.6,\n            'f': \"32.6\",\n        },\n{\n            'v': 40.2,\n            'f': \"40.2\",\n        },\n{\n            'v': -7.6,\n            'f': \"-7.6\",\n        },\n{\n            'v': -0.26,\n            'f': \"-0.26\",\n        },\n\"W L L L L\",\n{\n            'v': 6880,\n            'f': \"6880\",\n        },\n\"Youcef Bela\\u00efli, Mounaim El Idrissy - 6\",\n\"Benjamin Leroy\",\n{\n            'v': NaN,\n            'f': \"NaN\",\n        }],\n [{\n            'v': 19,\n            'f': \"19\",\n        },\n{\n            'v': 20,\n            'f': \"20\",\n        },\n\"Angers\",\n{\n            'v': 29,\n            'f': \"29\",\n        },\n{\n            'v': 2,\n            'f': \"2\",\n        },\n{\n            'v': 5,\n            'f': \"5\",\n        },\n{\n            'v': 22,\n            'f': \"22\",\n        },\n{\n            'v': 22,\n            'f': \"22\",\n        },\n{\n            'v': 64,\n            'f': \"64\",\n        },\n{\n            'v': -42,\n            'f': \"-42\",\n        },\n{\n            'v': 11,\n            'f': \"11\",\n        },\n{\n            'v': 0.38,\n            'f': \"0.38\",\n        },\n{\n            'v': 32.8,\n            'f': \"32.8\",\n        },\n{\n            'v': 46.8,\n            'f': \"46.8\",\n        },\n{\n            'v': -13.9,\n            'f': \"-13.9\",\n        },\n{\n            'v': -0.48,\n            'f': \"-0.48\",\n        },\n\"L L L L D\",\n{\n            'v': 9019,\n            'f': \"9019\",\n        },\n\"Sofiane Boufal - 4\",\n\"Paul Bernardoni\",\n{\n            'v': NaN,\n            'f': \"NaN\",\n        }]],\n        columns: [[\"number\", \"index\"], [\"number\", \"Rk\"], [\"string\", \"Squad\"], [\"number\", \"MP\"], [\"number\", \"W\"], [\"number\", \"D\"], [\"number\", \"L\"], [\"number\", \"GF\"], [\"number\", \"GA\"], [\"number\", \"GD\"], [\"number\", \"Pts\"], [\"number\", \"Pts/MP\"], [\"number\", \"xG\"], [\"number\", \"xGA\"], [\"number\", \"xGD\"], [\"number\", \"xGD/90\"], [\"string\", \"Last 5\"], [\"number\", \"Attendance\"], [\"string\", \"Top Team Scorer\"], [\"string\", \"Goalkeeper\"], [\"number\", \"Notes\"]],\n        columnOptions: [{\"width\": \"1px\", \"className\": \"index_column\"}],\n        rowsPerPage: 25,\n        helpUrl: \"https://colab.research.google.com/notebooks/data_table.ipynb\",\n        suppressOutputScrolling: true,\n        minimumWidth: undefined,\n      });\n    "
          },
          "metadata": {},
          "execution_count": 4
        }
      ]
    },
    {
      "cell_type": "markdown",
      "source": [
        "selecionar e concatenar as mesmas tabelas de todas das as ligas\n",
        "\n",
        "> Bloco com recuo\n",
        "\n",
        "\n",
        "\n"
      ],
      "metadata": {
        "id": "ermVCdG-Toti"
      }
    },
    {
      "cell_type": "code",
      "source": [
        "premier1 = df1[0]\n",
        "premier1.to_excel(\"ligue1franca_Regular_season.xlsx\")\n"
      ],
      "metadata": {
        "id": "FNn3xQ37R6st"
      },
      "execution_count": 5,
      "outputs": []
    },
    {
      "cell_type": "markdown",
      "source": [
        "Estatísticas padrão do esquadrão"
      ],
      "metadata": {
        "id": "qzo9lZCVP9c-"
      }
    },
    {
      "cell_type": "code",
      "source": [
        "#df2[2]  # Squad Standard Stats 2022-2023"
      ],
      "metadata": {
        "id": "sH90iZO9z2PG"
      },
      "execution_count": 6,
      "outputs": []
    },
    {
      "cell_type": "code",
      "source": [
        "##premier2.to_excel(\"premier_Squad _tandard _stats.xlsx\")"
      ],
      "metadata": {
        "id": "vjloqWAVSZPS"
      },
      "execution_count": 7,
      "outputs": []
    },
    {
      "cell_type": "markdown",
      "source": [
        "Squad Shooting\n"
      ],
      "metadata": {
        "id": "xTDIEh7DQRZV"
      }
    },
    {
      "cell_type": "code",
      "source": [
        "#df3[8]"
      ],
      "metadata": {
        "id": "w_A-rUYXPYvj"
      },
      "execution_count": 8,
      "outputs": []
    },
    {
      "cell_type": "code",
      "source": [
        "#Concatenando as Planilhas\n",
        "#df = [premier1,premier2]\n",
        "#df = pd.concat(df)\n",
        "\n",
        "#df\n",
        "#df.to_excel(\"tudo.xlsx\")"
      ],
      "metadata": {
        "id": "tKjp3-kvQwg7"
      },
      "execution_count": 9,
      "outputs": []
    },
    {
      "cell_type": "code",
      "source": [
        "#df1[3] #fora de casa "
      ],
      "metadata": {
        "id": "iSzHBUgd0Kyr"
      },
      "execution_count": 10,
      "outputs": []
    },
    {
      "cell_type": "code",
      "source": [
        "#df1[4]#Squad Goalkeeping home"
      ],
      "metadata": {
        "id": "SZi9iLw80MW0"
      },
      "execution_count": 11,
      "outputs": []
    },
    {
      "cell_type": "code",
      "source": [
        "#df1[5]  #Squad Goalkeeping away"
      ],
      "metadata": {
        "id": "BUL16MvT0PH7"
      },
      "execution_count": 12,
      "outputs": []
    },
    {
      "cell_type": "code",
      "source": [
        "#df1[6]#Squad Advanced Goalkeeping home"
      ],
      "metadata": {
        "id": "esjXl6rK0W5y"
      },
      "execution_count": 13,
      "outputs": []
    },
    {
      "cell_type": "code",
      "source": [
        "#df1[7] #Squad Advanced Goalkeeping away"
      ],
      "metadata": {
        "id": "MyvEnTyE0Y12"
      },
      "execution_count": 14,
      "outputs": []
    },
    {
      "cell_type": "code",
      "source": [
        "#df1[8] #Squad Shooting home"
      ],
      "metadata": {
        "id": "gI7hdpmo0cI9"
      },
      "execution_count": 15,
      "outputs": []
    },
    {
      "cell_type": "code",
      "source": [
        "#df1[9] # Squad Shooting away"
      ],
      "metadata": {
        "id": "Xf_JHnHP0fS3"
      },
      "execution_count": 16,
      "outputs": []
    },
    {
      "cell_type": "code",
      "source": [
        " #Squad Passing home"
      ],
      "metadata": {
        "id": "Nfyo7UsV0kbE"
      },
      "execution_count": 17,
      "outputs": []
    },
    {
      "cell_type": "code",
      "source": [
        "#df1[11] # Squad Passing away "
      ],
      "metadata": {
        "id": "PrVneios0mFC"
      },
      "execution_count": 18,
      "outputs": []
    },
    {
      "cell_type": "code",
      "source": [
        "#df1[12]  #Squad Pass Types  home"
      ],
      "metadata": {
        "id": "gBaj2_IS0om5"
      },
      "execution_count": 19,
      "outputs": []
    },
    {
      "cell_type": "code",
      "source": [
        "#df1[13] #Squad Pass Types away "
      ],
      "metadata": {
        "id": "xWrafEzE0qGt"
      },
      "execution_count": 20,
      "outputs": []
    },
    {
      "cell_type": "code",
      "source": [
        "#df1[14] #Squad Goal and Shot Creation home"
      ],
      "metadata": {
        "id": "Vw_QsWw90tGD"
      },
      "execution_count": 21,
      "outputs": []
    },
    {
      "cell_type": "code",
      "source": [
        "#df1[15] #Squad Goal and Shot Creation  away "
      ],
      "metadata": {
        "id": "rhaFnhPZ0w6j"
      },
      "execution_count": 22,
      "outputs": []
    },
    {
      "cell_type": "code",
      "source": [
        "#df1[16] #Squad Goal and Shot Creation  home"
      ],
      "metadata": {
        "id": "I7uji0yl01GT"
      },
      "execution_count": 23,
      "outputs": []
    },
    {
      "cell_type": "code",
      "source": [
        "#df1[17] #Squad Goal and Shot Creation  away "
      ],
      "metadata": {
        "id": "Oh7FDfd-1Bb1"
      },
      "execution_count": 24,
      "outputs": []
    },
    {
      "cell_type": "code",
      "source": [
        "#df1[18]"
      ],
      "metadata": {
        "id": "sJjf9U1C1DVB"
      },
      "execution_count": 25,
      "outputs": []
    },
    {
      "cell_type": "code",
      "source": [
        "#df1[19]"
      ],
      "metadata": {
        "id": "EUp0GHRI1Fa3"
      },
      "execution_count": 26,
      "outputs": []
    },
    {
      "cell_type": "code",
      "source": [
        "#df1[20]"
      ],
      "metadata": {
        "id": "-8gUDBuo1LxQ"
      },
      "execution_count": 27,
      "outputs": []
    },
    {
      "cell_type": "code",
      "source": [
        "#df1[21]"
      ],
      "metadata": {
        "id": "NhuvvvXj1N7H"
      },
      "execution_count": 28,
      "outputs": []
    },
    {
      "cell_type": "code",
      "source": [
        "#df1[22]"
      ],
      "metadata": {
        "id": "FImg0sWn1PtU"
      },
      "execution_count": 29,
      "outputs": []
    },
    {
      "cell_type": "code",
      "source": [],
      "metadata": {
        "id": "c4Iu-6ot1RaE"
      },
      "execution_count": 29,
      "outputs": []
    }
  ]
}