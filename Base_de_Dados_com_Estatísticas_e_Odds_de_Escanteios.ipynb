{
  "nbformat": 4,
  "nbformat_minor": 0,
  "metadata": {
    "colab": {
      "private_outputs": true,
      "provenance": [],
      "include_colab_link": true
    },
    "kernelspec": {
      "name": "python3",
      "display_name": "Python 3"
    },
    "language_info": {
      "name": "python"
    }
  },
  "cells": [
    {
      "cell_type": "markdown",
      "metadata": {
        "id": "view-in-github",
        "colab_type": "text"
      },
      "source": [
        "<a href=\"https://colab.research.google.com/github/bola1318/base_de_dados/blob/main/Base_de_Dados_com_Estat%C3%ADsticas_e_Odds_de_Escanteios.ipynb\" target=\"_parent\"><img src=\"https://colab.research.google.com/assets/colab-badge.svg\" alt=\"Open In Colab\"/></a>"
      ]
    },
    {
      "cell_type": "markdown",
      "source": [
        "# Importando as Bibliotecas e o DataFrame"
      ],
      "metadata": {
        "id": "S_xsAldP3wz5"
      }
    },
    {
      "cell_type": "code",
      "source": [
        "import pandas as pd\n",
        "import warnings\n",
        "warnings.filterwarnings('ignore')"
      ],
      "metadata": {
        "id": "LiXF_ajCyn5M"
      },
      "execution_count": null,
      "outputs": []
    },
    {
      "cell_type": "code",
      "execution_count": null,
      "metadata": {
        "id": "5ksPiJCgu3FO"
      },
      "outputs": [],
      "source": [
        "# Temparada Atual\n",
        "df = pd.read_excel('https://github.com/futpythontrader/YouTube/blob/main/x_FutPythonTrader_Base_de_Dados_Temporada_Atual_x.xlsx?raw=true')\n",
        "\n",
        "# Temporadas Passadas\n",
        "#df = pd.read_excel('https://github.com/futpythontrader/YouTube/blob/main/x_FutPythonTrader_Base_de_Dados_Temporadas_Passadas_x.xlsx?raw=true')"
      ]
    },
    {
      "cell_type": "code",
      "source": [
        "df.columns.to_list()"
      ],
      "metadata": {
        "id": "pe8hkEbefIbz"
      },
      "execution_count": null,
      "outputs": []
    },
    {
      "cell_type": "code",
      "source": [
        "df = df[['League','Home','Away','FT_Corners_H','FT_Corners_A','FT_TotalCorners','Odds_Corners_H','Odds_Corners_D','Odds_Corners_A','Odds_Corners_Over75','Odds_Corners_Over85','Odds_Corners_Over95','Odds_Corners_Over105','Odds_Corners_Over115']]\n",
        "# Ajustando o Índice\n",
        "df.reset_index(inplace=True, drop=True)\n",
        "df.index = df.index.set_names(['Nº'])\n",
        "df = df.rename(index=lambda x: x + 1)\n",
        "df"
      ],
      "metadata": {
        "id": "xWem93Y4WQrV"
      },
      "execution_count": null,
      "outputs": []
    },
    {
      "cell_type": "code",
      "source": [
        "df = df[(df.Odds_Corners_H != 0) & (df.Odds_Corners_D != 0) & (df.Odds_Corners_A != 0) & (df.Odds_Corners_Over75 != 0) & (df.Odds_Corners_Over85 != 0) & (df.Odds_Corners_Over95 != 0) & (df.Odds_Corners_Over105 != 0) & (df.Odds_Corners_Over115 != 0)]\n",
        "df.dropna(inplace = True)\n",
        "# Ajustando o Índice\n",
        "df.reset_index(inplace=True, drop=True)\n",
        "df.index = df.index.set_names(['Nº'])\n",
        "df = df.rename(index=lambda x: x + 1)\n",
        "df"
      ],
      "metadata": {
        "id": "wknGCL_Z0jr8"
      },
      "execution_count": null,
      "outputs": []
    },
    {
      "cell_type": "code",
      "source": [
        "# Média\n",
        "df['Media_Cantos_Marcados_Home'] = df.groupby('Home')['FT_Corners_H'].rolling(window=5, min_periods=1).mean().reset_index(0,drop=True)\n",
        "df['Media_Cantos_Sofridos_Home'] = df.groupby('Home')['FT_Corners_A'].rolling(window=5, min_periods=1).mean().reset_index(0,drop=True)\n",
        "df['Media_Cantos_Total_Home'] = df.groupby('Home')['FT_TotalCorners'].rolling(window=5, min_periods=1).mean().reset_index(0,drop=True)\n",
        "\n",
        "# Desvio Padrão\n",
        "df['DesvP_Cantos_Marcados_Home'] = df.groupby('Home')['FT_Corners_H'].rolling(window=5, min_periods=1).std().reset_index(0,drop=True)\n",
        "df['DesvP_Cantos_Sofridos_Home'] = df.groupby('Home')['FT_Corners_A'].rolling(window=5, min_periods=1).std().reset_index(0,drop=True)\n",
        "df['DesvP_Cantos_Total_Home'] = df.groupby('Home')['FT_TotalCorners'].rolling(window=5, min_periods=1).std().reset_index(0,drop=True)\n",
        "\n",
        "# Coeficiente de Variação\n",
        "df['CV_Cantos_Marcados_Home'] = df['DesvP_Cantos_Marcados_Home'] / df['Media_Cantos_Marcados_Home']\n",
        "df['CV_Cantos_Sofridos_Home'] = df['DesvP_Cantos_Sofridos_Home'] / df['Media_Cantos_Sofridos_Home']\n",
        "df['CV_Cantos_Total_Home'] = df['DesvP_Cantos_Total_Home'] / df['Media_Cantos_Total_Home']\n",
        "\n",
        "# Média\n",
        "df['Media_Cantos_Marcados_Away'] = df.groupby('Away')['FT_Corners_A'].rolling(window=5, min_periods=1).mean().reset_index(0,drop=True)\n",
        "df['Media_Cantos_Sofridos_Away'] = df.groupby('Away')['FT_Corners_H'].rolling(window=5, min_periods=1).mean().reset_index(0,drop=True)\n",
        "df['Media_Cantos_Total_Away'] = df.groupby('Away')['FT_TotalCorners'].rolling(window=5, min_periods=1).mean().reset_index(0,drop=True)\n",
        "\n",
        "# Desvio Padrão\n",
        "df['DesvP_Cantos_Marcados_Away'] = df.groupby('Away')['FT_Corners_A'].rolling(window=5, min_periods=1).std().reset_index(0,drop=True)\n",
        "df['DesvP_Cantos_Sofridos_Away'] = df.groupby('Away')['FT_Corners_H'].rolling(window=5, min_periods=1).std().reset_index(0,drop=True)\n",
        "df['DesvP_Cantos_Total_Away'] = df.groupby('Away')['FT_TotalCorners'].rolling(window=5, min_periods=1).std().reset_index(0,drop=True)\n",
        "\n",
        "# Coeficiente de Variação\n",
        "df['CV_Cantos_Marcados_Away'] = (df['DesvP_Cantos_Marcados_Away'] / df['Media_Cantos_Marcados_Away'])\n",
        "df['CV_Cantos_Sofridos_Away'] = (df['DesvP_Cantos_Sofridos_Away'] / df['Media_Cantos_Sofridos_Away'])\n",
        "df['CV_Cantos_Total_Away'] = (df['DesvP_Cantos_Total_Away'] / df['Media_Cantos_Total_Away'])"
      ],
      "metadata": {
        "id": "VJWT7UNZ3Ycs"
      },
      "execution_count": null,
      "outputs": []
    },
    {
      "cell_type": "code",
      "source": [
        "df.dropna(inplace = True)\n",
        "# Ajustando o Índice\n",
        "df.reset_index(inplace=True, drop=True)\n",
        "df.index = df.index.set_names(['Nº'])\n",
        "df = df.rename(index=lambda x: x + 1)\n",
        "df"
      ],
      "metadata": {
        "id": "YnRnkvVoGGEE"
      },
      "execution_count": null,
      "outputs": []
    },
    {
      "cell_type": "code",
      "source": [
        "df.info()"
      ],
      "metadata": {
        "id": "Jr_KjVDbjXCH"
      },
      "execution_count": null,
      "outputs": []
    },
    {
      "cell_type": "code",
      "source": [
        "df.to_excel(\"base_de_dados_escanteios.xlsx\")"
      ],
      "metadata": {
        "id": "QuGZHZ3I5IN5"
      },
      "execution_count": null,
      "outputs": []
    }
  ]
}