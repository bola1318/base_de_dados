{
  "nbformat": 4,
  "nbformat_minor": 0,
  "metadata": {
    "colab": {
      "private_outputs": true,
      "provenance": [],
      "include_colab_link": true
    },
    "kernelspec": {
      "name": "python3",
      "display_name": "Python 3"
    },
    "language_info": {
      "name": "python"
    }
  },
  "cells": [
    {
      "cell_type": "markdown",
      "metadata": {
        "id": "view-in-github",
        "colab_type": "text"
      },
      "source": [
        "<a href=\"https://colab.research.google.com/github/bola1318/base_de_dados/blob/main/Analisando_as_Estat%C3%ADsticas_de_Escanteios_no_Campeonato_Brasileiro.ipynb\" target=\"_parent\"><img src=\"https://colab.research.google.com/assets/colab-badge.svg\" alt=\"Open In Colab\"/></a>"
      ]
    },
    {
      "cell_type": "markdown",
      "source": [
        "# Importando as Bibliotecas e o DataFrame"
      ],
      "metadata": {
        "id": "S_xsAldP3wz5"
      }
    },
    {
      "cell_type": "code",
      "source": [
        "import pandas as pd\n",
        "import warnings\n",
        "warnings.filterwarnings('ignore')"
      ],
      "metadata": {
        "id": "LiXF_ajCyn5M"
      },
      "execution_count": null,
      "outputs": []
    },
    {
      "cell_type": "code",
      "execution_count": null,
      "metadata": {
        "id": "5ksPiJCgu3FO"
      },
      "outputs": [],
      "source": [
        "df = pd.read_csv('https://github.com/futpythontrader/YouTube/blob/main/Base_de_Dados/banco_brasil.csv?raw=true')"
      ]
    },
    {
      "cell_type": "code",
      "source": [
        "df = df[['Country','League','Season','Home','Away','HT_Corner_Kicks_H','HT_Corner_Kicks_A','FT_Corner_Kicks_H','FT_Corner_Kicks_A']]\n",
        "df"
      ],
      "metadata": {
        "id": "F-rtsUSo0T-p"
      },
      "execution_count": null,
      "outputs": []
    },
    {
      "cell_type": "code",
      "source": [
        "df = df[df.League == \"SERIE A\"]\n",
        "df = df[df.Season == 2021]\n",
        "df"
      ],
      "metadata": {
        "id": "wknGCL_Z0jr8"
      },
      "execution_count": null,
      "outputs": []
    },
    {
      "cell_type": "code",
      "source": [
        "df = df[['Season','Home','Away','HT_Corner_Kicks_H','HT_Corner_Kicks_A','FT_Corner_Kicks_H','FT_Corner_Kicks_A']]\n",
        "df.columns = ['Temporada','Home','Away','HT_Cantos_H','HT_Cantos_A','FT_Cantos_H','FT_Cantos_A']\n",
        "df.dropna(inplace = True)\n",
        "# Ajustando o Índice\n",
        "df.reset_index(inplace=True, drop=True)\n",
        "df.index = df.index.set_names(['Nº'])\n",
        "df = df.rename(index=lambda x: x + 1)\n",
        "df"
      ],
      "metadata": {
        "id": "FfjAu_b30vR1"
      },
      "execution_count": null,
      "outputs": []
    },
    {
      "cell_type": "markdown",
      "source": [
        "# Análise Dados HT\n"
      ],
      "metadata": {
        "id": "RtjXU43U33MY"
      }
    },
    {
      "cell_type": "code",
      "source": [
        "df_HT = df[['Home','Away','HT_Cantos_H','HT_Cantos_A']]\n",
        "df_HT['HT_Cantos_Total'] = df_HT['HT_Cantos_H'] + df_HT['HT_Cantos_A']  \n",
        "\n",
        "# Média\n",
        "df_HT['Media_Cantos_Marcados_Home'] = df_HT.groupby('Home')['HT_Cantos_H'].rolling(window=5, min_periods=1).mean().reset_index(0,drop=True)\n",
        "df_HT['Media_Cantos_Sofridos_Home'] = df_HT.groupby('Home')['HT_Cantos_A'].rolling(window=5, min_periods=1).mean().reset_index(0,drop=True)\n",
        "df_HT['Media_Cantos_Total_Home'] = df_HT.groupby('Home')['HT_Cantos_Total'].rolling(window=5, min_periods=1).mean().reset_index(0,drop=True)\n",
        "\n",
        "# Desvio Padrão\n",
        "df_HT['DesvP_Cantos_Marcados_Home'] = df_HT.groupby('Home')['HT_Cantos_H'].rolling(window=5, min_periods=1).std().reset_index(0,drop=True)\n",
        "df_HT['DesvP_Cantos_Sofridos_Home'] = df_HT.groupby('Home')['HT_Cantos_A'].rolling(window=5, min_periods=1).std().reset_index(0,drop=True)\n",
        "df_HT['DesvP_Cantos_Total_Home'] = df_HT.groupby('Home')['HT_Cantos_Total'].rolling(window=5, min_periods=1).std().reset_index(0,drop=True)\n",
        "\n",
        "# Coeficiente de Variação\n",
        "df_HT['CV_Cantos_Marcados_Home'] = df_HT['DesvP_Cantos_Marcados_Home'] / df_HT['Media_Cantos_Marcados_Home']\n",
        "df_HT['CV_Cantos_Sofridos_Home'] = df_HT['DesvP_Cantos_Sofridos_Home'] / df_HT['Media_Cantos_Sofridos_Home']\n",
        "df_HT['CV_Cantos_Total_Home'] = df_HT['DesvP_Cantos_Total_Home'] / df_HT['Media_Cantos_Total_Home']\n",
        "\n",
        "# Média\n",
        "df_HT['Media_Cantos_Marcados_Away'] = df_HT.groupby('Away')['HT_Cantos_A'].rolling(window=5, min_periods=1).mean().reset_index(0,drop=True)\n",
        "df_HT['Media_Cantos_Sofridos_Away'] = df_HT.groupby('Away')['HT_Cantos_H'].rolling(window=5, min_periods=1).mean().reset_index(0,drop=True)\n",
        "df_HT['Media_Cantos_Total_Away'] = df_HT.groupby('Away')['HT_Cantos_Total'].rolling(window=5, min_periods=1).mean().reset_index(0,drop=True)\n",
        "\n",
        "# Desvio Padrão\n",
        "df_HT['DesvP_Cantos_Marcados_Away'] = df_HT.groupby('Away')['HT_Cantos_A'].rolling(window=5, min_periods=1).std().reset_index(0,drop=True)\n",
        "df_HT['DesvP_Cantos_Sofridos_Away'] = df_HT.groupby('Away')['HT_Cantos_H'].rolling(window=5, min_periods=1).std().reset_index(0,drop=True)\n",
        "df_HT['DesvP_Cantos_Total_Away'] = df_HT.groupby('Away')['HT_Cantos_Total'].rolling(window=5, min_periods=1).std().reset_index(0,drop=True)\n",
        "\n",
        "# Coeficiente de Variação\n",
        "df_HT['CV_Cantos_Marcados_Away'] = df_HT['DesvP_Cantos_Marcados_Away'] / df_HT['Media_Cantos_Marcados_Away']\n",
        "df_HT['CV_Cantos_Sofridos_Away'] = df_HT['DesvP_Cantos_Sofridos_Away'] / df_HT['Media_Cantos_Sofridos_Away']\n",
        "df_HT['CV_Cantos_Total_Away'] = df_HT['DesvP_Cantos_Total_Away'] / df_HT['Media_Cantos_Total_Away']"
      ],
      "metadata": {
        "id": "2RBEutzN12A-"
      },
      "execution_count": null,
      "outputs": []
    },
    {
      "cell_type": "code",
      "source": [
        "df_HT = df_HT[['Home','Away','HT_Cantos_H','HT_Cantos_A','HT_Cantos_Total',\n",
        " 'Media_Cantos_Marcados_Home','CV_Cantos_Marcados_Home','Media_Cantos_Sofridos_Home','CV_Cantos_Sofridos_Home',\n",
        " 'Media_Cantos_Total_Home','CV_Cantos_Total_Home',\n",
        " 'Media_Cantos_Marcados_Away','CV_Cantos_Marcados_Away','Media_Cantos_Sofridos_Away','CV_Cantos_Sofridos_Away',\n",
        " 'Media_Cantos_Total_Away','CV_Cantos_Total_Away']]\n",
        "df_HT"
      ],
      "metadata": {
        "id": "N5UjfkVe8ic8"
      },
      "execution_count": null,
      "outputs": []
    },
    {
      "cell_type": "code",
      "source": [
        "df_HT.dropna(inplace = True)\n",
        "# Ajustando o Índice\n",
        "df_HT.reset_index(inplace=True, drop=True)\n",
        "df_HT.index = df_HT.index.set_names(['Nº'])\n",
        "df_HT = df_HT.rename(index=lambda x: x + 1)\n",
        "df_HT"
      ],
      "metadata": {
        "id": "b9jGZeci3gk1"
      },
      "execution_count": null,
      "outputs": []
    },
    {
      "cell_type": "code",
      "source": [
        "df_HT_Home = df_HT[['Home','Media_Cantos_Marcados_Home','CV_Cantos_Marcados_Home',\n",
        "                    'Media_Cantos_Sofridos_Home','CV_Cantos_Sofridos_Home',\n",
        "                    'Media_Cantos_Total_Home','CV_Cantos_Total_Home']]\n",
        "df_HT_Home = df_HT_Home.tail(20)\n",
        "df_HT_Home = df_HT_Home.sort_values(by=['Home'])\n",
        "df_HT_Home.reset_index(inplace=True, drop=True)\n",
        "df_HT_Home.index = df_HT_Home.index.set_names(['Nº'])\n",
        "df_HT_Home = df_HT_Home.rename(index=lambda x: x + 1)\n",
        "df_HT_Home"
      ],
      "metadata": {
        "id": "lavMIG2nAXaq"
      },
      "execution_count": null,
      "outputs": []
    },
    {
      "cell_type": "code",
      "source": [
        "df_HT_Away = df_HT[['Away','Media_Cantos_Marcados_Away','CV_Cantos_Marcados_Away',\n",
        "                    'Media_Cantos_Sofridos_Away','CV_Cantos_Sofridos_Away',\n",
        "                    'Media_Cantos_Total_Away','CV_Cantos_Total_Away']]\n",
        "df_HT_Away = df_HT_Away.tail(20)\n",
        "df_HT_Away = df_HT_Away.sort_values(by=['Away'])\n",
        "df_HT_Away.reset_index(inplace=True, drop=True)\n",
        "df_HT_Away.index = df_HT_Away.index.set_names(['Nº'])\n",
        "df_HT_Away = df_HT_Away.rename(index=lambda x: x + 1)\n",
        "df_HT_Away"
      ],
      "metadata": {
        "id": "u7SyJ-qoGqIs"
      },
      "execution_count": null,
      "outputs": []
    },
    {
      "cell_type": "markdown",
      "source": [
        "# Análise FT"
      ],
      "metadata": {
        "id": "_RqDNrpZ4V_8"
      }
    },
    {
      "cell_type": "code",
      "source": [
        "df_FT = df[['Home','Away','FT_Cantos_H','FT_Cantos_A']]\n",
        "df_FT['FT_Cantos_Total'] = df_FT['FT_Cantos_H'] + df_FT['FT_Cantos_A']  \n",
        "\n",
        "# Média\n",
        "df_FT['Media_Cantos_Marcados_Home'] = df_FT.groupby('Home')['FT_Cantos_H'].rolling(window=5, min_periods=1).mean().reset_index(0,drop=True)\n",
        "df_FT['Media_Cantos_Sofridos_Home'] = df_FT.groupby('Home')['FT_Cantos_A'].rolling(window=5, min_periods=1).mean().reset_index(0,drop=True)\n",
        "df_FT['Media_Cantos_Total_Home'] = df_FT.groupby('Home')['FT_Cantos_Total'].rolling(window=5, min_periods=1).mean().reset_index(0,drop=True)\n",
        "\n",
        "# Desvio Padrão\n",
        "df_FT['DesvP_Cantos_Marcados_Home'] = df_FT.groupby('Home')['FT_Cantos_H'].rolling(window=5, min_periods=1).std().reset_index(0,drop=True)\n",
        "df_FT['DesvP_Cantos_Sofridos_Home'] = df_FT.groupby('Home')['FT_Cantos_A'].rolling(window=5, min_periods=1).std().reset_index(0,drop=True)\n",
        "df_FT['DesvP_Cantos_Total_Home'] = df_FT.groupby('Home')['FT_Cantos_Total'].rolling(window=5, min_periods=1).std().reset_index(0,drop=True)\n",
        "\n",
        "# Coeficiente de Variação\n",
        "df_FT['CV_Cantos_Marcados_Home'] = df_FT['DesvP_Cantos_Marcados_Home'] / df_FT['Media_Cantos_Marcados_Home']\n",
        "df_FT['CV_Cantos_Sofridos_Home'] = df_FT['DesvP_Cantos_Sofridos_Home'] / df_FT['Media_Cantos_Sofridos_Home']\n",
        "df_FT['CV_Cantos_Total_Home'] = df_FT['DesvP_Cantos_Total_Home'] / df_FT['Media_Cantos_Total_Home']\n",
        "\n",
        "# Média\n",
        "df_FT['Media_Cantos_Marcados_Away'] = df_FT.groupby('Away')['FT_Cantos_A'].rolling(window=5, min_periods=1).mean().reset_index(0,drop=True)\n",
        "df_FT['Media_Cantos_Sofridos_Away'] = df_FT.groupby('Away')['FT_Cantos_H'].rolling(window=5, min_periods=1).mean().reset_index(0,drop=True)\n",
        "df_FT['Media_Cantos_Total_Away'] = df_FT.groupby('Away')['FT_Cantos_Total'].rolling(window=5, min_periods=1).mean().reset_index(0,drop=True)\n",
        "\n",
        "# Desvio Padrão\n",
        "df_FT['DesvP_Cantos_Marcados_Away'] = df_FT.groupby('Away')['FT_Cantos_A'].rolling(window=5, min_periods=1).std().reset_index(0,drop=True)\n",
        "df_FT['DesvP_Cantos_Sofridos_Away'] = df_FT.groupby('Away')['FT_Cantos_H'].rolling(window=5, min_periods=1).std().reset_index(0,drop=True)\n",
        "df_FT['DesvP_Cantos_Total_Away'] = df_FT.groupby('Away')['FT_Cantos_Total'].rolling(window=5, min_periods=1).std().reset_index(0,drop=True)\n",
        "\n",
        "# Coeficiente de Variação\n",
        "df_FT['CV_Cantos_Marcados_Away'] = df_FT['DesvP_Cantos_Marcados_Away'] / df_FT['Media_Cantos_Marcados_Away']\n",
        "df_FT['CV_Cantos_Sofridos_Away'] = df_FT['DesvP_Cantos_Sofridos_Away'] / df_FT['Media_Cantos_Sofridos_Away']\n",
        "df_FT['CV_Cantos_Total_Away'] = df_FT['DesvP_Cantos_Total_Away'] / df_FT['Media_Cantos_Total_Away']"
      ],
      "metadata": {
        "id": "VJWT7UNZ3Ycs"
      },
      "execution_count": null,
      "outputs": []
    },
    {
      "cell_type": "code",
      "source": [
        "df_FT = df_FT[['Home','Away','FT_Cantos_H','FT_Cantos_A','FT_Cantos_Total',\n",
        " 'Media_Cantos_Marcados_Home','CV_Cantos_Marcados_Home','Media_Cantos_Sofridos_Home','CV_Cantos_Sofridos_Home',\n",
        " 'Media_Cantos_Total_Home','CV_Cantos_Total_Home',\n",
        " 'Media_Cantos_Marcados_Away','CV_Cantos_Marcados_Away','Media_Cantos_Sofridos_Away','CV_Cantos_Sofridos_Away',\n",
        " 'Media_Cantos_Total_Away','CV_Cantos_Total_Away']]\n",
        "df_FT"
      ],
      "metadata": {
        "id": "i4ew3ztnFdzE"
      },
      "execution_count": null,
      "outputs": []
    },
    {
      "cell_type": "code",
      "source": [
        "df_FT.dropna(inplace = True)\n",
        "# Ajustando o Índice\n",
        "df_FT.reset_index(inplace=True, drop=True)\n",
        "df_FT.index = df_FT.index.set_names(['Nº'])\n",
        "df_FT = df_FT.rename(index=lambda x: x + 1)\n",
        "df_FT"
      ],
      "metadata": {
        "id": "YnRnkvVoGGEE"
      },
      "execution_count": null,
      "outputs": []
    },
    {
      "cell_type": "code",
      "source": [
        "df_FT_Home = df_FT[['Home','Media_Cantos_Marcados_Home','CV_Cantos_Marcados_Home',\n",
        "                    'Media_Cantos_Sofridos_Home','CV_Cantos_Sofridos_Home',\n",
        "                    'Media_Cantos_Total_Home','CV_Cantos_Total_Home']]\n",
        "df_FT_Home = df_FT_Home.tail(20)\n",
        "df_FT_Home = df_FT_Home.sort_values(by=['Home'])\n",
        "df_FT_Home.reset_index(inplace=True, drop=True)\n",
        "df_FT_Home.index = df_FT_Home.index.set_names(['Nº'])\n",
        "df_FT_Home = df_FT_Home.rename(index=lambda x: x + 1)\n",
        "df_FT_Home"
      ],
      "metadata": {
        "id": "l1ITH8o5GOOz"
      },
      "execution_count": null,
      "outputs": []
    },
    {
      "cell_type": "code",
      "source": [
        "df_FT_Away = df_FT[['Away','Media_Cantos_Marcados_Away','CV_Cantos_Marcados_Away',\n",
        "                    'Media_Cantos_Sofridos_Away','CV_Cantos_Sofridos_Away',\n",
        "                    'Media_Cantos_Total_Away','CV_Cantos_Total_Away']]\n",
        "df_FT_Away = df_FT_Away.tail(20)\n",
        "df_FT_Away = df_FT_Away.sort_values(by=['Away'])\n",
        "df_FT_Away.reset_index(inplace=True, drop=True)\n",
        "df_FT_Away.index = df_FT_Away.index.set_names(['Nº'])\n",
        "df_FT_Away = df_FT_Away.rename(index=lambda x: x + 1)\n",
        "df_FT_Away"
      ],
      "metadata": {
        "id": "wQ5PyekSGY7z"
      },
      "execution_count": null,
      "outputs": []
    }
  ]
}