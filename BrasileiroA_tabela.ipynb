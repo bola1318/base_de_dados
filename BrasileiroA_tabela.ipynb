{
  "nbformat": 4,
  "nbformat_minor": 0,
  "metadata": {
    "colab": {
      "provenance": [],
      "include_colab_link": true
    },
    "kernelspec": {
      "name": "python3",
      "display_name": "Python 3"
    },
    "language_info": {
      "name": "python"
    }
  },
  "cells": [
    {
      "cell_type": "markdown",
      "metadata": {
        "id": "view-in-github",
        "colab_type": "text"
      },
      "source": [
        "<a href=\"https://colab.research.google.com/github/bola1318/base_de_dados/blob/main/BrasileiroA_tabela.ipynb\" target=\"_parent\"><img src=\"https://colab.research.google.com/assets/colab-badge.svg\" alt=\"Open In Colab\"/></a>"
      ]
    },
    {
      "cell_type": "markdown",
      "source": [
        "\n",
        "\n",
        "> Bloco com recuo\n",
        "\n",
        "\n",
        "premier1 = df1[1] #table 1 site https://fbref.com/en/comps/24/Serie-A-Stats#results2022241_overall\n",
        "premier1.to_excel(\"teste.xlsx\")\n",
        "\n"
      ],
      "metadata": {
        "id": "516_x2CvPcI7"
      }
    },
    {
      "cell_type": "code",
      "execution_count": 34,
      "metadata": {
        "id": "Dn7zaZYIw1wQ"
      },
      "outputs": [],
      "source": [
        "import pandas as pd \n",
        "import requests \n",
        "from google.colab import data_table\n",
        "data_table.enable_dataframe_formatter()\n",
        "\n",
        "import csv"
      ]
    },
    {
      "cell_type": "code",
      "source": [
        "#coletando as planilhas \n",
        "\n",
        "header = {\n",
        "  \"User-Agent\": \"Mozilla/5.0 (X11; Linux x86_64) AppleWebKit/537.36 (KHTML, like Gecko) Chrome/50.0.2661.75 Safari/537.36\",\n",
        "  \"X-Requested-With\": \"XMLHttpRequest\"\n",
        "}\n",
        "\n",
        "#A url que você quer acesssar\n",
        "url_link1 = \"https://fbref.com/en/comps/24/Serie-A-Stats#results2022241_overall\"\n",
        "#ENG_01 = pd.read_csv(\"https://fbref.com/en/comps/9/Premier-League-Stats#results2022-202391_overall\") \n",
        "\n",
        "r1 = requests.get(url_link1, headers=header)\n",
        "\n",
        "df1 = pd.read_html(r1.text)\n",
        "\n"
      ],
      "metadata": {
        "id": "yjIfrL2NxsJm"
      },
      "execution_count": 35,
      "outputs": []
    },
    {
      "cell_type": "code",
      "source": [
        "#df1"
      ],
      "metadata": {
        "id": "BJceA6xNx7fT"
      },
      "execution_count": 36,
      "outputs": []
    },
    {
      "cell_type": "code",
      "source": [
        "len(df1)"
      ],
      "metadata": {
        "colab": {
          "base_uri": "https://localhost:8080/"
        },
        "id": "U6a29lmozupt",
        "outputId": "0cd5e880-9d39-4763-cffa-621054d3719a"
      },
      "execution_count": 37,
      "outputs": [
        {
          "output_type": "execute_result",
          "data": {
            "text/plain": [
              "24"
            ]
          },
          "metadata": {},
          "execution_count": 37
        }
      ]
    },
    {
      "cell_type": "code",
      "source": [
        "df1[1] #Regular season"
      ],
      "metadata": {
        "id": "yZl82uMVQY6D",
        "colab": {
          "base_uri": "https://localhost:8080/",
          "height": 737
        },
        "outputId": "459852a0-47be-4f9b-e334-084826292fdb"
      },
      "execution_count": 38,
      "outputs": [
        {
          "output_type": "execute_result",
          "data": {
            "text/plain": [
              "   Unnamed: 0_level_0 Unnamed: 1_level_0 Home                        ... Away  \\\n",
              "                   Rk              Squad   MP  W  D  L GF GA GD Pts  ...    L   \n",
              "0                   1      Botafogo (RJ)    3  3  0  0  7  1  6   9  ...    0   \n",
              "1                   2          Palmeiras    4  3  1  0  9  4  5  10  ...    0   \n",
              "2                   3         Fluminense    3  2  1  0  5  1  4   7  ...    1   \n",
              "3                   4   Atlético Mineiro    3  2  0  1  5  3  2   6  ...    1   \n",
              "4                   5           Flamengo    3  2  0  1  7  3  4   6  ...    2   \n",
              "5                   6     Atl Paranaense    2  2  0  0  4  1  3   6  ...    2   \n",
              "6                   7           Cruzeiro    3  2  0  1  3  3  0   6  ...    1   \n",
              "7                   8          Fortaleza    3  1  2  0  5  3  2   5  ...    0   \n",
              "8                   9          São Paulo    2  2  0  0  5  0  5   6  ...    1   \n",
              "9                  10             Santos    3  2  1  0  6  2  4   7  ...    2   \n",
              "10                 11             Grêmio    2  1  1  0  4  3  1   4  ...    2   \n",
              "11                 12      Internacional    3  2  0  1  3  3  0   6  ...    2   \n",
              "12                 13         Bragantino    3  1  1  1  4  6 -2   4  ...    0   \n",
              "13                 14              Bahia    3  1  0  2  6  6  0   3  ...    2   \n",
              "14                 15      Vasco da Gama    2  0  1  1  2  3 -1   1  ...    0   \n",
              "15                 16        Corinthians    2  1  1  0  3  2  1   4  ...    3   \n",
              "16                 17             Cuiabá    3  0  1  2  2  7 -5   1  ...    2   \n",
              "17                 18              Goiás    2  1  0  1  3  6 -3   3  ...    3   \n",
              "18                 19           Coritiba    3  0  2  1  2  5 -3   2  ...    2   \n",
              "19                 20       América (MG)    2  0  0  2  1  5 -4   0  ...    2   \n",
              "\n",
              "                                              \n",
              "   GF GA GD Pts Pts/MP   xG  xGA  xGD xGD/90  \n",
              "0   5  3  2   6   3.00  2.1  4.0 -1.9  -0.94  \n",
              "1   7  2  5   4   2.00  2.9  2.4  0.5   0.25  \n",
              "2   7  4  3   6   2.00  5.8  8.6 -2.8  -0.95  \n",
              "3   4  2  2   4   1.33  4.3  3.2  1.2   0.40  \n",
              "4   5  6 -1   3   1.00  5.6  3.2  2.3   0.78  \n",
              "5   3  4 -1   3   1.00  2.6  3.9 -1.2  -0.41  \n",
              "6   4  2  2   3   1.50  2.5  3.0 -0.5  -0.25  \n",
              "7   4  1  3   4   2.00  3.6  1.7  1.9   0.93  \n",
              "8   2  3 -1   2   0.67  3.6  3.6  0.0   0.01  \n",
              "9   1  3 -2   0   0.00  2.4  3.2 -0.8  -0.41  \n",
              "10  3  6 -3   3   1.00  2.5  6.5 -4.0  -1.34  \n",
              "11  1  5 -4   1   0.33  2.2  4.9 -2.7  -0.90  \n",
              "12  5  5  0   3   1.00  3.8  4.3 -0.5  -0.15  \n",
              "13  2  5 -3   3   1.00  3.0  4.8 -1.9  -0.62  \n",
              "14  4  3  1   5   1.67  2.9  4.3 -1.4  -0.46  \n",
              "15  2  8 -6   0   0.00  1.5  5.1 -3.5  -1.18  \n",
              "16  3  5 -2   3   1.00  2.0  5.0 -2.9  -0.98  \n",
              "17  0  5 -5   0   0.00  2.5  4.3 -1.8  -0.61  \n",
              "18  1  6 -5   0   0.00  0.7  2.9 -2.1  -1.06  \n",
              "19  4  8 -4   1   0.33  4.8  5.7 -0.9  -0.30  \n",
              "\n",
              "[20 rows x 28 columns]"
            ],
            "text/html": [
              "\n",
              "  <div id=\"df-6d037cbb-f350-49c9-8953-6f20d192334b\">\n",
              "    <div class=\"colab-df-container\">\n",
              "      <div>\n",
              "<style scoped>\n",
              "    .dataframe tbody tr th:only-of-type {\n",
              "        vertical-align: middle;\n",
              "    }\n",
              "\n",
              "    .dataframe tbody tr th {\n",
              "        vertical-align: top;\n",
              "    }\n",
              "\n",
              "    .dataframe thead tr th {\n",
              "        text-align: left;\n",
              "    }\n",
              "</style>\n",
              "<table border=\"1\" class=\"dataframe\">\n",
              "  <thead>\n",
              "    <tr>\n",
              "      <th></th>\n",
              "      <th>Unnamed: 0_level_0</th>\n",
              "      <th>Unnamed: 1_level_0</th>\n",
              "      <th colspan=\"8\" halign=\"left\">Home</th>\n",
              "      <th>...</th>\n",
              "      <th colspan=\"10\" halign=\"left\">Away</th>\n",
              "    </tr>\n",
              "    <tr>\n",
              "      <th></th>\n",
              "      <th>Rk</th>\n",
              "      <th>Squad</th>\n",
              "      <th>MP</th>\n",
              "      <th>W</th>\n",
              "      <th>D</th>\n",
              "      <th>L</th>\n",
              "      <th>GF</th>\n",
              "      <th>GA</th>\n",
              "      <th>GD</th>\n",
              "      <th>Pts</th>\n",
              "      <th>...</th>\n",
              "      <th>L</th>\n",
              "      <th>GF</th>\n",
              "      <th>GA</th>\n",
              "      <th>GD</th>\n",
              "      <th>Pts</th>\n",
              "      <th>Pts/MP</th>\n",
              "      <th>xG</th>\n",
              "      <th>xGA</th>\n",
              "      <th>xGD</th>\n",
              "      <th>xGD/90</th>\n",
              "    </tr>\n",
              "  </thead>\n",
              "  <tbody>\n",
              "    <tr>\n",
              "      <th>0</th>\n",
              "      <td>1</td>\n",
              "      <td>Botafogo (RJ)</td>\n",
              "      <td>3</td>\n",
              "      <td>3</td>\n",
              "      <td>0</td>\n",
              "      <td>0</td>\n",
              "      <td>7</td>\n",
              "      <td>1</td>\n",
              "      <td>6</td>\n",
              "      <td>9</td>\n",
              "      <td>...</td>\n",
              "      <td>0</td>\n",
              "      <td>5</td>\n",
              "      <td>3</td>\n",
              "      <td>2</td>\n",
              "      <td>6</td>\n",
              "      <td>3.00</td>\n",
              "      <td>2.1</td>\n",
              "      <td>4.0</td>\n",
              "      <td>-1.9</td>\n",
              "      <td>-0.94</td>\n",
              "    </tr>\n",
              "    <tr>\n",
              "      <th>1</th>\n",
              "      <td>2</td>\n",
              "      <td>Palmeiras</td>\n",
              "      <td>4</td>\n",
              "      <td>3</td>\n",
              "      <td>1</td>\n",
              "      <td>0</td>\n",
              "      <td>9</td>\n",
              "      <td>4</td>\n",
              "      <td>5</td>\n",
              "      <td>10</td>\n",
              "      <td>...</td>\n",
              "      <td>0</td>\n",
              "      <td>7</td>\n",
              "      <td>2</td>\n",
              "      <td>5</td>\n",
              "      <td>4</td>\n",
              "      <td>2.00</td>\n",
              "      <td>2.9</td>\n",
              "      <td>2.4</td>\n",
              "      <td>0.5</td>\n",
              "      <td>0.25</td>\n",
              "    </tr>\n",
              "    <tr>\n",
              "      <th>2</th>\n",
              "      <td>3</td>\n",
              "      <td>Fluminense</td>\n",
              "      <td>3</td>\n",
              "      <td>2</td>\n",
              "      <td>1</td>\n",
              "      <td>0</td>\n",
              "      <td>5</td>\n",
              "      <td>1</td>\n",
              "      <td>4</td>\n",
              "      <td>7</td>\n",
              "      <td>...</td>\n",
              "      <td>1</td>\n",
              "      <td>7</td>\n",
              "      <td>4</td>\n",
              "      <td>3</td>\n",
              "      <td>6</td>\n",
              "      <td>2.00</td>\n",
              "      <td>5.8</td>\n",
              "      <td>8.6</td>\n",
              "      <td>-2.8</td>\n",
              "      <td>-0.95</td>\n",
              "    </tr>\n",
              "    <tr>\n",
              "      <th>3</th>\n",
              "      <td>4</td>\n",
              "      <td>Atlético Mineiro</td>\n",
              "      <td>3</td>\n",
              "      <td>2</td>\n",
              "      <td>0</td>\n",
              "      <td>1</td>\n",
              "      <td>5</td>\n",
              "      <td>3</td>\n",
              "      <td>2</td>\n",
              "      <td>6</td>\n",
              "      <td>...</td>\n",
              "      <td>1</td>\n",
              "      <td>4</td>\n",
              "      <td>2</td>\n",
              "      <td>2</td>\n",
              "      <td>4</td>\n",
              "      <td>1.33</td>\n",
              "      <td>4.3</td>\n",
              "      <td>3.2</td>\n",
              "      <td>1.2</td>\n",
              "      <td>0.40</td>\n",
              "    </tr>\n",
              "    <tr>\n",
              "      <th>4</th>\n",
              "      <td>5</td>\n",
              "      <td>Flamengo</td>\n",
              "      <td>3</td>\n",
              "      <td>2</td>\n",
              "      <td>0</td>\n",
              "      <td>1</td>\n",
              "      <td>7</td>\n",
              "      <td>3</td>\n",
              "      <td>4</td>\n",
              "      <td>6</td>\n",
              "      <td>...</td>\n",
              "      <td>2</td>\n",
              "      <td>5</td>\n",
              "      <td>6</td>\n",
              "      <td>-1</td>\n",
              "      <td>3</td>\n",
              "      <td>1.00</td>\n",
              "      <td>5.6</td>\n",
              "      <td>3.2</td>\n",
              "      <td>2.3</td>\n",
              "      <td>0.78</td>\n",
              "    </tr>\n",
              "    <tr>\n",
              "      <th>5</th>\n",
              "      <td>6</td>\n",
              "      <td>Atl Paranaense</td>\n",
              "      <td>2</td>\n",
              "      <td>2</td>\n",
              "      <td>0</td>\n",
              "      <td>0</td>\n",
              "      <td>4</td>\n",
              "      <td>1</td>\n",
              "      <td>3</td>\n",
              "      <td>6</td>\n",
              "      <td>...</td>\n",
              "      <td>2</td>\n",
              "      <td>3</td>\n",
              "      <td>4</td>\n",
              "      <td>-1</td>\n",
              "      <td>3</td>\n",
              "      <td>1.00</td>\n",
              "      <td>2.6</td>\n",
              "      <td>3.9</td>\n",
              "      <td>-1.2</td>\n",
              "      <td>-0.41</td>\n",
              "    </tr>\n",
              "    <tr>\n",
              "      <th>6</th>\n",
              "      <td>7</td>\n",
              "      <td>Cruzeiro</td>\n",
              "      <td>3</td>\n",
              "      <td>2</td>\n",
              "      <td>0</td>\n",
              "      <td>1</td>\n",
              "      <td>3</td>\n",
              "      <td>3</td>\n",
              "      <td>0</td>\n",
              "      <td>6</td>\n",
              "      <td>...</td>\n",
              "      <td>1</td>\n",
              "      <td>4</td>\n",
              "      <td>2</td>\n",
              "      <td>2</td>\n",
              "      <td>3</td>\n",
              "      <td>1.50</td>\n",
              "      <td>2.5</td>\n",
              "      <td>3.0</td>\n",
              "      <td>-0.5</td>\n",
              "      <td>-0.25</td>\n",
              "    </tr>\n",
              "    <tr>\n",
              "      <th>7</th>\n",
              "      <td>8</td>\n",
              "      <td>Fortaleza</td>\n",
              "      <td>3</td>\n",
              "      <td>1</td>\n",
              "      <td>2</td>\n",
              "      <td>0</td>\n",
              "      <td>5</td>\n",
              "      <td>3</td>\n",
              "      <td>2</td>\n",
              "      <td>5</td>\n",
              "      <td>...</td>\n",
              "      <td>0</td>\n",
              "      <td>4</td>\n",
              "      <td>1</td>\n",
              "      <td>3</td>\n",
              "      <td>4</td>\n",
              "      <td>2.00</td>\n",
              "      <td>3.6</td>\n",
              "      <td>1.7</td>\n",
              "      <td>1.9</td>\n",
              "      <td>0.93</td>\n",
              "    </tr>\n",
              "    <tr>\n",
              "      <th>8</th>\n",
              "      <td>9</td>\n",
              "      <td>São Paulo</td>\n",
              "      <td>2</td>\n",
              "      <td>2</td>\n",
              "      <td>0</td>\n",
              "      <td>0</td>\n",
              "      <td>5</td>\n",
              "      <td>0</td>\n",
              "      <td>5</td>\n",
              "      <td>6</td>\n",
              "      <td>...</td>\n",
              "      <td>1</td>\n",
              "      <td>2</td>\n",
              "      <td>3</td>\n",
              "      <td>-1</td>\n",
              "      <td>2</td>\n",
              "      <td>0.67</td>\n",
              "      <td>3.6</td>\n",
              "      <td>3.6</td>\n",
              "      <td>0.0</td>\n",
              "      <td>0.01</td>\n",
              "    </tr>\n",
              "    <tr>\n",
              "      <th>9</th>\n",
              "      <td>10</td>\n",
              "      <td>Santos</td>\n",
              "      <td>3</td>\n",
              "      <td>2</td>\n",
              "      <td>1</td>\n",
              "      <td>0</td>\n",
              "      <td>6</td>\n",
              "      <td>2</td>\n",
              "      <td>4</td>\n",
              "      <td>7</td>\n",
              "      <td>...</td>\n",
              "      <td>2</td>\n",
              "      <td>1</td>\n",
              "      <td>3</td>\n",
              "      <td>-2</td>\n",
              "      <td>0</td>\n",
              "      <td>0.00</td>\n",
              "      <td>2.4</td>\n",
              "      <td>3.2</td>\n",
              "      <td>-0.8</td>\n",
              "      <td>-0.41</td>\n",
              "    </tr>\n",
              "    <tr>\n",
              "      <th>10</th>\n",
              "      <td>11</td>\n",
              "      <td>Grêmio</td>\n",
              "      <td>2</td>\n",
              "      <td>1</td>\n",
              "      <td>1</td>\n",
              "      <td>0</td>\n",
              "      <td>4</td>\n",
              "      <td>3</td>\n",
              "      <td>1</td>\n",
              "      <td>4</td>\n",
              "      <td>...</td>\n",
              "      <td>2</td>\n",
              "      <td>3</td>\n",
              "      <td>6</td>\n",
              "      <td>-3</td>\n",
              "      <td>3</td>\n",
              "      <td>1.00</td>\n",
              "      <td>2.5</td>\n",
              "      <td>6.5</td>\n",
              "      <td>-4.0</td>\n",
              "      <td>-1.34</td>\n",
              "    </tr>\n",
              "    <tr>\n",
              "      <th>11</th>\n",
              "      <td>12</td>\n",
              "      <td>Internacional</td>\n",
              "      <td>3</td>\n",
              "      <td>2</td>\n",
              "      <td>0</td>\n",
              "      <td>1</td>\n",
              "      <td>3</td>\n",
              "      <td>3</td>\n",
              "      <td>0</td>\n",
              "      <td>6</td>\n",
              "      <td>...</td>\n",
              "      <td>2</td>\n",
              "      <td>1</td>\n",
              "      <td>5</td>\n",
              "      <td>-4</td>\n",
              "      <td>1</td>\n",
              "      <td>0.33</td>\n",
              "      <td>2.2</td>\n",
              "      <td>4.9</td>\n",
              "      <td>-2.7</td>\n",
              "      <td>-0.90</td>\n",
              "    </tr>\n",
              "    <tr>\n",
              "      <th>12</th>\n",
              "      <td>13</td>\n",
              "      <td>Bragantino</td>\n",
              "      <td>3</td>\n",
              "      <td>1</td>\n",
              "      <td>1</td>\n",
              "      <td>1</td>\n",
              "      <td>4</td>\n",
              "      <td>6</td>\n",
              "      <td>-2</td>\n",
              "      <td>4</td>\n",
              "      <td>...</td>\n",
              "      <td>0</td>\n",
              "      <td>5</td>\n",
              "      <td>5</td>\n",
              "      <td>0</td>\n",
              "      <td>3</td>\n",
              "      <td>1.00</td>\n",
              "      <td>3.8</td>\n",
              "      <td>4.3</td>\n",
              "      <td>-0.5</td>\n",
              "      <td>-0.15</td>\n",
              "    </tr>\n",
              "    <tr>\n",
              "      <th>13</th>\n",
              "      <td>14</td>\n",
              "      <td>Bahia</td>\n",
              "      <td>3</td>\n",
              "      <td>1</td>\n",
              "      <td>0</td>\n",
              "      <td>2</td>\n",
              "      <td>6</td>\n",
              "      <td>6</td>\n",
              "      <td>0</td>\n",
              "      <td>3</td>\n",
              "      <td>...</td>\n",
              "      <td>2</td>\n",
              "      <td>2</td>\n",
              "      <td>5</td>\n",
              "      <td>-3</td>\n",
              "      <td>3</td>\n",
              "      <td>1.00</td>\n",
              "      <td>3.0</td>\n",
              "      <td>4.8</td>\n",
              "      <td>-1.9</td>\n",
              "      <td>-0.62</td>\n",
              "    </tr>\n",
              "    <tr>\n",
              "      <th>14</th>\n",
              "      <td>15</td>\n",
              "      <td>Vasco da Gama</td>\n",
              "      <td>2</td>\n",
              "      <td>0</td>\n",
              "      <td>1</td>\n",
              "      <td>1</td>\n",
              "      <td>2</td>\n",
              "      <td>3</td>\n",
              "      <td>-1</td>\n",
              "      <td>1</td>\n",
              "      <td>...</td>\n",
              "      <td>0</td>\n",
              "      <td>4</td>\n",
              "      <td>3</td>\n",
              "      <td>1</td>\n",
              "      <td>5</td>\n",
              "      <td>1.67</td>\n",
              "      <td>2.9</td>\n",
              "      <td>4.3</td>\n",
              "      <td>-1.4</td>\n",
              "      <td>-0.46</td>\n",
              "    </tr>\n",
              "    <tr>\n",
              "      <th>15</th>\n",
              "      <td>16</td>\n",
              "      <td>Corinthians</td>\n",
              "      <td>2</td>\n",
              "      <td>1</td>\n",
              "      <td>1</td>\n",
              "      <td>0</td>\n",
              "      <td>3</td>\n",
              "      <td>2</td>\n",
              "      <td>1</td>\n",
              "      <td>4</td>\n",
              "      <td>...</td>\n",
              "      <td>3</td>\n",
              "      <td>2</td>\n",
              "      <td>8</td>\n",
              "      <td>-6</td>\n",
              "      <td>0</td>\n",
              "      <td>0.00</td>\n",
              "      <td>1.5</td>\n",
              "      <td>5.1</td>\n",
              "      <td>-3.5</td>\n",
              "      <td>-1.18</td>\n",
              "    </tr>\n",
              "    <tr>\n",
              "      <th>16</th>\n",
              "      <td>17</td>\n",
              "      <td>Cuiabá</td>\n",
              "      <td>3</td>\n",
              "      <td>0</td>\n",
              "      <td>1</td>\n",
              "      <td>2</td>\n",
              "      <td>2</td>\n",
              "      <td>7</td>\n",
              "      <td>-5</td>\n",
              "      <td>1</td>\n",
              "      <td>...</td>\n",
              "      <td>2</td>\n",
              "      <td>3</td>\n",
              "      <td>5</td>\n",
              "      <td>-2</td>\n",
              "      <td>3</td>\n",
              "      <td>1.00</td>\n",
              "      <td>2.0</td>\n",
              "      <td>5.0</td>\n",
              "      <td>-2.9</td>\n",
              "      <td>-0.98</td>\n",
              "    </tr>\n",
              "    <tr>\n",
              "      <th>17</th>\n",
              "      <td>18</td>\n",
              "      <td>Goiás</td>\n",
              "      <td>2</td>\n",
              "      <td>1</td>\n",
              "      <td>0</td>\n",
              "      <td>1</td>\n",
              "      <td>3</td>\n",
              "      <td>6</td>\n",
              "      <td>-3</td>\n",
              "      <td>3</td>\n",
              "      <td>...</td>\n",
              "      <td>3</td>\n",
              "      <td>0</td>\n",
              "      <td>5</td>\n",
              "      <td>-5</td>\n",
              "      <td>0</td>\n",
              "      <td>0.00</td>\n",
              "      <td>2.5</td>\n",
              "      <td>4.3</td>\n",
              "      <td>-1.8</td>\n",
              "      <td>-0.61</td>\n",
              "    </tr>\n",
              "    <tr>\n",
              "      <th>18</th>\n",
              "      <td>19</td>\n",
              "      <td>Coritiba</td>\n",
              "      <td>3</td>\n",
              "      <td>0</td>\n",
              "      <td>2</td>\n",
              "      <td>1</td>\n",
              "      <td>2</td>\n",
              "      <td>5</td>\n",
              "      <td>-3</td>\n",
              "      <td>2</td>\n",
              "      <td>...</td>\n",
              "      <td>2</td>\n",
              "      <td>1</td>\n",
              "      <td>6</td>\n",
              "      <td>-5</td>\n",
              "      <td>0</td>\n",
              "      <td>0.00</td>\n",
              "      <td>0.7</td>\n",
              "      <td>2.9</td>\n",
              "      <td>-2.1</td>\n",
              "      <td>-1.06</td>\n",
              "    </tr>\n",
              "    <tr>\n",
              "      <th>19</th>\n",
              "      <td>20</td>\n",
              "      <td>América (MG)</td>\n",
              "      <td>2</td>\n",
              "      <td>0</td>\n",
              "      <td>0</td>\n",
              "      <td>2</td>\n",
              "      <td>1</td>\n",
              "      <td>5</td>\n",
              "      <td>-4</td>\n",
              "      <td>0</td>\n",
              "      <td>...</td>\n",
              "      <td>2</td>\n",
              "      <td>4</td>\n",
              "      <td>8</td>\n",
              "      <td>-4</td>\n",
              "      <td>1</td>\n",
              "      <td>0.33</td>\n",
              "      <td>4.8</td>\n",
              "      <td>5.7</td>\n",
              "      <td>-0.9</td>\n",
              "      <td>-0.30</td>\n",
              "    </tr>\n",
              "  </tbody>\n",
              "</table>\n",
              "<p>20 rows × 28 columns</p>\n",
              "</div>\n",
              "      <button class=\"colab-df-convert\" onclick=\"convertToInteractive('df-6d037cbb-f350-49c9-8953-6f20d192334b')\"\n",
              "              title=\"Convert this dataframe to an interactive table.\"\n",
              "              style=\"display:none;\">\n",
              "        \n",
              "  <svg xmlns=\"http://www.w3.org/2000/svg\" height=\"24px\"viewBox=\"0 0 24 24\"\n",
              "       width=\"24px\">\n",
              "    <path d=\"M0 0h24v24H0V0z\" fill=\"none\"/>\n",
              "    <path d=\"M18.56 5.44l.94 2.06.94-2.06 2.06-.94-2.06-.94-.94-2.06-.94 2.06-2.06.94zm-11 1L8.5 8.5l.94-2.06 2.06-.94-2.06-.94L8.5 2.5l-.94 2.06-2.06.94zm10 10l.94 2.06.94-2.06 2.06-.94-2.06-.94-.94-2.06-.94 2.06-2.06.94z\"/><path d=\"M17.41 7.96l-1.37-1.37c-.4-.4-.92-.59-1.43-.59-.52 0-1.04.2-1.43.59L10.3 9.45l-7.72 7.72c-.78.78-.78 2.05 0 2.83L4 21.41c.39.39.9.59 1.41.59.51 0 1.02-.2 1.41-.59l7.78-7.78 2.81-2.81c.8-.78.8-2.07 0-2.86zM5.41 20L4 18.59l7.72-7.72 1.47 1.35L5.41 20z\"/>\n",
              "  </svg>\n",
              "      </button>\n",
              "      \n",
              "  <style>\n",
              "    .colab-df-container {\n",
              "      display:flex;\n",
              "      flex-wrap:wrap;\n",
              "      gap: 12px;\n",
              "    }\n",
              "\n",
              "    .colab-df-convert {\n",
              "      background-color: #E8F0FE;\n",
              "      border: none;\n",
              "      border-radius: 50%;\n",
              "      cursor: pointer;\n",
              "      display: none;\n",
              "      fill: #1967D2;\n",
              "      height: 32px;\n",
              "      padding: 0 0 0 0;\n",
              "      width: 32px;\n",
              "    }\n",
              "\n",
              "    .colab-df-convert:hover {\n",
              "      background-color: #E2EBFA;\n",
              "      box-shadow: 0px 1px 2px rgba(60, 64, 67, 0.3), 0px 1px 3px 1px rgba(60, 64, 67, 0.15);\n",
              "      fill: #174EA6;\n",
              "    }\n",
              "\n",
              "    [theme=dark] .colab-df-convert {\n",
              "      background-color: #3B4455;\n",
              "      fill: #D2E3FC;\n",
              "    }\n",
              "\n",
              "    [theme=dark] .colab-df-convert:hover {\n",
              "      background-color: #434B5C;\n",
              "      box-shadow: 0px 1px 3px 1px rgba(0, 0, 0, 0.15);\n",
              "      filter: drop-shadow(0px 1px 2px rgba(0, 0, 0, 0.3));\n",
              "      fill: #FFFFFF;\n",
              "    }\n",
              "  </style>\n",
              "\n",
              "      <script>\n",
              "        const buttonEl =\n",
              "          document.querySelector('#df-6d037cbb-f350-49c9-8953-6f20d192334b button.colab-df-convert');\n",
              "        buttonEl.style.display =\n",
              "          google.colab.kernel.accessAllowed ? 'block' : 'none';\n",
              "\n",
              "        async function convertToInteractive(key) {\n",
              "          const element = document.querySelector('#df-6d037cbb-f350-49c9-8953-6f20d192334b');\n",
              "          const dataTable =\n",
              "            await google.colab.kernel.invokeFunction('convertToInteractive',\n",
              "                                                     [key], {});\n",
              "          if (!dataTable) return;\n",
              "\n",
              "          const docLinkHtml = 'Like what you see? Visit the ' +\n",
              "            '<a target=\"_blank\" href=https://colab.research.google.com/notebooks/data_table.ipynb>data table notebook</a>'\n",
              "            + ' to learn more about interactive tables.';\n",
              "          element.innerHTML = '';\n",
              "          dataTable['output_type'] = 'display_data';\n",
              "          await google.colab.output.renderOutput(dataTable, element);\n",
              "          const docLink = document.createElement('div');\n",
              "          docLink.innerHTML = docLinkHtml;\n",
              "          element.appendChild(docLink);\n",
              "        }\n",
              "      </script>\n",
              "    </div>\n",
              "  </div>\n",
              "  "
            ]
          },
          "metadata": {},
          "execution_count": 38
        }
      ]
    },
    {
      "cell_type": "markdown",
      "source": [
        "selecionar e concatenar as mesmas tabelas de todas das as ligas\n",
        "\n",
        "> Bloco com recuo\n",
        "\n",
        "\n",
        "\n"
      ],
      "metadata": {
        "id": "ermVCdG-Toti"
      }
    },
    {
      "cell_type": "code",
      "source": [
        "premier1 = df1[1]\n",
        "premier1.to_excel(\"brasila_Regular_season.xlsx\")\n"
      ],
      "metadata": {
        "id": "FNn3xQ37R6st"
      },
      "execution_count": 39,
      "outputs": []
    },
    {
      "cell_type": "markdown",
      "source": [
        "# **LER ARQUIVO DO GITHUB**"
      ],
      "metadata": {
        "id": "0uDnwTEHIz8D"
      }
    },
    {
      "cell_type": "code",
      "source": [
        "\n",
        "url = 'https://github.com/bola1318/base_de_dados/raw/main/Basededados/brasila_Regular_season.xlsx'\n",
        "\n",
        "#df = pd.read_excel(url)  \n",
        "df = pd.read_excel(url, skiprows=1)"
      ],
      "metadata": {
        "id": "A1n912WZNnJ1"
      },
      "execution_count": 66,
      "outputs": []
    },
    {
      "cell_type": "code",
      "source": [
        "df"
      ],
      "metadata": {
        "id": "lEt7xY4_MtYP"
      },
      "execution_count": null,
      "outputs": []
    },
    {
      "cell_type": "code",
      "source": [
        "df = df[['Rk','Squad']]\n",
        "df.columns = ['Posicao','Time']"
      ],
      "metadata": {
        "id": "CN4ZitXwO8-Z"
      },
      "execution_count": 69,
      "outputs": []
    },
    {
      "cell_type": "code",
      "source": [
        "#df.isnull()\n",
        "df = df.dropna() \n",
        "df"
      ],
      "metadata": {
        "colab": {
          "base_uri": "https://localhost:8080/",
          "height": 523
        },
        "id": "9EQc3jLNP7Y3",
        "outputId": "162151b8-ea67-42cc-858c-79b9607917f1"
      },
      "execution_count": 73,
      "outputs": [
        {
          "output_type": "execute_result",
          "data": {
            "text/plain": [
              "    Posicao              Time\n",
              "1       1.0     Botafogo (RJ)\n",
              "2       2.0         Palmeiras\n",
              "3       3.0        Fluminense\n",
              "4       4.0    Atl Paranaense\n",
              "5       5.0          Cruzeiro\n",
              "6       6.0         Fortaleza\n",
              "7       7.0         São Paulo\n",
              "8       8.0  Atlético Mineiro\n",
              "9       9.0            Santos\n",
              "10     10.0            Grêmio\n",
              "11     11.0     Internacional\n",
              "12     12.0          Flamengo\n",
              "13     13.0             Bahia\n",
              "14     14.0     Vasco da Gama\n",
              "15     15.0        Bragantino\n",
              "16     16.0       Corinthians\n",
              "17     17.0            Cuiabá\n",
              "18     18.0             Goiás\n",
              "19     19.0          Coritiba\n",
              "20     20.0      América (MG)"
            ],
            "text/html": [
              "\n",
              "  <div id=\"df-13ab8dc2-797c-457b-a272-ffadb5125837\">\n",
              "    <div class=\"colab-df-container\">\n",
              "      <div>\n",
              "<style scoped>\n",
              "    .dataframe tbody tr th:only-of-type {\n",
              "        vertical-align: middle;\n",
              "    }\n",
              "\n",
              "    .dataframe tbody tr th {\n",
              "        vertical-align: top;\n",
              "    }\n",
              "\n",
              "    .dataframe thead th {\n",
              "        text-align: right;\n",
              "    }\n",
              "</style>\n",
              "<table border=\"1\" class=\"dataframe\">\n",
              "  <thead>\n",
              "    <tr style=\"text-align: right;\">\n",
              "      <th></th>\n",
              "      <th>Posicao</th>\n",
              "      <th>Time</th>\n",
              "    </tr>\n",
              "  </thead>\n",
              "  <tbody>\n",
              "    <tr>\n",
              "      <th>1</th>\n",
              "      <td>1.0</td>\n",
              "      <td>Botafogo (RJ)</td>\n",
              "    </tr>\n",
              "    <tr>\n",
              "      <th>2</th>\n",
              "      <td>2.0</td>\n",
              "      <td>Palmeiras</td>\n",
              "    </tr>\n",
              "    <tr>\n",
              "      <th>3</th>\n",
              "      <td>3.0</td>\n",
              "      <td>Fluminense</td>\n",
              "    </tr>\n",
              "    <tr>\n",
              "      <th>4</th>\n",
              "      <td>4.0</td>\n",
              "      <td>Atl Paranaense</td>\n",
              "    </tr>\n",
              "    <tr>\n",
              "      <th>5</th>\n",
              "      <td>5.0</td>\n",
              "      <td>Cruzeiro</td>\n",
              "    </tr>\n",
              "    <tr>\n",
              "      <th>6</th>\n",
              "      <td>6.0</td>\n",
              "      <td>Fortaleza</td>\n",
              "    </tr>\n",
              "    <tr>\n",
              "      <th>7</th>\n",
              "      <td>7.0</td>\n",
              "      <td>São Paulo</td>\n",
              "    </tr>\n",
              "    <tr>\n",
              "      <th>8</th>\n",
              "      <td>8.0</td>\n",
              "      <td>Atlético Mineiro</td>\n",
              "    </tr>\n",
              "    <tr>\n",
              "      <th>9</th>\n",
              "      <td>9.0</td>\n",
              "      <td>Santos</td>\n",
              "    </tr>\n",
              "    <tr>\n",
              "      <th>10</th>\n",
              "      <td>10.0</td>\n",
              "      <td>Grêmio</td>\n",
              "    </tr>\n",
              "    <tr>\n",
              "      <th>11</th>\n",
              "      <td>11.0</td>\n",
              "      <td>Internacional</td>\n",
              "    </tr>\n",
              "    <tr>\n",
              "      <th>12</th>\n",
              "      <td>12.0</td>\n",
              "      <td>Flamengo</td>\n",
              "    </tr>\n",
              "    <tr>\n",
              "      <th>13</th>\n",
              "      <td>13.0</td>\n",
              "      <td>Bahia</td>\n",
              "    </tr>\n",
              "    <tr>\n",
              "      <th>14</th>\n",
              "      <td>14.0</td>\n",
              "      <td>Vasco da Gama</td>\n",
              "    </tr>\n",
              "    <tr>\n",
              "      <th>15</th>\n",
              "      <td>15.0</td>\n",
              "      <td>Bragantino</td>\n",
              "    </tr>\n",
              "    <tr>\n",
              "      <th>16</th>\n",
              "      <td>16.0</td>\n",
              "      <td>Corinthians</td>\n",
              "    </tr>\n",
              "    <tr>\n",
              "      <th>17</th>\n",
              "      <td>17.0</td>\n",
              "      <td>Cuiabá</td>\n",
              "    </tr>\n",
              "    <tr>\n",
              "      <th>18</th>\n",
              "      <td>18.0</td>\n",
              "      <td>Goiás</td>\n",
              "    </tr>\n",
              "    <tr>\n",
              "      <th>19</th>\n",
              "      <td>19.0</td>\n",
              "      <td>Coritiba</td>\n",
              "    </tr>\n",
              "    <tr>\n",
              "      <th>20</th>\n",
              "      <td>20.0</td>\n",
              "      <td>América (MG)</td>\n",
              "    </tr>\n",
              "  </tbody>\n",
              "</table>\n",
              "</div>\n",
              "      <button class=\"colab-df-convert\" onclick=\"convertToInteractive('df-13ab8dc2-797c-457b-a272-ffadb5125837')\"\n",
              "              title=\"Convert this dataframe to an interactive table.\"\n",
              "              style=\"display:none;\">\n",
              "        \n",
              "  <svg xmlns=\"http://www.w3.org/2000/svg\" height=\"24px\"viewBox=\"0 0 24 24\"\n",
              "       width=\"24px\">\n",
              "    <path d=\"M0 0h24v24H0V0z\" fill=\"none\"/>\n",
              "    <path d=\"M18.56 5.44l.94 2.06.94-2.06 2.06-.94-2.06-.94-.94-2.06-.94 2.06-2.06.94zm-11 1L8.5 8.5l.94-2.06 2.06-.94-2.06-.94L8.5 2.5l-.94 2.06-2.06.94zm10 10l.94 2.06.94-2.06 2.06-.94-2.06-.94-.94-2.06-.94 2.06-2.06.94z\"/><path d=\"M17.41 7.96l-1.37-1.37c-.4-.4-.92-.59-1.43-.59-.52 0-1.04.2-1.43.59L10.3 9.45l-7.72 7.72c-.78.78-.78 2.05 0 2.83L4 21.41c.39.39.9.59 1.41.59.51 0 1.02-.2 1.41-.59l7.78-7.78 2.81-2.81c.8-.78.8-2.07 0-2.86zM5.41 20L4 18.59l7.72-7.72 1.47 1.35L5.41 20z\"/>\n",
              "  </svg>\n",
              "      </button>\n",
              "      \n",
              "  <style>\n",
              "    .colab-df-container {\n",
              "      display:flex;\n",
              "      flex-wrap:wrap;\n",
              "      gap: 12px;\n",
              "    }\n",
              "\n",
              "    .colab-df-convert {\n",
              "      background-color: #E8F0FE;\n",
              "      border: none;\n",
              "      border-radius: 50%;\n",
              "      cursor: pointer;\n",
              "      display: none;\n",
              "      fill: #1967D2;\n",
              "      height: 32px;\n",
              "      padding: 0 0 0 0;\n",
              "      width: 32px;\n",
              "    }\n",
              "\n",
              "    .colab-df-convert:hover {\n",
              "      background-color: #E2EBFA;\n",
              "      box-shadow: 0px 1px 2px rgba(60, 64, 67, 0.3), 0px 1px 3px 1px rgba(60, 64, 67, 0.15);\n",
              "      fill: #174EA6;\n",
              "    }\n",
              "\n",
              "    [theme=dark] .colab-df-convert {\n",
              "      background-color: #3B4455;\n",
              "      fill: #D2E3FC;\n",
              "    }\n",
              "\n",
              "    [theme=dark] .colab-df-convert:hover {\n",
              "      background-color: #434B5C;\n",
              "      box-shadow: 0px 1px 3px 1px rgba(0, 0, 0, 0.15);\n",
              "      filter: drop-shadow(0px 1px 2px rgba(0, 0, 0, 0.3));\n",
              "      fill: #FFFFFF;\n",
              "    }\n",
              "  </style>\n",
              "\n",
              "      <script>\n",
              "        const buttonEl =\n",
              "          document.querySelector('#df-13ab8dc2-797c-457b-a272-ffadb5125837 button.colab-df-convert');\n",
              "        buttonEl.style.display =\n",
              "          google.colab.kernel.accessAllowed ? 'block' : 'none';\n",
              "\n",
              "        async function convertToInteractive(key) {\n",
              "          const element = document.querySelector('#df-13ab8dc2-797c-457b-a272-ffadb5125837');\n",
              "          const dataTable =\n",
              "            await google.colab.kernel.invokeFunction('convertToInteractive',\n",
              "                                                     [key], {});\n",
              "          if (!dataTable) return;\n",
              "\n",
              "          const docLinkHtml = 'Like what you see? Visit the ' +\n",
              "            '<a target=\"_blank\" href=https://colab.research.google.com/notebooks/data_table.ipynb>data table notebook</a>'\n",
              "            + ' to learn more about interactive tables.';\n",
              "          element.innerHTML = '';\n",
              "          dataTable['output_type'] = 'display_data';\n",
              "          await google.colab.output.renderOutput(dataTable, element);\n",
              "          const docLink = document.createElement('div');\n",
              "          docLink.innerHTML = docLinkHtml;\n",
              "          element.appendChild(docLink);\n",
              "        }\n",
              "      </script>\n",
              "    </div>\n",
              "  </div>\n",
              "  "
            ],
            "application/vnd.google.colaboratory.module+javascript": "\n      import \"https://ssl.gstatic.com/colaboratory/data_table/99dac6621f6ae8c4/data_table.js\";\n\n      window.createDataTable({\n        data: [[{\n            'v': 1,\n            'f': \"1\",\n        },\n{\n            'v': 1.0,\n            'f': \"1.0\",\n        },\n\"Botafogo (RJ)\"],\n [{\n            'v': 2,\n            'f': \"2\",\n        },\n{\n            'v': 2.0,\n            'f': \"2.0\",\n        },\n\"Palmeiras\"],\n [{\n            'v': 3,\n            'f': \"3\",\n        },\n{\n            'v': 3.0,\n            'f': \"3.0\",\n        },\n\"Fluminense\"],\n [{\n            'v': 4,\n            'f': \"4\",\n        },\n{\n            'v': 4.0,\n            'f': \"4.0\",\n        },\n\"Atl Paranaense\"],\n [{\n            'v': 5,\n            'f': \"5\",\n        },\n{\n            'v': 5.0,\n            'f': \"5.0\",\n        },\n\"Cruzeiro\"],\n [{\n            'v': 6,\n            'f': \"6\",\n        },\n{\n            'v': 6.0,\n            'f': \"6.0\",\n        },\n\"Fortaleza\"],\n [{\n            'v': 7,\n            'f': \"7\",\n        },\n{\n            'v': 7.0,\n            'f': \"7.0\",\n        },\n\"S\\u00e3o Paulo\"],\n [{\n            'v': 8,\n            'f': \"8\",\n        },\n{\n            'v': 8.0,\n            'f': \"8.0\",\n        },\n\"Atl\\u00e9tico Mineiro\"],\n [{\n            'v': 9,\n            'f': \"9\",\n        },\n{\n            'v': 9.0,\n            'f': \"9.0\",\n        },\n\"Santos\"],\n [{\n            'v': 10,\n            'f': \"10\",\n        },\n{\n            'v': 10.0,\n            'f': \"10.0\",\n        },\n\"Gr\\u00eamio\"],\n [{\n            'v': 11,\n            'f': \"11\",\n        },\n{\n            'v': 11.0,\n            'f': \"11.0\",\n        },\n\"Internacional\"],\n [{\n            'v': 12,\n            'f': \"12\",\n        },\n{\n            'v': 12.0,\n            'f': \"12.0\",\n        },\n\"Flamengo\"],\n [{\n            'v': 13,\n            'f': \"13\",\n        },\n{\n            'v': 13.0,\n            'f': \"13.0\",\n        },\n\"Bahia\"],\n [{\n            'v': 14,\n            'f': \"14\",\n        },\n{\n            'v': 14.0,\n            'f': \"14.0\",\n        },\n\"Vasco da Gama\"],\n [{\n            'v': 15,\n            'f': \"15\",\n        },\n{\n            'v': 15.0,\n            'f': \"15.0\",\n        },\n\"Bragantino\"],\n [{\n            'v': 16,\n            'f': \"16\",\n        },\n{\n            'v': 16.0,\n            'f': \"16.0\",\n        },\n\"Corinthians\"],\n [{\n            'v': 17,\n            'f': \"17\",\n        },\n{\n            'v': 17.0,\n            'f': \"17.0\",\n        },\n\"Cuiab\\u00e1\"],\n [{\n            'v': 18,\n            'f': \"18\",\n        },\n{\n            'v': 18.0,\n            'f': \"18.0\",\n        },\n\"Goi\\u00e1s\"],\n [{\n            'v': 19,\n            'f': \"19\",\n        },\n{\n            'v': 19.0,\n            'f': \"19.0\",\n        },\n\"Coritiba\"],\n [{\n            'v': 20,\n            'f': \"20\",\n        },\n{\n            'v': 20.0,\n            'f': \"20.0\",\n        },\n\"Am\\u00e9rica (MG)\"]],\n        columns: [[\"number\", \"index\"], [\"number\", \"Posicao\"], [\"string\", \"Time\"]],\n        columnOptions: [{\"width\": \"1px\", \"className\": \"index_column\"}],\n        rowsPerPage: 25,\n        helpUrl: \"https://colab.research.google.com/notebooks/data_table.ipynb\",\n        suppressOutputScrolling: true,\n        minimumWidth: undefined,\n      });\n    "
          },
          "metadata": {},
          "execution_count": 73
        }
      ]
    },
    {
      "cell_type": "markdown",
      "source": [
        "Estatísticas padrão do esquadrão"
      ],
      "metadata": {
        "id": "qzo9lZCVP9c-"
      }
    },
    {
      "cell_type": "code",
      "source": [
        "#df2[2]  # Squad Standard Stats 2022-2023"
      ],
      "metadata": {
        "id": "sH90iZO9z2PG"
      },
      "execution_count": null,
      "outputs": []
    },
    {
      "cell_type": "code",
      "source": [
        "##premier2.to_excel(\"premier_Squad _tandard _stats.xlsx\")"
      ],
      "metadata": {
        "id": "vjloqWAVSZPS"
      },
      "execution_count": null,
      "outputs": []
    },
    {
      "cell_type": "markdown",
      "source": [
        "Squad Shooting\n"
      ],
      "metadata": {
        "id": "xTDIEh7DQRZV"
      }
    },
    {
      "cell_type": "code",
      "source": [
        "#df3[8]"
      ],
      "metadata": {
        "id": "w_A-rUYXPYvj"
      },
      "execution_count": null,
      "outputs": []
    },
    {
      "cell_type": "code",
      "source": [
        "#Concatenando as Planilhas\n",
        "#df = [premier1,premier2]\n",
        "#df = pd.concat(df)\n",
        "\n",
        "#df\n",
        "#df.to_excel(\"tudo.xlsx\")"
      ],
      "metadata": {
        "id": "tKjp3-kvQwg7"
      },
      "execution_count": null,
      "outputs": []
    },
    {
      "cell_type": "code",
      "source": [
        "#df1[3] #fora de casa "
      ],
      "metadata": {
        "id": "iSzHBUgd0Kyr"
      },
      "execution_count": null,
      "outputs": []
    },
    {
      "cell_type": "code",
      "source": [
        "#df1[4]#Squad Goalkeeping home"
      ],
      "metadata": {
        "id": "SZi9iLw80MW0"
      },
      "execution_count": null,
      "outputs": []
    },
    {
      "cell_type": "code",
      "source": [
        "#df1[5]  #Squad Goalkeeping away"
      ],
      "metadata": {
        "id": "BUL16MvT0PH7"
      },
      "execution_count": null,
      "outputs": []
    },
    {
      "cell_type": "code",
      "source": [
        "#df1[6]#Squad Advanced Goalkeeping home"
      ],
      "metadata": {
        "id": "esjXl6rK0W5y"
      },
      "execution_count": null,
      "outputs": []
    },
    {
      "cell_type": "code",
      "source": [
        "#df1[7] #Squad Advanced Goalkeeping away"
      ],
      "metadata": {
        "id": "MyvEnTyE0Y12"
      },
      "execution_count": null,
      "outputs": []
    },
    {
      "cell_type": "code",
      "source": [
        "#df1[8] #Squad Shooting home"
      ],
      "metadata": {
        "id": "gI7hdpmo0cI9"
      },
      "execution_count": null,
      "outputs": []
    },
    {
      "cell_type": "code",
      "source": [
        "#df1[9] # Squad Shooting away"
      ],
      "metadata": {
        "id": "Xf_JHnHP0fS3"
      },
      "execution_count": null,
      "outputs": []
    },
    {
      "cell_type": "code",
      "source": [
        " #Squad Passing home"
      ],
      "metadata": {
        "id": "Nfyo7UsV0kbE"
      },
      "execution_count": null,
      "outputs": []
    },
    {
      "cell_type": "code",
      "source": [
        "#df1[11] # Squad Passing away "
      ],
      "metadata": {
        "id": "PrVneios0mFC"
      },
      "execution_count": null,
      "outputs": []
    },
    {
      "cell_type": "code",
      "source": [
        "#df1[12]  #Squad Pass Types  home"
      ],
      "metadata": {
        "id": "gBaj2_IS0om5"
      },
      "execution_count": null,
      "outputs": []
    },
    {
      "cell_type": "code",
      "source": [
        "#df1[13] #Squad Pass Types away "
      ],
      "metadata": {
        "id": "xWrafEzE0qGt"
      },
      "execution_count": null,
      "outputs": []
    },
    {
      "cell_type": "code",
      "source": [
        "#df1[14] #Squad Goal and Shot Creation home"
      ],
      "metadata": {
        "id": "Vw_QsWw90tGD"
      },
      "execution_count": null,
      "outputs": []
    },
    {
      "cell_type": "code",
      "source": [
        "#df1[15] #Squad Goal and Shot Creation  away "
      ],
      "metadata": {
        "id": "rhaFnhPZ0w6j"
      },
      "execution_count": null,
      "outputs": []
    },
    {
      "cell_type": "code",
      "source": [
        "#df1[16] #Squad Goal and Shot Creation  home"
      ],
      "metadata": {
        "id": "I7uji0yl01GT"
      },
      "execution_count": null,
      "outputs": []
    },
    {
      "cell_type": "code",
      "source": [
        "#df1[17] #Squad Goal and Shot Creation  away "
      ],
      "metadata": {
        "id": "Oh7FDfd-1Bb1"
      },
      "execution_count": null,
      "outputs": []
    },
    {
      "cell_type": "code",
      "source": [
        "#df1[18]"
      ],
      "metadata": {
        "id": "sJjf9U1C1DVB"
      },
      "execution_count": null,
      "outputs": []
    },
    {
      "cell_type": "code",
      "source": [
        "#df1[19]"
      ],
      "metadata": {
        "id": "EUp0GHRI1Fa3"
      },
      "execution_count": null,
      "outputs": []
    },
    {
      "cell_type": "code",
      "source": [
        "#df1[20]"
      ],
      "metadata": {
        "id": "-8gUDBuo1LxQ"
      },
      "execution_count": null,
      "outputs": []
    },
    {
      "cell_type": "code",
      "source": [
        "#df1[21]"
      ],
      "metadata": {
        "id": "NhuvvvXj1N7H"
      },
      "execution_count": null,
      "outputs": []
    },
    {
      "cell_type": "code",
      "source": [
        "#df1[22]"
      ],
      "metadata": {
        "id": "FImg0sWn1PtU"
      },
      "execution_count": null,
      "outputs": []
    },
    {
      "cell_type": "code",
      "source": [],
      "metadata": {
        "id": "c4Iu-6ot1RaE"
      },
      "execution_count": null,
      "outputs": []
    }
  ]
}