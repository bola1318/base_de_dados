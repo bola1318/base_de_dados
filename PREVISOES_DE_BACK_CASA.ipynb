{
  "nbformat": 4,
  "nbformat_minor": 0,
  "metadata": {
    "colab": {
      "provenance": [],
      "include_colab_link": true
    },
    "kernelspec": {
      "name": "python3",
      "display_name": "Python 3"
    },
    "language_info": {
      "name": "python"
    }
  },
  "cells": [
    {
      "cell_type": "markdown",
      "metadata": {
        "id": "view-in-github",
        "colab_type": "text"
      },
      "source": [
        "<a href=\"https://colab.research.google.com/github/bola1318/base_de_dados/blob/main/PREVISOES_DE_BACK_CASA.ipynb\" target=\"_parent\"><img src=\"https://colab.research.google.com/assets/colab-badge.svg\" alt=\"Open In Colab\"/></a>"
      ]
    },
    {
      "cell_type": "markdown",
      "source": [
        "# https://www.youtube.com/watch?v=kmvZvJbR50E&t=537s"
      ],
      "metadata": {
        "id": "daBgaSuZcvE_"
      }
    },
    {
      "cell_type": "markdown",
      "source": [
        "# PRÉ-REQUISITO PARA FUNCIONAR"
      ],
      "metadata": {
        "id": "uRXkIFHqWNF_"
      }
    },
    {
      "cell_type": "code",
      "execution_count": null,
      "metadata": {
        "colab": {
          "base_uri": "https://localhost:8080/",
          "height": 1000
        },
        "id": "Xsv1AYlJWMX0",
        "outputId": "94352242-d113-49ba-8f42-a614fc0dacdf"
      },
      "outputs": [
        {
          "output_type": "stream",
          "name": "stdout",
          "text": [
            "Looking in indexes: https://pypi.org/simple, https://us-python.pkg.dev/colab-wheels/public/simple/\n",
            "Collecting selenium\n",
            "  Downloading selenium-4.7.2-py3-none-any.whl (6.3 MB)\n",
            "\u001b[2K     \u001b[90m━━━━━━━━━━━━━━━━━━━━━━━━━━━━━━━━━━━━━━━━\u001b[0m \u001b[32m6.3/6.3 MB\u001b[0m \u001b[31m38.8 MB/s\u001b[0m eta \u001b[36m0:00:00\u001b[0m\n",
            "\u001b[?25hCollecting trio~=0.17\n",
            "  Downloading trio-0.22.0-py3-none-any.whl (384 kB)\n",
            "\u001b[2K     \u001b[90m━━━━━━━━━━━━━━━━━━━━━━━━━━━━━━━━━━━━━━\u001b[0m \u001b[32m384.9/384.9 KB\u001b[0m \u001b[31m22.2 MB/s\u001b[0m eta \u001b[36m0:00:00\u001b[0m\n",
            "\u001b[?25hCollecting trio-websocket~=0.9\n",
            "  Downloading trio_websocket-0.9.2-py3-none-any.whl (16 kB)\n",
            "Requirement already satisfied: certifi>=2021.10.8 in /usr/local/lib/python3.8/dist-packages (from selenium) (2022.12.7)\n",
            "Collecting urllib3[socks]~=1.26\n",
            "  Downloading urllib3-1.26.14-py2.py3-none-any.whl (140 kB)\n",
            "\u001b[2K     \u001b[90m━━━━━━━━━━━━━━━━━━━━━━━━━━━━━━━━━━━━━━\u001b[0m \u001b[32m140.6/140.6 KB\u001b[0m \u001b[31m11.8 MB/s\u001b[0m eta \u001b[36m0:00:00\u001b[0m\n",
            "\u001b[?25hRequirement already satisfied: attrs>=19.2.0 in /usr/local/lib/python3.8/dist-packages (from trio~=0.17->selenium) (22.2.0)\n",
            "Collecting sniffio\n",
            "  Downloading sniffio-1.3.0-py3-none-any.whl (10 kB)\n",
            "Collecting outcome\n",
            "  Downloading outcome-1.2.0-py2.py3-none-any.whl (9.7 kB)\n",
            "Requirement already satisfied: sortedcontainers in /usr/local/lib/python3.8/dist-packages (from trio~=0.17->selenium) (2.4.0)\n",
            "Collecting exceptiongroup>=1.0.0rc9\n",
            "  Downloading exceptiongroup-1.1.0-py3-none-any.whl (14 kB)\n",
            "Requirement already satisfied: idna in /usr/local/lib/python3.8/dist-packages (from trio~=0.17->selenium) (2.10)\n",
            "Collecting async-generator>=1.9\n",
            "  Downloading async_generator-1.10-py3-none-any.whl (18 kB)\n",
            "Collecting wsproto>=0.14\n",
            "  Downloading wsproto-1.2.0-py3-none-any.whl (24 kB)\n",
            "Requirement already satisfied: PySocks!=1.5.7,<2.0,>=1.5.6 in /usr/local/lib/python3.8/dist-packages (from urllib3[socks]~=1.26->selenium) (1.7.1)\n",
            "Collecting h11<1,>=0.9.0\n",
            "  Downloading h11-0.14.0-py3-none-any.whl (58 kB)\n",
            "\u001b[2K     \u001b[90m━━━━━━━━━━━━━━━━━━━━━━━━━━━━━━━━━━━━━━━━\u001b[0m \u001b[32m58.3/58.3 KB\u001b[0m \u001b[31m4.5 MB/s\u001b[0m eta \u001b[36m0:00:00\u001b[0m\n",
            "\u001b[?25hInstalling collected packages: urllib3, sniffio, outcome, h11, exceptiongroup, async-generator, wsproto, trio, trio-websocket, selenium\n",
            "  Attempting uninstall: urllib3\n",
            "    Found existing installation: urllib3 1.24.3\n",
            "    Uninstalling urllib3-1.24.3:\n",
            "      Successfully uninstalled urllib3-1.24.3\n",
            "Successfully installed async-generator-1.10 exceptiongroup-1.1.0 h11-0.14.0 outcome-1.2.0 selenium-4.7.2 sniffio-1.3.0 trio-0.22.0 trio-websocket-0.9.2 urllib3-1.26.14 wsproto-1.2.0\n",
            "Get:1 https://cloud.r-project.org/bin/linux/ubuntu focal-cran40/ InRelease [3,622 B]\n",
            "Hit:2 http://archive.ubuntu.com/ubuntu focal InRelease\n",
            "Get:3 http://archive.ubuntu.com/ubuntu focal-updates InRelease [114 kB]\n",
            "Get:4 http://ppa.launchpad.net/c2d4u.team/c2d4u4.0+/ubuntu focal InRelease [18.1 kB]\n",
            "Ign:5 https://developer.download.nvidia.com/compute/machine-learning/repos/ubuntu2004/x86_64  InRelease\n",
            "Hit:6 https://developer.download.nvidia.com/compute/cuda/repos/ubuntu2004/x86_64  InRelease\n",
            "Hit:7 https://developer.download.nvidia.com/compute/machine-learning/repos/ubuntu2004/x86_64  Release\n",
            "Get:8 http://archive.ubuntu.com/ubuntu focal-backports InRelease [108 kB]\n",
            "Get:9 http://security.ubuntu.com/ubuntu focal-security InRelease [114 kB]\n",
            "Hit:10 http://ppa.launchpad.net/cran/libgit2/ubuntu focal InRelease\n",
            "Get:11 http://ppa.launchpad.net/deadsnakes/ppa/ubuntu focal InRelease [18.1 kB]\n",
            "Hit:12 http://ppa.launchpad.net/graphics-drivers/ppa/ubuntu focal InRelease\n",
            "Get:14 http://ppa.launchpad.net/c2d4u.team/c2d4u4.0+/ubuntu focal/main Sources [2,374 kB]\n",
            "Get:15 http://archive.ubuntu.com/ubuntu focal-updates/main amd64 Packages [2,899 kB]\n",
            "Get:16 http://ppa.launchpad.net/c2d4u.team/c2d4u4.0+/ubuntu focal/main amd64 Packages [1,125 kB]\n",
            "Get:17 http://archive.ubuntu.com/ubuntu focal-updates/universe amd64 Packages [1,281 kB]\n",
            "Get:18 http://archive.ubuntu.com/ubuntu focal-updates/restricted amd64 Packages [1,989 kB]\n",
            "Get:19 http://security.ubuntu.com/ubuntu focal-security/main amd64 Packages [2,425 kB]\n",
            "Get:20 http://ppa.launchpad.net/deadsnakes/ppa/ubuntu focal/main amd64 Packages [29.5 kB]\n",
            "Get:21 http://security.ubuntu.com/ubuntu focal-security/universe amd64 Packages [980 kB]\n",
            "Get:22 http://security.ubuntu.com/ubuntu focal-security/restricted amd64 Packages [1,864 kB]\n",
            "Fetched 15.3 MB in 10s (1,489 kB/s)\n",
            "Reading package lists... Done\n",
            "Reading package lists... Done\n",
            "Building dependency tree       \n",
            "Reading state information... Done\n",
            "The following additional packages will be installed:\n",
            "  apparmor chromium-browser liblzo2-2 snapd squashfs-tools\n",
            "Suggested packages:\n",
            "  apparmor-profiles-extra apparmor-utils\n",
            "The following NEW packages will be installed:\n",
            "  apparmor chromium-browser chromium-chromedriver liblzo2-2 snapd\n",
            "  squashfs-tools\n",
            "0 upgraded, 6 newly installed, 0 to remove and 30 not upgraded.\n",
            "Need to get 38.4 MB of archives.\n",
            "After this operation, 173 MB of additional disk space will be used.\n",
            "Get:1 http://archive.ubuntu.com/ubuntu focal-updates/main amd64 apparmor amd64 2.13.3-7ubuntu5.1 [494 kB]\n",
            "Get:2 http://archive.ubuntu.com/ubuntu focal/main amd64 liblzo2-2 amd64 2.10-2 [50.8 kB]\n",
            "Get:3 http://archive.ubuntu.com/ubuntu focal-updates/main amd64 squashfs-tools amd64 1:4.4-1ubuntu0.3 [117 kB]\n",
            "Get:4 http://archive.ubuntu.com/ubuntu focal-updates/main amd64 snapd amd64 2.57.5+20.04ubuntu0.1 [37.6 MB]\n",
            "Get:5 http://archive.ubuntu.com/ubuntu focal-updates/universe amd64 chromium-browser amd64 1:85.0.4183.83-0ubuntu0.20.04.2 [48.3 kB]\n",
            "Get:6 http://archive.ubuntu.com/ubuntu focal-updates/universe amd64 chromium-chromedriver amd64 1:85.0.4183.83-0ubuntu0.20.04.2 [2,496 B]\n",
            "Fetched 38.4 MB in 1s (49.3 MB/s)\n",
            "Preconfiguring packages ...\n",
            "Selecting previously unselected package apparmor.\n",
            "(Reading database ... 129501 files and directories currently installed.)\n",
            "Preparing to unpack .../apparmor_2.13.3-7ubuntu5.1_amd64.deb ...\n",
            "Unpacking apparmor (2.13.3-7ubuntu5.1) ...\n",
            "Selecting previously unselected package liblzo2-2:amd64.\n",
            "Preparing to unpack .../liblzo2-2_2.10-2_amd64.deb ...\n",
            "Unpacking liblzo2-2:amd64 (2.10-2) ...\n",
            "Selecting previously unselected package squashfs-tools.\n",
            "Preparing to unpack .../squashfs-tools_1%3a4.4-1ubuntu0.3_amd64.deb ...\n",
            "Unpacking squashfs-tools (1:4.4-1ubuntu0.3) ...\n",
            "Selecting previously unselected package snapd.\n",
            "Preparing to unpack .../snapd_2.57.5+20.04ubuntu0.1_amd64.deb ...\n",
            "Unpacking snapd (2.57.5+20.04ubuntu0.1) ...\n",
            "Setting up apparmor (2.13.3-7ubuntu5.1) ...\n",
            "Created symlink /etc/systemd/system/sysinit.target.wants/apparmor.service → /lib/systemd/system/apparmor.service.\n",
            "Setting up liblzo2-2:amd64 (2.10-2) ...\n",
            "Setting up squashfs-tools (1:4.4-1ubuntu0.3) ...\n",
            "Setting up snapd (2.57.5+20.04ubuntu0.1) ...\n",
            "Created symlink /etc/systemd/system/multi-user.target.wants/snapd.aa-prompt-listener.service → /lib/systemd/system/snapd.aa-prompt-listener.service.\n",
            "Created symlink /etc/systemd/system/multi-user.target.wants/snapd.apparmor.service → /lib/systemd/system/snapd.apparmor.service.\n",
            "Created symlink /etc/systemd/system/multi-user.target.wants/snapd.autoimport.service → /lib/systemd/system/snapd.autoimport.service.\n",
            "Created symlink /etc/systemd/system/multi-user.target.wants/snapd.core-fixup.service → /lib/systemd/system/snapd.core-fixup.service.\n",
            "Created symlink /etc/systemd/system/multi-user.target.wants/snapd.recovery-chooser-trigger.service → /lib/systemd/system/snapd.recovery-chooser-trigger.service.\n",
            "Created symlink /etc/systemd/system/multi-user.target.wants/snapd.seeded.service → /lib/systemd/system/snapd.seeded.service.\n",
            "Created symlink /etc/systemd/system/cloud-final.service.wants/snapd.seeded.service → /lib/systemd/system/snapd.seeded.service.\n",
            "Created symlink /etc/systemd/system/multi-user.target.wants/snapd.service → /lib/systemd/system/snapd.service.\n",
            "Created symlink /etc/systemd/system/timers.target.wants/snapd.snap-repair.timer → /lib/systemd/system/snapd.snap-repair.timer.\n",
            "Created symlink /etc/systemd/system/sockets.target.wants/snapd.socket → /lib/systemd/system/snapd.socket.\n",
            "Created symlink /etc/systemd/system/final.target.wants/snapd.system-shutdown.service → /lib/systemd/system/snapd.system-shutdown.service.\n",
            "Selecting previously unselected package chromium-browser.\n",
            "(Reading database ... 129791 files and directories currently installed.)\n",
            "Preparing to unpack .../chromium-browser_1%3a85.0.4183.83-0ubuntu0.20.04.2_amd64.deb ...\n",
            "=> Installing the chromium snap\n",
            "==> Checking connectivity with the snap store\n",
            "===> System doesn't have a working snapd, skipping\n",
            "Unpacking chromium-browser (1:85.0.4183.83-0ubuntu0.20.04.2) ...\n",
            "Selecting previously unselected package chromium-chromedriver.\n",
            "Preparing to unpack .../chromium-chromedriver_1%3a85.0.4183.83-0ubuntu0.20.04.2_amd64.deb ...\n",
            "Unpacking chromium-chromedriver (1:85.0.4183.83-0ubuntu0.20.04.2) ...\n",
            "Setting up chromium-browser (1:85.0.4183.83-0ubuntu0.20.04.2) ...\n",
            "update-alternatives: using /usr/bin/chromium-browser to provide /usr/bin/x-www-browser (x-www-browser) in auto mode\n",
            "update-alternatives: using /usr/bin/chromium-browser to provide /usr/bin/gnome-www-browser (gnome-www-browser) in auto mode\n",
            "Setting up chromium-chromedriver (1:85.0.4183.83-0ubuntu0.20.04.2) ...\n",
            "Processing triggers for mime-support (3.64ubuntu1) ...\n",
            "Processing triggers for hicolor-icon-theme (0.17-2) ...\n",
            "Processing triggers for libc-bin (2.31-0ubuntu9.9) ...\n",
            "Processing triggers for systemd (245.4-4ubuntu3.19) ...\n",
            "Processing triggers for man-db (2.9.1-1) ...\n",
            "Processing triggers for dbus (1.12.16-2ubuntu2.3) ...\n",
            "cp: '/usr/lib/chromium-browser/chromedriver' and '/usr/bin/chromedriver' are the same file\n"
          ]
        },
        {
          "output_type": "error",
          "ename": "WebDriverException",
          "evalue": "ignored",
          "traceback": [
            "\u001b[0;31m---------------------------------------------------------------------------\u001b[0m",
            "\u001b[0;31mWebDriverException\u001b[0m                        Traceback (most recent call last)",
            "\u001b[0;32m<ipython-input-1-796c4fbf2b44>\u001b[0m in \u001b[0;36m<module>\u001b[0;34m\u001b[0m\n\u001b[1;32m     24\u001b[0m \u001b[0;34m\u001b[0m\u001b[0m\n\u001b[1;32m     25\u001b[0m \u001b[0;31m# Criação do WebDriver do Chrome\u001b[0m\u001b[0;34m\u001b[0m\u001b[0;34m\u001b[0m\u001b[0;34m\u001b[0m\u001b[0m\n\u001b[0;32m---> 26\u001b[0;31m \u001b[0mwd_Chrome\u001b[0m \u001b[0;34m=\u001b[0m \u001b[0mwebdriver\u001b[0m\u001b[0;34m.\u001b[0m\u001b[0mChrome\u001b[0m\u001b[0;34m(\u001b[0m\u001b[0;34m'chromedriver'\u001b[0m\u001b[0;34m,\u001b[0m\u001b[0moptions\u001b[0m\u001b[0;34m=\u001b[0m\u001b[0moptions\u001b[0m\u001b[0;34m)\u001b[0m\u001b[0;34m\u001b[0m\u001b[0;34m\u001b[0m\u001b[0m\n\u001b[0m\u001b[1;32m     27\u001b[0m \u001b[0;34m\u001b[0m\u001b[0m\n\u001b[1;32m     28\u001b[0m \u001b[0;31m# Importando as Bibliotecas Básicas\u001b[0m\u001b[0;34m\u001b[0m\u001b[0;34m\u001b[0m\u001b[0;34m\u001b[0m\u001b[0m\n",
            "\u001b[0;32m/usr/local/lib/python3.8/dist-packages/selenium/webdriver/chrome/webdriver.py\u001b[0m in \u001b[0;36m__init__\u001b[0;34m(self, executable_path, port, options, service_args, desired_capabilities, service_log_path, chrome_options, service, keep_alive)\u001b[0m\n\u001b[1;32m     79\u001b[0m             \u001b[0mservice\u001b[0m \u001b[0;34m=\u001b[0m \u001b[0mService\u001b[0m\u001b[0;34m(\u001b[0m\u001b[0mexecutable_path\u001b[0m\u001b[0;34m,\u001b[0m \u001b[0mport\u001b[0m\u001b[0;34m,\u001b[0m \u001b[0mservice_args\u001b[0m\u001b[0;34m,\u001b[0m \u001b[0mservice_log_path\u001b[0m\u001b[0;34m)\u001b[0m\u001b[0;34m\u001b[0m\u001b[0;34m\u001b[0m\u001b[0m\n\u001b[1;32m     80\u001b[0m \u001b[0;34m\u001b[0m\u001b[0m\n\u001b[0;32m---> 81\u001b[0;31m         super().__init__(\n\u001b[0m\u001b[1;32m     82\u001b[0m             \u001b[0mDesiredCapabilities\u001b[0m\u001b[0;34m.\u001b[0m\u001b[0mCHROME\u001b[0m\u001b[0;34m[\u001b[0m\u001b[0;34m\"browserName\"\u001b[0m\u001b[0;34m]\u001b[0m\u001b[0;34m,\u001b[0m\u001b[0;34m\u001b[0m\u001b[0;34m\u001b[0m\u001b[0m\n\u001b[1;32m     83\u001b[0m             \u001b[0;34m\"goog\"\u001b[0m\u001b[0;34m,\u001b[0m\u001b[0;34m\u001b[0m\u001b[0;34m\u001b[0m\u001b[0m\n",
            "\u001b[0;32m/usr/local/lib/python3.8/dist-packages/selenium/webdriver/chromium/webdriver.py\u001b[0m in \u001b[0;36m__init__\u001b[0;34m(self, browser_name, vendor_prefix, port, options, service_args, desired_capabilities, service_log_path, service, keep_alive)\u001b[0m\n\u001b[1;32m    101\u001b[0m \u001b[0;34m\u001b[0m\u001b[0m\n\u001b[1;32m    102\u001b[0m         \u001b[0mself\u001b[0m\u001b[0;34m.\u001b[0m\u001b[0mservice\u001b[0m \u001b[0;34m=\u001b[0m \u001b[0mservice\u001b[0m\u001b[0;34m\u001b[0m\u001b[0;34m\u001b[0m\u001b[0m\n\u001b[0;32m--> 103\u001b[0;31m         \u001b[0mself\u001b[0m\u001b[0;34m.\u001b[0m\u001b[0mservice\u001b[0m\u001b[0;34m.\u001b[0m\u001b[0mstart\u001b[0m\u001b[0;34m(\u001b[0m\u001b[0;34m)\u001b[0m\u001b[0;34m\u001b[0m\u001b[0;34m\u001b[0m\u001b[0m\n\u001b[0m\u001b[1;32m    104\u001b[0m \u001b[0;34m\u001b[0m\u001b[0m\n\u001b[1;32m    105\u001b[0m         \u001b[0;32mtry\u001b[0m\u001b[0;34m:\u001b[0m\u001b[0;34m\u001b[0m\u001b[0;34m\u001b[0m\u001b[0m\n",
            "\u001b[0;32m/usr/local/lib/python3.8/dist-packages/selenium/webdriver/common/service.py\u001b[0m in \u001b[0;36mstart\u001b[0;34m(self)\u001b[0m\n\u001b[1;32m    104\u001b[0m         \u001b[0mcount\u001b[0m \u001b[0;34m=\u001b[0m \u001b[0;36m0\u001b[0m\u001b[0;34m\u001b[0m\u001b[0;34m\u001b[0m\u001b[0m\n\u001b[1;32m    105\u001b[0m         \u001b[0;32mwhile\u001b[0m \u001b[0;32mTrue\u001b[0m\u001b[0;34m:\u001b[0m\u001b[0;34m\u001b[0m\u001b[0;34m\u001b[0m\u001b[0m\n\u001b[0;32m--> 106\u001b[0;31m             \u001b[0mself\u001b[0m\u001b[0;34m.\u001b[0m\u001b[0massert_process_still_running\u001b[0m\u001b[0;34m(\u001b[0m\u001b[0;34m)\u001b[0m\u001b[0;34m\u001b[0m\u001b[0;34m\u001b[0m\u001b[0m\n\u001b[0m\u001b[1;32m    107\u001b[0m             \u001b[0;32mif\u001b[0m \u001b[0mself\u001b[0m\u001b[0;34m.\u001b[0m\u001b[0mis_connectable\u001b[0m\u001b[0;34m(\u001b[0m\u001b[0;34m)\u001b[0m\u001b[0;34m:\u001b[0m\u001b[0;34m\u001b[0m\u001b[0;34m\u001b[0m\u001b[0m\n\u001b[1;32m    108\u001b[0m                 \u001b[0;32mbreak\u001b[0m\u001b[0;34m\u001b[0m\u001b[0;34m\u001b[0m\u001b[0m\n",
            "\u001b[0;32m/usr/local/lib/python3.8/dist-packages/selenium/webdriver/common/service.py\u001b[0m in \u001b[0;36massert_process_still_running\u001b[0;34m(self)\u001b[0m\n\u001b[1;32m    117\u001b[0m         \u001b[0mreturn_code\u001b[0m \u001b[0;34m=\u001b[0m \u001b[0mself\u001b[0m\u001b[0;34m.\u001b[0m\u001b[0mprocess\u001b[0m\u001b[0;34m.\u001b[0m\u001b[0mpoll\u001b[0m\u001b[0;34m(\u001b[0m\u001b[0;34m)\u001b[0m\u001b[0;34m\u001b[0m\u001b[0;34m\u001b[0m\u001b[0m\n\u001b[1;32m    118\u001b[0m         \u001b[0;32mif\u001b[0m \u001b[0mreturn_code\u001b[0m\u001b[0;34m:\u001b[0m\u001b[0;34m\u001b[0m\u001b[0;34m\u001b[0m\u001b[0m\n\u001b[0;32m--> 119\u001b[0;31m             \u001b[0;32mraise\u001b[0m \u001b[0mWebDriverException\u001b[0m\u001b[0;34m(\u001b[0m\u001b[0;34mf\"Service {self.path} unexpectedly exited. Status code was: {return_code}\"\u001b[0m\u001b[0;34m)\u001b[0m\u001b[0;34m\u001b[0m\u001b[0;34m\u001b[0m\u001b[0m\n\u001b[0m\u001b[1;32m    120\u001b[0m \u001b[0;34m\u001b[0m\u001b[0m\n\u001b[1;32m    121\u001b[0m     \u001b[0;32mdef\u001b[0m \u001b[0mis_connectable\u001b[0m\u001b[0;34m(\u001b[0m\u001b[0mself\u001b[0m\u001b[0;34m)\u001b[0m \u001b[0;34m->\u001b[0m \u001b[0mbool\u001b[0m\u001b[0;34m:\u001b[0m\u001b[0;34m\u001b[0m\u001b[0;34m\u001b[0m\u001b[0m\n",
            "\u001b[0;31mWebDriverException\u001b[0m: Message: Service chromedriver unexpectedly exited. Status code was: 1\n"
          ]
        }
      ],
      "source": [
        "# Instalando o Selenium\n",
        "!pip install selenium\n",
        "\n",
        "# Atualizando o Ubuntu para executar corretamento o apt-install\n",
        "!apt-get update\n",
        "\n",
        "# Instalando o ChromeDrive e Trazendo ele para a Pasta Local\n",
        "!apt install chromium-chromedriver\n",
        "\n",
        "!cp /usr/lib/chromium-browser/chromedriver /usr/bin\n",
        "import sys\n",
        "sys.path.insert(0,'/usr/lib/chromium-browser/chromedriver')\n",
        "\n",
        "# Utilizando o WebDriver do Selenium\n",
        "from selenium import webdriver\n",
        "\n",
        "# Instanciando o Objeto ChromeOptions\n",
        "options = webdriver.ChromeOptions()\n",
        "\n",
        "# Passando algumas opções para esse ChromeOptions\n",
        "options.add_argument('--headless')\n",
        "options.add_argument('--no-sandbox')\n",
        "options.add_argument('--disable-dev-shm-usage')\n",
        "\n",
        "# Criação do WebDriver do Chrome\n",
        "wd_Chrome = webdriver.Chrome('chromedriver',options=options)\n",
        "\n",
        "# Importando as Bibliotecas Básicas\n",
        "import pandas as pd\n",
        "import time\n",
        "import numpy as np\n",
        "from google.colab import data_table\n",
        "data_table.enable_dataframe_formatter()\n",
        "import warnings\n",
        "warnings.filterwarnings('ignore')\n",
        "from sklearn.neighbors import KNeighborsClassifier\n",
        "from sklearn.metrics import accuracy_score, confusion_matrix\n",
        "from sklearn.preprocessing import StandardScaler\n",
        "from sklearn.model_selection import train_test_split\n",
        "from tqdm import tqdm\n",
        "from selenium.webdriver.common.by import By\n",
        "\n",
        "# Importando a Classe Cores\n",
        "class bcolors:\n",
        "    OKGREEN = '\\033[92m' #GREEN\n",
        "    OkBLUE = '\\033[94m' #BLUE\n",
        "    WARNING = '\\033[93m' #YELLOW\n",
        "    FAIL = '\\033[91m' #RED\n",
        "    RESET = '\\033[0m' #RESET COLOR"
      ]
    },
    {
      "cell_type": "markdown",
      "source": [
        "#WebScraping do FLASHSCORE "
      ],
      "metadata": {
        "id": "_igNw7K_WfGk"
      }
    },
    {
      "cell_type": "code",
      "source": [
        "jogo = {'Date':[],'Time':[],'Country':[],'League':[],'Home':[],'Away':[],'Odds_H':[],'Odds_D':[],'Odds_A':[]}"
      ],
      "metadata": {
        "id": "kqLyYamIWcwh"
      },
      "execution_count": null,
      "outputs": []
    },
    {
      "cell_type": "markdown",
      "source": [
        "#CRIANDO FUNÇÃO \n"
      ],
      "metadata": {
        "id": "-CrymCJsWlzL"
      }
    },
    {
      "cell_type": "code",
      "source": [
        "def WebScraping():\n",
        "  # Com o WebDrive a gente consegue a pedir a página (URL)\n",
        "  wd_Chrome.get(\"https://www.flashscore.com/\")\n",
        "\n",
        "  # Pegando o ID dos Jogos\n",
        "  id_jogos = []\n",
        "  jogos = wd_Chrome.find_elements(By.CSS_SELECTOR,'div.event__match--scheduled')\n",
        "\n",
        "  for i in jogos:\n",
        "      id_jogos.append(i.get_attribute(\"id\"))\n",
        "\n",
        "  # Exemplo de ID de um jogo: 'g_1_Gb7buXVt'    \n",
        "  id_jogos = [i[4:] for i in id_jogos]\n",
        "\n",
        "  #jogo = {'Date':[],'Time':[],'Country':[],'League':[],'Home':[],'Away':[],'Odds_H':[],'Odds_D':[],'Odds_A':[]}\n",
        "\n",
        "  for link in tqdm(id_jogos, total=len(id_jogos)):\n",
        "      wd_Chrome.get(f'https://www.flashscore.com/match/{link}/#/match-summary')\n",
        "      \n",
        "      # Pegando as Informacoes Básicas do Jogo\n",
        "      try:\n",
        "          Date = wd_Chrome.find_element(By.CSS_SELECTOR,'div.duelParticipant__startTime').text.split(' ')[0]\n",
        "          Time = wd_Chrome.find_element(By.CSS_SELECTOR,'div.duelParticipant__startTime').text.split(' ')[1]\n",
        "          Country = wd_Chrome.find_element(By.CSS_SELECTOR,'span.tournamentHeader__country').text.split(':')[0]\n",
        "          League = wd_Chrome.find_element(By.CSS_SELECTOR,'span.tournamentHeader__country')\n",
        "          League = League.find_element(By.CSS_SELECTOR,'a').text\n",
        "          Home = wd_Chrome.find_element(By.CSS_SELECTOR,'div.duelParticipant__home')\n",
        "          Home = Home.find_element(By.CSS_SELECTOR,'div.participant__participantName').text\n",
        "          Away = wd_Chrome.find_element(By.CSS_SELECTOR,'div.duelParticipant__away')\n",
        "          Away = Away.find_element(By.CSS_SELECTOR,'div.participant__participantName').text\n",
        "          \n",
        "          # Match Odds\n",
        "          wd_Chrome.get(f'https://www.flashscore.com/match/{link}/#/odds-comparison/1x2-odds/full-time')\n",
        "          time.sleep(2)\n",
        "          celulas = wd_Chrome.find_elements(By.CSS_SELECTOR,'div.ui-table__row')\n",
        "          \n",
        "          Odds_H = 0\n",
        "          Odds_D = 0\n",
        "          Odds_A = 0\n",
        "          \n",
        "          if 'title=\"bet365\"' in str(wd_Chrome.find_element(By.CSS_SELECTOR,'div.ui-table.oddsCell__odds')):\n",
        "              for celula in celulas:\n",
        "                  bookie = celula.find_element(By.CSS_SELECTOR,'img.prematchLogo')\n",
        "                  bookie = bookie.get_attribute('title')\n",
        "                  if ((bookie == 'bet365') & (Odds_H == 0)) | ((bookie == 'Betfair') & (Odds_H == 0)):\n",
        "                      Odds_H = celula.find_elements(By.CSS_SELECTOR,'a.oddsCell__odd')[0].text\n",
        "                      Odds_D = celula.find_elements(By.CSS_SELECTOR,'a.oddsCell__odd')[1].text \n",
        "                      Odds_A = celula.find_elements(By.CSS_SELECTOR,'a.oddsCell__odd')[2].text\n",
        "                  else:\n",
        "                      pass\n",
        "          else:\n",
        "              for celula in celulas:\n",
        "                  Odds_H = celula.find_elements(By.CSS_SELECTOR,'a.oddsCell__odd')[0].text\n",
        "                  Odds_D = celula.find_elements(By.CSS_SELECTOR,'a.oddsCell__odd')[1].text \n",
        "                  Odds_A = celula.find_elements(By.CSS_SELECTOR,'a.oddsCell__odd')[2].text\n",
        "\n",
        "      except:\n",
        "          pass\n",
        "\n",
        "      print(Date,Time,Country,League,Home,Away,Odds_H,Odds_D,Odds_A) \n",
        "\n",
        "      jogo['Date'].append(Date)\n",
        "      jogo['Time'].append(Time)\n",
        "      jogo['Country'].append(Country)\n",
        "      jogo['League'].append(League)\n",
        "      jogo['Home'].append(Home)\n",
        "      jogo['Away'].append(Away)\n",
        "      jogo['Odds_H'].append(Odds_H)\n",
        "      jogo['Odds_D'].append(Odds_D)\n",
        "      jogo['Odds_A'].append(Odds_A)"
      ],
      "metadata": {
        "id": "snTt7QqiWlD9"
      },
      "execution_count": null,
      "outputs": []
    },
    {
      "cell_type": "markdown",
      "source": [
        "# Iniciando a Raspagem de Dados"
      ],
      "metadata": {
        "id": "kWo6ZGf_WqmJ"
      }
    },
    {
      "cell_type": "code",
      "source": [
        "WebScraping()"
      ],
      "metadata": {
        "id": "dOxhuDKqWroM"
      },
      "execution_count": null,
      "outputs": []
    },
    {
      "cell_type": "code",
      "source": [
        "df_today = pd.DataFrame(jogo)\n",
        "df_today = df_today[(df_today.Odds_H != 0)]\n",
        "df_today['Time'] = pd.to_datetime(df_today['Time']) - pd.DateOffset(hours=3)   #CORRIGINDO HORA, SITE TEM 3 HORAS DE DIFERENCA\n",
        "df_today = df_today.sort_values(['Time'])\n",
        "df_today.reset_index(inplace=True, drop=True)\n",
        "df_today.index = df_today.index.set_names(['Nº'])\n",
        "df_today = df_today.rename(index=lambda x: x + 1)\n",
        "df_today.columns = ['DateTime', 'Date', 'Country','League','Home','Away','FT_Odds_H','FT_Odds_D','FT_Odds_A']\n",
        "df_today = df_today[['Date', 'Country','League','Home','Away','FT_Odds_H','FT_Odds_D','FT_Odds_A']]\n",
        "df_today"
      ],
      "metadata": {
        "id": "OJkoJIyrXjXJ"
      },
      "execution_count": null,
      "outputs": []
    },
    {
      "cell_type": "markdown",
      "source": [],
      "metadata": {
        "id": "KVST6fCUcr1v"
      }
    },
    {
      "cell_type": "markdown",
      "source": [
        "# MACHINE LEARNING "
      ],
      "metadata": {
        "id": "k1keaG0VrTSW"
      }
    },
    {
      "cell_type": "code",
      "source": [
        "df_ENG = pd.read_excel('https://github.com/bola1318/base_de_dados/blob/main/Basededados/ENGLAND_S1_S2.xlsx?raw=true')\n",
        "df_FRA = pd.read_excel('https://github.com/bola1318/base_de_dados/blob/main/Basededados/FRANCE_S1_S2.xlsx?raw=true')\n",
        "df_GER = pd.read_excel('https://github.com/bola1318/base_de_dados/blob/main/Basededados/GERMANY_S1_S2.xlsx?raw=true')\n",
        "df_ITA = pd.read_excel('https://github.com/bola1318/base_de_dados/blob/main/Basededados/ITALY_S1_S2.xlsx?raw=true')\n",
        "df_SPA = pd.read_excel('https://github.com/bola1318/base_de_dados/blob/main/Basededados/SPAIN_S1_S2.xlsx?raw=true') \n",
        "df_BEL = pd.read_excel('https://github.com/bola1318/base_de_dados/blob/main/Basededados/BELGIUM_S1.xlsx?raw=true')   \n",
        "df_GRE = pd.read_excel('https://github.com/bola1318/base_de_dados/blob/main/Basededados/GREECE_S1.xlsx?raw=true')   \n",
        "df_NET = pd.read_excel('https://github.com/bola1318/base_de_dados/blob/main/Basededados/NETERLAND_S1.xlsx?raw=true')   \n",
        "df_POR = pd.read_excel('https://github.com/bola1318/base_de_dados/blob/main/Basededados/PORTUGAL_S1.xlsx?raw=true')  \n",
        "df_SCO = pd.read_excel('https://github.com/bola1318/base_de_dados/blob/main/Basededados/SCOTLAND_S1.xlsx?raw=true')   \n",
        "df_TUR = pd.read_excel('https://github.com/bola1318/base_de_dados/blob/main/Basededados/TURKEY_S1.xlsx?raw=true')   \n"
      ],
      "metadata": {
        "id": "pErN8QctrV8C"
      },
      "execution_count": null,
      "outputs": []
    },
    {
      "cell_type": "markdown",
      "source": [
        "#CONCATENANDO"
      ],
      "metadata": {
        "id": "Hn_0tirHyH9t"
      }
    },
    {
      "cell_type": "code",
      "source": [
        "df = [df_ENG,df_FRA,df_GER,df_ITA,df_SPA,df_BEL,df_GRE,df_NET,df_POR,df_SCO,df_TUR]\n",
        "df = pd.concat(df)"
      ],
      "metadata": {
        "id": "9gIP2q9fyJ2I"
      },
      "execution_count": null,
      "outputs": []
    },
    {
      "cell_type": "code",
      "source": [
        "df = df[['Casa','Fora','FT_Odds_H','FT_Odds_D','FT_Odds_A','FT_Goals_H','FT_Goals_A']]"
      ],
      "metadata": {
        "id": "LJcJFaCRyseH"
      },
      "execution_count": null,
      "outputs": []
    },
    {
      "cell_type": "markdown",
      "source": [
        "#CRIANDO COLUNAS DE 0 E 1 PARA ANALISE DO MODELO "
      ],
      "metadata": {
        "id": "i9HxpvOQb9w3"
      }
    },
    {
      "cell_type": "code",
      "source": [
        "df.loc[(df['FT_Goals_H'] > df['FT_Goals_A']), 'BackHome'] = 1  # QUANTIDADE DE GOLS DO MANDANTE FOR MAIOR QUE VISITANTE > 1 \n",
        "df.loc[(df['FT_Goals_H'] <= df['FT_Goals_A']), 'BackHome'] = 0   #QUANTIDADE DE GOLS DO MANDANTE FOR MENOR QUE VISITANTE = 0 "
      ],
      "metadata": {
        "id": "LEgVMRwacDCp"
      },
      "execution_count": null,
      "outputs": []
    },
    {
      "cell_type": "markdown",
      "source": [
        "# SEPARANDO DOIS DATAFRAMES \n",
        "  1- NOME DOS TIMES \n",
        "  2 - DADOS NUMERICOS"
      ],
      "metadata": {
        "id": "xDvhKs4Ehzgf"
      }
    },
    {
      "cell_type": "code",
      "source": [
        "df1 = df[['Casa','Fora','FT_Odds_H','FT_Odds_D','FT_Odds_A','BackHome']]\n",
        "df1 = df1.dropna()\n",
        "df2 = df[['FT_Odds_H','FT_Odds_D','FT_Odds_A','BackHome']]\n",
        "df2 = df2.dropna()"
      ],
      "metadata": {
        "id": "jLExI0hHhcoj"
      },
      "execution_count": null,
      "outputs": []
    },
    {
      "cell_type": "markdown",
      "source": [
        "# CONVERTENDO OS ARRAYS "
      ],
      "metadata": {
        "id": "s7lqgFbrkPNQ"
      }
    },
    {
      "cell_type": "code",
      "source": [
        "df1_x = df1.iloc[:,:].values  #pegar todas as colunas \n",
        "df2_x = df2.iloc[:,:-1].values  # todas as colunas menos a ultima \n",
        "df2_y = df2.iloc[:,-1].values"
      ],
      "metadata": {
        "id": "ZMQ1Yqk0kS8V"
      },
      "execution_count": null,
      "outputs": []
    },
    {
      "cell_type": "markdown",
      "source": [
        "# SEPARANDO OS DADOS PARA TREINO E PARA TESTE "
      ],
      "metadata": {
        "id": "iO2piq4zkXI0"
      }
    },
    {
      "cell_type": "code",
      "source": [
        "x_dados_treinamento, x_dados_teste = train_test_split(df1_x, test_size=0.20, random_state = 0)\n",
        "df1 = pd.DataFrame(x_dados_teste)\n",
        "df1.columns = ['Home','Away','FT_Odds_H','FT_Odds_D','FT_Odds_A','BackHome']"
      ],
      "metadata": {
        "id": "dCf_LNNPkcyJ"
      },
      "execution_count": null,
      "outputs": []
    },
    {
      "cell_type": "markdown",
      "source": [
        "# Definições de Parâmetros e dados de entrada e resultado para treinamento\n"
      ],
      "metadata": {
        "id": "wyI5dmHInIBG"
      }
    },
    {
      "cell_type": "code",
      "source": [
        "knn_dados = KNeighborsClassifier(n_neighbors=3, metric=\"minkowski\", p=2)\n",
        "knn_dados.fit(x_dados_treinamento, y_dados_treinamento)"
      ],
      "metadata": {
        "id": "PmCweSfknJIq"
      },
      "execution_count": null,
      "outputs": []
    },
    {
      "cell_type": "markdown",
      "source": [
        "# Previsões\n"
      ],
      "metadata": {
        "id": "4a5OSnOynNh1"
      }
    },
    {
      "cell_type": "code",
      "source": [
        "previsoes_knn = knn_dados.predict(x_dados_teste)\n",
        "df1[\"Previsões\"] = previsoes_knn\n",
        "stake = 1\n",
        "win_Back = stake * (df1.FT_Odds_H - 1)\n",
        "lose_Back = -stake\n",
        "\n",
        "df1.loc[(df1['Previsões'] == 1) & (df1['BackHome'] == 1), 'Profit'] = win_Back\n",
        "df1.loc[(df1['Previsões'] == 1) & (df1['BackHome'] == 0), 'Profit'] = lose_Back\n",
        "df1.loc[(df1['Previsões'] == 0) & (df1['BackHome'] == 1), 'Profit'] = 0\n",
        "df1.loc[(df1['Previsões'] == 0) & (df1['BackHome'] == 0), 'Profit'] = 0\n",
        "\n",
        "filtro = df1.Previsões == 1\n",
        "df0 = df1[filtro]"
      ],
      "metadata": {
        "id": "Zk4t1crdnOLZ"
      },
      "execution_count": null,
      "outputs": []
    },
    {
      "cell_type": "markdown",
      "source": [
        "# Ajustando o Índice"
      ],
      "metadata": {
        "id": "uqmzLaH4nQ1Q"
      }
    },
    {
      "cell_type": "code",
      "source": [
        "df0.reset_index(inplace=True, drop=True)\n",
        "df0.index = df0.index.set_names(['Nº'])\n",
        "df0 = df0.rename(index=lambda x: x + 1)"
      ],
      "metadata": {
        "id": "2z-wkTcNnVME"
      },
      "execution_count": null,
      "outputs": []
    },
    {
      "cell_type": "code",
      "source": [
        "def MachineLearningKNN():\n",
        "\n",
        "    for a,b,c,d,e,f in zip(df_today.Date,df_today.Home,df_today.Away,df_today.FT_Odds_H,df_today.FT_Odds_D,df_today.FT_Odds_A):\n",
        "    \n",
        "        Date = a\n",
        "        Home = b\n",
        "        Away = c\n",
        "        FT_Odds_H = d\n",
        "        FT_Odds_D = e\n",
        "        FT_Odds_A = f\n",
        "        \n",
        "        Odds = [FT_Odds_H,FT_Odds_D,FT_Odds_A]\n",
        "\n",
        "        # Transformando a Lista em uma Matriz\n",
        "        odds_jogo = np.array(Odds)\n",
        "\n",
        "        previsao_jogo_knn = odds_jogo.reshape(1, -1)\n",
        "        previsao_jogo_knn = knn_dados.predict(previsao_jogo_knn)\n",
        "        \n",
        "        \n",
        "        print('');print(\"Jogo:\",Home,'x',Away);print(\"Horário:\",Date);print(\"Odd H:\", FT_Odds_H)\n",
        "\n",
        "        if previsao_jogo_knn == 1:\n",
        "          print(\"Opinião do KNN:\" + bcolors.OKGREEN + \"Fazer Back Mandante\" + bcolors.RESET)\n",
        "        else:\n",
        "          print(\"Opinião do KNN:\" + bcolors.FAIL + \"Ficar de Fora desse jogo\" + bcolors.RESET)\n",
        "\n"
      ],
      "metadata": {
        "id": "uR-tta42nYOe"
      },
      "execution_count": null,
      "outputs": []
    },
    {
      "cell_type": "markdown",
      "source": [
        "# TESTE MACHINE LEARNING "
      ],
      "metadata": {
        "id": "4DobqyiKnea8"
      }
    },
    {
      "cell_type": "code",
      "source": [
        "df0['Profit_acu'] = df0.Profit.cumsum()\n",
        "df0.Profit_acu.plot()\n",
        "df0.Profit_acu.tail(1)"
      ],
      "metadata": {
        "id": "TW5HTkfrnhjr"
      },
      "execution_count": null,
      "outputs": []
    },
    {
      "cell_type": "markdown",
      "source": [
        "#APLICACAO MACHINE LEARNING"
      ],
      "metadata": {
        "id": "Y_IDxGhFnjSi"
      }
    },
    {
      "cell_type": "code",
      "source": [
        "MachineLearningKNN()"
      ],
      "metadata": {
        "id": "YAQYHOdinmKX"
      },
      "execution_count": null,
      "outputs": []
    }
  ]
}