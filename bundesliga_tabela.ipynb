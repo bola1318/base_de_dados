{
  "nbformat": 4,
  "nbformat_minor": 0,
  "metadata": {
    "colab": {
      "provenance": [],
      "include_colab_link": true
    },
    "kernelspec": {
      "name": "python3",
      "display_name": "Python 3"
    },
    "language_info": {
      "name": "python"
    }
  },
  "cells": [
    {
      "cell_type": "markdown",
      "metadata": {
        "id": "view-in-github",
        "colab_type": "text"
      },
      "source": [
        "<a href=\"https://colab.research.google.com/github/bola1318/base_de_dados/blob/main/bundesliga_tabela.ipynb\" target=\"_parent\"><img src=\"https://colab.research.google.com/assets/colab-badge.svg\" alt=\"Open In Colab\"/></a>"
      ]
    },
    {
      "cell_type": "markdown",
      "source": [
        "\n",
        "\n",
        "> Bloco com recuo\n",
        "\n",
        "\n",
        "premier1 = df1[1] #table 1 site https://fbref.com/en/comps/32/Primeira-Liga-Stats#results2022-2023321_overall\n",
        "premier1.to_excel(\"teste.xlsx\")\n",
        "\n"
      ],
      "metadata": {
        "id": "516_x2CvPcI7"
      }
    },
    {
      "cell_type": "code",
      "execution_count": null,
      "metadata": {
        "id": "Dn7zaZYIw1wQ"
      },
      "outputs": [],
      "source": [
        "import pandas as pd \n",
        "import requests \n",
        "from google.colab import data_table\n",
        "data_table.enable_dataframe_formatter()\n",
        "\n",
        "import csv"
      ]
    },
    {
      "cell_type": "code",
      "source": [
        "#coletando as planilhas \n",
        "\n",
        "header = {\n",
        "  \"User-Agent\": \"Mozilla/5.0 (X11; Linux x86_64) AppleWebKit/537.36 (KHTML, like Gecko) Chrome/50.0.2661.75 Safari/537.36\",\n",
        "  \"X-Requested-With\": \"XMLHttpRequest\"\n",
        "}\n",
        "\n",
        "#A url que você quer acesssar\n",
        "url_link1 = \"https://fbref.com/en/comps/20/Bundesliga-Stats\"\n",
        "#ENG_01 = pd.read_csv(\"https://fbref.com/en/comps/9/Premier-League-Stats#results2022-202391_overall\") \n",
        "\n",
        "r1 = requests.get(url_link1, headers=header)\n",
        "\n",
        "df1 = pd.read_html(r1.text)\n",
        "\n"
      ],
      "metadata": {
        "id": "yjIfrL2NxsJm"
      },
      "execution_count": null,
      "outputs": []
    },
    {
      "cell_type": "code",
      "source": [],
      "metadata": {
        "id": "BJceA6xNx7fT"
      },
      "execution_count": null,
      "outputs": []
    },
    {
      "cell_type": "code",
      "source": [
        "len(df1)"
      ],
      "metadata": {
        "id": "U6a29lmozupt",
        "outputId": "3efb334c-3e71-4b59-b24d-1564f1aae293",
        "colab": {
          "base_uri": "https://localhost:8080/"
        }
      },
      "execution_count": null,
      "outputs": [
        {
          "output_type": "execute_result",
          "data": {
            "text/plain": [
              "24"
            ]
          },
          "metadata": {},
          "execution_count": 32
        }
      ]
    },
    {
      "cell_type": "code",
      "source": [
        "df1[0] #Regular season"
      ],
      "metadata": {
        "id": "yZl82uMVQY6D",
        "outputId": "423adade-0bf5-4ae8-dcbd-1d805e98b7d3",
        "colab": {
          "base_uri": "https://localhost:8080/",
          "height": 924
        }
      },
      "execution_count": null,
      "outputs": [
        {
          "output_type": "execute_result",
          "data": {
            "text/plain": [
              "    Rk           Squad  MP   W  D   L  GF  GA  GD  Pts  Pts/MP    xG   xGA  \\\n",
              "0    1   Bayern Munich  15  10  4   1  49  13  36   34    2.27  35.2  14.7   \n",
              "1    2        Freiburg  15   9  3   3  25  17   8   30    2.00  23.2  19.1   \n",
              "2    3      RB Leipzig  15   8  4   3  30  21   9   28    1.87  27.7  16.7   \n",
              "3    4  Eint Frankfurt  15   8  3   4  32  24   8   27    1.80  25.1  18.1   \n",
              "4    5    Union Berlin  15   8  3   4  24  20   4   27    1.80  15.0  15.7   \n",
              "5    6        Dortmund  15   8  1   6  25  21   4   25    1.67  24.6  19.0   \n",
              "6    7       Wolfsburg  15   6  5   4  24  20   4   23    1.53  18.2  23.2   \n",
              "7    8      M'Gladbach  15   6  4   5  28  24   4   22    1.47  23.3  21.7   \n",
              "8    9   Werder Bremen  15   6  3   6  25  27  -2   21    1.40  19.3  24.1   \n",
              "9   10        Mainz 05  15   5  4   6  19  24  -5   19    1.27  18.2  21.5   \n",
              "10  11      Hoffenheim  15   5  3   7  22  22   0   18    1.20  23.6  20.8   \n",
              "11  12      Leverkusen  15   5  3   7  25  26  -1   18    1.20  21.9  21.6   \n",
              "12  13            Köln  15   4  5   6  21  29  -8   17    1.13  22.2  20.3   \n",
              "13  14        Augsburg  15   4  3   8  18  26  -8   15    1.00  15.6  26.3   \n",
              "14  15      Hertha BSC  15   3  5   7  19  22  -3   14    0.93  17.6  23.4   \n",
              "15  16       Stuttgart  15   3  5   7  18  27  -9   14    0.93  19.9  19.7   \n",
              "16  17          Bochum  15   4  1  10  14  36 -22   13    0.87  14.0  31.0   \n",
              "17  18      Schalke 04  15   2  3  10  13  32 -19    9    0.60  16.1  24.1   \n",
              "\n",
              "     xGD  xGD/90     Last 5  Attendance  \\\n",
              "0   20.6    1.37  W W W W W       75000   \n",
              "1    4.1    0.27  W W W L W       34171   \n",
              "2   11.1    0.74  D W W W W       45172   \n",
              "3    7.1    0.47  W L W W D       50025   \n",
              "4   -0.7   -0.04  L W L D L       21875   \n",
              "5    5.6    0.37  W W W L L       81032   \n",
              "6   -5.0   -0.33  D W W W W       26309   \n",
              "7    1.6    0.10  L L W L W       51718   \n",
              "8   -4.8   -0.32  L W W L L       41338   \n",
              "9   -3.2   -0.21  W L L L D       28082   \n",
              "10   2.8    0.19  L D L L L       21907   \n",
              "11   0.3    0.02  D L W W W       27899   \n",
              "12   2.0    0.13  L D L L L       49643   \n",
              "13 -10.7   -0.71  D L L D L       26868   \n",
              "14  -5.9   -0.39  W L L L W       53197   \n",
              "15   0.2    0.02  L W L W L       46006   \n",
              "16 -17.0   -1.13  W L L W W       25417   \n",
              "17  -8.1   -0.54  L L L W L       61046   \n",
              "\n",
              "                             Top Team Scorer          Goalkeeper  Notes  \n",
              "0                          Jamal Musiala - 9        Manuel Neuer    NaN  \n",
              "1                         Vincenzo Grifo - 9        Mark Flekken    NaN  \n",
              "2                    Christopher Nkunku - 12      Janis Blaswich    NaN  \n",
              "3                          Daichi Kamada - 7         Kevin Trapp    NaN  \n",
              "4                        Sheraldo Becker - 7     Frederik Rønnow    NaN  \n",
              "5                      Youssoufa Moukoko - 6        Gregor Kobel    NaN  \n",
              "6                           Lukas Nmecha - 4       Koen Casteels    NaN  \n",
              "7                         Marcus Thuram - 10         Yann Sommer    NaN  \n",
              "8                       Niclas Füllkrug - 10       Jiří Pavlenka    NaN  \n",
              "9       Karim Onisiwo, Marcus Ingvartsen - 4       Robin Zentner    NaN  \n",
              "10  Christoph Baumgartner, Moanes Dabbur - 4      Oliver Baumann    NaN  \n",
              "11                          Moussa Diaby - 6      Lukáš Hrádecký    NaN  \n",
              "12                         Florian Kainz - 5      Marvin Schwäbe    NaN  \n",
              "13                     Ermedin Demirović - 5     Rafał Gikiewicz    NaN  \n",
              "14                        Dodi Lukebakio - 7  Oliver Christensen    NaN  \n",
              "15                       Sehrou Guirassy - 4      Florian Müller    NaN  \n",
              "16                       Philipp Hofmann - 4      Manuel Riemann    NaN  \n",
              "17          Simon Terodde, Marius Bülter - 3  Alexander Schwolow    NaN  "
            ],
            "text/html": [
              "\n",
              "  <div id=\"df-10de14ba-2e21-4c82-a095-b97b8d9715f9\">\n",
              "    <div class=\"colab-df-container\">\n",
              "      <div>\n",
              "<style scoped>\n",
              "    .dataframe tbody tr th:only-of-type {\n",
              "        vertical-align: middle;\n",
              "    }\n",
              "\n",
              "    .dataframe tbody tr th {\n",
              "        vertical-align: top;\n",
              "    }\n",
              "\n",
              "    .dataframe thead th {\n",
              "        text-align: right;\n",
              "    }\n",
              "</style>\n",
              "<table border=\"1\" class=\"dataframe\">\n",
              "  <thead>\n",
              "    <tr style=\"text-align: right;\">\n",
              "      <th></th>\n",
              "      <th>Rk</th>\n",
              "      <th>Squad</th>\n",
              "      <th>MP</th>\n",
              "      <th>W</th>\n",
              "      <th>D</th>\n",
              "      <th>L</th>\n",
              "      <th>GF</th>\n",
              "      <th>GA</th>\n",
              "      <th>GD</th>\n",
              "      <th>Pts</th>\n",
              "      <th>Pts/MP</th>\n",
              "      <th>xG</th>\n",
              "      <th>xGA</th>\n",
              "      <th>xGD</th>\n",
              "      <th>xGD/90</th>\n",
              "      <th>Last 5</th>\n",
              "      <th>Attendance</th>\n",
              "      <th>Top Team Scorer</th>\n",
              "      <th>Goalkeeper</th>\n",
              "      <th>Notes</th>\n",
              "    </tr>\n",
              "  </thead>\n",
              "  <tbody>\n",
              "    <tr>\n",
              "      <th>0</th>\n",
              "      <td>1</td>\n",
              "      <td>Bayern Munich</td>\n",
              "      <td>15</td>\n",
              "      <td>10</td>\n",
              "      <td>4</td>\n",
              "      <td>1</td>\n",
              "      <td>49</td>\n",
              "      <td>13</td>\n",
              "      <td>36</td>\n",
              "      <td>34</td>\n",
              "      <td>2.27</td>\n",
              "      <td>35.2</td>\n",
              "      <td>14.7</td>\n",
              "      <td>20.6</td>\n",
              "      <td>1.37</td>\n",
              "      <td>W W W W W</td>\n",
              "      <td>75000</td>\n",
              "      <td>Jamal Musiala - 9</td>\n",
              "      <td>Manuel Neuer</td>\n",
              "      <td>NaN</td>\n",
              "    </tr>\n",
              "    <tr>\n",
              "      <th>1</th>\n",
              "      <td>2</td>\n",
              "      <td>Freiburg</td>\n",
              "      <td>15</td>\n",
              "      <td>9</td>\n",
              "      <td>3</td>\n",
              "      <td>3</td>\n",
              "      <td>25</td>\n",
              "      <td>17</td>\n",
              "      <td>8</td>\n",
              "      <td>30</td>\n",
              "      <td>2.00</td>\n",
              "      <td>23.2</td>\n",
              "      <td>19.1</td>\n",
              "      <td>4.1</td>\n",
              "      <td>0.27</td>\n",
              "      <td>W W W L W</td>\n",
              "      <td>34171</td>\n",
              "      <td>Vincenzo Grifo - 9</td>\n",
              "      <td>Mark Flekken</td>\n",
              "      <td>NaN</td>\n",
              "    </tr>\n",
              "    <tr>\n",
              "      <th>2</th>\n",
              "      <td>3</td>\n",
              "      <td>RB Leipzig</td>\n",
              "      <td>15</td>\n",
              "      <td>8</td>\n",
              "      <td>4</td>\n",
              "      <td>3</td>\n",
              "      <td>30</td>\n",
              "      <td>21</td>\n",
              "      <td>9</td>\n",
              "      <td>28</td>\n",
              "      <td>1.87</td>\n",
              "      <td>27.7</td>\n",
              "      <td>16.7</td>\n",
              "      <td>11.1</td>\n",
              "      <td>0.74</td>\n",
              "      <td>D W W W W</td>\n",
              "      <td>45172</td>\n",
              "      <td>Christopher Nkunku - 12</td>\n",
              "      <td>Janis Blaswich</td>\n",
              "      <td>NaN</td>\n",
              "    </tr>\n",
              "    <tr>\n",
              "      <th>3</th>\n",
              "      <td>4</td>\n",
              "      <td>Eint Frankfurt</td>\n",
              "      <td>15</td>\n",
              "      <td>8</td>\n",
              "      <td>3</td>\n",
              "      <td>4</td>\n",
              "      <td>32</td>\n",
              "      <td>24</td>\n",
              "      <td>8</td>\n",
              "      <td>27</td>\n",
              "      <td>1.80</td>\n",
              "      <td>25.1</td>\n",
              "      <td>18.1</td>\n",
              "      <td>7.1</td>\n",
              "      <td>0.47</td>\n",
              "      <td>W L W W D</td>\n",
              "      <td>50025</td>\n",
              "      <td>Daichi Kamada - 7</td>\n",
              "      <td>Kevin Trapp</td>\n",
              "      <td>NaN</td>\n",
              "    </tr>\n",
              "    <tr>\n",
              "      <th>4</th>\n",
              "      <td>5</td>\n",
              "      <td>Union Berlin</td>\n",
              "      <td>15</td>\n",
              "      <td>8</td>\n",
              "      <td>3</td>\n",
              "      <td>4</td>\n",
              "      <td>24</td>\n",
              "      <td>20</td>\n",
              "      <td>4</td>\n",
              "      <td>27</td>\n",
              "      <td>1.80</td>\n",
              "      <td>15.0</td>\n",
              "      <td>15.7</td>\n",
              "      <td>-0.7</td>\n",
              "      <td>-0.04</td>\n",
              "      <td>L W L D L</td>\n",
              "      <td>21875</td>\n",
              "      <td>Sheraldo Becker - 7</td>\n",
              "      <td>Frederik Rønnow</td>\n",
              "      <td>NaN</td>\n",
              "    </tr>\n",
              "    <tr>\n",
              "      <th>5</th>\n",
              "      <td>6</td>\n",
              "      <td>Dortmund</td>\n",
              "      <td>15</td>\n",
              "      <td>8</td>\n",
              "      <td>1</td>\n",
              "      <td>6</td>\n",
              "      <td>25</td>\n",
              "      <td>21</td>\n",
              "      <td>4</td>\n",
              "      <td>25</td>\n",
              "      <td>1.67</td>\n",
              "      <td>24.6</td>\n",
              "      <td>19.0</td>\n",
              "      <td>5.6</td>\n",
              "      <td>0.37</td>\n",
              "      <td>W W W L L</td>\n",
              "      <td>81032</td>\n",
              "      <td>Youssoufa Moukoko - 6</td>\n",
              "      <td>Gregor Kobel</td>\n",
              "      <td>NaN</td>\n",
              "    </tr>\n",
              "    <tr>\n",
              "      <th>6</th>\n",
              "      <td>7</td>\n",
              "      <td>Wolfsburg</td>\n",
              "      <td>15</td>\n",
              "      <td>6</td>\n",
              "      <td>5</td>\n",
              "      <td>4</td>\n",
              "      <td>24</td>\n",
              "      <td>20</td>\n",
              "      <td>4</td>\n",
              "      <td>23</td>\n",
              "      <td>1.53</td>\n",
              "      <td>18.2</td>\n",
              "      <td>23.2</td>\n",
              "      <td>-5.0</td>\n",
              "      <td>-0.33</td>\n",
              "      <td>D W W W W</td>\n",
              "      <td>26309</td>\n",
              "      <td>Lukas Nmecha - 4</td>\n",
              "      <td>Koen Casteels</td>\n",
              "      <td>NaN</td>\n",
              "    </tr>\n",
              "    <tr>\n",
              "      <th>7</th>\n",
              "      <td>8</td>\n",
              "      <td>M'Gladbach</td>\n",
              "      <td>15</td>\n",
              "      <td>6</td>\n",
              "      <td>4</td>\n",
              "      <td>5</td>\n",
              "      <td>28</td>\n",
              "      <td>24</td>\n",
              "      <td>4</td>\n",
              "      <td>22</td>\n",
              "      <td>1.47</td>\n",
              "      <td>23.3</td>\n",
              "      <td>21.7</td>\n",
              "      <td>1.6</td>\n",
              "      <td>0.10</td>\n",
              "      <td>L L W L W</td>\n",
              "      <td>51718</td>\n",
              "      <td>Marcus Thuram - 10</td>\n",
              "      <td>Yann Sommer</td>\n",
              "      <td>NaN</td>\n",
              "    </tr>\n",
              "    <tr>\n",
              "      <th>8</th>\n",
              "      <td>9</td>\n",
              "      <td>Werder Bremen</td>\n",
              "      <td>15</td>\n",
              "      <td>6</td>\n",
              "      <td>3</td>\n",
              "      <td>6</td>\n",
              "      <td>25</td>\n",
              "      <td>27</td>\n",
              "      <td>-2</td>\n",
              "      <td>21</td>\n",
              "      <td>1.40</td>\n",
              "      <td>19.3</td>\n",
              "      <td>24.1</td>\n",
              "      <td>-4.8</td>\n",
              "      <td>-0.32</td>\n",
              "      <td>L W W L L</td>\n",
              "      <td>41338</td>\n",
              "      <td>Niclas Füllkrug - 10</td>\n",
              "      <td>Jiří Pavlenka</td>\n",
              "      <td>NaN</td>\n",
              "    </tr>\n",
              "    <tr>\n",
              "      <th>9</th>\n",
              "      <td>10</td>\n",
              "      <td>Mainz 05</td>\n",
              "      <td>15</td>\n",
              "      <td>5</td>\n",
              "      <td>4</td>\n",
              "      <td>6</td>\n",
              "      <td>19</td>\n",
              "      <td>24</td>\n",
              "      <td>-5</td>\n",
              "      <td>19</td>\n",
              "      <td>1.27</td>\n",
              "      <td>18.2</td>\n",
              "      <td>21.5</td>\n",
              "      <td>-3.2</td>\n",
              "      <td>-0.21</td>\n",
              "      <td>W L L L D</td>\n",
              "      <td>28082</td>\n",
              "      <td>Karim Onisiwo, Marcus Ingvartsen - 4</td>\n",
              "      <td>Robin Zentner</td>\n",
              "      <td>NaN</td>\n",
              "    </tr>\n",
              "    <tr>\n",
              "      <th>10</th>\n",
              "      <td>11</td>\n",
              "      <td>Hoffenheim</td>\n",
              "      <td>15</td>\n",
              "      <td>5</td>\n",
              "      <td>3</td>\n",
              "      <td>7</td>\n",
              "      <td>22</td>\n",
              "      <td>22</td>\n",
              "      <td>0</td>\n",
              "      <td>18</td>\n",
              "      <td>1.20</td>\n",
              "      <td>23.6</td>\n",
              "      <td>20.8</td>\n",
              "      <td>2.8</td>\n",
              "      <td>0.19</td>\n",
              "      <td>L D L L L</td>\n",
              "      <td>21907</td>\n",
              "      <td>Christoph Baumgartner, Moanes Dabbur - 4</td>\n",
              "      <td>Oliver Baumann</td>\n",
              "      <td>NaN</td>\n",
              "    </tr>\n",
              "    <tr>\n",
              "      <th>11</th>\n",
              "      <td>12</td>\n",
              "      <td>Leverkusen</td>\n",
              "      <td>15</td>\n",
              "      <td>5</td>\n",
              "      <td>3</td>\n",
              "      <td>7</td>\n",
              "      <td>25</td>\n",
              "      <td>26</td>\n",
              "      <td>-1</td>\n",
              "      <td>18</td>\n",
              "      <td>1.20</td>\n",
              "      <td>21.9</td>\n",
              "      <td>21.6</td>\n",
              "      <td>0.3</td>\n",
              "      <td>0.02</td>\n",
              "      <td>D L W W W</td>\n",
              "      <td>27899</td>\n",
              "      <td>Moussa Diaby - 6</td>\n",
              "      <td>Lukáš Hrádecký</td>\n",
              "      <td>NaN</td>\n",
              "    </tr>\n",
              "    <tr>\n",
              "      <th>12</th>\n",
              "      <td>13</td>\n",
              "      <td>Köln</td>\n",
              "      <td>15</td>\n",
              "      <td>4</td>\n",
              "      <td>5</td>\n",
              "      <td>6</td>\n",
              "      <td>21</td>\n",
              "      <td>29</td>\n",
              "      <td>-8</td>\n",
              "      <td>17</td>\n",
              "      <td>1.13</td>\n",
              "      <td>22.2</td>\n",
              "      <td>20.3</td>\n",
              "      <td>2.0</td>\n",
              "      <td>0.13</td>\n",
              "      <td>L D L L L</td>\n",
              "      <td>49643</td>\n",
              "      <td>Florian Kainz - 5</td>\n",
              "      <td>Marvin Schwäbe</td>\n",
              "      <td>NaN</td>\n",
              "    </tr>\n",
              "    <tr>\n",
              "      <th>13</th>\n",
              "      <td>14</td>\n",
              "      <td>Augsburg</td>\n",
              "      <td>15</td>\n",
              "      <td>4</td>\n",
              "      <td>3</td>\n",
              "      <td>8</td>\n",
              "      <td>18</td>\n",
              "      <td>26</td>\n",
              "      <td>-8</td>\n",
              "      <td>15</td>\n",
              "      <td>1.00</td>\n",
              "      <td>15.6</td>\n",
              "      <td>26.3</td>\n",
              "      <td>-10.7</td>\n",
              "      <td>-0.71</td>\n",
              "      <td>D L L D L</td>\n",
              "      <td>26868</td>\n",
              "      <td>Ermedin Demirović - 5</td>\n",
              "      <td>Rafał Gikiewicz</td>\n",
              "      <td>NaN</td>\n",
              "    </tr>\n",
              "    <tr>\n",
              "      <th>14</th>\n",
              "      <td>15</td>\n",
              "      <td>Hertha BSC</td>\n",
              "      <td>15</td>\n",
              "      <td>3</td>\n",
              "      <td>5</td>\n",
              "      <td>7</td>\n",
              "      <td>19</td>\n",
              "      <td>22</td>\n",
              "      <td>-3</td>\n",
              "      <td>14</td>\n",
              "      <td>0.93</td>\n",
              "      <td>17.6</td>\n",
              "      <td>23.4</td>\n",
              "      <td>-5.9</td>\n",
              "      <td>-0.39</td>\n",
              "      <td>W L L L W</td>\n",
              "      <td>53197</td>\n",
              "      <td>Dodi Lukebakio - 7</td>\n",
              "      <td>Oliver Christensen</td>\n",
              "      <td>NaN</td>\n",
              "    </tr>\n",
              "    <tr>\n",
              "      <th>15</th>\n",
              "      <td>16</td>\n",
              "      <td>Stuttgart</td>\n",
              "      <td>15</td>\n",
              "      <td>3</td>\n",
              "      <td>5</td>\n",
              "      <td>7</td>\n",
              "      <td>18</td>\n",
              "      <td>27</td>\n",
              "      <td>-9</td>\n",
              "      <td>14</td>\n",
              "      <td>0.93</td>\n",
              "      <td>19.9</td>\n",
              "      <td>19.7</td>\n",
              "      <td>0.2</td>\n",
              "      <td>0.02</td>\n",
              "      <td>L W L W L</td>\n",
              "      <td>46006</td>\n",
              "      <td>Sehrou Guirassy - 4</td>\n",
              "      <td>Florian Müller</td>\n",
              "      <td>NaN</td>\n",
              "    </tr>\n",
              "    <tr>\n",
              "      <th>16</th>\n",
              "      <td>17</td>\n",
              "      <td>Bochum</td>\n",
              "      <td>15</td>\n",
              "      <td>4</td>\n",
              "      <td>1</td>\n",
              "      <td>10</td>\n",
              "      <td>14</td>\n",
              "      <td>36</td>\n",
              "      <td>-22</td>\n",
              "      <td>13</td>\n",
              "      <td>0.87</td>\n",
              "      <td>14.0</td>\n",
              "      <td>31.0</td>\n",
              "      <td>-17.0</td>\n",
              "      <td>-1.13</td>\n",
              "      <td>W L L W W</td>\n",
              "      <td>25417</td>\n",
              "      <td>Philipp Hofmann - 4</td>\n",
              "      <td>Manuel Riemann</td>\n",
              "      <td>NaN</td>\n",
              "    </tr>\n",
              "    <tr>\n",
              "      <th>17</th>\n",
              "      <td>18</td>\n",
              "      <td>Schalke 04</td>\n",
              "      <td>15</td>\n",
              "      <td>2</td>\n",
              "      <td>3</td>\n",
              "      <td>10</td>\n",
              "      <td>13</td>\n",
              "      <td>32</td>\n",
              "      <td>-19</td>\n",
              "      <td>9</td>\n",
              "      <td>0.60</td>\n",
              "      <td>16.1</td>\n",
              "      <td>24.1</td>\n",
              "      <td>-8.1</td>\n",
              "      <td>-0.54</td>\n",
              "      <td>L L L W L</td>\n",
              "      <td>61046</td>\n",
              "      <td>Simon Terodde, Marius Bülter - 3</td>\n",
              "      <td>Alexander Schwolow</td>\n",
              "      <td>NaN</td>\n",
              "    </tr>\n",
              "  </tbody>\n",
              "</table>\n",
              "</div>\n",
              "      <button class=\"colab-df-convert\" onclick=\"convertToInteractive('df-10de14ba-2e21-4c82-a095-b97b8d9715f9')\"\n",
              "              title=\"Convert this dataframe to an interactive table.\"\n",
              "              style=\"display:none;\">\n",
              "        \n",
              "  <svg xmlns=\"http://www.w3.org/2000/svg\" height=\"24px\"viewBox=\"0 0 24 24\"\n",
              "       width=\"24px\">\n",
              "    <path d=\"M0 0h24v24H0V0z\" fill=\"none\"/>\n",
              "    <path d=\"M18.56 5.44l.94 2.06.94-2.06 2.06-.94-2.06-.94-.94-2.06-.94 2.06-2.06.94zm-11 1L8.5 8.5l.94-2.06 2.06-.94-2.06-.94L8.5 2.5l-.94 2.06-2.06.94zm10 10l.94 2.06.94-2.06 2.06-.94-2.06-.94-.94-2.06-.94 2.06-2.06.94z\"/><path d=\"M17.41 7.96l-1.37-1.37c-.4-.4-.92-.59-1.43-.59-.52 0-1.04.2-1.43.59L10.3 9.45l-7.72 7.72c-.78.78-.78 2.05 0 2.83L4 21.41c.39.39.9.59 1.41.59.51 0 1.02-.2 1.41-.59l7.78-7.78 2.81-2.81c.8-.78.8-2.07 0-2.86zM5.41 20L4 18.59l7.72-7.72 1.47 1.35L5.41 20z\"/>\n",
              "  </svg>\n",
              "      </button>\n",
              "      \n",
              "  <style>\n",
              "    .colab-df-container {\n",
              "      display:flex;\n",
              "      flex-wrap:wrap;\n",
              "      gap: 12px;\n",
              "    }\n",
              "\n",
              "    .colab-df-convert {\n",
              "      background-color: #E8F0FE;\n",
              "      border: none;\n",
              "      border-radius: 50%;\n",
              "      cursor: pointer;\n",
              "      display: none;\n",
              "      fill: #1967D2;\n",
              "      height: 32px;\n",
              "      padding: 0 0 0 0;\n",
              "      width: 32px;\n",
              "    }\n",
              "\n",
              "    .colab-df-convert:hover {\n",
              "      background-color: #E2EBFA;\n",
              "      box-shadow: 0px 1px 2px rgba(60, 64, 67, 0.3), 0px 1px 3px 1px rgba(60, 64, 67, 0.15);\n",
              "      fill: #174EA6;\n",
              "    }\n",
              "\n",
              "    [theme=dark] .colab-df-convert {\n",
              "      background-color: #3B4455;\n",
              "      fill: #D2E3FC;\n",
              "    }\n",
              "\n",
              "    [theme=dark] .colab-df-convert:hover {\n",
              "      background-color: #434B5C;\n",
              "      box-shadow: 0px 1px 3px 1px rgba(0, 0, 0, 0.15);\n",
              "      filter: drop-shadow(0px 1px 2px rgba(0, 0, 0, 0.3));\n",
              "      fill: #FFFFFF;\n",
              "    }\n",
              "  </style>\n",
              "\n",
              "      <script>\n",
              "        const buttonEl =\n",
              "          document.querySelector('#df-10de14ba-2e21-4c82-a095-b97b8d9715f9 button.colab-df-convert');\n",
              "        buttonEl.style.display =\n",
              "          google.colab.kernel.accessAllowed ? 'block' : 'none';\n",
              "\n",
              "        async function convertToInteractive(key) {\n",
              "          const element = document.querySelector('#df-10de14ba-2e21-4c82-a095-b97b8d9715f9');\n",
              "          const dataTable =\n",
              "            await google.colab.kernel.invokeFunction('convertToInteractive',\n",
              "                                                     [key], {});\n",
              "          if (!dataTable) return;\n",
              "\n",
              "          const docLinkHtml = 'Like what you see? Visit the ' +\n",
              "            '<a target=\"_blank\" href=https://colab.research.google.com/notebooks/data_table.ipynb>data table notebook</a>'\n",
              "            + ' to learn more about interactive tables.';\n",
              "          element.innerHTML = '';\n",
              "          dataTable['output_type'] = 'display_data';\n",
              "          await google.colab.output.renderOutput(dataTable, element);\n",
              "          const docLink = document.createElement('div');\n",
              "          docLink.innerHTML = docLinkHtml;\n",
              "          element.appendChild(docLink);\n",
              "        }\n",
              "      </script>\n",
              "    </div>\n",
              "  </div>\n",
              "  "
            ],
            "application/vnd.google.colaboratory.module+javascript": "\n      import \"https://ssl.gstatic.com/colaboratory/data_table/fb998edc550c7947/data_table.js\";\n\n      window.createDataTable({\n        data: [[{\n            'v': 0,\n            'f': \"0\",\n        },\n{\n            'v': 1,\n            'f': \"1\",\n        },\n\"Bayern Munich\",\n{\n            'v': 15,\n            'f': \"15\",\n        },\n{\n            'v': 10,\n            'f': \"10\",\n        },\n{\n            'v': 4,\n            'f': \"4\",\n        },\n{\n            'v': 1,\n            'f': \"1\",\n        },\n{\n            'v': 49,\n            'f': \"49\",\n        },\n{\n            'v': 13,\n            'f': \"13\",\n        },\n{\n            'v': 36,\n            'f': \"36\",\n        },\n{\n            'v': 34,\n            'f': \"34\",\n        },\n{\n            'v': 2.27,\n            'f': \"2.27\",\n        },\n{\n            'v': 35.2,\n            'f': \"35.2\",\n        },\n{\n            'v': 14.7,\n            'f': \"14.7\",\n        },\n{\n            'v': 20.6,\n            'f': \"20.6\",\n        },\n{\n            'v': 1.37,\n            'f': \"1.37\",\n        },\n\"W W W W W\",\n{\n            'v': 75000,\n            'f': \"75000\",\n        },\n\"Jamal Musiala - 9\",\n\"Manuel Neuer\",\n{\n            'v': NaN,\n            'f': \"NaN\",\n        }],\n [{\n            'v': 1,\n            'f': \"1\",\n        },\n{\n            'v': 2,\n            'f': \"2\",\n        },\n\"Freiburg\",\n{\n            'v': 15,\n            'f': \"15\",\n        },\n{\n            'v': 9,\n            'f': \"9\",\n        },\n{\n            'v': 3,\n            'f': \"3\",\n        },\n{\n            'v': 3,\n            'f': \"3\",\n        },\n{\n            'v': 25,\n            'f': \"25\",\n        },\n{\n            'v': 17,\n            'f': \"17\",\n        },\n{\n            'v': 8,\n            'f': \"8\",\n        },\n{\n            'v': 30,\n            'f': \"30\",\n        },\n{\n            'v': 2.0,\n            'f': \"2.0\",\n        },\n{\n            'v': 23.2,\n            'f': \"23.2\",\n        },\n{\n            'v': 19.1,\n            'f': \"19.1\",\n        },\n{\n            'v': 4.1,\n            'f': \"4.1\",\n        },\n{\n            'v': 0.27,\n            'f': \"0.27\",\n        },\n\"W W W L W\",\n{\n            'v': 34171,\n            'f': \"34171\",\n        },\n\"Vincenzo Grifo - 9\",\n\"Mark Flekken\",\n{\n            'v': NaN,\n            'f': \"NaN\",\n        }],\n [{\n            'v': 2,\n            'f': \"2\",\n        },\n{\n            'v': 3,\n            'f': \"3\",\n        },\n\"RB Leipzig\",\n{\n            'v': 15,\n            'f': \"15\",\n        },\n{\n            'v': 8,\n            'f': \"8\",\n        },\n{\n            'v': 4,\n            'f': \"4\",\n        },\n{\n            'v': 3,\n            'f': \"3\",\n        },\n{\n            'v': 30,\n            'f': \"30\",\n        },\n{\n            'v': 21,\n            'f': \"21\",\n        },\n{\n            'v': 9,\n            'f': \"9\",\n        },\n{\n            'v': 28,\n            'f': \"28\",\n        },\n{\n            'v': 1.87,\n            'f': \"1.87\",\n        },\n{\n            'v': 27.7,\n            'f': \"27.7\",\n        },\n{\n            'v': 16.7,\n            'f': \"16.7\",\n        },\n{\n            'v': 11.1,\n            'f': \"11.1\",\n        },\n{\n            'v': 0.74,\n            'f': \"0.74\",\n        },\n\"D W W W W\",\n{\n            'v': 45172,\n            'f': \"45172\",\n        },\n\"Christopher Nkunku - 12\",\n\"Janis Blaswich\",\n{\n            'v': NaN,\n            'f': \"NaN\",\n        }],\n [{\n            'v': 3,\n            'f': \"3\",\n        },\n{\n            'v': 4,\n            'f': \"4\",\n        },\n\"Eint Frankfurt\",\n{\n            'v': 15,\n            'f': \"15\",\n        },\n{\n            'v': 8,\n            'f': \"8\",\n        },\n{\n            'v': 3,\n            'f': \"3\",\n        },\n{\n            'v': 4,\n            'f': \"4\",\n        },\n{\n            'v': 32,\n            'f': \"32\",\n        },\n{\n            'v': 24,\n            'f': \"24\",\n        },\n{\n            'v': 8,\n            'f': \"8\",\n        },\n{\n            'v': 27,\n            'f': \"27\",\n        },\n{\n            'v': 1.8,\n            'f': \"1.8\",\n        },\n{\n            'v': 25.1,\n            'f': \"25.1\",\n        },\n{\n            'v': 18.1,\n            'f': \"18.1\",\n        },\n{\n            'v': 7.1,\n            'f': \"7.1\",\n        },\n{\n            'v': 0.47,\n            'f': \"0.47\",\n        },\n\"W L W W D\",\n{\n            'v': 50025,\n            'f': \"50025\",\n        },\n\"Daichi Kamada - 7\",\n\"Kevin Trapp\",\n{\n            'v': NaN,\n            'f': \"NaN\",\n        }],\n [{\n            'v': 4,\n            'f': \"4\",\n        },\n{\n            'v': 5,\n            'f': \"5\",\n        },\n\"Union Berlin\",\n{\n            'v': 15,\n            'f': \"15\",\n        },\n{\n            'v': 8,\n            'f': \"8\",\n        },\n{\n            'v': 3,\n            'f': \"3\",\n        },\n{\n            'v': 4,\n            'f': \"4\",\n        },\n{\n            'v': 24,\n            'f': \"24\",\n        },\n{\n            'v': 20,\n            'f': \"20\",\n        },\n{\n            'v': 4,\n            'f': \"4\",\n        },\n{\n            'v': 27,\n            'f': \"27\",\n        },\n{\n            'v': 1.8,\n            'f': \"1.8\",\n        },\n{\n            'v': 15.0,\n            'f': \"15.0\",\n        },\n{\n            'v': 15.7,\n            'f': \"15.7\",\n        },\n{\n            'v': -0.7,\n            'f': \"-0.7\",\n        },\n{\n            'v': -0.04,\n            'f': \"-0.04\",\n        },\n\"L W L D L\",\n{\n            'v': 21875,\n            'f': \"21875\",\n        },\n\"Sheraldo Becker - 7\",\n\"Frederik R\\u00f8nnow\",\n{\n            'v': NaN,\n            'f': \"NaN\",\n        }],\n [{\n            'v': 5,\n            'f': \"5\",\n        },\n{\n            'v': 6,\n            'f': \"6\",\n        },\n\"Dortmund\",\n{\n            'v': 15,\n            'f': \"15\",\n        },\n{\n            'v': 8,\n            'f': \"8\",\n        },\n{\n            'v': 1,\n            'f': \"1\",\n        },\n{\n            'v': 6,\n            'f': \"6\",\n        },\n{\n            'v': 25,\n            'f': \"25\",\n        },\n{\n            'v': 21,\n            'f': \"21\",\n        },\n{\n            'v': 4,\n            'f': \"4\",\n        },\n{\n            'v': 25,\n            'f': \"25\",\n        },\n{\n            'v': 1.67,\n            'f': \"1.67\",\n        },\n{\n            'v': 24.6,\n            'f': \"24.6\",\n        },\n{\n            'v': 19.0,\n            'f': \"19.0\",\n        },\n{\n            'v': 5.6,\n            'f': \"5.6\",\n        },\n{\n            'v': 0.37,\n            'f': \"0.37\",\n        },\n\"W W W L L\",\n{\n            'v': 81032,\n            'f': \"81032\",\n        },\n\"Youssoufa Moukoko - 6\",\n\"Gregor Kobel\",\n{\n            'v': NaN,\n            'f': \"NaN\",\n        }],\n [{\n            'v': 6,\n            'f': \"6\",\n        },\n{\n            'v': 7,\n            'f': \"7\",\n        },\n\"Wolfsburg\",\n{\n            'v': 15,\n            'f': \"15\",\n        },\n{\n            'v': 6,\n            'f': \"6\",\n        },\n{\n            'v': 5,\n            'f': \"5\",\n        },\n{\n            'v': 4,\n            'f': \"4\",\n        },\n{\n            'v': 24,\n            'f': \"24\",\n        },\n{\n            'v': 20,\n            'f': \"20\",\n        },\n{\n            'v': 4,\n            'f': \"4\",\n        },\n{\n            'v': 23,\n            'f': \"23\",\n        },\n{\n            'v': 1.53,\n            'f': \"1.53\",\n        },\n{\n            'v': 18.2,\n            'f': \"18.2\",\n        },\n{\n            'v': 23.2,\n            'f': \"23.2\",\n        },\n{\n            'v': -5.0,\n            'f': \"-5.0\",\n        },\n{\n            'v': -0.33,\n            'f': \"-0.33\",\n        },\n\"D W W W W\",\n{\n            'v': 26309,\n            'f': \"26309\",\n        },\n\"Lukas Nmecha - 4\",\n\"Koen Casteels\",\n{\n            'v': NaN,\n            'f': \"NaN\",\n        }],\n [{\n            'v': 7,\n            'f': \"7\",\n        },\n{\n            'v': 8,\n            'f': \"8\",\n        },\n\"M'Gladbach\",\n{\n            'v': 15,\n            'f': \"15\",\n        },\n{\n            'v': 6,\n            'f': \"6\",\n        },\n{\n            'v': 4,\n            'f': \"4\",\n        },\n{\n            'v': 5,\n            'f': \"5\",\n        },\n{\n            'v': 28,\n            'f': \"28\",\n        },\n{\n            'v': 24,\n            'f': \"24\",\n        },\n{\n            'v': 4,\n            'f': \"4\",\n        },\n{\n            'v': 22,\n            'f': \"22\",\n        },\n{\n            'v': 1.47,\n            'f': \"1.47\",\n        },\n{\n            'v': 23.3,\n            'f': \"23.3\",\n        },\n{\n            'v': 21.7,\n            'f': \"21.7\",\n        },\n{\n            'v': 1.6,\n            'f': \"1.6\",\n        },\n{\n            'v': 0.1,\n            'f': \"0.1\",\n        },\n\"L L W L W\",\n{\n            'v': 51718,\n            'f': \"51718\",\n        },\n\"Marcus Thuram - 10\",\n\"Yann Sommer\",\n{\n            'v': NaN,\n            'f': \"NaN\",\n        }],\n [{\n            'v': 8,\n            'f': \"8\",\n        },\n{\n            'v': 9,\n            'f': \"9\",\n        },\n\"Werder Bremen\",\n{\n            'v': 15,\n            'f': \"15\",\n        },\n{\n            'v': 6,\n            'f': \"6\",\n        },\n{\n            'v': 3,\n            'f': \"3\",\n        },\n{\n            'v': 6,\n            'f': \"6\",\n        },\n{\n            'v': 25,\n            'f': \"25\",\n        },\n{\n            'v': 27,\n            'f': \"27\",\n        },\n{\n            'v': -2,\n            'f': \"-2\",\n        },\n{\n            'v': 21,\n            'f': \"21\",\n        },\n{\n            'v': 1.4,\n            'f': \"1.4\",\n        },\n{\n            'v': 19.3,\n            'f': \"19.3\",\n        },\n{\n            'v': 24.1,\n            'f': \"24.1\",\n        },\n{\n            'v': -4.8,\n            'f': \"-4.8\",\n        },\n{\n            'v': -0.32,\n            'f': \"-0.32\",\n        },\n\"L W W L L\",\n{\n            'v': 41338,\n            'f': \"41338\",\n        },\n\"Niclas F\\u00fcllkrug - 10\",\n\"Ji\\u0159\\u00ed Pavlenka\",\n{\n            'v': NaN,\n            'f': \"NaN\",\n        }],\n [{\n            'v': 9,\n            'f': \"9\",\n        },\n{\n            'v': 10,\n            'f': \"10\",\n        },\n\"Mainz 05\",\n{\n            'v': 15,\n            'f': \"15\",\n        },\n{\n            'v': 5,\n            'f': \"5\",\n        },\n{\n            'v': 4,\n            'f': \"4\",\n        },\n{\n            'v': 6,\n            'f': \"6\",\n        },\n{\n            'v': 19,\n            'f': \"19\",\n        },\n{\n            'v': 24,\n            'f': \"24\",\n        },\n{\n            'v': -5,\n            'f': \"-5\",\n        },\n{\n            'v': 19,\n            'f': \"19\",\n        },\n{\n            'v': 1.27,\n            'f': \"1.27\",\n        },\n{\n            'v': 18.2,\n            'f': \"18.2\",\n        },\n{\n            'v': 21.5,\n            'f': \"21.5\",\n        },\n{\n            'v': -3.2,\n            'f': \"-3.2\",\n        },\n{\n            'v': -0.21,\n            'f': \"-0.21\",\n        },\n\"W L L L D\",\n{\n            'v': 28082,\n            'f': \"28082\",\n        },\n\"Karim Onisiwo, Marcus Ingvartsen - 4\",\n\"Robin Zentner\",\n{\n            'v': NaN,\n            'f': \"NaN\",\n        }],\n [{\n            'v': 10,\n            'f': \"10\",\n        },\n{\n            'v': 11,\n            'f': \"11\",\n        },\n\"Hoffenheim\",\n{\n            'v': 15,\n            'f': \"15\",\n        },\n{\n            'v': 5,\n            'f': \"5\",\n        },\n{\n            'v': 3,\n            'f': \"3\",\n        },\n{\n            'v': 7,\n            'f': \"7\",\n        },\n{\n            'v': 22,\n            'f': \"22\",\n        },\n{\n            'v': 22,\n            'f': \"22\",\n        },\n{\n            'v': 0,\n            'f': \"0\",\n        },\n{\n            'v': 18,\n            'f': \"18\",\n        },\n{\n            'v': 1.2,\n            'f': \"1.2\",\n        },\n{\n            'v': 23.6,\n            'f': \"23.6\",\n        },\n{\n            'v': 20.8,\n            'f': \"20.8\",\n        },\n{\n            'v': 2.8,\n            'f': \"2.8\",\n        },\n{\n            'v': 0.19,\n            'f': \"0.19\",\n        },\n\"L D L L L\",\n{\n            'v': 21907,\n            'f': \"21907\",\n        },\n\"Christoph Baumgartner, Moanes Dabbur - 4\",\n\"Oliver Baumann\",\n{\n            'v': NaN,\n            'f': \"NaN\",\n        }],\n [{\n            'v': 11,\n            'f': \"11\",\n        },\n{\n            'v': 12,\n            'f': \"12\",\n        },\n\"Leverkusen\",\n{\n            'v': 15,\n            'f': \"15\",\n        },\n{\n            'v': 5,\n            'f': \"5\",\n        },\n{\n            'v': 3,\n            'f': \"3\",\n        },\n{\n            'v': 7,\n            'f': \"7\",\n        },\n{\n            'v': 25,\n            'f': \"25\",\n        },\n{\n            'v': 26,\n            'f': \"26\",\n        },\n{\n            'v': -1,\n            'f': \"-1\",\n        },\n{\n            'v': 18,\n            'f': \"18\",\n        },\n{\n            'v': 1.2,\n            'f': \"1.2\",\n        },\n{\n            'v': 21.9,\n            'f': \"21.9\",\n        },\n{\n            'v': 21.6,\n            'f': \"21.6\",\n        },\n{\n            'v': 0.3,\n            'f': \"0.3\",\n        },\n{\n            'v': 0.02,\n            'f': \"0.02\",\n        },\n\"D L W W W\",\n{\n            'v': 27899,\n            'f': \"27899\",\n        },\n\"Moussa Diaby - 6\",\n\"Luk\\u00e1\\u0161 Hr\\u00e1deck\\u00fd\",\n{\n            'v': NaN,\n            'f': \"NaN\",\n        }],\n [{\n            'v': 12,\n            'f': \"12\",\n        },\n{\n            'v': 13,\n            'f': \"13\",\n        },\n\"K\\u00f6ln\",\n{\n            'v': 15,\n            'f': \"15\",\n        },\n{\n            'v': 4,\n            'f': \"4\",\n        },\n{\n            'v': 5,\n            'f': \"5\",\n        },\n{\n            'v': 6,\n            'f': \"6\",\n        },\n{\n            'v': 21,\n            'f': \"21\",\n        },\n{\n            'v': 29,\n            'f': \"29\",\n        },\n{\n            'v': -8,\n            'f': \"-8\",\n        },\n{\n            'v': 17,\n            'f': \"17\",\n        },\n{\n            'v': 1.13,\n            'f': \"1.13\",\n        },\n{\n            'v': 22.2,\n            'f': \"22.2\",\n        },\n{\n            'v': 20.3,\n            'f': \"20.3\",\n        },\n{\n            'v': 2.0,\n            'f': \"2.0\",\n        },\n{\n            'v': 0.13,\n            'f': \"0.13\",\n        },\n\"L D L L L\",\n{\n            'v': 49643,\n            'f': \"49643\",\n        },\n\"Florian Kainz - 5\",\n\"Marvin Schw\\u00e4be\",\n{\n            'v': NaN,\n            'f': \"NaN\",\n        }],\n [{\n            'v': 13,\n            'f': \"13\",\n        },\n{\n            'v': 14,\n            'f': \"14\",\n        },\n\"Augsburg\",\n{\n            'v': 15,\n            'f': \"15\",\n        },\n{\n            'v': 4,\n            'f': \"4\",\n        },\n{\n            'v': 3,\n            'f': \"3\",\n        },\n{\n            'v': 8,\n            'f': \"8\",\n        },\n{\n            'v': 18,\n            'f': \"18\",\n        },\n{\n            'v': 26,\n            'f': \"26\",\n        },\n{\n            'v': -8,\n            'f': \"-8\",\n        },\n{\n            'v': 15,\n            'f': \"15\",\n        },\n{\n            'v': 1.0,\n            'f': \"1.0\",\n        },\n{\n            'v': 15.6,\n            'f': \"15.6\",\n        },\n{\n            'v': 26.3,\n            'f': \"26.3\",\n        },\n{\n            'v': -10.7,\n            'f': \"-10.7\",\n        },\n{\n            'v': -0.71,\n            'f': \"-0.71\",\n        },\n\"D L L D L\",\n{\n            'v': 26868,\n            'f': \"26868\",\n        },\n\"Ermedin Demirovi\\u0107 - 5\",\n\"Rafa\\u0142 Gikiewicz\",\n{\n            'v': NaN,\n            'f': \"NaN\",\n        }],\n [{\n            'v': 14,\n            'f': \"14\",\n        },\n{\n            'v': 15,\n            'f': \"15\",\n        },\n\"Hertha BSC\",\n{\n            'v': 15,\n            'f': \"15\",\n        },\n{\n            'v': 3,\n            'f': \"3\",\n        },\n{\n            'v': 5,\n            'f': \"5\",\n        },\n{\n            'v': 7,\n            'f': \"7\",\n        },\n{\n            'v': 19,\n            'f': \"19\",\n        },\n{\n            'v': 22,\n            'f': \"22\",\n        },\n{\n            'v': -3,\n            'f': \"-3\",\n        },\n{\n            'v': 14,\n            'f': \"14\",\n        },\n{\n            'v': 0.93,\n            'f': \"0.93\",\n        },\n{\n            'v': 17.6,\n            'f': \"17.6\",\n        },\n{\n            'v': 23.4,\n            'f': \"23.4\",\n        },\n{\n            'v': -5.9,\n            'f': \"-5.9\",\n        },\n{\n            'v': -0.39,\n            'f': \"-0.39\",\n        },\n\"W L L L W\",\n{\n            'v': 53197,\n            'f': \"53197\",\n        },\n\"Dodi Lukebakio - 7\",\n\"Oliver Christensen\",\n{\n            'v': NaN,\n            'f': \"NaN\",\n        }],\n [{\n            'v': 15,\n            'f': \"15\",\n        },\n{\n            'v': 16,\n            'f': \"16\",\n        },\n\"Stuttgart\",\n{\n            'v': 15,\n            'f': \"15\",\n        },\n{\n            'v': 3,\n            'f': \"3\",\n        },\n{\n            'v': 5,\n            'f': \"5\",\n        },\n{\n            'v': 7,\n            'f': \"7\",\n        },\n{\n            'v': 18,\n            'f': \"18\",\n        },\n{\n            'v': 27,\n            'f': \"27\",\n        },\n{\n            'v': -9,\n            'f': \"-9\",\n        },\n{\n            'v': 14,\n            'f': \"14\",\n        },\n{\n            'v': 0.93,\n            'f': \"0.93\",\n        },\n{\n            'v': 19.9,\n            'f': \"19.9\",\n        },\n{\n            'v': 19.7,\n            'f': \"19.7\",\n        },\n{\n            'v': 0.2,\n            'f': \"0.2\",\n        },\n{\n            'v': 0.02,\n            'f': \"0.02\",\n        },\n\"L W L W L\",\n{\n            'v': 46006,\n            'f': \"46006\",\n        },\n\"Sehrou Guirassy - 4\",\n\"Florian M\\u00fcller\",\n{\n            'v': NaN,\n            'f': \"NaN\",\n        }],\n [{\n            'v': 16,\n            'f': \"16\",\n        },\n{\n            'v': 17,\n            'f': \"17\",\n        },\n\"Bochum\",\n{\n            'v': 15,\n            'f': \"15\",\n        },\n{\n            'v': 4,\n            'f': \"4\",\n        },\n{\n            'v': 1,\n            'f': \"1\",\n        },\n{\n            'v': 10,\n            'f': \"10\",\n        },\n{\n            'v': 14,\n            'f': \"14\",\n        },\n{\n            'v': 36,\n            'f': \"36\",\n        },\n{\n            'v': -22,\n            'f': \"-22\",\n        },\n{\n            'v': 13,\n            'f': \"13\",\n        },\n{\n            'v': 0.87,\n            'f': \"0.87\",\n        },\n{\n            'v': 14.0,\n            'f': \"14.0\",\n        },\n{\n            'v': 31.0,\n            'f': \"31.0\",\n        },\n{\n            'v': -17.0,\n            'f': \"-17.0\",\n        },\n{\n            'v': -1.13,\n            'f': \"-1.13\",\n        },\n\"W L L W W\",\n{\n            'v': 25417,\n            'f': \"25417\",\n        },\n\"Philipp Hofmann - 4\",\n\"Manuel Riemann\",\n{\n            'v': NaN,\n            'f': \"NaN\",\n        }],\n [{\n            'v': 17,\n            'f': \"17\",\n        },\n{\n            'v': 18,\n            'f': \"18\",\n        },\n\"Schalke 04\",\n{\n            'v': 15,\n            'f': \"15\",\n        },\n{\n            'v': 2,\n            'f': \"2\",\n        },\n{\n            'v': 3,\n            'f': \"3\",\n        },\n{\n            'v': 10,\n            'f': \"10\",\n        },\n{\n            'v': 13,\n            'f': \"13\",\n        },\n{\n            'v': 32,\n            'f': \"32\",\n        },\n{\n            'v': -19,\n            'f': \"-19\",\n        },\n{\n            'v': 9,\n            'f': \"9\",\n        },\n{\n            'v': 0.6,\n            'f': \"0.6\",\n        },\n{\n            'v': 16.1,\n            'f': \"16.1\",\n        },\n{\n            'v': 24.1,\n            'f': \"24.1\",\n        },\n{\n            'v': -8.1,\n            'f': \"-8.1\",\n        },\n{\n            'v': -0.54,\n            'f': \"-0.54\",\n        },\n\"L L L W L\",\n{\n            'v': 61046,\n            'f': \"61046\",\n        },\n\"Simon Terodde, Marius B\\u00fclter - 3\",\n\"Alexander Schwolow\",\n{\n            'v': NaN,\n            'f': \"NaN\",\n        }]],\n        columns: [[\"number\", \"index\"], [\"number\", \"Rk\"], [\"string\", \"Squad\"], [\"number\", \"MP\"], [\"number\", \"W\"], [\"number\", \"D\"], [\"number\", \"L\"], [\"number\", \"GF\"], [\"number\", \"GA\"], [\"number\", \"GD\"], [\"number\", \"Pts\"], [\"number\", \"Pts/MP\"], [\"number\", \"xG\"], [\"number\", \"xGA\"], [\"number\", \"xGD\"], [\"number\", \"xGD/90\"], [\"string\", \"Last 5\"], [\"number\", \"Attendance\"], [\"string\", \"Top Team Scorer\"], [\"string\", \"Goalkeeper\"], [\"number\", \"Notes\"]],\n        columnOptions: [{\"width\": \"1px\", \"className\": \"index_column\"}],\n        rowsPerPage: 25,\n        helpUrl: \"https://colab.research.google.com/notebooks/data_table.ipynb\",\n        suppressOutputScrolling: true,\n        minimumWidth: undefined,\n      });\n    "
          },
          "metadata": {},
          "execution_count": 33
        }
      ]
    },
    {
      "cell_type": "markdown",
      "source": [
        "selecionar e concatenar as mesmas tabelas de todas das as ligas\n",
        "\n",
        "> Bloco com recuo\n",
        "\n",
        "\n",
        "\n"
      ],
      "metadata": {
        "id": "ermVCdG-Toti"
      }
    },
    {
      "cell_type": "code",
      "source": [
        "premier1 = df1[0]\n",
        "premier1.to_excel(\"bundesliguealemanha_Regular_season.xlsx\")\n"
      ],
      "metadata": {
        "id": "FNn3xQ37R6st"
      },
      "execution_count": null,
      "outputs": []
    },
    {
      "cell_type": "markdown",
      "source": [
        "Estatísticas padrão do esquadrão"
      ],
      "metadata": {
        "id": "qzo9lZCVP9c-"
      }
    },
    {
      "cell_type": "code",
      "source": [
        "#df2[2]  # Squad Standard Stats 2022-2023"
      ],
      "metadata": {
        "id": "sH90iZO9z2PG"
      },
      "execution_count": null,
      "outputs": []
    },
    {
      "cell_type": "code",
      "source": [
        "##premier2.to_excel(\"premier_Squad _tandard _stats.xlsx\")"
      ],
      "metadata": {
        "id": "vjloqWAVSZPS"
      },
      "execution_count": null,
      "outputs": []
    },
    {
      "cell_type": "markdown",
      "source": [
        "Squad Shooting\n"
      ],
      "metadata": {
        "id": "xTDIEh7DQRZV"
      }
    },
    {
      "cell_type": "code",
      "source": [
        "#df3[8]"
      ],
      "metadata": {
        "id": "w_A-rUYXPYvj"
      },
      "execution_count": null,
      "outputs": []
    },
    {
      "cell_type": "code",
      "source": [
        "#Concatenando as Planilhas\n",
        "#df = [premier1,premier2]\n",
        "#df = pd.concat(df)\n",
        "\n",
        "#df\n",
        "#df.to_excel(\"tudo.xlsx\")"
      ],
      "metadata": {
        "id": "tKjp3-kvQwg7"
      },
      "execution_count": null,
      "outputs": []
    },
    {
      "cell_type": "code",
      "source": [
        "#df1[3] #fora de casa "
      ],
      "metadata": {
        "id": "iSzHBUgd0Kyr"
      },
      "execution_count": null,
      "outputs": []
    },
    {
      "cell_type": "code",
      "source": [
        "#df1[4]#Squad Goalkeeping home"
      ],
      "metadata": {
        "id": "SZi9iLw80MW0"
      },
      "execution_count": null,
      "outputs": []
    },
    {
      "cell_type": "code",
      "source": [
        "#df1[5]  #Squad Goalkeeping away"
      ],
      "metadata": {
        "id": "BUL16MvT0PH7"
      },
      "execution_count": null,
      "outputs": []
    },
    {
      "cell_type": "code",
      "source": [
        "#df1[6]#Squad Advanced Goalkeeping home"
      ],
      "metadata": {
        "id": "esjXl6rK0W5y"
      },
      "execution_count": null,
      "outputs": []
    },
    {
      "cell_type": "code",
      "source": [
        "#df1[7] #Squad Advanced Goalkeeping away"
      ],
      "metadata": {
        "id": "MyvEnTyE0Y12"
      },
      "execution_count": null,
      "outputs": []
    },
    {
      "cell_type": "code",
      "source": [
        "#df1[8] #Squad Shooting home"
      ],
      "metadata": {
        "id": "gI7hdpmo0cI9"
      },
      "execution_count": null,
      "outputs": []
    },
    {
      "cell_type": "code",
      "source": [
        "#df1[9] # Squad Shooting away"
      ],
      "metadata": {
        "id": "Xf_JHnHP0fS3"
      },
      "execution_count": null,
      "outputs": []
    },
    {
      "cell_type": "code",
      "source": [
        " #Squad Passing home"
      ],
      "metadata": {
        "id": "Nfyo7UsV0kbE"
      },
      "execution_count": null,
      "outputs": []
    },
    {
      "cell_type": "code",
      "source": [
        "#df1[11] # Squad Passing away "
      ],
      "metadata": {
        "id": "PrVneios0mFC"
      },
      "execution_count": null,
      "outputs": []
    },
    {
      "cell_type": "code",
      "source": [
        "#df1[12]  #Squad Pass Types  home"
      ],
      "metadata": {
        "id": "gBaj2_IS0om5"
      },
      "execution_count": null,
      "outputs": []
    },
    {
      "cell_type": "code",
      "source": [
        "#df1[13] #Squad Pass Types away "
      ],
      "metadata": {
        "id": "xWrafEzE0qGt"
      },
      "execution_count": null,
      "outputs": []
    },
    {
      "cell_type": "code",
      "source": [
        "#df1[14] #Squad Goal and Shot Creation home"
      ],
      "metadata": {
        "id": "Vw_QsWw90tGD"
      },
      "execution_count": null,
      "outputs": []
    },
    {
      "cell_type": "code",
      "source": [
        "#df1[15] #Squad Goal and Shot Creation  away "
      ],
      "metadata": {
        "id": "rhaFnhPZ0w6j"
      },
      "execution_count": null,
      "outputs": []
    },
    {
      "cell_type": "code",
      "source": [
        "#df1[16] #Squad Goal and Shot Creation  home"
      ],
      "metadata": {
        "id": "I7uji0yl01GT"
      },
      "execution_count": null,
      "outputs": []
    },
    {
      "cell_type": "code",
      "source": [
        "#df1[17] #Squad Goal and Shot Creation  away "
      ],
      "metadata": {
        "id": "Oh7FDfd-1Bb1"
      },
      "execution_count": null,
      "outputs": []
    },
    {
      "cell_type": "code",
      "source": [
        "#df1[18]"
      ],
      "metadata": {
        "id": "sJjf9U1C1DVB"
      },
      "execution_count": null,
      "outputs": []
    },
    {
      "cell_type": "code",
      "source": [
        "#df1[19]"
      ],
      "metadata": {
        "id": "EUp0GHRI1Fa3"
      },
      "execution_count": null,
      "outputs": []
    },
    {
      "cell_type": "code",
      "source": [
        "#df1[20]"
      ],
      "metadata": {
        "id": "-8gUDBuo1LxQ"
      },
      "execution_count": null,
      "outputs": []
    },
    {
      "cell_type": "code",
      "source": [
        "#df1[21]"
      ],
      "metadata": {
        "id": "NhuvvvXj1N7H"
      },
      "execution_count": null,
      "outputs": []
    },
    {
      "cell_type": "code",
      "source": [
        "#df1[22]"
      ],
      "metadata": {
        "id": "FImg0sWn1PtU"
      },
      "execution_count": null,
      "outputs": []
    },
    {
      "cell_type": "code",
      "source": [],
      "metadata": {
        "id": "c4Iu-6ot1RaE"
      },
      "execution_count": null,
      "outputs": []
    }
  ]
}